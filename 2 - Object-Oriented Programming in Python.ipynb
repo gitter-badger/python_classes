{
 "cells": [
  {
   "cell_type": "markdown",
   "metadata": {},
   "source": [
    "# Syntax"
   ]
  },
  {
   "cell_type": "markdown",
   "metadata": {},
   "source": [
    "- In Python, **everything** is an object (data types, function, classes ...)."
   ]
  },
  {
   "cell_type": "markdown",
   "metadata": {},
   "source": [
    "- **Inheritance** and **multiple inheritance** exist in Python."
   ]
  },
  {
   "cell_type": "markdown",
   "metadata": {},
   "source": [
    "- We can make our Python files act as **standalone executable** or **reusable modules**. This will set the Python file as the **'main'** program.\n",
    "\n",
    "**Example:**"
   ]
  },
  {
   "cell_type": "code",
   "execution_count": null,
   "metadata": {
    "collapsed": false
   },
   "outputs": [],
   "source": [
    "if __name__ == \"__main__\": # The 'main' function\n",
    "    #do_your_things_here\n",
    "    print \"WHATEVER\""
   ]
  },
  {
   "cell_type": "markdown",
   "metadata": {},
   "source": [
    "  "
   ]
  },
  {
   "cell_type": "markdown",
   "metadata": {},
   "source": [
    "- The **\\_\\_init\\_\\_** method is used to define a **class constructor**.\n",
    "\n",
    "**Example:**"
   ]
  },
  {
   "cell_type": "code",
   "execution_count": null,
   "metadata": {
    "collapsed": true
   },
   "outputs": [],
   "source": [
    "class Animal(object):\n",
    "    def __init__(self, *args):\n",
    "        # do something with args\n",
    "        pass"
   ]
  },
  {
   "cell_type": "markdown",
   "metadata": {},
   "source": [
    "  "
   ]
  },
  {
   "cell_type": "markdown",
   "metadata": {},
   "source": [
    "- The keyword **self** always refer to the instance of a class (not the class itself). It is always passed as an argument in class functions.\n",
    "    - **self.foo** refers to a class attribute.\n",
    "    - **self.foo()** refers to a class method.\n",
    "    - **def foo(self):** is a standard class method definition\n",
    "    \n",
    "**Example:**"
   ]
  },
  {
   "cell_type": "code",
   "execution_count": null,
   "metadata": {
    "collapsed": false
   },
   "outputs": [],
   "source": [
    "class Animal(object):\n",
    "    def __init__(self, name, age, occupation):\n",
    "        self.name = name\n",
    "        self.age = age\n",
    "        self.occupation = occupation\n",
    "        self.introduce()\n",
    "    \n",
    "    def introduce(self):  # this is called by self.introduce()\n",
    "        print self.name, self.age, self.occupation\n",
    "        \n",
    "myAnimal = Animal(\"Patrick\", 22, \"Architect\")\n",
    "# myAnimal.name\n",
    "# myAnimal.age\n",
    "# myAnimal.occupation\n",
    "# myAnimal.introduce()"
   ]
  },
  {
   "cell_type": "markdown",
   "metadata": {},
   "source": [
    "  "
   ]
  },
  {
   "cell_type": "markdown",
   "metadata": {},
   "source": [
    "- Private attributes or functions must be prefixed by one or multiple underscore. Private functions don't have to be documented (at least for others).\n",
    "\n",
    "**Example:**"
   ]
  },
  {
   "cell_type": "code",
   "execution_count": null,
   "metadata": {
    "collapsed": false
   },
   "outputs": [],
   "source": [
    "class Animal(object):\n",
    "    def __init__(self, name, age, occupation):\n",
    "        # All arguments private now\n",
    "        self.__name = name\n",
    "        self.__age = age\n",
    "        self.__occupation = occupation\n",
    "        self.__introduce()\n",
    "        \n",
    "    def __introduce(self): # introduce is private\n",
    "        print self.__name, self.__age, self.__occupation\n",
    "        \n",
    "# can't access introduce from outside anymore !\n",
    "myAnimal = Animal(\"Patrick\", 22, \"Architect\")\n",
    "# myAnimal.__name\n",
    "# myAnimal.__age\n",
    "# myAnimal.__occupation\n",
    "# myAnimal.__introduce()"
   ]
  },
  {
   "cell_type": "markdown",
   "metadata": {},
   "source": [
    "  "
   ]
  },
  {
   "cell_type": "markdown",
   "metadata": {},
   "source": [
    "# Functions"
   ]
  },
  {
   "cell_type": "code",
   "execution_count": null,
   "metadata": {
    "collapsed": true
   },
   "outputs": [],
   "source": [
    "# Definition\n",
    "def foo(bar):\n",
    "    print bar"
   ]
  },
  {
   "cell_type": "code",
   "execution_count": null,
   "metadata": {
    "collapsed": false
   },
   "outputs": [],
   "source": [
    "# Function call\n",
    "foo(\"hello!\")"
   ]
  },
  {
   "cell_type": "markdown",
   "metadata": {},
   "source": [
    "  "
   ]
  },
  {
   "cell_type": "markdown",
   "metadata": {},
   "source": [
    "**Functions can return anything / multiple things**"
   ]
  },
  {
   "cell_type": "code",
   "execution_count": null,
   "metadata": {
    "collapsed": false
   },
   "outputs": [],
   "source": [
    "def foo():\n",
    "    return \"John\", \"Oliver\"  # returns tuple\n",
    "\n",
    "firstName, lastName = foo()  # uses tuple unwrapping\n",
    "print firstName, lastName"
   ]
  },
  {
   "cell_type": "code",
   "execution_count": null,
   "metadata": {
    "collapsed": false
   },
   "outputs": [],
   "source": [
    "class Dog(object):\n",
    "    def __init__(self):\n",
    "        pass\n",
    "    \n",
    "def foo():\n",
    "    obj1 = Dog()\n",
    "    obj2 = Dog()\n",
    "    return obj1, obj2\n",
    "\n",
    "dog1, dog2 = foo()\n",
    "print dog1, dog2"
   ]
  },
  {
   "cell_type": "markdown",
   "metadata": {},
   "source": [
    "  "
   ]
  },
  {
   "cell_type": "markdown",
   "metadata": {},
   "source": [
    "**Functions can accept anything as argument (type overloading)**"
   ]
  },
  {
   "cell_type": "code",
   "execution_count": null,
   "metadata": {
    "collapsed": false
   },
   "outputs": [],
   "source": [
    "# If you don't do type-specific things, type is not enforced in Python.\n",
    "# Every object with an __str__ method defined can be printed in Python, so the following calls to 'foo' are all valid.\n",
    "foo(5)     # int\n",
    "foo(5.0)   # float\n",
    "foo([1, 2, 3, 4]) #list\n",
    "foo({'John': [22, 'architect'], #dict\n",
    "     'Tom' : [25, 'senior investor']\n",
    "    })"
   ]
  },
  {
   "cell_type": "code",
   "execution_count": null,
   "metadata": {
    "collapsed": false
   },
   "outputs": [],
   "source": [
    "# don't write this ...\n",
    "def foo_int(bar):\n",
    "    print \"INT: %d\" % bar\n",
    "def foo_string(bar):\n",
    "    print \"STR: %s\" % bar\n",
    "    \n",
    "bar = \"ok\"\n",
    "if isinstance(bar, int):\n",
    "    foo_int(bar)\n",
    "elif isinstance(bar, str):\n",
    "    foo_string(bar)"
   ]
  },
  {
   "cell_type": "code",
   "execution_count": null,
   "metadata": {
    "collapsed": false
   },
   "outputs": [],
   "source": [
    "# ... write this\n",
    "def foo(bar):\n",
    "    if type(bar) == int:\n",
    "        print \"INT: %d\" % bar\n",
    "    elif type(bar) == str:\n",
    "        print \"STR: %s\" % bar\n",
    "    \n",
    "bar = 5\n",
    "# bar = \"hello\"\n",
    "foo(bar)"
   ]
  },
  {
   "cell_type": "markdown",
   "metadata": {},
   "source": [
    "  "
   ]
  },
  {
   "cell_type": "markdown",
   "metadata": {},
   "source": [
    "**Optional arguments**"
   ]
  },
  {
   "cell_type": "code",
   "execution_count": null,
   "metadata": {
    "collapsed": false
   },
   "outputs": [],
   "source": [
    "# Single optional arguments\n",
    "def foo(bar, opt=''):\n",
    "    if opt:\n",
    "        print \"Optional !\"\n",
    "    print bar\n",
    "\n",
    "bar = 5\n",
    "opt = 'anything'\n",
    "foo(bar)\n",
    "# foo(bar, opt)"
   ]
  },
  {
   "cell_type": "code",
   "execution_count": null,
   "metadata": {
    "collapsed": false
   },
   "outputs": [],
   "source": [
    "# Multiple optional arguments\n",
    "def foo(bar, **kwargs):\n",
    "    for index, arg in enumerate(kwargs):\n",
    "        print \"Arg %d: %s\" % (index, arg)\n",
    "bar = 5\n",
    "foo(bar, opt1='arg1', opt2='arg2', opt3='arg3')"
   ]
  },
  {
   "cell_type": "markdown",
   "metadata": {},
   "source": [
    "  "
   ]
  },
  {
   "cell_type": "markdown",
   "metadata": {},
   "source": [
    "# Classes"
   ]
  },
  {
   "cell_type": "markdown",
   "metadata": {},
   "source": [
    "## Basics"
   ]
  },
  {
   "cell_type": "code",
   "execution_count": null,
   "metadata": {
    "collapsed": true
   },
   "outputs": [],
   "source": [
    "# class definition\n",
    "class Dog(object):          # Every class inherits from 'object'.\n",
    "    def __init__(self):     # Every class has an __init__ method (the 'constructor').\n",
    "        pass                # Every method of a class takes the 'self' argument."
   ]
  },
  {
   "cell_type": "code",
   "execution_count": null,
   "metadata": {
    "collapsed": false
   },
   "outputs": [],
   "source": [
    "# create an instance of the class\n",
    "myDog = Dog()"
   ]
  },
  {
   "cell_type": "markdown",
   "metadata": {},
   "source": [
    "  "
   ]
  },
  {
   "cell_type": "markdown",
   "metadata": {},
   "source": [
    "**Adding a new function**"
   ]
  },
  {
   "cell_type": "code",
   "execution_count": null,
   "metadata": {
    "collapsed": false
   },
   "outputs": [],
   "source": [
    "# class definition\n",
    "class Dog(object):\n",
    "    \"\"\" Class defining a dog. \"\"\" # Docstring: code documentation\n",
    "    def __init__(self):\n",
    "        self.bark()               # Call bark at initialization (self.bark() means the bark method from this object)\n",
    "  \n",
    "    def bark(self):               # New method: bark\n",
    "        print \"BARK!\"\n",
    "        \n",
    "\n",
    "# main function\n",
    "if __name__ == '__main__':        \n",
    "    myDog = Dog()                 # create an instance of the class"
   ]
  },
  {
   "cell_type": "markdown",
   "metadata": {},
   "source": [
    "## Inheritance"
   ]
  },
  {
   "cell_type": "markdown",
   "metadata": {},
   "source": [
    "### Normal inheritance"
   ]
  },
  {
   "cell_type": "code",
   "execution_count": null,
   "metadata": {
    "collapsed": false
   },
   "outputs": [],
   "source": [
    "# class definitions\n",
    "class Animal(object):\n",
    "    \"\"\" Class defining an animal. \"\"\"\n",
    "    def __init__(self, name):\n",
    "        self.name = name\n",
    "        self.emit_sound()\n",
    "        \n",
    "    def emit_sound(self):\n",
    "        if self.animal == \"dog\":\n",
    "            self.bark()\n",
    "        elif self.animal == \"cat\":\n",
    "            self.meow()\n",
    "            \n",
    "    def introduce(self):\n",
    "        print \"I am %s the %s\" % (self.name, self.animal)\n",
    "      \n",
    "    \n",
    "class Dog(Animal):\n",
    "    \"\"\" Class defining a dog. \"\"\"\n",
    "    def __init__(self, name):\n",
    "        self.animal = \"dog\"\n",
    "        super(Dog, self).__init__(name)  #super --> parent object (Animal)\n",
    "        \n",
    "    def bark(self):\n",
    "        print \"BARK!\"\n",
    "\n",
    "        \n",
    "class Cat(Animal):\n",
    "    \"\"\" Class defining a cat. \"\"\"\n",
    "    def __init__(self, name):\n",
    "        self.animal = \"cat\"\n",
    "        super(Cat, self).__init__(name)  #super --> parent object (Animal)\n",
    "        \n",
    "    def meow(self):\n",
    "        print \"MEOW!\"\n",
    "\n",
    "# main function\n",
    "if __name__ == '__main__':\n",
    "    myDog = Dog(\"Harry\") # create an instance of class 'Dog'\n",
    "    myDog.introduce()\n",
    "    \n",
    "    myCat = Cat(\"Felix\") # create an instance of class 'Cat'\n",
    "    myCat.introduce()"
   ]
  },
  {
   "cell_type": "markdown",
   "metadata": {},
   "source": [
    "### Ancestor inheritance"
   ]
  },
  {
   "cell_type": "code",
   "execution_count": 1,
   "metadata": {
    "collapsed": false
   },
   "outputs": [
    {
     "name": "stdout",
     "output_type": "stream",
     "text": [
      "first\n"
     ]
    }
   ],
   "source": [
    "# class definitions\n",
    "class First(object):\n",
    "    def __init__(self):\n",
    "        print \"first\"\n",
    "\n",
    "class Second(First):     # Second inherits from First\n",
    "    pass\n",
    "\n",
    "class Third(Second):     # Third inherits from Second\n",
    "    pass\n",
    "        \n",
    "# main function\n",
    "if __name__ == '__main__':\n",
    "    myThird = Third()"
   ]
  },
  {
   "cell_type": "code",
   "execution_count": 2,
   "metadata": {
    "collapsed": false
   },
   "outputs": [
    {
     "name": "stdout",
     "output_type": "stream",
     "text": [
      "first\n",
      "second\n",
      "third\n"
     ]
    }
   ],
   "source": [
    "# class definitions\n",
    "class First(object):\n",
    "    def __init__(self):\n",
    "        print \"first\"\n",
    "\n",
    "class Second(First):     # Second inherits from First\n",
    "    def __init__(self):\n",
    "        super(Second, self).__init__()\n",
    "        print \"second\"\n",
    "\n",
    "class Third(Second):     # Third inherits from Second\n",
    "    def __init__(self):\n",
    "        super(Third, self).__init__()\n",
    "        print \"third\"\n",
    "        \n",
    "# main function\n",
    "if __name__ == '__main__':\n",
    "    myThird = Third()"
   ]
  },
  {
   "cell_type": "markdown",
   "metadata": {},
   "source": [
    "### Multiple inheritance"
   ]
  },
  {
   "cell_type": "code",
   "execution_count": 3,
   "metadata": {
    "collapsed": false
   },
   "outputs": [
    {
     "name": "stdout",
     "output_type": "stream",
     "text": [
      "second\n",
      "that's it\n"
     ]
    }
   ],
   "source": [
    "# an easy one ..\n",
    "class First(object):\n",
    "    def __init__(self):\n",
    "        print \"first\"\n",
    "        \n",
    "\n",
    "class Second(First):\n",
    "    def __init__(self):\n",
    "        print \"second\"\n",
    "\n",
    "        \n",
    "class Third(First):\n",
    "    def __init__(self):\n",
    "        print \"third\"\n",
    "        \n",
    "\n",
    "class Fourth(Second, Third):\n",
    "    def __init__(self):\n",
    "        super(Fourth, self).__init__()\n",
    "        print \"that's it\"\n",
    "            \n",
    "            \n",
    "# main function\n",
    "if __name__ == '__main__':\n",
    "    myFourth = Fourth()"
   ]
  },
  {
   "cell_type": "code",
   "execution_count": 4,
   "metadata": {
    "collapsed": false
   },
   "outputs": [
    {
     "name": "stdout",
     "output_type": "stream",
     "text": [
      "second\n",
      "that's it\n",
      "Saving Second\n"
     ]
    }
   ],
   "source": [
    "# a more complex one ..\n",
    "class First(object):\n",
    "    def __init__(self):\n",
    "        print \"first\"\n",
    "        \n",
    "    def save(self):\n",
    "        print \"Saving First\"\n",
    "\n",
    "class Second(First):\n",
    "    def __init__(self):\n",
    "        print \"second\"\n",
    "        \n",
    "    def save(self):\n",
    "        print \"Saving Second\"\n",
    "\n",
    "class Third(First):\n",
    "    def __init__(self):\n",
    "        print \"third\"\n",
    "        \n",
    "    def save(self):\n",
    "        print \"Saving Third\"\n",
    "\n",
    "class Fourth(Second, Third):\n",
    "    def __init__(self):\n",
    "        super(Fourth, self).__init__() # calls Second's init method\n",
    "        print \"that's it\"\n",
    "#     def save(self):\n",
    "#         Third().save()\n",
    "#     def save(self):\n",
    "#         super(Third, self).save()\n",
    "        \n",
    "# main function\n",
    "if __name__ == '__main__':\n",
    "    myFourth = Fourth()\n",
    "    myFourth.save()"
   ]
  },
  {
   "cell_type": "markdown",
   "metadata": {},
   "source": [
    "- Method resolution order: http://python-history.blogspot.com/2010/06/method-resolution-order.html"
   ]
  },
  {
   "cell_type": "markdown",
   "metadata": {},
   "source": [
    "  "
   ]
  },
  {
   "cell_type": "markdown",
   "metadata": {},
   "source": [
    "## Example: Classes and inheritance"
   ]
  },
  {
   "cell_type": "markdown",
   "metadata": {},
   "source": [
    "### Base: Dog and SuperDog"
   ]
  },
  {
   "cell_type": "code",
   "execution_count": 5,
   "metadata": {
    "collapsed": false
   },
   "outputs": [
    {
     "name": "stdout",
     "output_type": "stream",
     "text": [
      "I am Freddy the dog\n",
      "My moves are: ['walk', 'run']\n",
      "\n",
      "I am John the superdog\n",
      "My moves are: ['walk', 'run', 'fly']\n"
     ]
    }
   ],
   "source": [
    "# class definitions\n",
    "class Dog(object):\n",
    "    \"\"\" A normal dog. \"\"\"\n",
    "    animal = \"dog\"\n",
    "    def __init__(self, name):\n",
    "        self.name = name\n",
    "        self.moves = []\n",
    "\n",
    "    def moves_setup(self):\n",
    "        self.moves.append('walk')\n",
    "        self.moves.append('run')\n",
    "\n",
    "    def introduce(self):\n",
    "        print \"I am %s the %s\" % (self.name, self.animal)\n",
    "        print \"My moves are:\",\n",
    "        print self.moves\n",
    "\n",
    "        \n",
    "class SuperDog(Dog):\n",
    "    \"\"\" This dog can fly.\"\"\"\n",
    "    animal = \"superdog\"\n",
    "    def __init__(self, name):\n",
    "        super(SuperDog, self).__init__(name)\n",
    "        \n",
    "    def moves_setup(self):\n",
    "        super(SuperDog, self).moves_setup() # set moves from parent class\n",
    "        self.moves.append('fly')            # new move: 'fly' !\n",
    "\n",
    "        \n",
    "# main function\n",
    "if __name__ == '__main__':\n",
    "    dog = Dog(\"Freddy\")\n",
    "    dog.moves_setup()\n",
    "    dog.introduce()\n",
    "    \n",
    "    print\n",
    "\n",
    "    superDog = SuperDog(\"John\")\n",
    "    superDog.moves_setup()\n",
    "    superDog.introduce()"
   ]
  },
  {
   "cell_type": "markdown",
   "metadata": {},
   "source": [
    "  "
   ]
  },
  {
   "cell_type": "markdown",
   "metadata": {},
   "source": [
    "### Adding Animal class"
   ]
  },
  {
   "cell_type": "code",
   "execution_count": 6,
   "metadata": {
    "collapsed": false
   },
   "outputs": [
    {
     "name": "stdout",
     "output_type": "stream",
     "text": [
      "I am Freddy the dog\n",
      "My moves are: ['walk', 'run']\n",
      "\n",
      "I am John the superdog\n",
      "My moves are: ['walk', 'run', 'fly']\n"
     ]
    }
   ],
   "source": [
    "# class definitions\n",
    "class Animal(object):           # new class: Animal\n",
    "    \"\"\" Any animal.\"\"\"\n",
    "    def __init__(self, name):\n",
    "        self.name = name\n",
    "        self.moves = []\n",
    "        self.moves_setup()      # moves_setup() function call moved here\n",
    "        self.introduce()        # introduce() function call moved here\n",
    "        \n",
    "    def introduce(self):        # introduce() function moved here\n",
    "        print \"I am %s the %s\" % (self.name, self.animal)\n",
    "        print \"My moves are:\", \n",
    "        print self.moves\n",
    "\n",
    "\n",
    "class Dog(Animal):              # Dog inherits from Animal now\n",
    "    \"\"\" A normal dog. \"\"\"\n",
    "    animal = \"dog\"\n",
    "    \n",
    "    ### __init__ function inherited from parent\n",
    "    \n",
    "    def moves_setup(self):\n",
    "        self.moves.append('walk')\n",
    "        self.moves.append('run')\n",
    "        \n",
    "    ### introduce function inherited from parent\n",
    "    \n",
    "class SuperDog(Dog):\n",
    "    \"\"\" This dog can fly.\"\"\"\n",
    "    animal = \"superdog\"\n",
    "    \n",
    "    ### __init__ function inherited from parent\n",
    "    \n",
    "    def moves_setup(self):\n",
    "        super(SuperDog, self).moves_setup()\n",
    "        self.moves.append('fly')\n",
    "    \n",
    "    \n",
    "# main function\n",
    "if __name__ == '__main__':\n",
    "    dog = Dog(\"Freddy\")\n",
    "    print\n",
    "    superDog = SuperDog(\"John\")"
   ]
  },
  {
   "cell_type": "markdown",
   "metadata": {},
   "source": [
    "  "
   ]
  },
  {
   "cell_type": "markdown",
   "metadata": {},
   "source": [
    "### Adding SuperHero class"
   ]
  },
  {
   "cell_type": "code",
   "execution_count": 7,
   "metadata": {
    "collapsed": false
   },
   "outputs": [
    {
     "name": "stdout",
     "output_type": "stream",
     "text": [
      "I am Freddy the dog\n",
      "My moves are: ['walk', 'run']\n",
      "\n",
      "I am John the superdog\n",
      "My moves are: ['walk', 'run', 'fly']\n",
      "I am more powerful than a normal dog\n"
     ]
    }
   ],
   "source": [
    "# class definitions\n",
    "class SuperHero(object):        # new class: SuperHero\n",
    "    \"\"\" A super hero has some new skills. \"\"\"\n",
    "    def taunt(self):\n",
    "        print \"I am more powerful than a normal\", \n",
    "        print self.__class__.__base__.animal\n",
    "\n",
    "class Animal(object):\n",
    "    \"\"\" An animal. \"\"\"\n",
    "    def __init__(self, name):\n",
    "        self.name = name\n",
    "        self.moves = []\n",
    "        self.moves_setup()      # moves_setup() function call moved here\n",
    "        self.introduce()        # introduce() function call moved here\n",
    "        \n",
    "    def introduce(self):        # introduce() function moved here\n",
    "        print \"I am %s the %s\" % (self.name, self.animal)\n",
    "        print \"My moves are:\", \n",
    "        print self.moves\n",
    "\n",
    "\n",
    "class Dog(Animal):\n",
    "    \"\"\" A normal dog. \"\"\"\n",
    "    animal = \"dog\"\n",
    "        \n",
    "    def moves_setup(self):\n",
    "        self.moves.append('walk')\n",
    "        self.moves.append('run')\n",
    "        \n",
    "\n",
    "class SuperDog(Dog, SuperHero): # SuperDog inherits from Dog AND SuperHero now\n",
    "    \"\"\" This dog can fly.\"\"\"\n",
    "    animal = \"superdog\"\n",
    "        \n",
    "    def moves_setup(self):\n",
    "        super(SuperDog, self).moves_setup() # Calling 'moves_setup' from Dog\n",
    "        self.moves.append('fly')\n",
    "        \n",
    "    def taunt(self):\n",
    "        super(SuperDog, self).taunt()       # Calling 'taunt' from SuperHero\n",
    "        \n",
    "# main function\n",
    "if __name__ == '__main__':\n",
    "    dog = Dog(\"Freddy\")\n",
    "#     dog.taunt()\n",
    "    print\n",
    "    superDog = SuperDog(\"John\")\n",
    "    superDog.taunt()"
   ]
  },
  {
   "cell_type": "markdown",
   "metadata": {},
   "source": [
    "  "
   ]
  },
  {
   "cell_type": "markdown",
   "metadata": {},
   "source": [
    "### Adding Cat and SuperCat classes"
   ]
  },
  {
   "cell_type": "code",
   "execution_count": 8,
   "metadata": {
    "collapsed": false
   },
   "outputs": [
    {
     "name": "stdout",
     "output_type": "stream",
     "text": [
      "I am Patrick the dog\n",
      "My moves are: ['walk', 'run']\n",
      "\n",
      "I am John the superdog\n",
      "My moves are: ['walk', 'run', 'fly']\n",
      "I am more powerful than a normal dog\n",
      "\n",
      "I am Ursula the cat\n",
      "My moves are: ['walk', 'run', 'climb']\n",
      "\n",
      "I am Felix the supercat\n",
      "My moves are: ['walk', 'run', 'climb', 'fly']\n",
      "I am more powerful than a normal cat\n"
     ]
    }
   ],
   "source": [
    "# class definitions\n",
    "class SuperHero(object):        # new class: SuperHero\n",
    "    \"\"\" A super hero has some new skills. \"\"\"\n",
    "    def taunt(self):\n",
    "        print \"I am more powerful than a normal\", \n",
    "        print self.__class__.__base__.animal\n",
    "\n",
    "class Animal(object):\n",
    "    \"\"\" An animal. \"\"\"\n",
    "    def __init__(self, name):\n",
    "        self.name = name\n",
    "        self.moves = []\n",
    "        self.moves_setup()      # moves_setup() function call moved here\n",
    "        self.introduce()        # introduce() function call moved here\n",
    "        \n",
    "    def introduce(self):        # introduce() function moved here\n",
    "        print \"I am %s the %s\" % (self.name, self.animal)\n",
    "        print \"My moves are:\", \n",
    "        print self.moves\n",
    "\n",
    "\n",
    "class Dog(Animal):\n",
    "    \"\"\" A normal dog. \"\"\"\n",
    "    animal = \"dog\"\n",
    "        \n",
    "    def moves_setup(self):\n",
    "        self.moves.append('walk')\n",
    "        self.moves.append('run')\n",
    "\n",
    "class SuperDog(Dog, SuperHero): # SuperDog inherits from Dog AND SuperHero now\n",
    "    \"\"\" This dog can fly.\"\"\"\n",
    "    animal = \"superdog\"\n",
    "        \n",
    "    def moves_setup(self):\n",
    "        super(SuperDog, self).moves_setup() # Calling 'moves_setup' from Dog\n",
    "        self.moves.append('fly')\n",
    "        \n",
    "    def taunt(self):\n",
    "        super(SuperDog, self).taunt()       # Calling 'taunt' from SuperHero\n",
    "        \n",
    "\n",
    "class Cat(Animal):\n",
    "    \"\"\" A normal cat. \"\"\"\n",
    "    animal = \"cat\"\n",
    "    \n",
    "    def moves_setup(self):\n",
    "        self.moves.append('walk')\n",
    "        self.moves.append('run')\n",
    "        self.moves.append('climb')\n",
    "    \n",
    "class SuperCat(Cat, SuperHero):\n",
    "    \"\"\" This cat can fly. \"\"\"\n",
    "    animal = \"supercat\"\n",
    "    \n",
    "    def moves_setup(self):\n",
    "        super(SuperCat, self).moves_setup()\n",
    "        self.moves.append('fly')\n",
    "        \n",
    "    def taunt(self):\n",
    "        super(SuperCat, self).taunt()\n",
    "    \n",
    "\n",
    "# main function\n",
    "if __name__ == '__main__':\n",
    "    dog = Dog(\"Patrick\")\n",
    "    print\n",
    "    superDog = SuperDog(\"John\")\n",
    "    superDog.taunt()\n",
    "    print\n",
    "    cat = Cat(\"Ursula\")\n",
    "    print\n",
    "    superCat = SuperCat(\"Felix\")\n",
    "    superCat.taunt()"
   ]
  },
  {
   "cell_type": "markdown",
   "metadata": {},
   "source": [
    "  "
   ]
  },
  {
   "cell_type": "markdown",
   "metadata": {},
   "source": [
    "### Improving overall class design"
   ]
  },
  {
   "cell_type": "code",
   "execution_count": 9,
   "metadata": {
    "collapsed": false
   },
   "outputs": [
    {
     "name": "stdout",
     "output_type": "stream",
     "text": [
      "I am Patrick the dog\n",
      "My moves are: ['walk', 'run']\n",
      "\n",
      "I am John the superdog\n",
      "My moves are: ['walk', 'run']\n",
      "I am more powerful than a normal dog\n",
      "Hitting bad guys with power punch !\n",
      "\n",
      "I am Ursula the cat\n",
      "My moves are: ['walk', 'run']\n",
      "\n",
      "I am Felix the supercat\n",
      "My moves are: ['walk', 'run']\n",
      "I am more powerful than a normal cat\n",
      "Hitting bad guys with power punch !\n"
     ]
    }
   ],
   "source": [
    "# class definitions\n",
    "class SuperHero(object):\n",
    "    \"\"\" A super hero has some new skills. \"\"\"\n",
    "    moves = ['fly', 'power punch']\n",
    "        \n",
    "    def taunt(self):\n",
    "        print \"I am more powerful than a normal\", \n",
    "        print self.__class__.__base__.animal\n",
    "    \n",
    "    def power_punch(self):\n",
    "        print \"Hitting bad guys with power punch !\"\n",
    "\n",
    "class Animal(object):\n",
    "    \"\"\" An animal. \"\"\"\n",
    "    def __init__(self, name):\n",
    "        self.name = name\n",
    "        self.moves = []\n",
    "        self.moves_setup()      \n",
    "        self.introduce()    \n",
    "        \n",
    "    def moves_setup(self):\n",
    "        self.moves.append('walk')\n",
    "        self.moves.append('run')\n",
    "        \n",
    "    def introduce(self):        # introduce() function moved here\n",
    "        print \"I am %s the %s\" % (self.name, self.animal)\n",
    "        print \"My moves are:\", \n",
    "        print self.moves\n",
    "\n",
    "\n",
    "class Dog(Animal):\n",
    "    \"\"\" A normal dog. \"\"\"\n",
    "    animal = \"dog\"\n",
    "\n",
    "class SuperDog(Dog, SuperHero): # SuperDog inherits from Dog AND SuperHero now\n",
    "    \"\"\" This dog can fly.\"\"\"\n",
    "    animal = \"superdog\"\n",
    "        \n",
    "    def __moves_setup(self):\n",
    "        super(SuperDog, self).moves_setup()  # Calling 'moves_setup' from Dog\n",
    "        self.moves.extend(SuperHero.moves)   # Adding SuperHero moves\n",
    "    \n",
    "    # removing def taunt(self) here\n",
    "\n",
    "class Cat(Animal):\n",
    "    \"\"\" A normal cat. \"\"\"\n",
    "    animal = \"cat\"\n",
    "    \n",
    "class SuperCat(Cat, SuperHero):\n",
    "    \"\"\" This cat can fly. \"\"\"\n",
    "    animal = \"supercat\"\n",
    "    \n",
    "    def __moves_setup(self):\n",
    "        super(SuperCat, self).moves_setup() # Calling 'moves_setup' from Cat\n",
    "        self.moves.extend(SuperHero.moves)  # Adding SuperHero moves\n",
    "\n",
    "    # removing def taunt(self) here\n",
    "\n",
    "# main function\n",
    "if __name__ == '__main__':\n",
    "    dog = Dog(\"Patrick\")\n",
    "    print\n",
    "    superDog = SuperDog(\"John\")\n",
    "    superDog.taunt()\n",
    "    superDog.power_punch()       # Call to 'power_punch' from SuperHero\n",
    "    print\n",
    "    cat = Cat(\"Ursula\")\n",
    "    print\n",
    "    superCat = SuperCat(\"Felix\")\n",
    "    superCat.taunt()\n",
    "    superCat.power_punch()       # Call to 'power_punch' from SuperHero"
   ]
  },
  {
   "cell_type": "markdown",
   "metadata": {},
   "source": [
    "## Exceptions Handling"
   ]
  },
  {
   "cell_type": "markdown",
   "metadata": {},
   "source": [
    "### Basic exception handling"
   ]
  },
  {
   "cell_type": "markdown",
   "metadata": {},
   "source": [
    "**Good practices**"
   ]
  },
  {
   "cell_type": "code",
   "execution_count": 101,
   "metadata": {
    "collapsed": true
   },
   "outputs": [
    {
     "ename": "IOError",
     "evalue": "[Errno 2] No such file or directory: 'file_not_found.txt'",
     "output_type": "error",
     "traceback": [
      "\u001b[0;31m---------------------------------------------------------------------------\u001b[0m",
      "\u001b[0;31mIOError\u001b[0m                                   Traceback (most recent call last)",
      "\u001b[0;32m<ipython-input-101-cc1a81f12f49>\u001b[0m in \u001b[0;36m<module>\u001b[0;34m()\u001b[0m\n\u001b[1;32m      1\u001b[0m \u001b[0;31m# IOError\u001b[0m\u001b[0;34m\u001b[0m\u001b[0;34m\u001b[0m\u001b[0m\n\u001b[0;32m----> 2\u001b[0;31m \u001b[0mf\u001b[0m \u001b[0;34m=\u001b[0m \u001b[0mopen\u001b[0m\u001b[0;34m(\u001b[0m\u001b[0;34m'file_not_found.txt'\u001b[0m\u001b[0;34m)\u001b[0m\u001b[0;34m\u001b[0m\u001b[0m\n\u001b[0m",
      "\u001b[0;31mIOError\u001b[0m: [Errno 2] No such file or directory: 'file_not_found.txt'"
     ]
    }
   ],
   "source": [
    "# IOError\n",
    "f = open('file_not_found.txt')"
   ]
  },
  {
   "cell_type": "code",
   "execution_count": 50,
   "metadata": {
    "collapsed": false
   },
   "outputs": [],
   "source": [
    "# Standard try, except, finally structure\n",
    "try:\n",
    "    # something that can fail\n",
    "    pass  \n",
    "except:\n",
    "    # handle the exception\n",
    "    pass     \n",
    "finally:\n",
    "    # something to do everytime (after try or except)\n",
    "    pass"
   ]
  },
  {
   "cell_type": "code",
   "execution_count": 93,
   "metadata": {
    "collapsed": false
   },
   "outputs": [],
   "source": [
    "# NEVER CATCH ALL EXCEPTIONS ...\n",
    "try:\n",
    "    # something that can fail\n",
    "    pass \n",
    "except BaseException as e:\n",
    "    # handle any exception\n",
    "    pass "
   ]
  },
  {
   "cell_type": "code",
   "execution_count": 52,
   "metadata": {
    "collapsed": false
   },
   "outputs": [],
   "source": [
    "# ... CATCH SPECIFIC EXCEPTIONS INSTEAD\n",
    "try:\n",
    "    # something that can fail\n",
    "    pass\n",
    "except Exception_you_know_can_occur_1 as e:\n",
    "    # handle the first exception\n",
    "    pass\n",
    "except Exception_you_know_can_occur_2 as e:\n",
    "    # handle the second exception\n",
    "    pass\n",
    "\n",
    "#... and so on until you covered everything that could happen"
   ]
  },
  {
   "cell_type": "markdown",
   "metadata": {},
   "source": [
    "### Examples"
   ]
  },
  {
   "cell_type": "markdown",
   "metadata": {},
   "source": [
    "**ValueError**"
   ]
  },
  {
   "cell_type": "code",
   "execution_count": 128,
   "metadata": {
    "collapsed": true
   },
   "outputs": [
    {
     "name": "stdout",
     "output_type": "stream",
     "text": [
      "Please enter a number: ok\n"
     ]
    },
    {
     "ename": "ValueError",
     "evalue": "invalid literal for int() with base 10: 'ok'",
     "output_type": "error",
     "traceback": [
      "\u001b[0;31m---------------------------------------------------------------------------\u001b[0m",
      "\u001b[0;31mValueError\u001b[0m                                Traceback (most recent call last)",
      "\u001b[0;32m<ipython-input-128-fa14e543d0f7>\u001b[0m in \u001b[0;36m<module>\u001b[0;34m()\u001b[0m\n\u001b[1;32m      1\u001b[0m \u001b[0;31m# ValueError\u001b[0m\u001b[0;34m\u001b[0m\u001b[0;34m\u001b[0m\u001b[0m\n\u001b[1;32m      2\u001b[0m \u001b[0;32mwhile\u001b[0m \u001b[0mTrue\u001b[0m\u001b[0;34m:\u001b[0m\u001b[0;34m\u001b[0m\u001b[0m\n\u001b[0;32m----> 3\u001b[0;31m     \u001b[0mx\u001b[0m \u001b[0;34m=\u001b[0m \u001b[0mint\u001b[0m\u001b[0;34m(\u001b[0m\u001b[0mraw_input\u001b[0m\u001b[0;34m(\u001b[0m\u001b[0;34m\"Please enter a number: \"\u001b[0m\u001b[0;34m)\u001b[0m\u001b[0;34m)\u001b[0m\u001b[0;34m\u001b[0m\u001b[0m\n\u001b[0m",
      "\u001b[0;31mValueError\u001b[0m: invalid literal for int() with base 10: 'ok'"
     ]
    }
   ],
   "source": [
    "# ValueError\n",
    "while True:\n",
    "    x = int(raw_input(\"Please enter a number: \"))"
   ]
  },
  {
   "cell_type": "code",
   "execution_count": 92,
   "metadata": {
    "collapsed": true
   },
   "outputs": [
    {
     "name": "stdout",
     "output_type": "stream",
     "text": [
      "Please enter a number: ok\n",
      "ValueError: That was no valid number. Try again...\n",
      "Please enter a number: lol\n",
      "ValueError: That was no valid number. Try again...\n",
      "Please enter a number: only value errors\n",
      "ValueError: That was no valid number. Try again...\n",
      "Please enter a number: \\n\\n\\n\\n\n",
      "ValueError: That was no valid number. Try again...\n",
      "Please enter a number: \\n\\n\\\\n\\n\\t\\t\\t\\t\\n\\n\\n\\n\n",
      "ValueError: That was no valid number. Try again...\n",
      "Please enter a number: 10002984.43434\n",
      "ValueError: That was no valid number. Try again...\n",
      "Please enter a number: 11920382908490328014132085\n"
     ]
    }
   ],
   "source": [
    "# ValueError - Handling\n",
    "while True:\n",
    "    try:\n",
    "        x = int(raw_input(\"Please enter a number: \"))\n",
    "        break\n",
    "    except ValueError:\n",
    "        print \"ValueError: That was no valid number. Try again...\""
   ]
  },
  {
   "cell_type": "markdown",
   "metadata": {},
   "source": [
    "**TypeError**"
   ]
  },
  {
   "cell_type": "code",
   "execution_count": 146,
   "metadata": {
    "collapsed": true
   },
   "outputs": [
    {
     "name": "stdout",
     "output_type": "stream",
     "text": [
      "5.0\n",
      "5.0\n"
     ]
    },
    {
     "ename": "TypeError",
     "evalue": "float() argument must be a string or a number",
     "output_type": "error",
     "traceback": [
      "\u001b[0;31m---------------------------------------------------------------------------\u001b[0m",
      "\u001b[0;31mTypeError\u001b[0m                                 Traceback (most recent call last)",
      "\u001b[0;32m<ipython-input-146-2490d24ff47d>\u001b[0m in \u001b[0;36m<module>\u001b[0;34m()\u001b[0m\n\u001b[1;32m      6\u001b[0m \u001b[0mdo_try\u001b[0m\u001b[0;34m(\u001b[0m\u001b[0;36m5\u001b[0m\u001b[0;34m)\u001b[0m\u001b[0;34m\u001b[0m\u001b[0m\n\u001b[1;32m      7\u001b[0m \u001b[0mdo_try\u001b[0m\u001b[0;34m(\u001b[0m\u001b[0;34m\"5\"\u001b[0m\u001b[0;34m)\u001b[0m\u001b[0;34m\u001b[0m\u001b[0m\n\u001b[0;32m----> 8\u001b[0;31m \u001b[0mdo_try\u001b[0m\u001b[0;34m(\u001b[0m\u001b[0;34m[\u001b[0m\u001b[0;34m]\u001b[0m\u001b[0;34m)\u001b[0m\u001b[0;34m\u001b[0m\u001b[0m\n\u001b[0m",
      "\u001b[0;32m<ipython-input-146-2490d24ff47d>\u001b[0m in \u001b[0;36mdo_try\u001b[0;34m(input)\u001b[0m\n\u001b[1;32m      1\u001b[0m \u001b[0;31m# TypeError / ValueError\u001b[0m\u001b[0;34m\u001b[0m\u001b[0;34m\u001b[0m\u001b[0m\n\u001b[1;32m      2\u001b[0m \u001b[0;32mdef\u001b[0m \u001b[0mdo_try\u001b[0m\u001b[0;34m(\u001b[0m\u001b[0minput\u001b[0m\u001b[0;34m)\u001b[0m\u001b[0;34m:\u001b[0m\u001b[0;34m\u001b[0m\u001b[0m\n\u001b[0;32m----> 3\u001b[0;31m     \u001b[0mx\u001b[0m \u001b[0;34m=\u001b[0m \u001b[0mfloat\u001b[0m\u001b[0;34m(\u001b[0m\u001b[0minput\u001b[0m\u001b[0;34m)\u001b[0m\u001b[0;34m\u001b[0m\u001b[0m\n\u001b[0m\u001b[1;32m      4\u001b[0m     \u001b[0;32mprint\u001b[0m \u001b[0mx\u001b[0m\u001b[0;34m\u001b[0m\u001b[0m\n\u001b[1;32m      5\u001b[0m \u001b[0;34m\u001b[0m\u001b[0m\n",
      "\u001b[0;31mTypeError\u001b[0m: float() argument must be a string or a number"
     ]
    }
   ],
   "source": [
    "# TypeError / ValueError\n",
    "def do_try(input):\n",
    "    x = float(input)\n",
    "    print x\n",
    "\n",
    "do_try(5)\n",
    "do_try(\"5\")\n",
    "do_try([])"
   ]
  },
  {
   "cell_type": "code",
   "execution_count": 147,
   "metadata": {
    "collapsed": false
   },
   "outputs": [
    {
     "name": "stdout",
     "output_type": "stream",
     "text": [
      "5.0\n",
      "Goodbye !\n",
      "ValueError:  could not convert string to float: ok\n",
      "Goodbye !\n",
      "TypeError:  float() argument must be a string or a number\n",
      "Goodbye !\n"
     ]
    }
   ],
   "source": [
    "# TypeError / ValueError - Handling\n",
    "def do_try(input):\n",
    "    try:\n",
    "        x = float(input)\n",
    "        print x\n",
    "    except TypeError as e:      # notice the 'as' keyword to get the Exception object\n",
    "        print \"TypeError: \", e\n",
    "    except ValueError as e:     # notice the 'as' keyword to get the Exception object\n",
    "        print \"ValueError: \", e\n",
    "    finally:\n",
    "        print \"Goodbye !\"\n",
    "\n",
    "do_try(5)\n",
    "do_try(\"ok\")\n",
    "do_try([])"
   ]
  },
  {
   "cell_type": "markdown",
   "metadata": {},
   "source": [
    "**IOError**"
   ]
  },
  {
   "cell_type": "code",
   "execution_count": 127,
   "metadata": {
    "collapsed": false
   },
   "outputs": [
    {
     "name": "stdout",
     "output_type": "stream",
     "text": [
      "IOError:  [Errno 2] No such file or directory: 'file_not_found.txt'\n"
     ]
    }
   ],
   "source": [
    "# IOError - Handling\n",
    "try:\n",
    "    f = open(\"file_not_found.txt\")\n",
    "except IOError as e:\n",
    "    print \"IOError: \", e"
   ]
  },
  {
   "cell_type": "markdown",
   "metadata": {},
   "source": [
    "**Re-raise exceptions**"
   ]
  },
  {
   "cell_type": "code",
   "execution_count": null,
   "metadata": {
    "collapsed": true
   },
   "outputs": [],
   "source": [
    "# IOError - Handling\n",
    "try:\n",
    "    f = open(\"file_not_found.txt\")\n",
    "except IOError as e:\n",
    "    #do_something_here (cleanup, reset variables, etc. ...)\n",
    "    raise e # re-raise exception"
   ]
  },
  {
   "cell_type": "markdown",
   "metadata": {},
   "source": [
    "### Complete list of standard exceptions"
   ]
  },
  {
   "cell_type": "code",
   "execution_count": null,
   "metadata": {
    "collapsed": true
   },
   "outputs": [],
   "source": [
    "BaseException\n",
    " +-- SystemExit\n",
    " +-- KeyboardInterrupt\n",
    " +-- GeneratorExit\n",
    " +-- Exception\n",
    "      +-- StopIteration\n",
    "      +-- StandardError\n",
    "      |    +-- BufferError\n",
    "      |    +-- ArithmeticError\n",
    "      |    |    +-- FloatingPointError\n",
    "      |    |    +-- OverflowError\n",
    "      |    |    +-- ZeroDivisionError\n",
    "      |    +-- AssertionError\n",
    "      |    +-- AttributeError\n",
    "      |    +-- EnvironmentError\n",
    "      |    |    +-- IOError\n",
    "      |    |    +-- OSError\n",
    "      |    |         +-- WindowsError (Windows)\n",
    "      |    |         +-- VMSError (VMS)\n",
    "      |    +-- EOFError\n",
    "      |    +-- ImportError\n",
    "      |    +-- LookupError\n",
    "      |    |    +-- IndexError\n",
    "      |    |    +-- KeyError\n",
    "      |    +-- MemoryError\n",
    "      |    +-- NameError\n",
    "      |    |    +-- UnboundLocalError\n",
    "      |    +-- ReferenceError\n",
    "      |    +-- RuntimeError\n",
    "      |    |    +-- NotImplementedError\n",
    "      |    +-- SyntaxError\n",
    "      |    |    +-- IndentationError\n",
    "      |    |         +-- TabError\n",
    "      |    +-- SystemError\n",
    "      |    +-- TypeError\n",
    "      |    +-- ValueError\n",
    "      |         +-- UnicodeError\n",
    "      |              +-- UnicodeDecodeError\n",
    "      |              +-- UnicodeEncodeError\n",
    "      |              +-- UnicodeTranslateError\n",
    "      +-- Warning\n",
    "           +-- DeprecationWarning\n",
    "           +-- PendingDeprecationWarning\n",
    "           +-- RuntimeWarning\n",
    "           +-- SyntaxWarning\n",
    "           +-- UserWarning\n",
    "           +-- FutureWarning\n",
    "\t   +-- ImportWarning\n",
    "\t   +-- UnicodeWarning\n",
    "\t   +-- BytesWarning"
   ]
  }
 ],
 "metadata": {
  "kernelspec": {
   "display_name": "Python 2",
   "language": "python",
   "name": "python2"
  },
  "language_info": {
   "codemirror_mode": {
    "name": "ipython",
    "version": 2
   },
   "file_extension": ".py",
   "mimetype": "text/x-python",
   "name": "python",
   "nbconvert_exporter": "python",
   "pygments_lexer": "ipython2",
   "version": "2.7.10"
  }
 },
 "nbformat": 4,
 "nbformat_minor": 0
}
