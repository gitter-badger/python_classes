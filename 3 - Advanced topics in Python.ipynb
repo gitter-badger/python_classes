{
 "cells": [
  {
   "cell_type": "markdown",
   "metadata": {},
   "source": [
    "# JSON / XML Parsing"
   ]
  },
  {
   "cell_type": "markdown",
   "metadata": {},
   "source": [
    "## JSON Parsing"
   ]
  },
  {
   "cell_type": "code",
   "execution_count": 1,
   "metadata": {
    "collapsed": true
   },
   "outputs": [],
   "source": [
    "# importing the Python json library\n",
    "import json"
   ]
  },
  {
   "cell_type": "markdown",
   "metadata": {},
   "source": [
    "### Importing JSON"
   ]
  },
  {
   "cell_type": "markdown",
   "metadata": {},
   "source": [
    "**From string**"
   ]
  },
  {
   "cell_type": "code",
   "execution_count": 2,
   "metadata": {
    "collapsed": false
   },
   "outputs": [
    {
     "data": {
      "text/plain": [
       "'{\"first_name\": \"Guido\", \"last_name\":\"Rossum\"}'"
      ]
     },
     "execution_count": 2,
     "metadata": {},
     "output_type": "execute_result"
    }
   ],
   "source": [
    "# Example string\n",
    "json_string = '{\"first_name\": \"Guido\", \"last_name\":\"Rossum\"}'\n",
    "json_string"
   ]
  },
  {
   "cell_type": "code",
   "execution_count": 3,
   "metadata": {
    "collapsed": false
   },
   "outputs": [
    {
     "data": {
      "text/plain": [
       "{u'first_name': u'Guido', u'last_name': u'Rossum'}"
      ]
     },
     "execution_count": 3,
     "metadata": {},
     "output_type": "execute_result"
    }
   ],
   "source": [
    "parsed_json = json.loads(json_string)\n",
    "parsed_json"
   ]
  },
  {
   "cell_type": "markdown",
   "metadata": {},
   "source": [
    "**From file**"
   ]
  },
  {
   "cell_type": "code",
   "execution_count": 4,
   "metadata": {
    "collapsed": false
   },
   "outputs": [],
   "source": [
    "# %load files/example.xml"
   ]
  },
  {
   "cell_type": "code",
   "execution_count": 5,
   "metadata": {
    "collapsed": true
   },
   "outputs": [
    {
     "data": {
      "text/plain": [
       "{u'glossary': {u'GlossDiv': {u'GlossList': {u'GlossEntry': {u'Abbrev': u'ISO 8879:1986',\n",
       "     u'Acronym': u'SGML',\n",
       "     u'GlossDef': {u'GlossSeeAlso': [u'GML', u'XML'],\n",
       "      u'para': u'A meta-markup language, used to create markup languages such as DocBook.'},\n",
       "     u'GlossSee': u'markup',\n",
       "     u'GlossTerm': u'Standard Generalized Markup Language',\n",
       "     u'ID': u'SGML',\n",
       "     u'SortAs': u'SGML'}},\n",
       "   u'title': u'S'},\n",
       "  u'title': u'example glossary'}}"
      ]
     },
     "execution_count": 5,
     "metadata": {},
     "output_type": "execute_result"
    }
   ],
   "source": [
    "with open('files/example.json', 'r') as f:\n",
    "    content = f.read()\n",
    "\n",
    "parsed_json = json.loads(content)\n",
    "parsed_json"
   ]
  },
  {
   "cell_type": "markdown",
   "metadata": {},
   "source": [
    "### Exporting to JSON"
   ]
  },
  {
   "cell_type": "code",
   "execution_count": 6,
   "metadata": {
    "collapsed": true
   },
   "outputs": [
    {
     "data": {
      "text/plain": [
       "{'first_name': 'Guido',\n",
       " 'second_name': 'Rossum',\n",
       " 'titles': ['BDFL', 'Developer']}"
      ]
     },
     "execution_count": 6,
     "metadata": {},
     "output_type": "execute_result"
    }
   ],
   "source": [
    "# Example dict\n",
    "d = { 'first_name': 'Guido',\n",
    "      'second_name': 'Rossum',\n",
    "      'titles': ['BDFL', 'Developer'],\n",
    "    }\n",
    "d"
   ]
  },
  {
   "cell_type": "code",
   "execution_count": 7,
   "metadata": {
    "collapsed": true
   },
   "outputs": [
    {
     "data": {
      "text/plain": [
       "'{\"first_name\": \"Guido\", \"titles\": [\"BDFL\", \"Developer\"], \"second_name\": \"Rossum\"}'"
      ]
     },
     "execution_count": 7,
     "metadata": {},
     "output_type": "execute_result"
    }
   ],
   "source": [
    "json_string = json.dumps(d)\n",
    "json_string"
   ]
  },
  {
   "cell_type": "markdown",
   "metadata": {},
   "source": [
    "  "
   ]
  },
  {
   "cell_type": "markdown",
   "metadata": {
    "collapsed": true
   },
   "source": [
    "## XML Parsing"
   ]
  },
  {
   "cell_type": "code",
   "execution_count": 8,
   "metadata": {
    "collapsed": true
   },
   "outputs": [],
   "source": [
    "import xml.etree.ElementTree as ET"
   ]
  },
  {
   "cell_type": "markdown",
   "metadata": {},
   "source": [
    "### Importing XML"
   ]
  },
  {
   "cell_type": "markdown",
   "metadata": {},
   "source": [
    "**From string**"
   ]
  },
  {
   "cell_type": "code",
   "execution_count": 9,
   "metadata": {
    "collapsed": true
   },
   "outputs": [
    {
     "data": {
      "text/plain": [
       "'<catalog>\\n   <book id=\"bk101\">\\n      <author>Gambardella, Matthew</author>\\n      <title>XML Developer\\'s Guide</title>\\n      <genre>Computer</genre>\\n   </book>\\n</catalog>'"
      ]
     },
     "execution_count": 9,
     "metadata": {},
     "output_type": "execute_result"
    }
   ],
   "source": [
    "# Example string\n",
    "xml_string = \"\"\"<catalog>\n",
    "   <book id=\"bk101\">\n",
    "      <author>Gambardella, Matthew</author>\n",
    "      <title>XML Developer's Guide</title>\n",
    "      <genre>Computer</genre>\n",
    "   </book>\n",
    "</catalog>\"\"\"\n",
    "xml_string"
   ]
  },
  {
   "cell_type": "code",
   "execution_count": 10,
   "metadata": {
    "collapsed": false
   },
   "outputs": [
    {
     "name": "stdout",
     "output_type": "stream",
     "text": [
      "catalog\n",
      "{}\n"
     ]
    }
   ],
   "source": [
    "root = ET.fromstring(xml_string)\n",
    "print root.tag\n",
    "print root.attrib"
   ]
  },
  {
   "cell_type": "markdown",
   "metadata": {},
   "source": [
    "**From file**"
   ]
  },
  {
   "cell_type": "code",
   "execution_count": 11,
   "metadata": {
    "collapsed": false
   },
   "outputs": [],
   "source": [
    "# %load files/example.xml"
   ]
  },
  {
   "cell_type": "code",
   "execution_count": 12,
   "metadata": {
    "collapsed": false
   },
   "outputs": [
    {
     "name": "stdout",
     "output_type": "stream",
     "text": [
      "catalog\n",
      "{}\n"
     ]
    }
   ],
   "source": [
    "tree = ET.parse('files/example.xml')\n",
    "root = tree.getroot()\n",
    "print root.tag\n",
    "print root.attrib"
   ]
  },
  {
   "cell_type": "markdown",
   "metadata": {},
   "source": [
    "### Getting items"
   ]
  },
  {
   "cell_type": "code",
   "execution_count": 13,
   "metadata": {
    "collapsed": true
   },
   "outputs": [
    {
     "name": "stdout",
     "output_type": "stream",
     "text": [
      "catalog\n",
      "{}\n",
      "\n",
      "   \n",
      "\tbook {'id': 'bk101'} \n",
      "      \n",
      "\t\tauthor {} Gambardella, Matthew\n",
      "\t\ttitle {} XML Developer's Guide\n",
      "\t\tgenre {} Computer\n",
      "\t\tprice {} 44.95\n",
      "\t\tpublish_date {} 2000-10-01\n",
      "\t\tdescription {} An in-depth look at creating applications\n",
      "      with XML.\n",
      "\n",
      "\tbook {'id': 'bk103'} \n",
      "      \n",
      "\t\tauthor {} Corets, Eva\n",
      "\t\ttitle {} Maeve Ascendant\n",
      "\t\tgenre {} Fantasy\n",
      "\t\tprice {} 5.95\n",
      "\t\tpublish_date {} 2000-11-17\n",
      "\t\tdescription {} After the collapse of a nanotechnology\n",
      "      society in England, the young survivors lay the\n",
      "      foundation for a new society.\n",
      "\n",
      "\tbook {'id': 'bk109'} \n",
      "      \n",
      "\t\tauthor {} Kress, Peter\n",
      "\t\ttitle {} Paradox Lost\n",
      "\t\tgenre {} Science Fiction\n",
      "\t\tprice {} 6.95\n",
      "\t\tpublish_date {} 2000-11-02\n",
      "\t\tdescription {} After an inadvertant trip through a Heisenberg\n",
      "      Uncertainty Device, James Salway discovers the problems\n",
      "      of being quantum.\n",
      "\n"
     ]
    }
   ],
   "source": [
    "# Each XML element contains a tag, an attribute (optional), a text and a list of childs\n",
    "# XML Element: <tag attr:attr_value> text </tag>\n",
    "\n",
    "print root.tag            # tag    : name of XML element\n",
    "print root.attrib         # attrib : attribute of XML element\n",
    "print root.text           # text   : content of XML element\n",
    "for child in root: # loop through all subchildrens\n",
    "    print \"\\t\", child.tag, child.attrib, child.text\n",
    "    for subchild in child:\n",
    "        print \"\\t\\t\", subchild.tag, subchild.attrib, subchild.text\n",
    "    print"
   ]
  },
  {
   "cell_type": "code",
   "execution_count": 14,
   "metadata": {
    "collapsed": true
   },
   "outputs": [
    {
     "name": "stdout",
     "output_type": "stream",
     "text": [
      "ID  bk101\n",
      "title XML Developer's Guide\n",
      "author Gambardella, Matthew\n",
      "genre Computer\n",
      "price 44.95\n",
      "publish_date 2000-10-01\n",
      "description An in-depth look at creating applications\n",
      "      with XML.\n",
      "\n",
      "ID  bk103\n",
      "title Maeve Ascendant\n",
      "author Corets, Eva\n",
      "genre Fantasy\n",
      "price 5.95\n",
      "publish_date 2000-11-17\n",
      "description After the collapse of a nanotechnology\n",
      "      society in England, the young survivors lay the\n",
      "      foundation for a new society.\n",
      "\n",
      "ID  bk109\n",
      "title Paradox Lost\n",
      "author Kress, Peter\n",
      "genre Science Fiction\n",
      "price 6.95\n",
      "publish_date 2000-11-02\n",
      "description After an inadvertant trip through a Heisenberg\n",
      "      Uncertainty Device, James Salway discovers the problems\n",
      "      of being quantum.\n",
      "\n"
     ]
    }
   ],
   "source": [
    "# findall('element_tag') - get direct childs of parent\n",
    "for book in root.findall('book'):\n",
    "    # Get items\n",
    "    book_id = book.get('id')          # Get attribute 'id' of 'book' element\n",
    "    title = book.find('title')        # Get first child named 'title'\n",
    "    author = book.find('author')\n",
    "    genre = book.find('genre')\n",
    "    price = book.find('price')\n",
    "    pdate = book.find('publish_date')\n",
    "    descr = book.find('description')\n",
    "    \n",
    "    # Print items\n",
    "    print \"ID \", book_id\n",
    "    print title.tag, title.text\n",
    "    print author.tag, author.text\n",
    "    print genre.tag, genre.text\n",
    "    print price.tag, price.text\n",
    "    print pdate.tag, pdate.text\n",
    "    print descr.tag, descr.text\n",
    "    print"
   ]
  },
  {
   "cell_type": "code",
   "execution_count": 15,
   "metadata": {
    "collapsed": false
   },
   "outputs": [
    {
     "name": "stdout",
     "output_type": "stream",
     "text": [
      "XML Developer's Guide\n",
      "Maeve Ascendant\n",
      "Paradox Lost\n"
     ]
    }
   ],
   "source": [
    "# iter('element_tag') - search all subtrees\n",
    "for title in root.iter('title'): \n",
    "    print title.text"
   ]
  },
  {
   "cell_type": "code",
   "execution_count": 16,
   "metadata": {
    "collapsed": false
   },
   "outputs": [
    {
     "name": "stdout",
     "output_type": "stream",
     "text": [
      "<Element 'author' at 0x108283cd0>\n",
      "<Element 'title' at 0x108283d50>\n",
      "<Element 'genre' at 0x108283dd0>\n",
      "<Element 'price' at 0x108283e10>\n",
      "<Element 'publish_date' at 0x108283e50>\n",
      "<Element 'description' at 0x108283e90>\n"
     ]
    }
   ],
   "source": [
    "# find('element_tag') - finds first child with tag\n",
    "for book_content in root.find('book'):\n",
    "    print book_content"
   ]
  },
  {
   "cell_type": "markdown",
   "metadata": {},
   "source": [
    "### Modifying items"
   ]
  },
  {
   "cell_type": "code",
   "execution_count": 17,
   "metadata": {
    "collapsed": true
   },
   "outputs": [
    {
     "name": "stdout",
     "output_type": "stream",
     "text": [
      "45.95 {'increased': 'yes'}\n",
      "6.95 {'increased': 'yes'}\n",
      "7.95 {'increased': 'yes'}\n"
     ]
    }
   ],
   "source": [
    "# set('attribute', 'attribute_value')\n",
    "for price in root.iter('price'):\n",
    "    price.text = str(float(price.text) + 1)\n",
    "    price.set('increased', 'yes')\n",
    "    print price.text, price.attrib"
   ]
  },
  {
   "cell_type": "code",
   "execution_count": 18,
   "metadata": {
    "collapsed": true
   },
   "outputs": [
    {
     "name": "stdout",
     "output_type": "stream",
     "text": [
      "<book id=\"bk113\">\n",
      "<author>J.K Rowlings</author><title>Harry Potter and the Sorcerer's Stone</title><genre>Fantasy</genre><price>31.50</price><publish_date>2001-10-16</publish_date><description>A very nice fantasy book.</description></book>\n"
     ]
    }
   ],
   "source": [
    "# Create new element\n",
    "new_book = ET.Element('book', {'id': 'bk113'})\n",
    "new_book.text = \"\\n\"\n",
    "                      \n",
    "# Create sub elements\n",
    "author = ET.SubElement(new_book, 'author')\n",
    "title = ET.SubElement(new_book, 'title')\n",
    "genre = ET.SubElement(new_book, 'genre')\n",
    "price = ET.SubElement(new_book, 'price')\n",
    "pdate = ET.SubElement(new_book, 'publish_date')\n",
    "descr = ET.SubElement(new_book, 'description')\n",
    "\n",
    "# Populate sub elements\n",
    "author.text = \"J.K Rowlings\"\n",
    "title.text = \"Harry Potter and the Sorcerer's Stone\"\n",
    "genre.text = \"Fantasy\"\n",
    "price.text = \"31.50\"\n",
    "pdate.text = \"2001-10-16\"\n",
    "descr.text = \"A very nice fantasy book.\"\n",
    "\n",
    "# Add element to existing tree\n",
    "root.append(new_book)\n",
    "\n",
    "ET.dump(new_book)"
   ]
  },
  {
   "cell_type": "code",
   "execution_count": 19,
   "metadata": {
    "collapsed": true
   },
   "outputs": [
    {
     "name": "stdout",
     "output_type": "stream",
     "text": [
      "<catalog>\n",
      "   <book id=\"bk101\">\n",
      "      <author>Gambardella, Matthew</author>\n",
      "      <title>XML Developer's Guide</title>\n",
      "      <genre>Computer</genre>\n",
      "      <price increased=\"yes\">45.95</price>\n",
      "      <publish_date>2000-10-01</publish_date>\n",
      "      <description>An in-depth look at creating applications\n",
      "      with XML.</description>\n",
      "   </book>\n",
      "   <book id=\"bk103\">\n",
      "      <author>Corets, Eva</author>\n",
      "      <title>Maeve Ascendant</title>\n",
      "      <genre>Fantasy</genre>\n",
      "      <price increased=\"yes\">6.95</price>\n",
      "      <publish_date>2000-11-17</publish_date>\n",
      "      <description>After the collapse of a nanotechnology\n",
      "      society in England, the young survivors lay the\n",
      "      foundation for a new society.</description>\n",
      "   </book>\n",
      "   <book id=\"bk109\">\n",
      "      <author>Kress, Peter</author>\n",
      "      <title>Paradox Lost</title>\n",
      "      <genre>Science Fiction</genre>\n",
      "      <price increased=\"yes\">7.95</price>\n",
      "      <publish_date>2000-11-02</publish_date>\n",
      "      <description>After an inadvertant trip through a Heisenberg\n",
      "      Uncertainty Device, James Salway discovers the problems\n",
      "      of being quantum.</description>\n",
      "   </book>\n",
      "<book id=\"bk113\">\n",
      "<author>J.K Rowlings</author><title>Harry Potter and the Sorcerer's Stone</title><genre>Fantasy</genre><price>31.50</price><publish_date>2001-10-16</publish_date><description>A very nice fantasy book.</description></book><book id=\"bk114\"><description>The second volume of a very nice fantasy book.</description><title>Harry Potter and the Chamber of Secrets</title><price>35.50</price><author>J.K Rowlings</author><publish_date>2002-10-15</publish_date><genre>Fantasy</genre></book></catalog>\n"
     ]
    }
   ],
   "source": [
    "# A ten times nicer way of doing it (focus on what matters)\n",
    "\n",
    "def create_new_element(element_name, attributes={}, elements={}):\n",
    "    book = ET.Element('book', attributes)\n",
    "    for key in elements:\n",
    "        new_elem = ET.SubElement(book, key)\n",
    "        new_elem.text = elements[key]\n",
    "    return book\n",
    "\n",
    "# Create new element\n",
    "name     = 'book'\n",
    "attr     = {'id': \"bk114\"}\n",
    "elements = {'author': \"J.K Rowlings\",\n",
    "            'title': \"Harry Potter and the Chamber of Secrets\",\n",
    "            'genre': \"Fantasy\",\n",
    "            'price': \"35.50\",\n",
    "            'publish_date': \"2002-10-15\",\n",
    "            'description': \"The second volume of a very nice fantasy book.\"}\n",
    "new_book = create_new_element(name, attr, elements)\n",
    "\n",
    "# Append to existing tree\n",
    "root.append(new_book)\n",
    "\n",
    "ET.dump(root)"
   ]
  },
  {
   "cell_type": "markdown",
   "metadata": {},
   "source": [
    "### Exporting to XML"
   ]
  },
  {
   "cell_type": "code",
   "execution_count": 20,
   "metadata": {
    "collapsed": false
   },
   "outputs": [],
   "source": [
    "tree.write(\"files/example_output.xml\")"
   ]
  },
  {
   "cell_type": "code",
   "execution_count": 21,
   "metadata": {
    "collapsed": true
   },
   "outputs": [],
   "source": [
    "# %load files/example_output.xml"
   ]
  },
  {
   "cell_type": "markdown",
   "metadata": {},
   "source": [
    "## Bonus: Pretty Print and Conversion"
   ]
  },
  {
   "cell_type": "markdown",
   "metadata": {},
   "source": [
    "### Pretty Print"
   ]
  },
  {
   "cell_type": "code",
   "execution_count": 22,
   "metadata": {
    "collapsed": true
   },
   "outputs": [
    {
     "name": "stdout",
     "output_type": "stream",
     "text": [
      "<catalog>\n",
      "  <book id=\"bk101\">\n",
      "    <author>Gambardella, Matthew</author>\n",
      "    <title>XML Developer's Guide</title>\n",
      "    <genre>Computer</genre>\n",
      "    <price increased=\"yes\">45.95</price>\n",
      "    <publish_date>2000-10-01</publish_date>\n",
      "    <description>An in-depth look at creating applications\n",
      "      with XML.</description>\n",
      "  </book>\n",
      "  <book id=\"bk103\">\n",
      "    <author>Corets, Eva</author>\n",
      "    <title>Maeve Ascendant</title>\n",
      "    <genre>Fantasy</genre>\n",
      "    <price increased=\"yes\">6.95</price>\n",
      "    <publish_date>2000-11-17</publish_date>\n",
      "    <description>After the collapse of a nanotechnology\n",
      "      society in England, the young survivors lay the\n",
      "      foundation for a new society.</description>\n",
      "  </book>\n",
      "  <book id=\"bk109\">\n",
      "    <author>Kress, Peter</author>\n",
      "    <title>Paradox Lost</title>\n",
      "    <genre>Science Fiction</genre>\n",
      "    <price increased=\"yes\">7.95</price>\n",
      "    <publish_date>2000-11-02</publish_date>\n",
      "    <description>After an inadvertant trip through a Heisenberg\n",
      "      Uncertainty Device, James Salway discovers the problems\n",
      "      of being quantum.</description>\n",
      "  </book>\n",
      "  <book id=\"bk113\">\n",
      "    <author>J.K Rowlings</author>\n",
      "    <title>Harry Potter and the Sorcerer's Stone</title>\n",
      "    <genre>Fantasy</genre>\n",
      "    <price>31.50</price>\n",
      "    <publish_date>2001-10-16</publish_date>\n",
      "    <description>A very nice fantasy book.</description>\n",
      "  </book>\n",
      "  <book id=\"bk114\">\n",
      "    <description>The second volume of a very nice fantasy book.</description>\n",
      "    <title>Harry Potter and the Chamber of Secrets</title>\n",
      "    <price>35.50</price>\n",
      "    <author>J.K Rowlings</author>\n",
      "    <publish_date>2002-10-15</publish_date>\n",
      "    <genre>Fantasy</genre>\n",
      "  </book>\n",
      "</catalog>\n"
     ]
    }
   ],
   "source": [
    "def indent(elem, level=0):\n",
    "    i = \"\\n\" + level*\"  \"\n",
    "    if len(elem):\n",
    "        if not elem.text or not elem.text.strip():\n",
    "            elem.text = i + \"  \"\n",
    "        if not elem.tail or not elem.tail.strip():\n",
    "            elem.tail = i\n",
    "        for elem in elem:\n",
    "            indent(elem, level+1)\n",
    "        if not elem.tail or not elem.tail.strip():\n",
    "            elem.tail = i\n",
    "    else:\n",
    "        if level and (not elem.tail or not elem.tail.strip()):\n",
    "            elem.tail = i\n",
    "            \n",
    "indent(root)\n",
    "tree.write(\"files/example_output.xml\")\n",
    "ET.dump(tree)"
   ]
  },
  {
   "cell_type": "code",
   "execution_count": 23,
   "metadata": {
    "collapsed": true
   },
   "outputs": [],
   "source": [
    "# %load files/example_output.xml"
   ]
  },
  {
   "cell_type": "markdown",
   "metadata": {},
   "source": [
    "### Etree to Dict { }"
   ]
  },
  {
   "cell_type": "code",
   "execution_count": 24,
   "metadata": {
    "collapsed": true
   },
   "outputs": [],
   "source": [
    "from collections import defaultdict\n",
    "\n",
    "def etree_to_dict(t):\n",
    "    d = {t.tag: {} if t.attrib else None}\n",
    "    children = list(t)\n",
    "    if children:\n",
    "        dd = defaultdict(list)\n",
    "        for dc in map(etree_to_dict, children):\n",
    "            for k, v in dc.iteritems():\n",
    "                dd[k].append(v)\n",
    "        d = {t.tag: {k:v[0] if len(v) == 1 else v for k, v in dd.iteritems()}}\n",
    "    if t.attrib:\n",
    "        d[t.tag].update(('@' + k, v) for k, v in t.attrib.iteritems())\n",
    "    if t.text:\n",
    "        text = t.text.strip()\n",
    "        if children or t.attrib:\n",
    "            if text:\n",
    "              d[t.tag]['#text'] = text\n",
    "        else:\n",
    "            d[t.tag] = text\n",
    "    return d"
   ]
  },
  {
   "cell_type": "code",
   "execution_count": 25,
   "metadata": {
    "collapsed": true
   },
   "outputs": [
    {
     "data": {
      "text/plain": [
       "{'catalog': {'book': [{'@id': 'bk101',\n",
       "    'author': 'Gambardella, Matthew',\n",
       "    'description': 'An in-depth look at creating applications\\n      with XML.',\n",
       "    'genre': 'Computer',\n",
       "    'price': {'#text': '45.95', '@increased': 'yes'},\n",
       "    'publish_date': '2000-10-01',\n",
       "    'title': \"XML Developer's Guide\"},\n",
       "   {'@id': 'bk103',\n",
       "    'author': 'Corets, Eva',\n",
       "    'description': 'After the collapse of a nanotechnology\\n      society in England, the young survivors lay the\\n      foundation for a new society.',\n",
       "    'genre': 'Fantasy',\n",
       "    'price': {'#text': '6.95', '@increased': 'yes'},\n",
       "    'publish_date': '2000-11-17',\n",
       "    'title': 'Maeve Ascendant'},\n",
       "   {'@id': 'bk109',\n",
       "    'author': 'Kress, Peter',\n",
       "    'description': 'After an inadvertant trip through a Heisenberg\\n      Uncertainty Device, James Salway discovers the problems\\n      of being quantum.',\n",
       "    'genre': 'Science Fiction',\n",
       "    'price': {'#text': '7.95', '@increased': 'yes'},\n",
       "    'publish_date': '2000-11-02',\n",
       "    'title': 'Paradox Lost'},\n",
       "   {'@id': 'bk113',\n",
       "    'author': 'J.K Rowlings',\n",
       "    'description': 'A very nice fantasy book.',\n",
       "    'genre': 'Fantasy',\n",
       "    'price': '31.50',\n",
       "    'publish_date': '2001-10-16',\n",
       "    'title': \"Harry Potter and the Sorcerer's Stone\"},\n",
       "   {'@id': 'bk114',\n",
       "    'author': 'J.K Rowlings',\n",
       "    'description': 'The second volume of a very nice fantasy book.',\n",
       "    'genre': 'Fantasy',\n",
       "    'price': '35.50',\n",
       "    'publish_date': '2002-10-15',\n",
       "    'title': 'Harry Potter and the Chamber of Secrets'}]}}"
      ]
     },
     "execution_count": 25,
     "metadata": {},
     "output_type": "execute_result"
    }
   ],
   "source": [
    "d = etree_to_dict(root)\n",
    "d"
   ]
  },
  {
   "cell_type": "markdown",
   "metadata": {},
   "source": [
    "### Dict { } to Etree"
   ]
  },
  {
   "cell_type": "code",
   "execution_count": 26,
   "metadata": {
    "collapsed": false
   },
   "outputs": [],
   "source": [
    "def dict_to_etree(d):\n",
    "    def _to_etree(d, root):\n",
    "        if not d:\n",
    "            pass\n",
    "        elif isinstance(d, basestring):\n",
    "            root.text = d\n",
    "        elif isinstance(d, dict):\n",
    "            for k,v in d.items():\n",
    "                assert isinstance(k, basestring)\n",
    "                if k.startswith('#'):\n",
    "                    assert k == '#text' and isinstance(v, basestring)\n",
    "                    root.text = v\n",
    "                elif k.startswith('@'):\n",
    "                    assert isinstance(v, basestring)\n",
    "                    root.set(k[1:], v)\n",
    "                elif isinstance(v, list):\n",
    "                    for e in v:\n",
    "                        _to_etree(e, ET.SubElement(root, k))\n",
    "                else:\n",
    "                    _to_etree(v, ET.SubElement(root, k))\n",
    "        else: assert d == 'invalid type', (type(d), d)\n",
    "    assert isinstance(d, dict) and len(d) == 1\n",
    "    tag, body = next(iter(d.items()))\n",
    "    node = ET.Element(tag)\n",
    "    _to_etree(body, node)\n",
    "    return node"
   ]
  },
  {
   "cell_type": "code",
   "execution_count": 28,
   "metadata": {
    "collapsed": false
   },
   "outputs": [
    {
     "name": "stdout",
     "output_type": "stream",
     "text": [
      "<catalog>\n",
      "  <book id=\"bk101\">\n",
      "    <description>An in-depth look at creating applications\n",
      "      with XML.</description>\n",
      "    <author>Gambardella, Matthew</author>\n",
      "    <price increased=\"yes\">45.95</price>\n",
      "    <title>XML Developer's Guide</title>\n",
      "    <publish_date>2000-10-01</publish_date>\n",
      "    <genre>Computer</genre>\n",
      "  </book>\n",
      "  <book id=\"bk103\">\n",
      "    <description>After the collapse of a nanotechnology\n",
      "      society in England, the young survivors lay the\n",
      "      foundation for a new society.</description>\n",
      "    <author>Corets, Eva</author>\n",
      "    <price increased=\"yes\">6.95</price>\n",
      "    <title>Maeve Ascendant</title>\n",
      "    <publish_date>2000-11-17</publish_date>\n",
      "    <genre>Fantasy</genre>\n",
      "  </book>\n",
      "  <book id=\"bk109\">\n",
      "    <description>After an inadvertant trip through a Heisenberg\n",
      "      Uncertainty Device, James Salway discovers the problems\n",
      "      of being quantum.</description>\n",
      "    <author>Kress, Peter</author>\n",
      "    <price increased=\"yes\">7.95</price>\n",
      "    <title>Paradox Lost</title>\n",
      "    <publish_date>2000-11-02</publish_date>\n",
      "    <genre>Science Fiction</genre>\n",
      "  </book>\n",
      "  <book id=\"bk113\">\n",
      "    <description>A very nice fantasy book.</description>\n",
      "    <author>J.K Rowlings</author>\n",
      "    <price>31.50</price>\n",
      "    <title>Harry Potter and the Sorcerer's Stone</title>\n",
      "    <publish_date>2001-10-16</publish_date>\n",
      "    <genre>Fantasy</genre>\n",
      "  </book>\n",
      "  <book id=\"bk114\">\n",
      "    <description>The second volume of a very nice fantasy book.</description>\n",
      "    <title>Harry Potter and the Chamber of Secrets</title>\n",
      "    <price>35.50</price>\n",
      "    <author>J.K Rowlings</author>\n",
      "    <publish_date>2002-10-15</publish_date>\n",
      "    <genre>Fantasy</genre>\n",
      "  </book>\n",
      "</catalog>\n"
     ]
    }
   ],
   "source": [
    "t = dict_to_etree(d)\n",
    "indent(t)\n",
    "ET.dump(t)"
   ]
  },
  {
   "cell_type": "markdown",
   "metadata": {},
   "source": [
    "   "
   ]
  },
  {
   "cell_type": "markdown",
   "metadata": {},
   "source": [
    "# REST API (Django)"
   ]
  },
  {
   "cell_type": "code",
   "execution_count": null,
   "metadata": {
    "collapsed": true
   },
   "outputs": [],
   "source": []
  },
  {
   "cell_type": "code",
   "execution_count": null,
   "metadata": {
    "collapsed": true
   },
   "outputs": [],
   "source": []
  },
  {
   "cell_type": "markdown",
   "metadata": {},
   "source": [
    "  "
   ]
  },
  {
   "cell_type": "markdown",
   "metadata": {},
   "source": [
    "# SQL Data Access"
   ]
  },
  {
   "cell_type": "code",
   "execution_count": null,
   "metadata": {
    "collapsed": true
   },
   "outputs": [],
   "source": []
  },
  {
   "cell_type": "code",
   "execution_count": null,
   "metadata": {
    "collapsed": true
   },
   "outputs": [],
   "source": []
  },
  {
   "cell_type": "markdown",
   "metadata": {},
   "source": [
    "  "
   ]
  },
  {
   "cell_type": "markdown",
   "metadata": {},
   "source": [
    "# NoSQL Data Access (DynamoDB)"
   ]
  },
  {
   "cell_type": "code",
   "execution_count": null,
   "metadata": {
    "collapsed": true
   },
   "outputs": [],
   "source": []
  },
  {
   "cell_type": "code",
   "execution_count": null,
   "metadata": {
    "collapsed": true
   },
   "outputs": [],
   "source": []
  },
  {
   "cell_type": "markdown",
   "metadata": {},
   "source": [
    "  "
   ]
  },
  {
   "cell_type": "markdown",
   "metadata": {},
   "source": [
    "# Exercise: Parse a switch record and output to MySQL"
   ]
  },
  {
   "cell_type": "code",
   "execution_count": null,
   "metadata": {
    "collapsed": true
   },
   "outputs": [],
   "source": []
  },
  {
   "cell_type": "code",
   "execution_count": null,
   "metadata": {
    "collapsed": true
   },
   "outputs": [],
   "source": []
  },
  {
   "cell_type": "code",
   "execution_count": null,
   "metadata": {
    "collapsed": true
   },
   "outputs": [],
   "source": []
  }
 ],
 "metadata": {
  "kernelspec": {
   "display_name": "Python 2",
   "language": "python",
   "name": "python2"
  },
  "language_info": {
   "codemirror_mode": {
    "name": "ipython",
    "version": 2
   },
   "file_extension": ".py",
   "mimetype": "text/x-python",
   "name": "python",
   "nbconvert_exporter": "python",
   "pygments_lexer": "ipython2",
   "version": "2.7.10"
  }
 },
 "nbformat": 4,
 "nbformat_minor": 0
}
