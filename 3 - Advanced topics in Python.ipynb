{
 "cells": [
  {
   "cell_type": "markdown",
   "metadata": {},
   "source": [
    "# JSON / XML Parsing"
   ]
  },
  {
   "cell_type": "markdown",
   "metadata": {},
   "source": [
    "## JSON Parsing"
   ]
  },
  {
   "cell_type": "code",
   "execution_count": null,
   "metadata": {
    "collapsed": true
   },
   "outputs": [],
   "source": [
    "# importing the Python json library\n",
    "import json"
   ]
  },
  {
   "cell_type": "markdown",
   "metadata": {},
   "source": [
    "### Importing JSON to Dict { }"
   ]
  },
  {
   "cell_type": "markdown",
   "metadata": {},
   "source": [
    "**From string**"
   ]
  },
  {
   "cell_type": "code",
   "execution_count": null,
   "metadata": {
    "collapsed": false
   },
   "outputs": [],
   "source": [
    "# Example string\n",
    "json_string = '{\"first_name\": \"Guido\", \"last_name\":\"Rossum\"}'\n",
    "json_string"
   ]
  },
  {
   "cell_type": "code",
   "execution_count": null,
   "metadata": {
    "collapsed": false
   },
   "outputs": [],
   "source": [
    "parsed_json = json.loads(json_string)\n",
    "parsed_json"
   ]
  },
  {
   "cell_type": "markdown",
   "metadata": {},
   "source": [
    "**From file**"
   ]
  },
  {
   "cell_type": "code",
   "execution_count": null,
   "metadata": {
    "collapsed": false
   },
   "outputs": [],
   "source": [
    "# %load files/example.json"
   ]
  },
  {
   "cell_type": "code",
   "execution_count": null,
   "metadata": {
    "collapsed": false
   },
   "outputs": [],
   "source": [
    "with open('files/example.json', 'r') as f:\n",
    "    content = f.read()\n",
    "\n",
    "parsed_json = json.loads(content)\n",
    "parsed_json"
   ]
  },
  {
   "cell_type": "markdown",
   "metadata": {},
   "source": [
    "### Exporting Dict { } to JSON"
   ]
  },
  {
   "cell_type": "code",
   "execution_count": null,
   "metadata": {
    "collapsed": false
   },
   "outputs": [],
   "source": [
    "# Example dict\n",
    "d = { 'first_name': 'Guido',\n",
    "      'second_name': 'Rossum',\n",
    "      'titles': ['BDFL', 'Developer'],\n",
    "    }\n",
    "d"
   ]
  },
  {
   "cell_type": "code",
   "execution_count": null,
   "metadata": {
    "collapsed": false
   },
   "outputs": [],
   "source": [
    "json_string = json.dumps(d)\n",
    "json_string"
   ]
  },
  {
   "cell_type": "markdown",
   "metadata": {},
   "source": [
    "  "
   ]
  },
  {
   "cell_type": "markdown",
   "metadata": {
    "collapsed": true
   },
   "source": [
    "## XML Parsing"
   ]
  },
  {
   "cell_type": "code",
   "execution_count": null,
   "metadata": {
    "collapsed": true
   },
   "outputs": [],
   "source": [
    "import xml.etree.ElementTree as ET"
   ]
  },
  {
   "cell_type": "markdown",
   "metadata": {},
   "source": [
    "### Importing XML to ElementTree"
   ]
  },
  {
   "cell_type": "markdown",
   "metadata": {},
   "source": [
    "**From string**"
   ]
  },
  {
   "cell_type": "code",
   "execution_count": null,
   "metadata": {
    "collapsed": false
   },
   "outputs": [],
   "source": [
    "# Example string\n",
    "xml_string = \"\"\"<catalog>\n",
    "   <book id=\"bk101\">\n",
    "      <author>Gambardella, Matthew</author>\n",
    "      <title>XML Developer's Guide</title>\n",
    "      <genre>Computer</genre>\n",
    "   </book>\n",
    "</catalog>\"\"\"\n",
    "xml_string"
   ]
  },
  {
   "cell_type": "code",
   "execution_count": null,
   "metadata": {
    "collapsed": false
   },
   "outputs": [],
   "source": [
    "root = ET.fromstring(xml_string)\n",
    "print root.tag\n",
    "print root.attrib"
   ]
  },
  {
   "cell_type": "markdown",
   "metadata": {},
   "source": [
    "**From file**"
   ]
  },
  {
   "cell_type": "code",
   "execution_count": null,
   "metadata": {
    "collapsed": false
   },
   "outputs": [],
   "source": [
    "# %load files/example.xml"
   ]
  },
  {
   "cell_type": "code",
   "execution_count": null,
   "metadata": {
    "collapsed": false
   },
   "outputs": [],
   "source": [
    "tree = ET.parse('files/example.xml')\n",
    "root = tree.getroot()\n",
    "print root.tag\n",
    "print root.attrib"
   ]
  },
  {
   "cell_type": "markdown",
   "metadata": {},
   "source": [
    "### Exporting ElementTree to XML"
   ]
  },
  {
   "cell_type": "code",
   "execution_count": null,
   "metadata": {
    "collapsed": false
   },
   "outputs": [],
   "source": [
    "tree.write(\"files/example_output.xml\")"
   ]
  },
  {
   "cell_type": "code",
   "execution_count": null,
   "metadata": {
    "collapsed": true
   },
   "outputs": [],
   "source": [
    "# %load files/example_output.xml"
   ]
  },
  {
   "cell_type": "markdown",
   "metadata": {},
   "source": [
    "### Getting items"
   ]
  },
  {
   "cell_type": "code",
   "execution_count": null,
   "metadata": {
    "collapsed": false
   },
   "outputs": [],
   "source": [
    "# Each XML element contains a tag, an attribute (optional), a text and a list of childs\n",
    "# XML Element: <tag attr:attr_value> text </tag>\n",
    "\n",
    "print root.tag            # tag    : name of XML element\n",
    "print root.attrib         # attrib : attribute of XML element\n",
    "print root.text           # text   : content of XML element\n",
    "for child in root: # loop through all subchildrens\n",
    "    print \"\\t\", child.tag, child.attrib, child.text\n",
    "    for subchild in child:\n",
    "        print \"\\t\\t\", subchild.tag, subchild.attrib, subchild.text\n",
    "    print\n",
    "    \n",
    "children = list(root)     #Get children\n",
    "\n",
    "print children\n",
    "print root"
   ]
  },
  {
   "cell_type": "code",
   "execution_count": null,
   "metadata": {
    "collapsed": false
   },
   "outputs": [],
   "source": [
    "# iter('element_tag') - search all subtrees\n",
    "for title in root.iter('title'): \n",
    "    print title.text"
   ]
  },
  {
   "cell_type": "code",
   "execution_count": null,
   "metadata": {
    "collapsed": false
   },
   "outputs": [],
   "source": [
    "# findall('element_tag') - get direct childs of parent\n",
    "for book in root.findall('book'):\n",
    "    # Get items\n",
    "    book_id = book.get('id')          # Get attribute 'id' of 'book' element\n",
    "    title = book.find('title')        # Get first child named 'title'\n",
    "    author = book.find('author')\n",
    "    genre = book.find('genre')\n",
    "    price = book.find('price')\n",
    "    pdate = book.find('publish_date')\n",
    "    descr = book.find('description')\n",
    "    \n",
    "    # Print items\n",
    "    print \"ID \", book_id\n",
    "    print title.tag, title.text\n",
    "    print author.tag, author.text\n",
    "    print genre.tag, genre.text\n",
    "    print price.tag, price.text\n",
    "    print pdate.tag, pdate.text\n",
    "    print descr.tag, descr.text\n",
    "    print"
   ]
  },
  {
   "cell_type": "code",
   "execution_count": null,
   "metadata": {
    "collapsed": false
   },
   "outputs": [],
   "source": [
    "# find('element_tag') - finds first child with tag\n",
    "for book_content in root.find('book'):\n",
    "    print book_content"
   ]
  },
  {
   "cell_type": "markdown",
   "metadata": {},
   "source": [
    "### Modifying items"
   ]
  },
  {
   "cell_type": "code",
   "execution_count": null,
   "metadata": {
    "collapsed": false
   },
   "outputs": [],
   "source": [
    "# set('attribute', 'attribute_value')\n",
    "for price in root.iter('price'):\n",
    "    price.text = str(float(price.text) + 1)\n",
    "    price.set('increased', 'yes')\n",
    "    print price.text, price.attrib"
   ]
  },
  {
   "cell_type": "code",
   "execution_count": null,
   "metadata": {
    "collapsed": true
   },
   "outputs": [],
   "source": [
    "# Create new element\n",
    "new_book = ET.Element('book', {'id': 'bk113'})\n",
    "new_book.text = \"\\n\"\n",
    "                      \n",
    "# Create sub elements\n",
    "author = ET.SubElement(new_book, 'author')\n",
    "title = ET.SubElement(new_book, 'title')\n",
    "genre = ET.SubElement(new_book, 'genre')\n",
    "price = ET.SubElement(new_book, 'price')\n",
    "pdate = ET.SubElement(new_book, 'publish_date')\n",
    "descr = ET.SubElement(new_book, 'description')\n",
    "\n",
    "# Populate sub elements\n",
    "author.text = \"J.K Rowlings\"\n",
    "title.text = \"Harry Potter and the Sorcerer's Stone\"\n",
    "genre.text = \"Fantasy\"\n",
    "price.text = \"31.50\"\n",
    "pdate.text = \"2001-10-16\"\n",
    "descr.text = \"A very nice fantasy book.\"\n",
    "\n",
    "# Add element to existing tree\n",
    "root.append(new_book)\n",
    "\n",
    "# ET.dump(new_book)"
   ]
  },
  {
   "cell_type": "code",
   "execution_count": null,
   "metadata": {
    "collapsed": true
   },
   "outputs": [],
   "source": [
    "# A ten times nicer way of doing it (focus on what matters)\n",
    "\n",
    "def create_new_ET(element_name, attributes={}, elements={}):\n",
    "    book = ET.Element('book', attributes)\n",
    "    for key in elements:\n",
    "        new_elem = ET.SubElement(book, key)\n",
    "        new_elem.text = elements[key]\n",
    "    return book\n",
    "\n",
    "# Create new element\n",
    "name     = 'book'\n",
    "attr     = {'id': \"bk114\"}\n",
    "elements = {'author': \"J.K Rowlings\",\n",
    "            'title': \"Harry Potter and the Chamber of Secrets\",\n",
    "            'genre': \"Fantasy\",\n",
    "            'price': \"35.50\",\n",
    "            'publish_date': \"2002-10-15\",\n",
    "            'description': \"The second volume of a very nice fantasy book.\"}\n",
    "new_book = create_new_ET(name, attr, elements)\n",
    "\n",
    "# Append to existing tree\n",
    "root.append(new_book)\n",
    "\n",
    "# ET.dump(root)"
   ]
  },
  {
   "cell_type": "markdown",
   "metadata": {},
   "source": [
    "  "
   ]
  },
  {
   "cell_type": "markdown",
   "metadata": {},
   "source": [
    "## Bonus: Pretty Print and Conversion"
   ]
  },
  {
   "cell_type": "markdown",
   "metadata": {},
   "source": [
    "### Pretty Print"
   ]
  },
  {
   "cell_type": "code",
   "execution_count": null,
   "metadata": {
    "collapsed": false
   },
   "outputs": [],
   "source": [
    "def indent(elem, level=0):\n",
    "    i = \"\\n\" + level*\"  \"\n",
    "    if len(elem):\n",
    "        if not elem.text or not elem.text.strip():\n",
    "            elem.text = i + \"  \"\n",
    "        if not elem.tail or not elem.tail.strip():\n",
    "            elem.tail = i\n",
    "        for elem in elem:\n",
    "            indent(elem, level+1)\n",
    "        if not elem.tail or not elem.tail.strip():\n",
    "            elem.tail = i\n",
    "    else:\n",
    "        if level and (not elem.tail or not elem.tail.strip()):\n",
    "            elem.tail = i\n",
    "            \n",
    "indent(root)\n",
    "tree.write(\"files/example_output.xml\")\n",
    "ET.dump(tree)"
   ]
  },
  {
   "cell_type": "code",
   "execution_count": null,
   "metadata": {
    "collapsed": true
   },
   "outputs": [],
   "source": [
    "# %load files/example_output.xml"
   ]
  },
  {
   "cell_type": "markdown",
   "metadata": {},
   "source": [
    "### Etree to Dict { }"
   ]
  },
  {
   "cell_type": "code",
   "execution_count": null,
   "metadata": {
    "collapsed": true
   },
   "outputs": [],
   "source": [
    "from collections import defaultdict\n",
    "\n",
    "def etree_to_dict(t):\n",
    "    d = {t.tag: {} if t.attrib else None}\n",
    "    children = list(t)\n",
    "    if children:\n",
    "        dd = defaultdict(list)\n",
    "        for dc in map(etree_to_dict, children):\n",
    "            for k, v in dc.iteritems():\n",
    "                dd[k].append(v)\n",
    "        d = {t.tag: {k:v[0] if len(v) == 1 else v for k, v in dd.iteritems()}}\n",
    "    if t.attrib:\n",
    "        d[t.tag].update(('@' + k, v) for k, v in t.attrib.iteritems())\n",
    "    if t.text:\n",
    "        text = t.text.strip()\n",
    "        if children or t.attrib:\n",
    "            if text:\n",
    "              d[t.tag]['#text'] = text\n",
    "        else:\n",
    "            d[t.tag] = text\n",
    "    return d"
   ]
  },
  {
   "cell_type": "code",
   "execution_count": null,
   "metadata": {
    "collapsed": false
   },
   "outputs": [],
   "source": [
    "d = etree_to_dict(root)\n",
    "d"
   ]
  },
  {
   "cell_type": "markdown",
   "metadata": {},
   "source": [
    "### Dict { } to Etree"
   ]
  },
  {
   "cell_type": "code",
   "execution_count": null,
   "metadata": {
    "collapsed": false
   },
   "outputs": [],
   "source": [
    "def dict_to_etree(d):\n",
    "    def _to_etree(d, root):\n",
    "        if not d:\n",
    "            pass\n",
    "        elif isinstance(d, basestring):\n",
    "            root.text = d\n",
    "        elif isinstance(d, dict):\n",
    "            for k,v in d.items():\n",
    "                assert isinstance(k, basestring)\n",
    "                if k.startswith('#'):\n",
    "                    assert k == '#text' and isinstance(v, basestring)\n",
    "                    root.text = v\n",
    "                elif k.startswith('@'):\n",
    "                    assert isinstance(v, basestring)\n",
    "                    root.set(k[1:], v)\n",
    "                elif isinstance(v, list):\n",
    "                    for e in v:\n",
    "                        _to_etree(e, ET.SubElement(root, k))\n",
    "                else:\n",
    "                    _to_etree(v, ET.SubElement(root, k))\n",
    "        else: assert d == 'invalid type', (type(d), d)\n",
    "    assert isinstance(d, dict) and len(d) == 1\n",
    "    tag, body = next(iter(d.items()))\n",
    "    node = ET.Element(tag)\n",
    "    _to_etree(body, node)\n",
    "    return node"
   ]
  },
  {
   "cell_type": "code",
   "execution_count": null,
   "metadata": {
    "collapsed": false
   },
   "outputs": [],
   "source": [
    "t = dict_to_etree(d)\n",
    "indent(t)\n",
    "ET.dump(t)"
   ]
  },
  {
   "cell_type": "markdown",
   "metadata": {},
   "source": [
    "  "
   ]
  },
  {
   "cell_type": "markdown",
   "metadata": {},
   "source": [
    "## Exercise: Analyze XML file\n",
    "### Problem\n",
    "**Objectives:** \n",
    "- Extract Maven plugins information from ```base-corporate-pom```.\n",
    "- Add a new Maven plugin to ```base-corporate-pom```.\n",
    "- Write Maven plugins information to a new file ```files/pom_maven_plugins.xml```\n",
    "\n",
    "**Information:**\n",
    "\n",
    "- ```base-corporate-pom``` pom.xml is located in ```files/pom.xml```\n",
    "\n",
    "\n",
    "- XML plugin structure:\n",
    "```\n",
    "<project>\n",
    "    <!-- Plugin version -->\n",
    "    <properties>\n",
    "        <maven-surefire-plugin.version>2.12.4</maven-surefire-plugin.version>\n",
    "    </properties>\n",
    "    <!-- Plugin info -->\n",
    "    <build>\n",
    "        <pluginManagement>\n",
    "            <plugins>\n",
    "                <plugin>\n",
    "                    <groupId>org.apache.maven.plugin</groupId>\n",
    "                    <artifactId>maven-surefire-plugin</version>\n",
    "                    <version>$(maven-surefire-plugin.version)</version>\n",
    "                 </plugin>\n",
    "            </plugins>\n",
    "         </pluginManagement>\n",
    "    </build>\n",
    "</project>\n",
    "```\n",
    "- Some plugins don't have a ```<version>``` or a ```<groupId>``` tag. Print \"N/A\" when there is no tag.\n",
    "- All plugins have an ```<artifactId>``` tag.\n",
    "\n",
    "**Desired output:**\n",
    "\n",
    "maven-surefire\n",
    "\n",
    "    groupId: org.apache.maven.plugins\n",
    "    artifactId: maven-surefire-plugin\n",
    "    version: 2.12.4"
   ]
  },
  {
   "cell_type": "markdown",
   "metadata": {},
   "source": [
    "### Solution"
   ]
  },
  {
   "cell_type": "code",
   "execution_count": null,
   "metadata": {
    "collapsed": false
   },
   "outputs": [],
   "source": [
    "import xml.etree.ElementTree as ET\n",
    "\n",
    "root = ET.parse('files/pom.xml').getroot()\n",
    "\n",
    "# Variables\n",
    "plugin_dict = {}\n",
    "plugin_list = []\n",
    "base = \"{http://maven.apache.org/POM/4.0.0}\"\n",
    "\n",
    "# Find 'build' and 'properties' XML tags in root\n",
    "build = root.find(base + 'build')\n",
    "properties = root.find(base + 'properties')\n",
    "\n",
    "# Find 'pluginManagement' XML tag in 'build'\n",
    "pluginManagement = build.find(base + 'pluginManagement')\n",
    "\n",
    "# Find 'plugins' XML tag in 'pluginManagement'\n",
    "plugins = pluginManagement.find(base + 'plugins')\n",
    "\n",
    "# Populate plugin_list\n",
    "plugin_list = list(plugins)\n",
    "\n",
    "# Loop through plugins (of class ElementTree)\n",
    "for plugin in plugin_list:\n",
    "    \n",
    "        # Get  plugin information\n",
    "        artifactId_str = plugin.find(base + 'artifactId').text\n",
    "        name = artifactId_str.replace('-plugin', '')\n",
    "        \n",
    "        # Not all plugins have a groupId !\n",
    "        try:\n",
    "            groupId_str = plugin.find(base + 'groupId').text\n",
    "        except:\n",
    "            groupId_str = \"N/A\"\n",
    "        \n",
    "        # Not all plugins have a version !\n",
    "        try:\n",
    "            version_str = plugin.find(base + 'version').text\n",
    "            version_str = version_str[2:-1] # strip '$', '{', and '}' from version\n",
    "            version_str = properties.find(base + version_str).text\n",
    "        except:\n",
    "            version_str = \"N/A\"\n",
    "            \n",
    "        # Print plugin information\n",
    "        print artifactId_str.replace('-plugin', '')\n",
    "        print \"\\t\" + \"groupId: \" + groupId_str\n",
    "        print \"\\t\" + \"artifactId: \" + artifactId_str\n",
    "        print \"\\t\" + \"version: \" + version_str\n",
    "        \n",
    "        # Add plugin to dictionary\n",
    "        plugin_dict[name] = {'artifactId': artifactId_str,\n",
    "                             'groupId': groupId_str,\n",
    "                             'version': version_str\n",
    "                             }\n",
    "        \n",
    "        # Write dict to file:\n",
    "        with open('files/pom_maven_plugins_output.xml', 'w') as f:\n",
    "            for pname, sub in plugin_dict.iteritems():\n",
    "                f.write(pname + \"\\n\")\n",
    "                for k, v in sub.iteritems():\n",
    "                    f.write(\"\\t\" + k + \": \" + v + \"\\n\")"
   ]
  },
  {
   "cell_type": "markdown",
   "metadata": {},
   "source": [
    "### Solution 2 (improved)"
   ]
  },
  {
   "cell_type": "code",
   "execution_count": null,
   "metadata": {
    "collapsed": false
   },
   "outputs": [],
   "source": [
    "import xml.etree.ElementTree as ET\n",
    "import re\n",
    "\n",
    "def concat(list_tags):\n",
    "    # Small function to concatenate the base with the tag name for a list of names.\n",
    "    # Return a tuple containing the new names.\n",
    "    t = tuple()\n",
    "    for tag in list_tags:\n",
    "        t += (base + tag,)\n",
    "    return t\n",
    "\n",
    "def build_path(list_, base = ''):\n",
    "    # Create a path from a list of subpaths. \n",
    "    # If a base is defined, append the based before each path element.\n",
    "    path = \".\"\n",
    "    for a in list_:\n",
    "        if base:\n",
    "            path += \"/\" + base + a\n",
    "            continue\n",
    "        path += \"/\" + a\n",
    "    return path\n",
    "\n",
    "def get_plugin_info(plugin):\n",
    "    # Get concatenated names\n",
    "    names = ['artifactId', 'groupId', 'version']\n",
    "    aId, gId, v = concat(names)\n",
    "    \n",
    "    # Get elements from plugin ET\n",
    "    artifactId = plugin.find(aId)\n",
    "    groupId = plugin.find(gId)\n",
    "    version = plugin.find(v)\n",
    "    \n",
    "    # Set output values\n",
    "    \n",
    "    try:\n",
    "        aId_str = artifactId.text\n",
    "    except Exception as e:\n",
    "        raise(e)\n",
    "            \n",
    "    try:\n",
    "        gId_str = groupId.text\n",
    "    except:\n",
    "        gId_str = \"N/A\"\n",
    "        \n",
    "    try:\n",
    "        version_str = version.text # strip '$', '{', and '}' from version.text\n",
    "        try:\n",
    "            float(version_str)\n",
    "            version_str = str(version_str)\n",
    "        except ValueError:\n",
    "            version_str = version_str[2:-1]\n",
    "            version_str = properties.find(base + version_str).text\n",
    "    except:\n",
    "        version_str = \"N/A\"\n",
    "    \n",
    "    # Return plugin information\n",
    "    name_str = aId_str.replace('-plugin','')  \n",
    "    return (aId_str, gId_str, version_str, name_str)\n",
    "\n",
    "def format_plugin_info(plugin):\n",
    "    artifactId, groupId, version, name = get_plugin_info(plugin) \n",
    "    to_print = name + \"\\n\" + \\\n",
    "    \"\\t\" + \"groupId: \" + groupId + \"\\n\" + \\\n",
    "    \"\\t\" + \"artifactId: \" + artifactId + \"\\n\" + \\\n",
    "    \"\\t\" + \"version: \" + version\n",
    "    return to_print\n",
    "\n",
    "def print_plugin(plugin):\n",
    "    print format_plugin_info(plugin)\n",
    "\n",
    "def write_plugin_to_file(plugin, filepath):\n",
    "    to_print = format_plugin_info(plugin)\n",
    "    with open(filepath, 'a') as f:\n",
    "        f.write(to_print) \n",
    "        f.write(\"\\n\")\n",
    "\n",
    "# main function\n",
    "if __name__ == '__main__':\n",
    "    root = ET.parse('files/pom.xml').getroot()\n",
    "    base = \"{http://maven.apache.org/POM/4.0.0}\"\n",
    "    \n",
    "    # Get plugins Element Tree element\n",
    "    plugins_path    = build_path(['build', 'pluginManagement', 'plugins'], base=base)\n",
    "    plugins = root.find(plugins_path)\n",
    "\n",
    "    # Get plugins info and print plugins\n",
    "    for p in plugins.findall(base + 'plugin'):\n",
    "        print_plugin(p)\n",
    "        write_plugin_to_file(p, 'files/pom_maven_plugins_output.xml')"
   ]
  },
  {
   "cell_type": "markdown",
   "metadata": {},
   "source": [
    "## Solution 3 (OOP Approach)"
   ]
  },
  {
   "cell_type": "code",
   "execution_count": null,
   "metadata": {
    "collapsed": false
   },
   "outputs": [],
   "source": [
    "import xml.etree.ElementTree as ET\n",
    "import re\n",
    "\n",
    "class Plugin(object):\n",
    "    \"\"\" A plugin has a name, an artifactId, a groupId and a version.\"\"\"\n",
    "    def __init__(self, plugin, base):\n",
    "        self.base = base\n",
    "        self.__get_plugin_info(plugin)\n",
    "\n",
    "    def __repr__(self):\n",
    "        to_print = self.name + \"\\n\" + \\\n",
    "        \"\\t\" + \"groupId: \" + self.groupId + \"\\n\" + \\\n",
    "        \"\\t\" + \"artifactId: \" + self.artifactId + \"\\n\" + \\\n",
    "        \"\\t\" + \"version: \" + self.version\n",
    "        return to_print\n",
    "    \n",
    "    # PRIVATE\n",
    "    def __concat(self, list_tags):\n",
    "        \"\"\"Small function to concatenate the base with the tag name for a list of names.\n",
    "        Return a tuple containing the new names.\"\"\"\n",
    "        t = tuple()\n",
    "        for tag in list_tags:\n",
    "            t += (self.base + tag,)\n",
    "        return t\n",
    "    \n",
    "    def __get_plugin_info(self, plugin):  \n",
    "        \"\"\" Takes a plugin of class ElementTree and populates this Plugin object.\n",
    "        Fields are: name, artifactId, groupid, version\"\"\"\n",
    "        # Get concatenated names\n",
    "        names = ['artifactId', 'groupId', 'version']\n",
    "        aId, gId, v = self.__concat(names)\n",
    "        \n",
    "        # Get elements from plugin ET\n",
    "        artifactId = plugin.find(aId)\n",
    "        groupId = plugin.find(gId)\n",
    "        version = plugin.find(v)\n",
    "        \n",
    "        # Set output values\n",
    "        try:\n",
    "            aId_str = artifactId.text\n",
    "        except Exception as e:\n",
    "            raise(e)\n",
    "            \n",
    "        try:\n",
    "            gId_str = groupId.text\n",
    "        except:\n",
    "            gId_str = \"N/A\"\n",
    "            \n",
    "        try:\n",
    "            version_str = version.text # strip '$', '{', and '}' from version.text\n",
    "            try:\n",
    "                float(version_str)\n",
    "                version_str = str(version_str)\n",
    "            except ValueError:\n",
    "                version_str = version_str[2:-1]\n",
    "                version_str = properties.find(base + version_str).text\n",
    "        except:\n",
    "            version_str = \"N/A\"\n",
    "\n",
    "        name_str = aId_str.replace('-plugin','')  \n",
    "        \n",
    "        # Populate Plugin object\n",
    "        self.artifactId = aId_str\n",
    "        self.groupId = gId_str\n",
    "        self.version = version_str\n",
    "        self.name = name_str\n",
    "            \n",
    "class POMPluginExtractor(object):\n",
    "    \"\"\"This class serves as extractor of plugins from any POM file.\"\"\"\n",
    "    def __init__(self, filepath, base):\n",
    "        self.filepath = filepath\n",
    "        self.base = base\n",
    "        self.plugins = []\n",
    "        self.__get_root()\n",
    "        self.__get_plugins()\n",
    "    \n",
    "    def print_plugins(self):\n",
    "        for p in self.plugins:\n",
    "            print p\n",
    "    \n",
    "    def save_plugins(self, filepath):\n",
    "        with open(filepath, 'w') as f:\n",
    "            for p in self.plugins:\n",
    "                print >>f, p\n",
    "                print >>f\n",
    "                \n",
    "        print \"Plugins saved to %s\" % filepath\n",
    "            \n",
    "    # PRIVATE\n",
    "    def __get_root(self):\n",
    "        self.root = ET.parse(self.filepath).getroot()\n",
    "\n",
    "    def __get_plugins(self):\n",
    "        plugins_path = self.__build_path(['build', 'pluginManagement', 'plugins'], base=self.base)\n",
    "        plugins = self.root.find(plugins_path)\n",
    "        for p in plugins.findall(self.base + 'plugin'):\n",
    "            self.plugins.append(Plugin(p, self.base))\n",
    "            \n",
    "    def __build_path(self, list_, base = ''):\n",
    "        path = \".\"\n",
    "        for a in list_:\n",
    "            if base:\n",
    "                path += \"/\" + base + a\n",
    "                continue\n",
    "            path += \"/\" + a\n",
    "        return path    \n",
    "\n",
    "# main function\n",
    "if __name__ == '__main__':\n",
    "    inputFile = 'files/pom.xml'\n",
    "    outputFile = 'files/pom_maven_plugins_output.xml'\n",
    "    base = \"{http://maven.apache.org/POM/4.0.0}\"\n",
    "    \n",
    "    analyzer = POMPluginExtractor(inputFile, base)\n",
    "    analyzer.save_plugins(outputFile)\n",
    "    analyzer.print_plugins()"
   ]
  },
  {
   "cell_type": "markdown",
   "metadata": {},
   "source": [
    "  "
   ]
  },
  {
   "cell_type": "markdown",
   "metadata": {},
   "source": [
    "# REST API (Django)"
   ]
  },
  {
   "cell_type": "markdown",
   "metadata": {
    "collapsed": true
   },
   "source": [
    "## Serialization"
   ]
  },
  {
   "cell_type": "code",
   "execution_count": null,
   "metadata": {
    "collapsed": true
   },
   "outputs": [],
   "source": []
  },
  {
   "cell_type": "code",
   "execution_count": null,
   "metadata": {
    "collapsed": true
   },
   "outputs": [],
   "source": []
  },
  {
   "cell_type": "code",
   "execution_count": null,
   "metadata": {
    "collapsed": true
   },
   "outputs": [],
   "source": []
  },
  {
   "cell_type": "code",
   "execution_count": null,
   "metadata": {
    "collapsed": true
   },
   "outputs": [],
   "source": []
  },
  {
   "cell_type": "markdown",
   "metadata": {},
   "source": [
    "## Requests and Responses"
   ]
  },
  {
   "cell_type": "code",
   "execution_count": null,
   "metadata": {
    "collapsed": true
   },
   "outputs": [],
   "source": []
  },
  {
   "cell_type": "code",
   "execution_count": null,
   "metadata": {
    "collapsed": true
   },
   "outputs": [],
   "source": []
  },
  {
   "cell_type": "code",
   "execution_count": null,
   "metadata": {
    "collapsed": true
   },
   "outputs": [],
   "source": []
  },
  {
   "cell_type": "code",
   "execution_count": null,
   "metadata": {
    "collapsed": true
   },
   "outputs": [],
   "source": []
  },
  {
   "cell_type": "markdown",
   "metadata": {},
   "source": [
    "## Class Based view"
   ]
  },
  {
   "cell_type": "code",
   "execution_count": null,
   "metadata": {
    "collapsed": true
   },
   "outputs": [],
   "source": []
  },
  {
   "cell_type": "code",
   "execution_count": null,
   "metadata": {
    "collapsed": true
   },
   "outputs": [],
   "source": []
  },
  {
   "cell_type": "code",
   "execution_count": null,
   "metadata": {
    "collapsed": true
   },
   "outputs": [],
   "source": []
  },
  {
   "cell_type": "code",
   "execution_count": null,
   "metadata": {
    "collapsed": true
   },
   "outputs": [],
   "source": []
  },
  {
   "cell_type": "markdown",
   "metadata": {},
   "source": [
    "## Authentication and Permission"
   ]
  },
  {
   "cell_type": "code",
   "execution_count": null,
   "metadata": {
    "collapsed": true
   },
   "outputs": [],
   "source": []
  },
  {
   "cell_type": "code",
   "execution_count": null,
   "metadata": {
    "collapsed": true
   },
   "outputs": [],
   "source": []
  },
  {
   "cell_type": "code",
   "execution_count": null,
   "metadata": {
    "collapsed": true
   },
   "outputs": [],
   "source": []
  },
  {
   "cell_type": "code",
   "execution_count": null,
   "metadata": {
    "collapsed": true
   },
   "outputs": [],
   "source": []
  },
  {
   "cell_type": "markdown",
   "metadata": {},
   "source": [
    "## Relationships and Hyperlink APIs"
   ]
  },
  {
   "cell_type": "code",
   "execution_count": null,
   "metadata": {
    "collapsed": true
   },
   "outputs": [],
   "source": []
  },
  {
   "cell_type": "code",
   "execution_count": null,
   "metadata": {
    "collapsed": true
   },
   "outputs": [],
   "source": []
  },
  {
   "cell_type": "markdown",
   "metadata": {
    "collapsed": true
   },
   "source": [
    "## Viewsets and routers"
   ]
  },
  {
   "cell_type": "code",
   "execution_count": null,
   "metadata": {
    "collapsed": true
   },
   "outputs": [],
   "source": []
  },
  {
   "cell_type": "markdown",
   "metadata": {},
   "source": [
    "## Example: Twitter REST API"
   ]
  },
  {
   "cell_type": "markdown",
   "metadata": {},
   "source": [
    "  "
   ]
  },
  {
   "cell_type": "markdown",
   "metadata": {},
   "source": [
    "# SQL Data Access (MySQL)"
   ]
  },
  {
   "cell_type": "code",
   "execution_count": null,
   "metadata": {
    "collapsed": false
   },
   "outputs": [],
   "source": [
    "import mysql.connector"
   ]
  },
  {
   "cell_type": "markdown",
   "metadata": {
    "collapsed": true
   },
   "source": [
    "## Connecting to MySQL DB"
   ]
  },
  {
   "cell_type": "code",
   "execution_count": null,
   "metadata": {
    "collapsed": false
   },
   "outputs": [],
   "source": [
    "cnx = mysql.connector.connect(user='root', password='password',\n",
    "                              host='localhost')\n",
    "cnx.close()\n",
    "cnx"
   ]
  },
  {
   "cell_type": "markdown",
   "metadata": {},
   "source": [
    "**Lots of connection arguments**"
   ]
  },
  {
   "cell_type": "code",
   "execution_count": null,
   "metadata": {
    "collapsed": false
   },
   "outputs": [],
   "source": [
    "config = {\n",
    "  'user': 'root',\n",
    "  'password': 'password',\n",
    "  'host': 'localhost',\n",
    "  'database': 'tutorial',\n",
    "  'raise_on_warnings': True,\n",
    "}\n",
    "\n",
    "cnx = mysql.connector.connect(**config)\n",
    "cnx.close()\n",
    "cnx"
   ]
  },
  {
   "cell_type": "markdown",
   "metadata": {},
   "source": [
    "**Handling connection errors**"
   ]
  },
  {
   "cell_type": "code",
   "execution_count": null,
   "metadata": {
    "collapsed": false
   },
   "outputs": [],
   "source": [
    "from mysql.connector import errorcode\n",
    "\n",
    "config = {\n",
    "  'user': 'root',\n",
    "  'password': 'wrong_password',\n",
    "  'host': 'localhost',\n",
    "  'raise_on_warnings': True,\n",
    "}\n",
    "\n",
    "# Exception handling code\n",
    "try:\n",
    "    cnx = mysql.connector.connect(**config)\n",
    "    \n",
    "except mysql.connector.Error as err:\n",
    "    if err.errno == errorcode.ER_ACCESS_DENIED_ERROR:\n",
    "        print \"Something is wrong with you user name or password\"\n",
    "    elif err.errno == errorcode.ER_BAD_DB_ERROR:\n",
    "        print \"Database does not exist.\"\n",
    "    else:\n",
    "        print err\n",
    "else:\n",
    "    cnx.close()"
   ]
  },
  {
   "cell_type": "markdown",
   "metadata": {},
   "source": [
    "**Executing SQL statements**\n",
    "\n",
    "***Note: All DDL (Data Definition Language) statements are executed using a handle structure known as 'cursor'.***"
   ]
  },
  {
   "cell_type": "code",
   "execution_count": null,
   "metadata": {
    "collapsed": false
   },
   "outputs": [],
   "source": [
    "# A basic complete example for executing SQL queries\n",
    "\n",
    "from mysql.connector import MySQLConnection\n",
    "\n",
    "config = {\n",
    "  'user': 'root',\n",
    "  'password': 'password',\n",
    "  'host': 'localhost',\n",
    "  'raise_on_warnings': True,\n",
    "}\n",
    "\n",
    "def exec_query(cursor, query, query_args=None):\n",
    "    query_str = query\n",
    "    try:\n",
    "        if query_args is not None:\n",
    "            print \"[INFO]  Executing SQL: \\\"%s\\\"...\" % query,\n",
    "            cursor.execute(query, query_args)\n",
    "        else:\n",
    "            print \"[INFO]  Executing SQL: \\\"%s\\\"...\" % query,\n",
    "            cursor.execute(query)\n",
    "        print \" SUCCESS\"\n",
    "    except mysql.connector.Error as err:\n",
    "        print\n",
    "        print \"[ERROR] \" + err.msg\n",
    "        exit(1)\n",
    "        \n",
    "if __name__ == '__main__':\n",
    "    # SQL statements\n",
    "    query_1 = \"CREATE DATABASE test\"\n",
    "    query_2 = \"CREATE TABLE people (first_name VARCHAR(25) PRIMARY KEY, last_name VARCHAR(25))\"\n",
    "    query_3 = \"INSERT people(first_name, last_name) VALUES (%s, %s)\"\n",
    "    query_3_args = (\"Olivier\", \"Cervello\")\n",
    "    query_4 = \"SELECT * FROM people\"\n",
    "    query_4 = \"DROP TABLE people\"\n",
    "    query_5 = \"DROP DATABASE test\"\n",
    "    \n",
    "    #connect to MySQL server\n",
    "    cnx = MySQLConnection(**config)\n",
    "    cursor = cnx.cursor()\n",
    "    \n",
    "    #create database 'test'\n",
    "    exec_query(cursor, query_1)\n",
    "    \n",
    "    # connect to database 'test'\n",
    "    config['database'] = 'test'\n",
    "    cnx.connect(**config)\n",
    "    \n",
    "    # create table 'people' and insert a value\n",
    "    exec_query(cursor, query_2)\n",
    "    exec_query(cursor, query_3, query_3_args)\n",
    "    \n",
    "    # Commit changes (query_3)\n",
    "    cnx.commit()\n",
    "    \n",
    "    # delete databases\n",
    "    exec_query(cursor, query_4)\n",
    "    exec_query(cursor, query_5)\n",
    "\n",
    "    # close connection\n",
    "    cnx.close()"
   ]
  },
  {
   "cell_type": "markdown",
   "metadata": {},
   "source": [
    "## Creating / Deleting a database"
   ]
  },
  {
   "cell_type": "code",
   "execution_count": null,
   "metadata": {
    "collapsed": false
   },
   "outputs": [],
   "source": [
    "from mysql.connector import MySQLConnection\n",
    "\n",
    "config = {\n",
    "  'user': 'root',\n",
    "  'password': 'password',\n",
    "  'host': 'localhost',\n",
    "  'raise_on_warnings': True,\n",
    "}\n",
    "\n",
    "def create_database(cursor, db_name):\n",
    "    query = \"CREATE DATABASE %s\" % db_name\n",
    "    exec_query(cursor, query)\n",
    "        \n",
    "def get_database(cnx, db_name):\n",
    "    cursor = cnx.cursor()\n",
    "    print \"[INFO]  Fetching database %s ...\" % db_name\n",
    "    try:\n",
    "        cnx.database = db_name    \n",
    "    except mysql.connector.Error as err:\n",
    "        if err.errno == errorcode.ER_BAD_DB_ERROR:\n",
    "            print \"[ERROR] Database %s does not exist! Creating database...\" % db_name\n",
    "            create_database(cursor, db_name)\n",
    "            cnx.database = db_name\n",
    "        else:\n",
    "            print(err)\n",
    "            exit(1)\n",
    "    print \"[INFO]  Database %s selected.\" % db_name\n",
    "\n",
    "def delete_database(cursor, db_name):\n",
    "    query = \"DROP DATABASE %s\" % db_name\n",
    "    exec_query(cursor, query)\n",
    "\n",
    "if __name__ == '__main__':\n",
    "    cnx = MySQLConnection(**config)\n",
    "    cursor = cnx.cursor()\n",
    "    get_database(cnx, 'new_db')\n",
    "    delete_database(cursor, 'new_db')"
   ]
  },
  {
   "cell_type": "markdown",
   "metadata": {},
   "source": [
    "## Creating / Deleting a table"
   ]
  },
  {
   "cell_type": "code",
   "execution_count": null,
   "metadata": {
    "collapsed": false
   },
   "outputs": [],
   "source": [
    "# create_table(cursor, table_name, table_ddl)\n",
    "def create_table(cursor, table_name, args):\n",
    "    args_str = ','.join(args)\n",
    "    query = \"CREATE TABLE %s\" % table_name + \"(\" + args_str + \")\"\n",
    "    exec_query(cursor, query)\n",
    "    \n",
    "# delete_table(cursor, table_name, table_ddl)\n",
    "def delete_table(cursor, table_name):\n",
    "    query = \"DROP TABLE %s\" % table_name\n",
    "    exec_query(cursor, query)\n",
    "    \n",
    "if __name__ == '__main__':\n",
    "    cnx = MySQLConnection(user='root', password='password')\n",
    "    cursor = cnx.cursor()\n",
    "    get_database(cnx, 'new_db')\n",
    "    \n",
    "    # New table\n",
    "    name = \"people\"\n",
    "    args = (\"emp_no int(11) NOT NULL\",\n",
    "            \"first_name varchar(14) NOT NULL\",\n",
    "            \"last_name varchar(14) NOT NULL\",\n",
    "            \"PRIMARY KEY (emp_no)\"\n",
    "           )\n",
    "    create_table(cursor, name, args)\n",
    "#     delete_table(cursor, name)"
   ]
  },
  {
   "cell_type": "markdown",
   "metadata": {},
   "source": [
    "## Populating a table"
   ]
  },
  {
   "cell_type": "code",
   "execution_count": null,
   "metadata": {
    "collapsed": false
   },
   "outputs": [],
   "source": [
    "# add_employee(cursor, args)\n",
    "def add_employee(cursor, db_name, emp_no, first_name, last_name):\n",
    "    query = \"INSERT INTO people(emp_no,first_name, last_name) \" \\\n",
    "            \"VALUES(%s,%s,%s)\"\n",
    "    args = (emp_no, first_name, last_name)\n",
    "    exec_query(cursor, query, args)\n",
    "    \n",
    "if __name__ == '__main__':\n",
    "    # Connect to database\n",
    "    cnx = MySQLConnection(**config)\n",
    "    cursor = cnx.cursor()\n",
    "\n",
    "    # Get database\n",
    "    get_database(cnx, 'new_db')\n",
    "\n",
    "    # Insert new employee\n",
    "    values = (10, \"Geert\", \"Vanderkelen\")\n",
    "    add_employee(cursor, 'employee', *values)\n",
    "\n",
    "    # Make sure data is committed to the database\n",
    "    cnx.commit()\n",
    "    cnx.close()"
   ]
  },
  {
   "cell_type": "code",
   "execution_count": null,
   "metadata": {
    "collapsed": false
   },
   "outputs": [],
   "source": [
    "# add_employees(cursor, employees)\n",
    "def add_employees(cursor, employees):\n",
    "    query = \"INSERT INTO people(emp_no,first_name, last_name) \" \\\n",
    "            \"VALUES(%s,%s,%s)\"\n",
    "    for e in employees:\n",
    "        exec_query(cursor, query, e)\n",
    "    \n",
    "if __name__ == '__main__':\n",
    "    # Connect to database\n",
    "    cnx = MySQLConnection(**config)\n",
    "    cursor = cnx.cursor()\n",
    "\n",
    "    # Get database\n",
    "    get_database(cnx, 'new_db')\n",
    "\n",
    "    # Insert new employee\n",
    "    new_employees = [(10, \"Geert\", \"Vanderkelen\"), (11, \"Olivier\", \"Cervello\"), (12, \"Gertrude\", \"Roger\")]\n",
    "    add_employees(cursor, new_employees)\n",
    "    # delete_database(cursor, 'new_db')\n",
    "                  \n",
    "    # Make sure data is committed to the database\n",
    "    cnx.commit()\n",
    "    cnx.close()"
   ]
  },
  {
   "cell_type": "markdown",
   "metadata": {},
   "source": [
    "## Querying data from a table"
   ]
  },
  {
   "cell_type": "code",
   "execution_count": null,
   "metadata": {
    "collapsed": true
   },
   "outputs": [],
   "source": []
  },
  {
   "cell_type": "code",
   "execution_count": null,
   "metadata": {
    "collapsed": true
   },
   "outputs": [],
   "source": []
  },
  {
   "cell_type": "code",
   "execution_count": null,
   "metadata": {
    "collapsed": true
   },
   "outputs": [],
   "source": []
  },
  {
   "cell_type": "code",
   "execution_count": null,
   "metadata": {
    "collapsed": true
   },
   "outputs": [],
   "source": []
  },
  {
   "cell_type": "code",
   "execution_count": null,
   "metadata": {
    "collapsed": true
   },
   "outputs": [],
   "source": []
  },
  {
   "cell_type": "code",
   "execution_count": null,
   "metadata": {
    "collapsed": true
   },
   "outputs": [],
   "source": []
  },
  {
   "cell_type": "markdown",
   "metadata": {
    "collapsed": true
   },
   "source": [
    "## OOP Approach"
   ]
  },
  {
   "cell_type": "code",
   "execution_count": null,
   "metadata": {
    "collapsed": false
   },
   "outputs": [],
   "source": [
    "# OOP approach\n",
    "class Controller(object):\n",
    "    def __init__(self, cnx):\n",
    "        self.name = name\n",
    "        self.cnx = cnx\n",
    "        self.cursor = cnx.cursor()\n",
    "        self.tables = []\n",
    "        \n",
    "    def get(self, name):\n",
    "        # Get an existing database named db_name. \n",
    "        # If it doesn't exist, create a new database db_name.\n",
    "        # Also get all tables in database.\n",
    "        cursor = cnx.cursor()\n",
    "        print \"[INFO]  Fetching database %s ...\" % name\n",
    "        try:\n",
    "            cnx.database = self.name    \n",
    "        except mysql.connector.Error as err:\n",
    "            if err.errno == errorcode.ER_BAD_DB_ERROR:\n",
    "                print \"[ERROR] Database %s does not exist! Creating database...\" % name\n",
    "                create_database(cursor, name)\n",
    "                cnx.database = name\n",
    "            else:\n",
    "                print(err)\n",
    "                exit(1)\n",
    "        print \"[INFO]  Database %s selected.\" % name\n",
    "\n",
    "    def create(self, name):\n",
    "        # Create a new database on the MySQL server\n",
    "        query = \"CREATE DATABASE %s\" % self.name\n",
    "        self.exec_query(query)\n",
    "        \n",
    "    def delete(self, name):\n",
    "        # Delete an existing database.\n",
    "        query = \"DROP DATABASE %s\" % name\n",
    "        self.exec_query(query)\n",
    "    \n",
    "    def delete_table(self, name):\n",
    "        # Delete a table from the database\n",
    "        query = \"DROP TABLE %s\" % name\n",
    "        self.exec_query(query)\n",
    "            \n",
    "    def create_table(self, name, args):\n",
    "        # Create a new table in the database.\n",
    "        args_str = ','.join(args)\n",
    "        query = \"CREATE TABLE IF NOT EXISTS %s\" % name + \"(\" + args_str + \")\"\n",
    "        self.exec_query(query)\n",
    "    \n",
    "    def describe_table(self, name):\n",
    "        query = \"DESCRIBE TABLE %s\" % name\n",
    "        self.exec_query(query)\n",
    "        \n",
    "    def exec_query(self, query, query_args=None):\n",
    "        query_str = query\n",
    "        try:\n",
    "            if query_args is not None:\n",
    "                query = query % query_args\n",
    "                print \"[INFO]  Executing SQL: \\\"%s\\\"...\" % query,\n",
    "                self.cursor.execute(query, query_args)\n",
    "            else:\n",
    "                print \"[INFO]  Executing SQL: \\\"%s\\\"...\" % query,\n",
    "                self.cursor.execute(query)\n",
    "            print \" SUCCESS\"\n",
    "        except mysql.connector.Error as err:\n",
    "            print\n",
    "            print \"[ERROR] \" + err.msg\n",
    "            exit(1)\n",
    "        \n",
    "if __name__ == '__main__':\n",
    "    cnx = mysql.connector.connect(user='root', password='password')\n",
    "    controller = Controller(cnx)\n",
    "    controller.get('new_db')\n",
    "    controller.create_table('new_table', [\"hey varchar(10) NOT NULL\", \"bro varchar(15) NOT NULL\", \"lol varchar(10) NOT NULL\"])\n",
    "    controller.delete_table('new_table')\n",
    "    controller.delete('new_db')"
   ]
  },
  {
   "cell_type": "markdown",
   "metadata": {},
   "source": [
    "  "
   ]
  },
  {
   "cell_type": "markdown",
   "metadata": {},
   "source": [
    "# NoSQL Data Access (DynamoDB)"
   ]
  },
  {
   "cell_type": "code",
   "execution_count": 2,
   "metadata": {
    "collapsed": false
   },
   "outputs": [],
   "source": [
    "import boto3"
   ]
  },
  {
   "cell_type": "markdown",
   "metadata": {},
   "source": [
    "### Client\n",
    "**Description:** A low-level client representing Amazon DynamoDB."
   ]
  },
  {
   "cell_type": "markdown",
   "metadata": {},
   "source": [
    "** Methods available **\n",
    "\n",
    "** Tables **\n",
    "* ```list_tables()```\n",
    "* ```create_table()```\n",
    "* ```update_table```\n",
    "* ```delete_table()```\n",
    "* ```describe_table()```\n",
    "\n",
    "** Items **\n",
    "* ```get_item()```\n",
    "* ```batch_get_item()```\n",
    "* ```put_item()```\n",
    "* ```batch_write_item()```\n",
    "* ```delete_item()```\n",
    "\n",
    "** Queries **\n",
    "* ```query()```\n",
    "* ```scan()```"
   ]
  },
  {
   "cell_type": "markdown",
   "metadata": {},
   "source": [
    "### Resource\n",
    "**Description:** A resource representing Amazon DynamoDB."
   ]
  },
  {
   "cell_type": "markdown",
   "metadata": {},
   "source": [
    "**Methods available**\n",
    "* ```batch_get_item()```\n",
    "* ```batch_write_item()```\n",
    "* ```create_table()```\n",
    "\n",
    "** Sub-resources **\n",
    "* ```Table()``` - a Table resource\n",
    "\n",
    "** Collections **\n",
    "* ```tables``` - a collection of Table resources"
   ]
  },
  {
   "cell_type": "markdown",
   "metadata": {},
   "source": [
    "### ```Table```\n",
    "**Description:**\n",
    "A ```Table``` resource.\n",
    "\n",
    "**Parameters**\n",
    "* name(string) - The table's name identifier. This **must** be set.\n",
    "\n",
    "**Attributes**\n",
    "* ```attribute_definitions```\n",
    "* ```creation_date_time```\n",
    "* ```global_secondary_indexes```\n",
    "* ```item_count```\n",
    "* ```key_schema```\n",
    "* ```latest_stream_arn```\n",
    "* ```local_secondary_indexes```\n",
    "* ```provisioned_throughput```\n",
    "* ```stream_specification```\n",
    "* ```table_arn```\n",
    "* ```table_name```\n",
    "* ```table_size_bytes```\n",
    "* ```table_status```\n",
    "\n",
    "**Methods available**\n",
    "* ```get_item()```\n",
    "* ```put_item()```\n",
    "* ```batch_writer()```\n",
    "* ```delete()```\n",
    "* ```delete_item()```\n",
    "* ```query()```\n",
    "* ```reload()```\n",
    "* ```scan()```\n",
    "* ```update()```\n",
    "* ```update_item()```\n"
   ]
  },
  {
   "cell_type": "markdown",
   "metadata": {},
   "source": [
    "### ```tables```\n",
    "**Description:** A collection of ```Table``` resources.\n",
    "\n",
    "**Methods**\n",
    "* ```all()``` - iterable of Table resources in the collection\n",
    "* ```filter(**kwargs)``` - iterable of Table resources in the collection **filtered by ```kwargs```**\n",
    "* ```limit(**kwargs)``` - iterable **up to a specified amount** of Table resources in the collection\n",
    "* ```page_size(**kwargs)``` - iterable of all Table resources in the collection, but **limits the number of items returned** by each service call by the specified amount."
   ]
  },
  {
   "cell_type": "markdown",
   "metadata": {},
   "source": [
    "  "
   ]
  },
  {
   "cell_type": "markdown",
   "metadata": {
    "collapsed": true
   },
   "source": [
    "## Connecting to DynamoDB"
   ]
  },
  {
   "cell_type": "code",
   "execution_count": 3,
   "metadata": {
    "collapsed": false
   },
   "outputs": [
    {
     "data": {
      "text/plain": [
       "<botocore.client.DynamoDB at 0x10772d850>"
      ]
     },
     "execution_count": 3,
     "metadata": {},
     "output_type": "execute_result"
    }
   ],
   "source": [
    "dynamodb_client = boto3.client('dynamodb', endpoint_url=\"http://localhost:9090\")\n",
    "dynamodb_client"
   ]
  },
  {
   "cell_type": "markdown",
   "metadata": {},
   "source": [
    "  "
   ]
  },
  {
   "cell_type": "code",
   "execution_count": 4,
   "metadata": {
    "collapsed": false
   },
   "outputs": [
    {
     "data": {
      "text/plain": [
       "dynamodb.ServiceResource()"
      ]
     },
     "execution_count": 4,
     "metadata": {},
     "output_type": "execute_result"
    }
   ],
   "source": [
    "dynamodb_resource = boto3.resource('dynamodb', endpoint_url=\"http://localhost:9090\")\n",
    "dynamodb_resource"
   ]
  },
  {
   "cell_type": "markdown",
   "metadata": {},
   "source": [
    " "
   ]
  },
  {
   "cell_type": "markdown",
   "metadata": {},
   "source": [
    "## Creating / Deleting a table"
   ]
  },
  {
   "cell_type": "markdown",
   "metadata": {},
   "source": [
    "**Client**"
   ]
  },
  {
   "cell_type": "code",
   "execution_count": 5,
   "metadata": {
    "collapsed": false
   },
   "outputs": [
    {
     "name": "stdout",
     "output_type": "stream",
     "text": [
      "Table already exists.\n"
     ]
    },
    {
     "data": {
      "text/plain": [
       "{'ResponseMetadata': {'HTTPStatusCode': 200,\n",
       "  'RequestId': 'dc372f4c-4a75-42ef-9de8-98629a52701d'},\n",
       " u'TableNames': []}"
      ]
     },
     "execution_count": 5,
     "metadata": {},
     "output_type": "execute_result"
    }
   ],
   "source": [
    "from botocore.exceptions import ClientError\n",
    "\n",
    "try:\n",
    "    table = dynamodb_client.create_table(\n",
    "        TableName='Movies',\n",
    "        KeySchema=[\n",
    "            {\n",
    "                'AttributeName': 'year',\n",
    "                'KeyType': 'HASH'  #Partition key\n",
    "            },\n",
    "            {\n",
    "                'AttributeName': 'title',\n",
    "                'KeyType': 'RANGE'  #Sort key\n",
    "            }\n",
    "        ],\n",
    "        AttributeDefinitions=[\n",
    "            {\n",
    "                'AttributeName': 'year',\n",
    "                'AttributeType': 'N'\n",
    "            },\n",
    "            {\n",
    "                'AttributeName': 'title',\n",
    "                'AttributeType': 'S'\n",
    "            },\n",
    "\n",
    "        ],\n",
    "        ProvisionedThroughput={\n",
    "            'ReadCapacityUnits': 10,\n",
    "            'WriteCapacityUnits': 10\n",
    "        }\n",
    "    )\n",
    "except ClientError as e:\n",
    "    print \"Table already exists.\"\n",
    "    \n",
    "dynamodb_client.delete_table(TableName='Movies')\n",
    "dynamodb_client.list_tables()"
   ]
  },
  {
   "cell_type": "markdown",
   "metadata": {},
   "source": [
    "**Resource**"
   ]
  },
  {
   "cell_type": "code",
   "execution_count": 6,
   "metadata": {
    "collapsed": false
   },
   "outputs": [
    {
     "data": {
      "text/plain": [
       "dynamodb.Table(name='Movies')"
      ]
     },
     "execution_count": 6,
     "metadata": {},
     "output_type": "execute_result"
    }
   ],
   "source": [
    "from botocore.exceptions import ClientError\n",
    "\n",
    "try:\n",
    "    table = dynamodb_resource.create_table(\n",
    "        TableName='Movies',\n",
    "        KeySchema=[\n",
    "            {\n",
    "                'AttributeName': 'year',\n",
    "                'KeyType': 'HASH'  #Partition key\n",
    "            },\n",
    "            {\n",
    "                'AttributeName': 'title',\n",
    "                'KeyType': 'RANGE'  #Sort key\n",
    "            }\n",
    "        ],\n",
    "        AttributeDefinitions=[\n",
    "            {\n",
    "                'AttributeName': 'year',\n",
    "                'AttributeType': 'N'\n",
    "            },\n",
    "            {\n",
    "                'AttributeName': 'title',\n",
    "                'AttributeType': 'S'\n",
    "            },\n",
    "\n",
    "        ],\n",
    "        ProvisionedThroughput={\n",
    "            'ReadCapacityUnits': 10,\n",
    "            'WriteCapacityUnits': 10\n",
    "        }\n",
    "    )\n",
    "except ClientError as e:\n",
    "    print \"Table already exists.\"\n",
    "\n",
    "movies = dynamodb_resource.Table('Movies')\n",
    "movies\n",
    "# movies.delete()"
   ]
  },
  {
   "cell_type": "markdown",
   "metadata": {},
   "source": [
    "## Populating a table"
   ]
  },
  {
   "cell_type": "markdown",
   "metadata": {
    "collapsed": true
   },
   "source": [
    "**Load JSON Data**"
   ]
  },
  {
   "cell_type": "code",
   "execution_count": 7,
   "metadata": {
    "collapsed": false
   },
   "outputs": [
    {
     "name": "stdout",
     "output_type": "stream",
     "text": [
      "Adding movie: 2000 The Skulls\n",
      "Adding movie: 2012 Asterix et Obelix: Au service de Sa Majeste\n",
      "Adding movie: 2010 Lottery Ticket\n",
      "Adding movie: 1997 An American Werewolf in Paris\n",
      "Adding movie: 1955 The Night of the Hunter\n",
      "Adding movie: 1994 In the Mouth of Madness\n",
      "Adding movie: 2011 Wrong Turn 4: Bloody Beginnings\n",
      "Adding movie: 2002 Dirty Pretty Things\n",
      "Adding movie: 2006 Huo Yuan Jia\n",
      "Adding movie: 2013 Jimmy P.\n",
      "Adding movie: 1968 Where Eagles Dare\n",
      "Adding movie: 1999 Superstar\n",
      "Adding movie: 2008 Cadillac Records\n",
      "Adding movie: 2014 Jane Got a Gun\n",
      "Adding movie: 1995 First Knight\n",
      "Adding movie: 1984 Paris, Texas\n",
      "Adding movie: 2012 Come Out and Play\n",
      "Adding movie: 1986 The Money Pit\n",
      "Adding movie: 2007 A Mighty Heart\n",
      "Adding movie: 1985 European Vacation\n",
      "Adding movie: 2004 Anacondas: The Hunt for the Blood Orchid\n",
      "Adding movie: 2010 The Shrine\n",
      "Adding movie: 2013 In Fear\n",
      "Adding movie: 2013 20 Feet from Stardom\n",
      "Adding movie: 1990 Air America\n",
      "Adding movie: 2004 Garfield\n",
      "Adding movie: 1991 Bill & Ted's Bogus Journey\n",
      "Adding movie: 2004 The Alamo\n",
      "Adding movie: 2011 A Few Best Men\n",
      "Adding movie: 2012 Citadel\n",
      "Adding movie: 2002 High Crimes\n",
      "Adding movie: 2011 Starbuck\n",
      "Adding movie: 2012 A.C.A.B.: All Cops Are Bastards\n",
      "Adding movie: 2013 Gimme Shelter\n",
      "Adding movie: 2009 Mother and Child\n",
      "Adding movie: 2014 They Came Together\n",
      "Adding movie: 2010 Yip Man chinchyun\n",
      "Adding movie: 2010 Secretariat\n",
      "Adding movie: 2012 El Gringo\n",
      "Adding movie: 1995 Rob Roy\n",
      "Adding movie: 2008 Bottle Shock\n",
      "Adding movie: 1985 Lifeforce\n",
      "Adding movie: 2012 Jack and Diane\n",
      "Adding movie: 1987 Withnail & I\n",
      "Adding movie: 1993 Coneheads\n",
      "Adding movie: 2013 The Rover\n",
      "Adding movie: 2006 Unknown\n",
      "Adding movie: 2013 The Good Road\n",
      "Adding movie: 1996 Homeward Bound II: Lost in San Francisco\n",
      "Adding movie: 2006 Pulse\n",
      "Adding movie: 2005 The World's Fastest Indian\n",
      "Adding movie: 1981 The Cannonball Run\n",
      "Adding movie: 1996 Shine\n",
      "Adding movie: 2003 Ondskan\n",
      "Adding movie: 2009 Madea Goes to Jail\n",
      "Adding movie: 1996 The Arrival\n",
      "Adding movie: 1991 Out for Justice\n",
      "Adding movie: 2013 The Adventurer: The Curse of the Midas Box\n",
      "Adding movie: 1998 Disturbing Behavior\n",
      "Adding movie: 1969 Battle of Britain\n",
      "Adding movie: 2014 Mission: Blacklist\n",
      "Adding movie: 1998 The Players Club\n",
      "Adding movie: 2002 Stuart Little 2\n",
      "Adding movie: 2006 See No Evil\n",
      "Adding movie: 2007 The Visitor\n",
      "Adding movie: 1937 La grande illusion\n",
      "Adding movie: 2009 My One and Only\n",
      "Adding movie: 2005 The Matador\n",
      "Adding movie: 2010 My Name Is Khan\n"
     ]
    }
   ],
   "source": [
    "import json\n",
    "import decimal\n",
    "\n",
    "with open(\"files/moviedata.json\") as json_file:\n",
    "    movies = json.load(json_file, parse_float = decimal.Decimal)\n",
    "    for movie in movies:\n",
    "        year = movie['year']\n",
    "        title = movie['title']\n",
    "        info = movie['info']\n",
    "        print \"Adding movie:\", year, title\n",
    "        response = table.put_item(\n",
    "            Item={\n",
    "                'year': year,\n",
    "                'title':title,\n",
    "                'info': info,\n",
    "            }\n",
    "        )"
   ]
  },
  {
   "cell_type": "markdown",
   "metadata": {},
   "source": [
    "**Add item**"
   ]
  },
  {
   "cell_type": "code",
   "execution_count": 8,
   "metadata": {
    "collapsed": false
   },
   "outputs": [
    {
     "name": "stdout",
     "output_type": "stream",
     "text": [
      "PutItem succeeded:\n",
      "{\n",
      "    \"ResponseMetadata\": {\n",
      "        \"HTTPStatusCode\": 200, \n",
      "        \"RequestId\": \"d163324e-e799-4082-bd9d-876394948cac\"\n",
      "    }\n",
      "}\n"
     ]
    }
   ],
   "source": [
    "from __future__ import print_function # Python 2/3 compatibility\n",
    "import json\n",
    "import decimal\n",
    "\n",
    "# Helper class to convert a DynamoDB item to JSON.\n",
    "class DecimalEncoder(json.JSONEncoder):\n",
    "    def default(self, o):\n",
    "        if isinstance(o, decimal.Decimal):\n",
    "            if o % 1 > 0:\n",
    "                return float(o)\n",
    "            else:\n",
    "                return int(o)\n",
    "        return super(DecimalEncoder, self).default(o)\n",
    "\n",
    "dynamodb = boto3.resource('dynamodb',endpoint_url=\"http://localhost:9090\")\n",
    "\n",
    "table = dynamodb.Table('Movies')\n",
    "\n",
    "title = \"The Big New Movie\"\n",
    "year = 2015\n",
    "\n",
    "response = table.put_item( # will overwrite any item with the same keys.\n",
    "   Item={\n",
    "        'year': year,\n",
    "        'title': title,\n",
    "        'info': {\n",
    "            'plot':'Something happens.'\n",
    "        }\n",
    "    }\n",
    ")\n",
    "\n",
    "print(\"PutItem succeeded:\")\n",
    "print(json.dumps(response, indent=4, cls=DecimalEncoder))"
   ]
  },
  {
   "cell_type": "markdown",
   "metadata": {},
   "source": [
    "**Add item with condition**"
   ]
  },
  {
   "cell_type": "code",
   "execution_count": 9,
   "metadata": {
    "collapsed": false
   },
   "outputs": [
    {
     "name": "stdout",
     "output_type": "stream",
     "text": [
      "The conditional request failed\n"
     ]
    }
   ],
   "source": [
    "from __future__ import print_function # Python 2/3 compatibility\n",
    "from boto3.dynamodb.conditions import Key, Attr\n",
    "from botocore.exceptions import ClientError\n",
    "\n",
    "try:\n",
    "    table.put_item(\n",
    "        Item={\n",
    "            'year': year,\n",
    "            'title': title,\n",
    "            'info':{\n",
    "                'plot':\"Nothing happens at all.\",\n",
    "                'rating': decimal.Decimal(0)\n",
    "            }\n",
    "        },\n",
    "        ConditionExpression=Attr(\"year\").ne(year) & Attr(\"title\").ne(title)\n",
    "    )\n",
    "except ClientError as e:\n",
    "    if e.response['Error']['Code'] == \"ConditionalCheckFailedException\":\n",
    "        print(e.response['Error']['Message'])\n",
    "    else:\n",
    "        raise\n",
    "else:\n",
    "    print(\"PutItem succeeded:\")\n",
    "\n",
    "response = table.get_item(\n",
    "    Key={\n",
    "        'year': year,\n",
    "        'title': title\n",
    "    }\n",
    ")\n",
    "item = response['Item']"
   ]
  },
  {
   "cell_type": "markdown",
   "metadata": {},
   "source": [
    "**Update an item**"
   ]
  },
  {
   "cell_type": "code",
   "execution_count": 10,
   "metadata": {
    "collapsed": false
   },
   "outputs": [
    {
     "name": "stdout",
     "output_type": "stream",
     "text": [
      "PutItem succeeded:\n",
      "{\n",
      "    \"Attributes\": {\n",
      "        \"info\": {\n",
      "            \"plot\": \"Everything happens all at once.\", \n",
      "            \"actors\": [\n",
      "                \"Larry\", \n",
      "                \"Moe\", \n",
      "                \"Curly\"\n",
      "            ], \n",
      "            \"rating\": 5.5\n",
      "        }\n",
      "    }, \n",
      "    \"ResponseMetadata\": {\n",
      "        \"HTTPStatusCode\": 200, \n",
      "        \"RequestId\": \"4d84a89f-98c6-4a69-aa3d-b253614c88c6\"\n",
      "    }\n",
      "}\n"
     ]
    }
   ],
   "source": [
    "table = dynamodb.Table('Movies')\n",
    "\n",
    "title = \"The Big New Movie\"\n",
    "year = 2015\n",
    "\n",
    "response = table.update_item(\n",
    "    Key={\n",
    "        'year': year,\n",
    "        'title': title\n",
    "    },\n",
    "    UpdateExpression=\"set info.rating = :r, info.plot=:p, info.actors=:a\",\n",
    "    ExpressionAttributeValues={\n",
    "        ':r': decimal.Decimal(5.5),\n",
    "        ':p': \"Everything happens all at once.\",\n",
    "        ':a': [\"Larry\", \"Moe\", \"Curly\"]\n",
    "    },\n",
    "    ReturnValues=\"UPDATED_NEW\"\n",
    ")\n",
    "\n",
    "print(\"PutItem succeeded:\")\n",
    "print(json.dumps(response, indent=4, cls=DecimalEncoder))"
   ]
  },
  {
   "cell_type": "markdown",
   "metadata": {},
   "source": [
    "**Update an item with condition**"
   ]
  },
  {
   "cell_type": "code",
   "execution_count": 11,
   "metadata": {
    "collapsed": false
   },
   "outputs": [
    {
     "name": "stdout",
     "output_type": "stream",
     "text": [
      "Attempting conditional update...\n",
      "PutItem succeeded:\n",
      "{\n",
      "    \"Attributes\": {\n",
      "        \"info\": {\n",
      "            \"plot\": \"Everything happens all at once.\", \n",
      "            \"actors\": [\n",
      "                \"Moe\", \n",
      "                \"Curly\"\n",
      "            ], \n",
      "            \"rating\": 5.5\n",
      "        }\n",
      "    }, \n",
      "    \"ResponseMetadata\": {\n",
      "        \"HTTPStatusCode\": 200, \n",
      "        \"RequestId\": \"25101d64-c986-481c-b1b5-849a54be7325\"\n",
      "    }\n",
      "}\n"
     ]
    }
   ],
   "source": [
    "table = dynamodb.Table('Movies')\n",
    "\n",
    "title = \"The Big New Movie\"\n",
    "year = 2015\n",
    "\n",
    "# Conditional update (will fail)\n",
    "print(\"Attempting conditional update...\")\n",
    "\n",
    "try:\n",
    "    response = table.update_item(\n",
    "        Key={\n",
    "            'year': year,\n",
    "            'title': title\n",
    "        },\n",
    "        UpdateExpression=\"remove info.actors[0]\",\n",
    "        ConditionExpression=\"size(info.actors) >= :num\",\n",
    "        ExpressionAttributeValues={\n",
    "            ':num': 3\n",
    "        },\n",
    "        ReturnValues=\"UPDATED_NEW\"\n",
    "    )\n",
    "except ClientError as e:\n",
    "    if e.response['Error']['Code'] == \"ConditionalCheckFailedException\":\n",
    "        print(e.response['Error']['Message'])\n",
    "    else:\n",
    "        raise\n",
    "else:\n",
    "    print(\"PutItem succeeded:\")\n",
    "\n",
    "print(json.dumps(response, indent=4, cls=DecimalEncoder))"
   ]
  },
  {
   "cell_type": "markdown",
   "metadata": {},
   "source": [
    "**Delete an item**"
   ]
  },
  {
   "cell_type": "code",
   "execution_count": 12,
   "metadata": {
    "collapsed": false
   },
   "outputs": [
    {
     "name": "stdout",
     "output_type": "stream",
     "text": [
      "Attempting a conditional delete...\n",
      "The conditional request failed\n",
      "{\n",
      "    \"Attributes\": {\n",
      "        \"info\": {\n",
      "            \"plot\": \"Everything happens all at once.\", \n",
      "            \"actors\": [\n",
      "                \"Moe\", \n",
      "                \"Curly\"\n",
      "            ], \n",
      "            \"rating\": 5.5\n",
      "        }\n",
      "    }, \n",
      "    \"ResponseMetadata\": {\n",
      "        \"HTTPStatusCode\": 200, \n",
      "        \"RequestId\": \"25101d64-c986-481c-b1b5-849a54be7325\"\n",
      "    }\n",
      "}\n"
     ]
    }
   ],
   "source": [
    "table = dynamodb.Table('Movies')\n",
    "\n",
    "title = \"The Big New Movie\"\n",
    "year = 2015\n",
    "\n",
    "print(\"Attempting a conditional delete...\")\n",
    "\n",
    "try:\n",
    "    response = table.delete_item(\n",
    "        Key={\n",
    "            'year': year,\n",
    "            'title': title\n",
    "        },\n",
    "        ConditionExpression=\"info.rating <= :val\",\n",
    "        ExpressionAttributeValues= {\n",
    "            \":val\": decimal.Decimal(5)\n",
    "        }\n",
    "    )\n",
    "except ClientError as e:\n",
    "    if e.response['Error']['Code'] == \"ConditionalCheckFailedException\":\n",
    "        print(e.response['Error']['Message'])\n",
    "    else:\n",
    "        raise\n",
    "else:\n",
    "    print(\"PutItem succeeded:\")\n",
    "\n",
    "print(json.dumps(response, indent=4, cls=DecimalEncoder))"
   ]
  },
  {
   "cell_type": "markdown",
   "metadata": {},
   "source": [
    "## Querying data from a table"
   ]
  },
  {
   "cell_type": "markdown",
   "metadata": {},
   "source": [
    "**Query: All movies released in a year**"
   ]
  },
  {
   "cell_type": "code",
   "execution_count": 13,
   "metadata": {
    "collapsed": false
   },
   "outputs": [
    {
     "name": "stdout",
     "output_type": "stream",
     "text": [
      "Movies from 1985\n",
      "1985 : European Vacation\n",
      "1985 : Lifeforce\n"
     ]
    }
   ],
   "source": [
    "table = dynamodb.Table('Movies')\n",
    "\n",
    "print(\"Movies from 1985\")\n",
    "\n",
    "response = table.query(\n",
    "    KeyConditionExpression=Key('year').eq(1985)\n",
    ")\n",
    "\n",
    "for i in response['Items']:\n",
    "    print(i['year'], \":\", i['title'])"
   ]
  },
  {
   "cell_type": "markdown",
   "metadata": {},
   "source": [
    "**Query: All movies released in a year with certain titles**"
   ]
  },
  {
   "cell_type": "code",
   "execution_count": 14,
   "metadata": {
    "collapsed": false
   },
   "outputs": [
    {
     "name": "stdout",
     "output_type": "stream",
     "text": [
      "Movies from 1992 - titles A-L, with genres and lead actor\n",
      "{\"info\": {\"genres\": [\"Adventure\", \"Comedy\", \"Romance\"], \"actors\": [\"Chevy Chase\"]}, \"year\": 1985, \"title\": \"European Vacation\"}\n"
     ]
    }
   ],
   "source": [
    "table = dynamodb.Table('Movies')\n",
    "\n",
    "print(\"Movies from 1992 - titles A-L, with genres and lead actor\")\n",
    "\n",
    "response = table.query(\n",
    "    ProjectionExpression=\"#yr, title, info.genres, info.actors[0]\",\n",
    "    ExpressionAttributeNames={ \"#yr\": \"year\" }, # Expression Attribute Names for Projection Expression only.\n",
    "    KeyConditionExpression=Key('year').eq(1985) & Key('title').between('A', 'L')\n",
    ")\n",
    "\n",
    "for i in response[u'Items']:\n",
    "    print(json.dumps(i, cls=DecimalEncoder))"
   ]
  },
  {
   "cell_type": "markdown",
   "metadata": {},
   "source": [
    "**Scan**"
   ]
  },
  {
   "cell_type": "code",
   "execution_count": 15,
   "metadata": {
    "collapsed": false
   },
   "outputs": [
    {
     "name": "stdout",
     "output_type": "stream",
     "text": [
      "{\"info\": {\"rating\": 8.1}, \"year\": 1955, \"title\": \"The Night of the Hunter\"}\n"
     ]
    }
   ],
   "source": [
    "table = dynamodb.Table('Movies')\n",
    "\n",
    "fe = Key('year').between(1950, 1959);\n",
    "pe = \"#yr, title, info.rating\"\n",
    "# Expression Attribute Names for Projection Expression only.\n",
    "ean = { \"#yr\": \"year\", }\n",
    "esk = None\n",
    "\n",
    "\n",
    "response = table.scan(\n",
    "    FilterExpression=fe,\n",
    "    ProjectionExpression=pe,\n",
    "    ExpressionAttributeNames=ean\n",
    "    )\n",
    "\n",
    "for i in response['Items']:\n",
    "    print(json.dumps(i, cls=DecimalEncoder))\n",
    "\n",
    "while 'LastEvaluatedKey' in response:\n",
    "    response = table.scan(\n",
    "        ProjectionExpression=pe,\n",
    "        FilterExpression=fe,\n",
    "        ExpressionAttributeNames= ean,\n",
    "        ExclusiveStartKey=response['LastEvaluatedKey']\n",
    "        )\n",
    "\n",
    "    for i in response['Items']:\n",
    "        print(json.dumps(i, cls=DecimalEncoder))"
   ]
  },
  {
   "cell_type": "markdown",
   "metadata": {},
   "source": [
    "  "
   ]
  },
  {
   "cell_type": "markdown",
   "metadata": {},
   "source": [
    "# Exercise: Parse a switch record and output to MySQL / DynamoDB"
   ]
  },
  {
   "cell_type": "code",
   "execution_count": null,
   "metadata": {
    "collapsed": true
   },
   "outputs": [],
   "source": []
  },
  {
   "cell_type": "code",
   "execution_count": null,
   "metadata": {
    "collapsed": true
   },
   "outputs": [],
   "source": []
  },
  {
   "cell_type": "code",
   "execution_count": null,
   "metadata": {
    "collapsed": true
   },
   "outputs": [],
   "source": []
  }
 ],
 "metadata": {
  "kernelspec": {
   "display_name": "Python 2",
   "language": "python",
   "name": "python2"
  },
  "language_info": {
   "codemirror_mode": {
    "name": "ipython",
    "version": 2
   },
   "file_extension": ".py",
   "mimetype": "text/x-python",
   "name": "python",
   "nbconvert_exporter": "python",
   "pygments_lexer": "ipython2",
   "version": "2.7.10"
  }
 },
 "nbformat": 4,
 "nbformat_minor": 0
}
