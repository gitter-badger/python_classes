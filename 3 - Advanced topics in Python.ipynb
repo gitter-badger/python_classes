{
 "cells": [
  {
   "cell_type": "markdown",
   "metadata": {},
   "source": [
    "# JSON / XML Parsing"
   ]
  },
  {
   "cell_type": "markdown",
   "metadata": {},
   "source": [
    "## JSON Parsing"
   ]
  },
  {
   "cell_type": "code",
   "execution_count": 2,
   "metadata": {
    "collapsed": true
   },
   "outputs": [],
   "source": [
    "# importing the Python json library\n",
    "import json"
   ]
  },
  {
   "cell_type": "markdown",
   "metadata": {},
   "source": [
    "### Importing JSON to Dict { }"
   ]
  },
  {
   "cell_type": "markdown",
   "metadata": {},
   "source": [
    "**From string**"
   ]
  },
  {
   "cell_type": "code",
   "execution_count": 3,
   "metadata": {
    "collapsed": false
   },
   "outputs": [
    {
     "data": {
      "text/plain": [
       "'{\"first_name\": \"Guido\", \"last_name\":\"Rossum\"}'"
      ]
     },
     "execution_count": 3,
     "metadata": {},
     "output_type": "execute_result"
    }
   ],
   "source": [
    "# Example string\n",
    "json_string = '{\"first_name\": \"Guido\", \"last_name\":\"Rossum\"}'\n",
    "json_string"
   ]
  },
  {
   "cell_type": "code",
   "execution_count": 4,
   "metadata": {
    "collapsed": false
   },
   "outputs": [
    {
     "data": {
      "text/plain": [
       "{u'first_name': u'Guido', u'last_name': u'Rossum'}"
      ]
     },
     "execution_count": 4,
     "metadata": {},
     "output_type": "execute_result"
    }
   ],
   "source": [
    "parsed_json = json.loads(json_string)\n",
    "parsed_json"
   ]
  },
  {
   "cell_type": "markdown",
   "metadata": {},
   "source": [
    "**From file**"
   ]
  },
  {
   "cell_type": "code",
   "execution_count": 5,
   "metadata": {
    "collapsed": false
   },
   "outputs": [],
   "source": [
    "# %load files/example.json"
   ]
  },
  {
   "cell_type": "code",
   "execution_count": 6,
   "metadata": {
    "collapsed": false
   },
   "outputs": [
    {
     "data": {
      "text/plain": [
       "{u'glossary': {u'GlossDiv': {u'GlossList': {u'GlossEntry': {u'Abbrev': u'ISO 8879:1986',\n",
       "     u'Acronym': u'SGML',\n",
       "     u'GlossDef': {u'GlossSeeAlso': [u'GML', u'XML'],\n",
       "      u'para': u'A meta-markup language, used to create markup languages such as DocBook.'},\n",
       "     u'GlossSee': u'markup',\n",
       "     u'GlossTerm': u'Standard Generalized Markup Language',\n",
       "     u'ID': u'SGML',\n",
       "     u'SortAs': u'SGML'}},\n",
       "   u'title': u'S'},\n",
       "  u'title': u'example glossary'}}"
      ]
     },
     "execution_count": 6,
     "metadata": {},
     "output_type": "execute_result"
    }
   ],
   "source": [
    "with open('files/example.json', 'r') as f:\n",
    "    content = f.read()\n",
    "\n",
    "parsed_json = json.loads(content)\n",
    "parsed_json"
   ]
  },
  {
   "cell_type": "markdown",
   "metadata": {},
   "source": [
    "### Exporting Dict { } to JSON"
   ]
  },
  {
   "cell_type": "code",
   "execution_count": 7,
   "metadata": {
    "collapsed": false
   },
   "outputs": [
    {
     "data": {
      "text/plain": [
       "{'first_name': 'Guido',\n",
       " 'second_name': 'Rossum',\n",
       " 'titles': ['BDFL', 'Developer']}"
      ]
     },
     "execution_count": 7,
     "metadata": {},
     "output_type": "execute_result"
    }
   ],
   "source": [
    "# Example dict\n",
    "d = { 'first_name': 'Guido',\n",
    "      'second_name': 'Rossum',\n",
    "      'titles': ['BDFL', 'Developer'],\n",
    "    }\n",
    "d"
   ]
  },
  {
   "cell_type": "code",
   "execution_count": 8,
   "metadata": {
    "collapsed": false
   },
   "outputs": [
    {
     "data": {
      "text/plain": [
       "'{\"first_name\": \"Guido\", \"titles\": [\"BDFL\", \"Developer\"], \"second_name\": \"Rossum\"}'"
      ]
     },
     "execution_count": 8,
     "metadata": {},
     "output_type": "execute_result"
    }
   ],
   "source": [
    "json_string = json.dumps(d)\n",
    "json_string"
   ]
  },
  {
   "cell_type": "markdown",
   "metadata": {},
   "source": [
    "  "
   ]
  },
  {
   "cell_type": "markdown",
   "metadata": {
    "collapsed": true
   },
   "source": [
    "## XML Parsing"
   ]
  },
  {
   "cell_type": "code",
   "execution_count": 9,
   "metadata": {
    "collapsed": true
   },
   "outputs": [],
   "source": [
    "import xml.etree.ElementTree as ET"
   ]
  },
  {
   "cell_type": "markdown",
   "metadata": {},
   "source": [
    "### Importing XML to ElementTree"
   ]
  },
  {
   "cell_type": "markdown",
   "metadata": {},
   "source": [
    "**From string**"
   ]
  },
  {
   "cell_type": "code",
   "execution_count": 10,
   "metadata": {
    "collapsed": false
   },
   "outputs": [
    {
     "data": {
      "text/plain": [
       "'<catalog>\\n   <book id=\"bk101\">\\n      <author>Gambardella, Matthew</author>\\n      <title>XML Developer\\'s Guide</title>\\n      <genre>Computer</genre>\\n   </book>\\n</catalog>'"
      ]
     },
     "execution_count": 10,
     "metadata": {},
     "output_type": "execute_result"
    }
   ],
   "source": [
    "# Example string\n",
    "xml_string = \"\"\"<catalog>\n",
    "   <book id=\"bk101\">\n",
    "      <author>Gambardella, Matthew</author>\n",
    "      <title>XML Developer's Guide</title>\n",
    "      <genre>Computer</genre>\n",
    "   </book>\n",
    "</catalog>\"\"\"\n",
    "xml_string"
   ]
  },
  {
   "cell_type": "code",
   "execution_count": 11,
   "metadata": {
    "collapsed": false
   },
   "outputs": [
    {
     "name": "stdout",
     "output_type": "stream",
     "text": [
      "catalog\n",
      "{}\n"
     ]
    }
   ],
   "source": [
    "root = ET.fromstring(xml_string)\n",
    "print root.tag\n",
    "print root.attrib"
   ]
  },
  {
   "cell_type": "markdown",
   "metadata": {},
   "source": [
    "**From file**"
   ]
  },
  {
   "cell_type": "code",
   "execution_count": 12,
   "metadata": {
    "collapsed": false
   },
   "outputs": [],
   "source": [
    "# %load files/example.xml"
   ]
  },
  {
   "cell_type": "code",
   "execution_count": 13,
   "metadata": {
    "collapsed": false
   },
   "outputs": [
    {
     "name": "stdout",
     "output_type": "stream",
     "text": [
      "catalog\n",
      "{}\n"
     ]
    }
   ],
   "source": [
    "tree = ET.parse('files/example.xml')\n",
    "root = tree.getroot()\n",
    "print root.tag\n",
    "print root.attrib"
   ]
  },
  {
   "cell_type": "markdown",
   "metadata": {},
   "source": [
    "### Exporting ElementTree to XML"
   ]
  },
  {
   "cell_type": "code",
   "execution_count": 14,
   "metadata": {
    "collapsed": false
   },
   "outputs": [],
   "source": [
    "tree.write(\"files/example_output.xml\")"
   ]
  },
  {
   "cell_type": "code",
   "execution_count": 15,
   "metadata": {
    "collapsed": true
   },
   "outputs": [],
   "source": [
    "# %load files/example_output.xml"
   ]
  },
  {
   "cell_type": "markdown",
   "metadata": {},
   "source": [
    "### Getting items"
   ]
  },
  {
   "cell_type": "code",
   "execution_count": 16,
   "metadata": {
    "collapsed": false
   },
   "outputs": [
    {
     "name": "stdout",
     "output_type": "stream",
     "text": [
      "catalog\n",
      "{}\n",
      "\n",
      "   \n",
      "\tbook {'id': 'bk101'} \n",
      "      \n",
      "\t\tauthor {} Gambardella, Matthew\n",
      "\t\ttitle {} XML Developer's Guide\n",
      "\t\tgenre {} Computer\n",
      "\t\tprice {} 44.95\n",
      "\t\tpublish_date {} 2000-10-01\n",
      "\t\tdescription {} An in-depth look at creating applications\n",
      "      with XML.\n",
      "\n",
      "\tbook {'id': 'bk103'} \n",
      "      \n",
      "\t\tauthor {} Corets, Eva\n",
      "\t\ttitle {} Maeve Ascendant\n",
      "\t\tgenre {} Fantasy\n",
      "\t\tprice {} 5.95\n",
      "\t\tpublish_date {} 2000-11-17\n",
      "\t\tdescription {} After the collapse of a nanotechnology\n",
      "      society in England, the young survivors lay the\n",
      "      foundation for a new society.\n",
      "\n",
      "\tbook {'id': 'bk109'} \n",
      "      \n",
      "\t\tauthor {} Kress, Peter\n",
      "\t\ttitle {} Paradox Lost\n",
      "\t\tgenre {} Science Fiction\n",
      "\t\tprice {} 6.95\n",
      "\t\tpublish_date {} 2000-11-02\n",
      "\t\tdescription {} After an inadvertant trip through a Heisenberg\n",
      "      Uncertainty Device, James Salway discovers the problems\n",
      "      of being quantum.\n",
      "\n",
      "[<Element 'book' at 0x104d22090>, <Element 'book' at 0x104d22b50>, <Element 'book' at 0x104d22d10>]\n",
      "<Element 'catalog' at 0x104d228d0>\n"
     ]
    }
   ],
   "source": [
    "# Each XML element contains a tag, an attribute (optional), a text and a list of childs\n",
    "# XML Element: <tag attr:attr_value> text </tag>\n",
    "\n",
    "print root.tag            # tag    : name of XML element\n",
    "print root.attrib         # attrib : attribute of XML element\n",
    "print root.text           # text   : content of XML element\n",
    "for child in root: # loop through all subchildrens\n",
    "    print \"\\t\", child.tag, child.attrib, child.text\n",
    "    for subchild in child:\n",
    "        print \"\\t\\t\", subchild.tag, subchild.attrib, subchild.text\n",
    "    print\n",
    "    \n",
    "children = list(root)     #Get children\n",
    "\n",
    "print children\n",
    "print root"
   ]
  },
  {
   "cell_type": "code",
   "execution_count": 17,
   "metadata": {
    "collapsed": false
   },
   "outputs": [
    {
     "name": "stdout",
     "output_type": "stream",
     "text": [
      "XML Developer's Guide\n",
      "Maeve Ascendant\n",
      "Paradox Lost\n"
     ]
    }
   ],
   "source": [
    "# iter('element_tag') - search all subtrees\n",
    "for title in root.iter('title'): \n",
    "    print title.text"
   ]
  },
  {
   "cell_type": "code",
   "execution_count": 18,
   "metadata": {
    "collapsed": false
   },
   "outputs": [
    {
     "name": "stdout",
     "output_type": "stream",
     "text": [
      "ID  bk101\n",
      "title XML Developer's Guide\n",
      "author Gambardella, Matthew\n",
      "genre Computer\n",
      "price 44.95\n",
      "publish_date 2000-10-01\n",
      "description An in-depth look at creating applications\n",
      "      with XML.\n",
      "\n",
      "ID  bk103\n",
      "title Maeve Ascendant\n",
      "author Corets, Eva\n",
      "genre Fantasy\n",
      "price 5.95\n",
      "publish_date 2000-11-17\n",
      "description After the collapse of a nanotechnology\n",
      "      society in England, the young survivors lay the\n",
      "      foundation for a new society.\n",
      "\n",
      "ID  bk109\n",
      "title Paradox Lost\n",
      "author Kress, Peter\n",
      "genre Science Fiction\n",
      "price 6.95\n",
      "publish_date 2000-11-02\n",
      "description After an inadvertant trip through a Heisenberg\n",
      "      Uncertainty Device, James Salway discovers the problems\n",
      "      of being quantum.\n",
      "\n"
     ]
    }
   ],
   "source": [
    "# findall('element_tag') - get direct childs of parent\n",
    "for book in root.findall('book'):\n",
    "    # Get items\n",
    "    book_id = book.get('id')          # Get attribute 'id' of 'book' element\n",
    "    title = book.find('title')        # Get first child named 'title'\n",
    "    author = book.find('author')\n",
    "    genre = book.find('genre')\n",
    "    price = book.find('price')\n",
    "    pdate = book.find('publish_date')\n",
    "    descr = book.find('description')\n",
    "    \n",
    "    # Print items\n",
    "    print \"ID \", book_id\n",
    "    print title.tag, title.text\n",
    "    print author.tag, author.text\n",
    "    print genre.tag, genre.text\n",
    "    print price.tag, price.text\n",
    "    print pdate.tag, pdate.text\n",
    "    print descr.tag, descr.text\n",
    "    print"
   ]
  },
  {
   "cell_type": "code",
   "execution_count": 19,
   "metadata": {
    "collapsed": false
   },
   "outputs": [
    {
     "name": "stdout",
     "output_type": "stream",
     "text": [
      "<Element 'author' at 0x104d22950>\n",
      "<Element 'title' at 0x104d229d0>\n",
      "<Element 'genre' at 0x104d22a50>\n",
      "<Element 'price' at 0x104d22a90>\n",
      "<Element 'publish_date' at 0x104d22ad0>\n",
      "<Element 'description' at 0x104d22b10>\n"
     ]
    }
   ],
   "source": [
    "# find('element_tag') - finds first child with tag\n",
    "for book_content in root.find('book'):\n",
    "    print book_content"
   ]
  },
  {
   "cell_type": "markdown",
   "metadata": {},
   "source": [
    "### Modifying items"
   ]
  },
  {
   "cell_type": "code",
   "execution_count": 20,
   "metadata": {
    "collapsed": false
   },
   "outputs": [
    {
     "name": "stdout",
     "output_type": "stream",
     "text": [
      "45.95 {'increased': 'yes'}\n",
      "6.95 {'increased': 'yes'}\n",
      "7.95 {'increased': 'yes'}\n"
     ]
    }
   ],
   "source": [
    "# set('attribute', 'attribute_value')\n",
    "for price in root.iter('price'):\n",
    "    price.text = str(float(price.text) + 1)\n",
    "    price.set('increased', 'yes')\n",
    "    print price.text, price.attrib"
   ]
  },
  {
   "cell_type": "code",
   "execution_count": 21,
   "metadata": {
    "collapsed": true
   },
   "outputs": [],
   "source": [
    "# Create new element\n",
    "new_book = ET.Element('book', {'id': 'bk113'})\n",
    "new_book.text = \"\\n\"\n",
    "                      \n",
    "# Create sub elements\n",
    "author = ET.SubElement(new_book, 'author')\n",
    "title = ET.SubElement(new_book, 'title')\n",
    "genre = ET.SubElement(new_book, 'genre')\n",
    "price = ET.SubElement(new_book, 'price')\n",
    "pdate = ET.SubElement(new_book, 'publish_date')\n",
    "descr = ET.SubElement(new_book, 'description')\n",
    "\n",
    "# Populate sub elements\n",
    "author.text = \"J.K Rowlings\"\n",
    "title.text = \"Harry Potter and the Sorcerer's Stone\"\n",
    "genre.text = \"Fantasy\"\n",
    "price.text = \"31.50\"\n",
    "pdate.text = \"2001-10-16\"\n",
    "descr.text = \"A very nice fantasy book.\"\n",
    "\n",
    "# Add element to existing tree\n",
    "root.append(new_book)\n",
    "\n",
    "# ET.dump(new_book)"
   ]
  },
  {
   "cell_type": "code",
   "execution_count": 22,
   "metadata": {
    "collapsed": true
   },
   "outputs": [],
   "source": [
    "# A ten times nicer way of doing it (focus on what matters)\n",
    "\n",
    "def create_new_ET(element_name, attributes={}, elements={}):\n",
    "    book = ET.Element('book', attributes)\n",
    "    for key in elements:\n",
    "        new_elem = ET.SubElement(book, key)\n",
    "        new_elem.text = elements[key]\n",
    "    return book\n",
    "\n",
    "# Create new element\n",
    "name     = 'book'\n",
    "attr     = {'id': \"bk114\"}\n",
    "elements = {'author': \"J.K Rowlings\",\n",
    "            'title': \"Harry Potter and the Chamber of Secrets\",\n",
    "            'genre': \"Fantasy\",\n",
    "            'price': \"35.50\",\n",
    "            'publish_date': \"2002-10-15\",\n",
    "            'description': \"The second volume of a very nice fantasy book.\"}\n",
    "new_book = create_new_ET(name, attr, elements)\n",
    "\n",
    "# Append to existing tree\n",
    "root.append(new_book)\n",
    "\n",
    "# ET.dump(root)"
   ]
  },
  {
   "cell_type": "markdown",
   "metadata": {},
   "source": [
    "  "
   ]
  },
  {
   "cell_type": "markdown",
   "metadata": {},
   "source": [
    "## Bonus: Pretty Print and Conversion"
   ]
  },
  {
   "cell_type": "markdown",
   "metadata": {},
   "source": [
    "### Pretty Print"
   ]
  },
  {
   "cell_type": "code",
   "execution_count": 43,
   "metadata": {
    "collapsed": false
   },
   "outputs": [
    {
     "name": "stdout",
     "output_type": "stream",
     "text": [
      "<catalog>\n",
      "  <book id=\"bk101\">\n",
      "    <author>Gambardella, Matthew</author>\n",
      "    <title>XML Developer's Guide</title>\n",
      "    <genre>Computer</genre>\n",
      "    <price increased=\"yes\">45.95</price>\n",
      "    <publish_date>2000-10-01</publish_date>\n",
      "    <description>An in-depth look at creating applications\n",
      "      with XML.</description>\n",
      "  </book>\n",
      "  <book id=\"bk103\">\n",
      "    <author>Corets, Eva</author>\n",
      "    <title>Maeve Ascendant</title>\n",
      "    <genre>Fantasy</genre>\n",
      "    <price increased=\"yes\">6.95</price>\n",
      "    <publish_date>2000-11-17</publish_date>\n",
      "    <description>After the collapse of a nanotechnology\n",
      "      society in England, the young survivors lay the\n",
      "      foundation for a new society.</description>\n",
      "  </book>\n",
      "  <book id=\"bk109\">\n",
      "    <author>Kress, Peter</author>\n",
      "    <title>Paradox Lost</title>\n",
      "    <genre>Science Fiction</genre>\n",
      "    <price increased=\"yes\">7.95</price>\n",
      "    <publish_date>2000-11-02</publish_date>\n",
      "    <description>After an inadvertant trip through a Heisenberg\n",
      "      Uncertainty Device, James Salway discovers the problems\n",
      "      of being quantum.</description>\n",
      "  </book>\n",
      "  <book id=\"bk113\">\n",
      "    <author>J.K Rowlings</author>\n",
      "    <title>Harry Potter and the Sorcerer's Stone</title>\n",
      "    <genre>Fantasy</genre>\n",
      "    <price>31.50</price>\n",
      "    <publish_date>2001-10-16</publish_date>\n",
      "    <description>A very nice fantasy book.</description>\n",
      "  </book>\n",
      "  <book id=\"bk114\">\n",
      "    <description>The second volume of a very nice fantasy book.</description>\n",
      "    <title>Harry Potter and the Chamber of Secrets</title>\n",
      "    <price>35.50</price>\n",
      "    <author>J.K Rowlings</author>\n",
      "    <publish_date>2002-10-15</publish_date>\n",
      "    <genre>Fantasy</genre>\n",
      "  </book>\n",
      "</catalog>\n"
     ]
    }
   ],
   "source": [
    "def indent(elem, level=0):\n",
    "    i = \"\\n\" + level*\"  \"\n",
    "    if len(elem):\n",
    "        if not elem.text or not elem.text.strip():\n",
    "            elem.text = i + \"  \"\n",
    "        if not elem.tail or not elem.tail.strip():\n",
    "            elem.tail = i\n",
    "        for elem in elem:\n",
    "            indent(elem, level+1)\n",
    "        if not elem.tail or not elem.tail.strip():\n",
    "            elem.tail = i\n",
    "    else:\n",
    "        if level and (not elem.tail or not elem.tail.strip()):\n",
    "            elem.tail = i\n",
    "            \n",
    "indent(root)\n",
    "tree.write(\"files/example_output.xml\")\n",
    "ET.dump(tree)"
   ]
  },
  {
   "cell_type": "code",
   "execution_count": 24,
   "metadata": {
    "collapsed": true
   },
   "outputs": [],
   "source": [
    "# %load files/example_output.xml"
   ]
  },
  {
   "cell_type": "markdown",
   "metadata": {},
   "source": [
    "### Etree to Dict { }"
   ]
  },
  {
   "cell_type": "code",
   "execution_count": 25,
   "metadata": {
    "collapsed": true
   },
   "outputs": [],
   "source": [
    "from collections import defaultdict\n",
    "\n",
    "def etree_to_dict(t):\n",
    "    d = {t.tag: {} if t.attrib else None}\n",
    "    children = list(t)\n",
    "    if children:\n",
    "        dd = defaultdict(list)\n",
    "        for dc in map(etree_to_dict, children):\n",
    "            for k, v in dc.iteritems():\n",
    "                dd[k].append(v)\n",
    "        d = {t.tag: {k:v[0] if len(v) == 1 else v for k, v in dd.iteritems()}}\n",
    "    if t.attrib:\n",
    "        d[t.tag].update(('@' + k, v) for k, v in t.attrib.iteritems())\n",
    "    if t.text:\n",
    "        text = t.text.strip()\n",
    "        if children or t.attrib:\n",
    "            if text:\n",
    "              d[t.tag]['#text'] = text\n",
    "        else:\n",
    "            d[t.tag] = text\n",
    "    return d"
   ]
  },
  {
   "cell_type": "code",
   "execution_count": 26,
   "metadata": {
    "collapsed": false
   },
   "outputs": [
    {
     "data": {
      "text/plain": [
       "{'catalog': {'book': [{'@id': 'bk101',\n",
       "    'author': 'Gambardella, Matthew',\n",
       "    'description': 'An in-depth look at creating applications\\n      with XML.',\n",
       "    'genre': 'Computer',\n",
       "    'price': {'#text': '45.95', '@increased': 'yes'},\n",
       "    'publish_date': '2000-10-01',\n",
       "    'title': \"XML Developer's Guide\"},\n",
       "   {'@id': 'bk103',\n",
       "    'author': 'Corets, Eva',\n",
       "    'description': 'After the collapse of a nanotechnology\\n      society in England, the young survivors lay the\\n      foundation for a new society.',\n",
       "    'genre': 'Fantasy',\n",
       "    'price': {'#text': '6.95', '@increased': 'yes'},\n",
       "    'publish_date': '2000-11-17',\n",
       "    'title': 'Maeve Ascendant'},\n",
       "   {'@id': 'bk109',\n",
       "    'author': 'Kress, Peter',\n",
       "    'description': 'After an inadvertant trip through a Heisenberg\\n      Uncertainty Device, James Salway discovers the problems\\n      of being quantum.',\n",
       "    'genre': 'Science Fiction',\n",
       "    'price': {'#text': '7.95', '@increased': 'yes'},\n",
       "    'publish_date': '2000-11-02',\n",
       "    'title': 'Paradox Lost'},\n",
       "   {'@id': 'bk113',\n",
       "    'author': 'J.K Rowlings',\n",
       "    'description': 'A very nice fantasy book.',\n",
       "    'genre': 'Fantasy',\n",
       "    'price': '31.50',\n",
       "    'publish_date': '2001-10-16',\n",
       "    'title': \"Harry Potter and the Sorcerer's Stone\"},\n",
       "   {'@id': 'bk114',\n",
       "    'author': 'J.K Rowlings',\n",
       "    'description': 'The second volume of a very nice fantasy book.',\n",
       "    'genre': 'Fantasy',\n",
       "    'price': '35.50',\n",
       "    'publish_date': '2002-10-15',\n",
       "    'title': 'Harry Potter and the Chamber of Secrets'}]}}"
      ]
     },
     "execution_count": 26,
     "metadata": {},
     "output_type": "execute_result"
    }
   ],
   "source": [
    "d = etree_to_dict(root)\n",
    "d"
   ]
  },
  {
   "cell_type": "markdown",
   "metadata": {},
   "source": [
    "### Dict { } to Etree"
   ]
  },
  {
   "cell_type": "code",
   "execution_count": 27,
   "metadata": {
    "collapsed": false
   },
   "outputs": [],
   "source": [
    "def dict_to_etree(d):\n",
    "    def _to_etree(d, root):\n",
    "        if not d:\n",
    "            pass\n",
    "        elif isinstance(d, basestring):\n",
    "            root.text = d\n",
    "        elif isinstance(d, dict):\n",
    "            for k,v in d.items():\n",
    "                assert isinstance(k, basestring)\n",
    "                if k.startswith('#'):\n",
    "                    assert k == '#text' and isinstance(v, basestring)\n",
    "                    root.text = v\n",
    "                elif k.startswith('@'):\n",
    "                    assert isinstance(v, basestring)\n",
    "                    root.set(k[1:], v)\n",
    "                elif isinstance(v, list):\n",
    "                    for e in v:\n",
    "                        _to_etree(e, ET.SubElement(root, k))\n",
    "                else:\n",
    "                    _to_etree(v, ET.SubElement(root, k))\n",
    "        else: assert d == 'invalid type', (type(d), d)\n",
    "    assert isinstance(d, dict) and len(d) == 1\n",
    "    tag, body = next(iter(d.items()))\n",
    "    node = ET.Element(tag)\n",
    "    _to_etree(body, node)\n",
    "    return node"
   ]
  },
  {
   "cell_type": "code",
   "execution_count": 28,
   "metadata": {
    "collapsed": false
   },
   "outputs": [
    {
     "name": "stdout",
     "output_type": "stream",
     "text": [
      "<catalog>\n",
      "  <book id=\"bk101\">\n",
      "    <description>An in-depth look at creating applications\n",
      "      with XML.</description>\n",
      "    <author>Gambardella, Matthew</author>\n",
      "    <price increased=\"yes\">45.95</price>\n",
      "    <title>XML Developer's Guide</title>\n",
      "    <publish_date>2000-10-01</publish_date>\n",
      "    <genre>Computer</genre>\n",
      "  </book>\n",
      "  <book id=\"bk103\">\n",
      "    <description>After the collapse of a nanotechnology\n",
      "      society in England, the young survivors lay the\n",
      "      foundation for a new society.</description>\n",
      "    <author>Corets, Eva</author>\n",
      "    <price increased=\"yes\">6.95</price>\n",
      "    <title>Maeve Ascendant</title>\n",
      "    <publish_date>2000-11-17</publish_date>\n",
      "    <genre>Fantasy</genre>\n",
      "  </book>\n",
      "  <book id=\"bk109\">\n",
      "    <description>After an inadvertant trip through a Heisenberg\n",
      "      Uncertainty Device, James Salway discovers the problems\n",
      "      of being quantum.</description>\n",
      "    <author>Kress, Peter</author>\n",
      "    <price increased=\"yes\">7.95</price>\n",
      "    <title>Paradox Lost</title>\n",
      "    <publish_date>2000-11-02</publish_date>\n",
      "    <genre>Science Fiction</genre>\n",
      "  </book>\n",
      "  <book id=\"bk113\">\n",
      "    <description>A very nice fantasy book.</description>\n",
      "    <author>J.K Rowlings</author>\n",
      "    <price>31.50</price>\n",
      "    <title>Harry Potter and the Sorcerer's Stone</title>\n",
      "    <publish_date>2001-10-16</publish_date>\n",
      "    <genre>Fantasy</genre>\n",
      "  </book>\n",
      "  <book id=\"bk114\">\n",
      "    <description>The second volume of a very nice fantasy book.</description>\n",
      "    <title>Harry Potter and the Chamber of Secrets</title>\n",
      "    <price>35.50</price>\n",
      "    <author>J.K Rowlings</author>\n",
      "    <publish_date>2002-10-15</publish_date>\n",
      "    <genre>Fantasy</genre>\n",
      "  </book>\n",
      "</catalog>\n"
     ]
    }
   ],
   "source": [
    "t = dict_to_etree(d)\n",
    "indent(t)\n",
    "ET.dump(t)"
   ]
  },
  {
   "cell_type": "markdown",
   "metadata": {},
   "source": [
    "  "
   ]
  },
  {
   "cell_type": "markdown",
   "metadata": {},
   "source": [
    "## Exercise: Analyze XML file\n",
    "### Problem\n",
    "**Objectives:** \n",
    "- Extract Maven plugins information from ```base-corporate-pom```.\n",
    "- Add a new Maven plugin to ```base-corporate-pom```.\n",
    "- Write Maven plugins information to a new file ```files/pom_maven_plugins.xml```\n",
    "\n",
    "**Information:**\n",
    "\n",
    "- ```base-corporate-pom``` pom.xml is located in ```files/pom.xml```\n",
    "\n",
    "\n",
    "- XML plugin structure:\n",
    "```\n",
    "<project>\n",
    "    <!-- Plugin version -->\n",
    "    <properties>\n",
    "        <maven-surefire-plugin.version>2.12.4</maven-surefire-plugin.version>\n",
    "    </properties>\n",
    "    <!-- Plugin info -->\n",
    "    <build>\n",
    "        <pluginManagement>\n",
    "            <plugins>\n",
    "                <plugin>\n",
    "                    <groupId>org.apache.maven.plugin</groupId>\n",
    "                    <artifactId>maven-surefire-plugin</version>\n",
    "                    <version>$(maven-surefire-plugin.version)</version>\n",
    "                 </plugin>\n",
    "            </plugins>\n",
    "         </pluginManagement>\n",
    "    </build>\n",
    "</project>\n",
    "```\n",
    "- Some plugins don't have a ```<version>``` or a ```<groupId>``` tag. Print \"N/A\" when there is no tag.\n",
    "- All plugins have an ```<artifactId>``` tag.\n",
    "\n",
    "**Desired output:**\n",
    "\n",
    "maven-surefire\n",
    "\n",
    "    groupId: org.apache.maven.plugins\n",
    "    artifactId: maven-surefire-plugin\n",
    "    version: 2.12.4"
   ]
  },
  {
   "cell_type": "markdown",
   "metadata": {},
   "source": [
    "### Solution"
   ]
  },
  {
   "cell_type": "code",
   "execution_count": 29,
   "metadata": {
    "collapsed": false
   },
   "outputs": [
    {
     "name": "stdout",
     "output_type": "stream",
     "text": [
      "maven-surefire\n",
      "\tgroupId: org.apache.maven.plugins\n",
      "\tartifactId: maven-surefire-plugin\n",
      "\tversion: 2.12.4\n",
      "properties-maven\n",
      "\tgroupId: org.codehaus.mojo\n",
      "\tartifactId: properties-maven-plugin\n",
      "\tversion: 1.0-alpha-2\n",
      "maven-release\n",
      "\tgroupId: org.apache.maven.plugins\n",
      "\tartifactId: maven-release-plugin\n",
      "\tversion: 2.2.1\n",
      "maven-install\n",
      "\tgroupId: org.apache.maven.plugins\n",
      "\tartifactId: maven-install-plugin\n",
      "\tversion: 2.4\n",
      "maven-deploy\n",
      "\tgroupId: org.apache.maven.plugins\n",
      "\tartifactId: maven-deploy-plugin\n",
      "\tversion: 2.7\n",
      "versions-maven\n",
      "\tgroupId: org.codehaus.mojo\n",
      "\tartifactId: versions-maven-plugin\n",
      "\tversion: 2.1\n",
      "ccc-versions-maven\n",
      "\tgroupId: com.cccis.build.maven\n",
      "\tartifactId: ccc-versions-maven-plugin\n",
      "\tversion: 0.0.38\n",
      "oc4j-admin-maven\n",
      "\tgroupId: com.cccis.build.maven\n",
      "\tartifactId: oc4j-admin-maven-plugin\n",
      "\tversion: 0.0.37\n",
      "weblogic-maven\n",
      "\tgroupId: com.oracle.weblogic\n",
      "\tartifactId: weblogic-maven-plugin\n",
      "\tversion: 10.3.4\n",
      "wls-maven\n",
      "\tgroupId: com.oracle.weblogic\n",
      "\tartifactId: wls-maven-plugin\n",
      "\tversion: 12.1.1.0\n",
      "gmaven\n",
      "\tgroupId: org.codehaus.gmaven\n",
      "\tartifactId: gmaven-plugin\n",
      "\tversion: 1.3\n",
      "maven-enforcer\n",
      "\tgroupId: org.apache.maven.plugins\n",
      "\tartifactId: maven-enforcer-plugin\n",
      "\tversion: 1.2\n",
      "maven-eclipse\n",
      "\tgroupId: org.apache.maven.plugins\n",
      "\tartifactId: maven-eclipse-plugin\n",
      "\tversion: N/A\n",
      "lifecycle-mapping\n",
      "\tgroupId: org.eclipse.m2e\n",
      "\tartifactId: lifecycle-mapping\n",
      "\tversion: 1.0.0\n",
      "maven-site\n",
      "\tgroupId: org.apache.maven.plugins\n",
      "\tartifactId: maven-site-plugin\n",
      "\tversion: 3.3\n",
      "maven-assembly\n",
      "\tgroupId: N/A\n",
      "\tartifactId: maven-assembly-plugin\n",
      "\tversion: N/A\n",
      "deployment-maven\n",
      "\tgroupId: com.cccis.build.maven\n",
      "\tartifactId: deployment-maven-plugin\n",
      "\tversion: 0.0.41\n",
      "site-publish-helper\n",
      "\tgroupId: com.cccis.build.maven\n",
      "\tartifactId: site-publish-helper\n",
      "\tversion: 0.0.37\n",
      "maven-antrun\n",
      "\tgroupId: org.apache.maven.plugins\n",
      "\tartifactId: maven-antrun-plugin\n",
      "\tversion: 1.7\n"
     ]
    }
   ],
   "source": [
    "import xml.etree.ElementTree as ET\n",
    "\n",
    "root = ET.parse('files/pom.xml').getroot()\n",
    "\n",
    "# Variables\n",
    "plugin_dict = {}\n",
    "plugin_list = []\n",
    "base = \"{http://maven.apache.org/POM/4.0.0}\"\n",
    "\n",
    "# Find 'build' and 'properties' XML tags in root\n",
    "build = root.find(base + 'build')\n",
    "properties = root.find(base + 'properties')\n",
    "\n",
    "# Find 'pluginManagement' XML tag in 'build'\n",
    "pluginManagement = build.find(base + 'pluginManagement')\n",
    "\n",
    "# Find 'plugins' XML tag in 'pluginManagement'\n",
    "plugins = pluginManagement.find(base + 'plugins')\n",
    "\n",
    "# Populate plugin_list\n",
    "plugin_list = list(plugins)\n",
    "\n",
    "# Loop through plugins (of class ElementTree)\n",
    "for plugin in plugin_list:\n",
    "    \n",
    "        # Get  plugin information\n",
    "        artifactId_str = plugin.find(base + 'artifactId').text\n",
    "        name = artifactId_str.replace('-plugin', '')\n",
    "        \n",
    "        # Not all plugins have a groupId !\n",
    "        try:\n",
    "            groupId_str = plugin.find(base + 'groupId').text\n",
    "        except:\n",
    "            groupId_str = \"N/A\"\n",
    "        \n",
    "        # Not all plugins have a version !\n",
    "        try:\n",
    "            version_str = plugin.find(base + 'version').text\n",
    "            version_str = version_str[2:-1] # strip '$', '{', and '}' from version\n",
    "            version_str = properties.find(base + version_str).text\n",
    "        except:\n",
    "            version_str = \"N/A\"\n",
    "            \n",
    "        # Print plugin information\n",
    "        print artifactId_str.replace('-plugin', '')\n",
    "        print \"\\t\" + \"groupId: \" + groupId_str\n",
    "        print \"\\t\" + \"artifactId: \" + artifactId_str\n",
    "        print \"\\t\" + \"version: \" + version_str\n",
    "        \n",
    "        # Add plugin to dictionary\n",
    "        plugin_dict[name] = {'artifactId': artifactId_str,\n",
    "                             'groupId': groupId_str,\n",
    "                             'version': version_str\n",
    "                             }\n",
    "        \n",
    "        # Write dict to file:\n",
    "        with open('files/pom_maven_plugins_output.xml', 'w') as f:\n",
    "            for pname, sub in plugin_dict.iteritems():\n",
    "                f.write(pname + \"\\n\")\n",
    "                for k, v in sub.iteritems():\n",
    "                    f.write(\"\\t\" + k + \": \" + v + \"\\n\")"
   ]
  },
  {
   "cell_type": "markdown",
   "metadata": {},
   "source": [
    "### Solution 2 (improved)"
   ]
  },
  {
   "cell_type": "code",
   "execution_count": 30,
   "metadata": {
    "collapsed": false
   },
   "outputs": [
    {
     "name": "stdout",
     "output_type": "stream",
     "text": [
      "maven-surefire\n",
      "\tgroupId: org.apache.maven.plugins\n",
      "\tartifactId: maven-surefire-plugin\n",
      "\tversion: 2.12.4\n",
      "properties-maven\n",
      "\tgroupId: org.codehaus.mojo\n",
      "\tartifactId: properties-maven-plugin\n",
      "\tversion: 1.0-alpha-2\n",
      "maven-release\n",
      "\tgroupId: org.apache.maven.plugins\n",
      "\tartifactId: maven-release-plugin\n",
      "\tversion: 2.2.1\n",
      "maven-install\n",
      "\tgroupId: org.apache.maven.plugins\n",
      "\tartifactId: maven-install-plugin\n",
      "\tversion: 2.4\n",
      "maven-deploy\n",
      "\tgroupId: org.apache.maven.plugins\n",
      "\tartifactId: maven-deploy-plugin\n",
      "\tversion: 2.7\n",
      "versions-maven\n",
      "\tgroupId: org.codehaus.mojo\n",
      "\tartifactId: versions-maven-plugin\n",
      "\tversion: 2.1\n",
      "ccc-versions-maven\n",
      "\tgroupId: com.cccis.build.maven\n",
      "\tartifactId: ccc-versions-maven-plugin\n",
      "\tversion: 0.0.38\n",
      "oc4j-admin-maven\n",
      "\tgroupId: com.cccis.build.maven\n",
      "\tartifactId: oc4j-admin-maven-plugin\n",
      "\tversion: 0.0.37\n",
      "weblogic-maven\n",
      "\tgroupId: com.oracle.weblogic\n",
      "\tartifactId: weblogic-maven-plugin\n",
      "\tversion: 10.3.4\n",
      "wls-maven\n",
      "\tgroupId: com.oracle.weblogic\n",
      "\tartifactId: wls-maven-plugin\n",
      "\tversion: 12.1.1.0\n",
      "gmaven\n",
      "\tgroupId: org.codehaus.gmaven\n",
      "\tartifactId: gmaven-plugin\n",
      "\tversion: 1.3\n",
      "maven-enforcer\n",
      "\tgroupId: org.apache.maven.plugins\n",
      "\tartifactId: maven-enforcer-plugin\n",
      "\tversion: 1.2\n",
      "maven-eclipse\n",
      "\tgroupId: org.apache.maven.plugins\n",
      "\tartifactId: maven-eclipse-plugin\n",
      "\tversion: N/A\n",
      "lifecycle-mapping\n",
      "\tgroupId: org.eclipse.m2e\n",
      "\tartifactId: lifecycle-mapping\n",
      "\tversion: 1.0.0\n",
      "maven-site\n",
      "\tgroupId: org.apache.maven.plugins\n",
      "\tartifactId: maven-site-plugin\n",
      "\tversion: 3.3\n",
      "maven-assembly\n",
      "\tgroupId: N/A\n",
      "\tartifactId: maven-assembly-plugin\n",
      "\tversion: 2.3\n",
      "deployment-maven\n",
      "\tgroupId: com.cccis.build.maven\n",
      "\tartifactId: deployment-maven-plugin\n",
      "\tversion: 0.0.41\n",
      "site-publish-helper\n",
      "\tgroupId: com.cccis.build.maven\n",
      "\tartifactId: site-publish-helper\n",
      "\tversion: 0.0.37\n",
      "maven-antrun\n",
      "\tgroupId: org.apache.maven.plugins\n",
      "\tartifactId: maven-antrun-plugin\n",
      "\tversion: 1.7\n"
     ]
    }
   ],
   "source": [
    "import xml.etree.ElementTree as ET\n",
    "import re\n",
    "\n",
    "def concat(list_tags):\n",
    "    # Small function to concatenate the base with the tag name for a list of names.\n",
    "    # Return a tuple containing the new names.\n",
    "    t = tuple()\n",
    "    for tag in list_tags:\n",
    "        t += (base + tag,)\n",
    "    return t\n",
    "\n",
    "def build_path(list_, base = ''):\n",
    "    # Create a path from a list of subpaths. \n",
    "    # If a base is defined, append the based before each path element.\n",
    "    path = \".\"\n",
    "    for a in list_:\n",
    "        if base:\n",
    "            path += \"/\" + base + a\n",
    "            continue\n",
    "        path += \"/\" + a\n",
    "    return path\n",
    "\n",
    "def get_plugin_info(plugin):\n",
    "    # Get concatenated names\n",
    "    names = ['artifactId', 'groupId', 'version']\n",
    "    aId, gId, v = concat(names)\n",
    "    \n",
    "    # Get elements from plugin ET\n",
    "    artifactId = plugin.find(aId)\n",
    "    groupId = plugin.find(gId)\n",
    "    version = plugin.find(v)\n",
    "    \n",
    "    # Set output values\n",
    "    \n",
    "    try:\n",
    "        aId_str = artifactId.text\n",
    "    except Exception as e:\n",
    "        raise(e)\n",
    "            \n",
    "    try:\n",
    "        gId_str = groupId.text\n",
    "    except:\n",
    "        gId_str = \"N/A\"\n",
    "        \n",
    "    try:\n",
    "        version_str = version.text # strip '$', '{', and '}' from version.text\n",
    "        try:\n",
    "            float(version_str)\n",
    "            version_str = str(version_str)\n",
    "        except ValueError:\n",
    "            version_str = version_str[2:-1]\n",
    "            version_str = properties.find(base + version_str).text\n",
    "    except:\n",
    "        version_str = \"N/A\"\n",
    "    \n",
    "    # Return plugin information\n",
    "    name_str = aId_str.replace('-plugin','')  \n",
    "    return (aId_str, gId_str, version_str, name_str)\n",
    "\n",
    "def format_plugin_info(plugin):\n",
    "    artifactId, groupId, version, name = get_plugin_info(plugin) \n",
    "    to_print = name + \"\\n\" + \\\n",
    "    \"\\t\" + \"groupId: \" + groupId + \"\\n\" + \\\n",
    "    \"\\t\" + \"artifactId: \" + artifactId + \"\\n\" + \\\n",
    "    \"\\t\" + \"version: \" + version\n",
    "    return to_print\n",
    "\n",
    "def print_plugin(plugin):\n",
    "    print format_plugin_info(plugin)\n",
    "\n",
    "def write_plugin_to_file(plugin, filepath):\n",
    "    to_print = format_plugin_info(plugin)\n",
    "    with open(filepath, 'a') as f:\n",
    "        f.write(to_print)    \n",
    "\n",
    "# main function\n",
    "if __name__ == '__main__':\n",
    "    root = ET.parse('files/pom.xml').getroot()\n",
    "    base = \"{http://maven.apache.org/POM/4.0.0}\"\n",
    "    \n",
    "    # Generate plugins path and properties path\n",
    "    plugins_path    = build_path(['build', 'pluginManagement', 'plugins'], base=base)\n",
    "    properties_path = build_path(['properties'], base=base)\n",
    "    \n",
    "    # Get plugins ET and properties ET\n",
    "    plugins = root.find(plugins_path)\n",
    "\n",
    "    # Get plugins info and print plugins\n",
    "    for p in plugins.findall(base + 'plugin'):\n",
    "        print_plugin(p)\n",
    "        write_plugin_to_file(p, 'files/pom_maven_plugins_output.xml')"
   ]
  },
  {
   "cell_type": "markdown",
   "metadata": {},
   "source": [
    "## Solution 3 (OOP Approach)"
   ]
  },
  {
   "cell_type": "code",
   "execution_count": 32,
   "metadata": {
    "collapsed": false
   },
   "outputs": [
    {
     "name": "stdout",
     "output_type": "stream",
     "text": [
      "Plugins saved to files/pom_maven_plugins.xml\n",
      "maven-surefire\n",
      "\tgroupId: org.apache.maven.plugins\n",
      "\tartifactId: maven-surefire-plugin\n",
      "\tversion: 2.12.4\n",
      "properties-maven\n",
      "\tgroupId: org.codehaus.mojo\n",
      "\tartifactId: properties-maven-plugin\n",
      "\tversion: 1.0-alpha-2\n",
      "maven-release\n",
      "\tgroupId: org.apache.maven.plugins\n",
      "\tartifactId: maven-release-plugin\n",
      "\tversion: 2.2.1\n",
      "maven-install\n",
      "\tgroupId: org.apache.maven.plugins\n",
      "\tartifactId: maven-install-plugin\n",
      "\tversion: 2.4\n",
      "maven-deploy\n",
      "\tgroupId: org.apache.maven.plugins\n",
      "\tartifactId: maven-deploy-plugin\n",
      "\tversion: 2.7\n",
      "versions-maven\n",
      "\tgroupId: org.codehaus.mojo\n",
      "\tartifactId: versions-maven-plugin\n",
      "\tversion: 2.1\n",
      "ccc-versions-maven\n",
      "\tgroupId: com.cccis.build.maven\n",
      "\tartifactId: ccc-versions-maven-plugin\n",
      "\tversion: 0.0.38\n",
      "oc4j-admin-maven\n",
      "\tgroupId: com.cccis.build.maven\n",
      "\tartifactId: oc4j-admin-maven-plugin\n",
      "\tversion: 0.0.37\n",
      "weblogic-maven\n",
      "\tgroupId: com.oracle.weblogic\n",
      "\tartifactId: weblogic-maven-plugin\n",
      "\tversion: 10.3.4\n",
      "wls-maven\n",
      "\tgroupId: com.oracle.weblogic\n",
      "\tartifactId: wls-maven-plugin\n",
      "\tversion: 12.1.1.0\n",
      "gmaven\n",
      "\tgroupId: org.codehaus.gmaven\n",
      "\tartifactId: gmaven-plugin\n",
      "\tversion: 1.3\n",
      "maven-enforcer\n",
      "\tgroupId: org.apache.maven.plugins\n",
      "\tartifactId: maven-enforcer-plugin\n",
      "\tversion: 1.2\n",
      "maven-eclipse\n",
      "\tgroupId: org.apache.maven.plugins\n",
      "\tartifactId: maven-eclipse-plugin\n",
      "\tversion: N/A\n",
      "lifecycle-mapping\n",
      "\tgroupId: org.eclipse.m2e\n",
      "\tartifactId: lifecycle-mapping\n",
      "\tversion: 1.0.0\n",
      "maven-site\n",
      "\tgroupId: org.apache.maven.plugins\n",
      "\tartifactId: maven-site-plugin\n",
      "\tversion: 3.3\n",
      "maven-assembly\n",
      "\tgroupId: N/A\n",
      "\tartifactId: maven-assembly-plugin\n",
      "\tversion: 2.3\n",
      "deployment-maven\n",
      "\tgroupId: com.cccis.build.maven\n",
      "\tartifactId: deployment-maven-plugin\n",
      "\tversion: 0.0.41\n",
      "site-publish-helper\n",
      "\tgroupId: com.cccis.build.maven\n",
      "\tartifactId: site-publish-helper\n",
      "\tversion: 0.0.37\n",
      "maven-antrun\n",
      "\tgroupId: org.apache.maven.plugins\n",
      "\tartifactId: maven-antrun-plugin\n",
      "\tversion: 1.7\n"
     ]
    }
   ],
   "source": [
    "import xml.etree.ElementTree as ET\n",
    "import re\n",
    "\n",
    "class Plugin(object):\n",
    "    \"\"\" A plugin has a name, an artifactId, a groupId and a version.\"\"\"\n",
    "    def __init__(self, plugin, base):\n",
    "        self.base = base\n",
    "        self.__get_plugin_info(plugin)\n",
    "\n",
    "    def __repr__(self):\n",
    "        to_print = self.name + \"\\n\" + \\\n",
    "        \"\\t\" + \"groupId: \" + self.groupId + \"\\n\" + \\\n",
    "        \"\\t\" + \"artifactId: \" + self.artifactId + \"\\n\" + \\\n",
    "        \"\\t\" + \"version: \" + self.version\n",
    "        return to_print\n",
    "    \n",
    "    # PRIVATE\n",
    "    def __concat(self, list_tags):\n",
    "        \"\"\"Small function to concatenate the base with the tag name for a list of names.\n",
    "        Return a tuple containing the new names.\"\"\"\n",
    "        t = tuple()\n",
    "        for tag in list_tags:\n",
    "            t += (self.base + tag,)\n",
    "        return t\n",
    "    \n",
    "    def __get_plugin_info(self, plugin):  \n",
    "        \"\"\" Takes a plugin of class ElementTree and populates this Plugin object.\n",
    "        Fields are: name, artifactId, groupid, version\"\"\"\n",
    "        # Get concatenated names\n",
    "        names = ['artifactId', 'groupId', 'version']\n",
    "        aId, gId, v = self.__concat(names)\n",
    "        \n",
    "        # Get elements from plugin ET\n",
    "        artifactId = plugin.find(aId)\n",
    "        groupId = plugin.find(gId)\n",
    "        version = plugin.find(v)\n",
    "        \n",
    "        # Set output values\n",
    "        try:\n",
    "            aId_str = artifactId.text\n",
    "        except Exception as e:\n",
    "            raise(e)\n",
    "            \n",
    "        try:\n",
    "            gId_str = groupId.text\n",
    "        except:\n",
    "            gId_str = \"N/A\"\n",
    "            \n",
    "        try:\n",
    "            version_str = version.text # strip '$', '{', and '}' from version.text\n",
    "            try:\n",
    "                float(version_str)\n",
    "                version_str = str(version_str)\n",
    "            except ValueError:\n",
    "                version_str = version_str[2:-1]\n",
    "                version_str = properties.find(base + version_str).text\n",
    "        except:\n",
    "            version_str = \"N/A\"\n",
    "\n",
    "        name_str = aId_str.replace('-plugin','')  \n",
    "        \n",
    "        # Populate Plugin object\n",
    "        self.artifactId = aId_str\n",
    "        self.groupId = gId_str\n",
    "        self.version = version_str\n",
    "        self.name = name_str\n",
    "            \n",
    "class POMPluginExtractor(object):\n",
    "    \"\"\"This class serves as extractor of plugins from any POM file.\"\"\"\n",
    "    def __init__(self, filepath, base):\n",
    "        self.filepath = filepath\n",
    "        self.base = base\n",
    "        self.plugins = []\n",
    "        self.__get_root()\n",
    "        self.__get_plugins()\n",
    "    \n",
    "    def print_plugins(self):\n",
    "        for p in self.plugins:\n",
    "            print p\n",
    "    \n",
    "    def save_plugins(self, filepath):\n",
    "        with open(filepath, 'w') as f:\n",
    "            for p in self.plugins:\n",
    "                print >>f, p\n",
    "                print >>f\n",
    "                \n",
    "        print \"Plugins saved to %s\" % filepath\n",
    "            \n",
    "    # PRIVATE\n",
    "    def __get_root(self):\n",
    "        self.root = ET.parse(self.filepath).getroot()\n",
    "\n",
    "    def __get_plugins(self):\n",
    "        plugins_path = self.__build_path(['build', 'pluginManagement', 'plugins'], base=self.base)\n",
    "        plugins = self.root.find(plugins_path)\n",
    "        for p in plugins.findall(self.base + 'plugin'):\n",
    "            self.plugins.append(Plugin(p, self.base))\n",
    "            \n",
    "    def __build_path(self, list_, base = ''):\n",
    "        path = \".\"\n",
    "        for a in list_:\n",
    "            if base:\n",
    "                path += \"/\" + base + a\n",
    "                continue\n",
    "            path += \"/\" + a\n",
    "        return path    \n",
    "\n",
    "# main function\n",
    "if __name__ == '__main__':\n",
    "    inputFile = 'files/pom.xml'\n",
    "    outputFile = 'files/pom_maven_plugins_output.xml'\n",
    "    base = \"{http://maven.apache.org/POM/4.0.0}\"\n",
    "    \n",
    "    analyzer = POMPluginExtractor(inputFile, base)\n",
    "    analyzer.save_plugins(outputFile)\n",
    "    analyzer.print_plugins()"
   ]
  },
  {
   "cell_type": "markdown",
   "metadata": {},
   "source": [
    "  "
   ]
  },
  {
   "cell_type": "markdown",
   "metadata": {},
   "source": [
    "# REST API (Django)"
   ]
  },
  {
   "cell_type": "markdown",
   "metadata": {
    "collapsed": true
   },
   "source": [
    "## Serialization"
   ]
  },
  {
   "cell_type": "code",
   "execution_count": null,
   "metadata": {
    "collapsed": true
   },
   "outputs": [],
   "source": []
  },
  {
   "cell_type": "code",
   "execution_count": null,
   "metadata": {
    "collapsed": true
   },
   "outputs": [],
   "source": []
  },
  {
   "cell_type": "code",
   "execution_count": null,
   "metadata": {
    "collapsed": true
   },
   "outputs": [],
   "source": []
  },
  {
   "cell_type": "code",
   "execution_count": null,
   "metadata": {
    "collapsed": true
   },
   "outputs": [],
   "source": []
  },
  {
   "cell_type": "markdown",
   "metadata": {},
   "source": [
    "## Requests and Responses"
   ]
  },
  {
   "cell_type": "code",
   "execution_count": null,
   "metadata": {
    "collapsed": true
   },
   "outputs": [],
   "source": []
  },
  {
   "cell_type": "code",
   "execution_count": null,
   "metadata": {
    "collapsed": true
   },
   "outputs": [],
   "source": []
  },
  {
   "cell_type": "code",
   "execution_count": null,
   "metadata": {
    "collapsed": true
   },
   "outputs": [],
   "source": []
  },
  {
   "cell_type": "code",
   "execution_count": null,
   "metadata": {
    "collapsed": true
   },
   "outputs": [],
   "source": []
  },
  {
   "cell_type": "markdown",
   "metadata": {},
   "source": [
    "## Class Based view"
   ]
  },
  {
   "cell_type": "code",
   "execution_count": null,
   "metadata": {
    "collapsed": true
   },
   "outputs": [],
   "source": []
  },
  {
   "cell_type": "code",
   "execution_count": null,
   "metadata": {
    "collapsed": true
   },
   "outputs": [],
   "source": []
  },
  {
   "cell_type": "code",
   "execution_count": null,
   "metadata": {
    "collapsed": true
   },
   "outputs": [],
   "source": []
  },
  {
   "cell_type": "code",
   "execution_count": null,
   "metadata": {
    "collapsed": true
   },
   "outputs": [],
   "source": []
  },
  {
   "cell_type": "markdown",
   "metadata": {},
   "source": [
    "## Authentication and Permission"
   ]
  },
  {
   "cell_type": "code",
   "execution_count": null,
   "metadata": {
    "collapsed": true
   },
   "outputs": [],
   "source": []
  },
  {
   "cell_type": "code",
   "execution_count": null,
   "metadata": {
    "collapsed": true
   },
   "outputs": [],
   "source": []
  },
  {
   "cell_type": "code",
   "execution_count": null,
   "metadata": {
    "collapsed": true
   },
   "outputs": [],
   "source": []
  },
  {
   "cell_type": "code",
   "execution_count": null,
   "metadata": {
    "collapsed": true
   },
   "outputs": [],
   "source": []
  },
  {
   "cell_type": "markdown",
   "metadata": {},
   "source": [
    "## Relationships and Hyperlink APIs"
   ]
  },
  {
   "cell_type": "code",
   "execution_count": null,
   "metadata": {
    "collapsed": true
   },
   "outputs": [],
   "source": []
  },
  {
   "cell_type": "code",
   "execution_count": null,
   "metadata": {
    "collapsed": true
   },
   "outputs": [],
   "source": []
  },
  {
   "cell_type": "markdown",
   "metadata": {
    "collapsed": true
   },
   "source": [
    "## Viewsets and routers"
   ]
  },
  {
   "cell_type": "code",
   "execution_count": null,
   "metadata": {
    "collapsed": true
   },
   "outputs": [],
   "source": []
  },
  {
   "cell_type": "markdown",
   "metadata": {},
   "source": [
    "## Example: Twitter REST API"
   ]
  },
  {
   "cell_type": "markdown",
   "metadata": {},
   "source": [
    "  "
   ]
  },
  {
   "cell_type": "markdown",
   "metadata": {},
   "source": [
    "# SQL Data Access (MySQL)"
   ]
  },
  {
   "cell_type": "code",
   "execution_count": 33,
   "metadata": {
    "collapsed": true
   },
   "outputs": [],
   "source": [
    "import mysql.connector"
   ]
  },
  {
   "cell_type": "markdown",
   "metadata": {
    "collapsed": true
   },
   "source": [
    "## Connecting to MySQL DB"
   ]
  },
  {
   "cell_type": "code",
   "execution_count": 34,
   "metadata": {
    "collapsed": false
   },
   "outputs": [
    {
     "data": {
      "text/plain": [
       "<mysql.connector.connection.MySQLConnection at 0x1050498d0>"
      ]
     },
     "execution_count": 34,
     "metadata": {},
     "output_type": "execute_result"
    }
   ],
   "source": [
    "cnx = mysql.connector.connect(user='root', password='password',\n",
    "                              host='localhost')\n",
    "cnx.close()\n",
    "cnx"
   ]
  },
  {
   "cell_type": "markdown",
   "metadata": {},
   "source": [
    "**Lots of connection arguments**"
   ]
  },
  {
   "cell_type": "code",
   "execution_count": 35,
   "metadata": {
    "collapsed": false
   },
   "outputs": [
    {
     "data": {
      "text/plain": [
       "<mysql.connector.connection.MySQLConnection at 0x105049bd0>"
      ]
     },
     "execution_count": 35,
     "metadata": {},
     "output_type": "execute_result"
    }
   ],
   "source": [
    "config = {\n",
    "  'user': 'root',\n",
    "  'password': 'password',\n",
    "  'host': 'localhost',\n",
    "  'database': 'tutorial',\n",
    "  'raise_on_warnings': True,\n",
    "}\n",
    "\n",
    "cnx = mysql.connector.connect(**config)\n",
    "\n",
    "cnx.close()\n",
    "cnx"
   ]
  },
  {
   "cell_type": "markdown",
   "metadata": {},
   "source": [
    "**Handling connection errors**"
   ]
  },
  {
   "cell_type": "code",
   "execution_count": 36,
   "metadata": {
    "collapsed": false
   },
   "outputs": [
    {
     "name": "stdout",
     "output_type": "stream",
     "text": [
      "Something is wrong with you user name or password\n"
     ]
    }
   ],
   "source": [
    "from mysql.connector import errorcode\n",
    "\n",
    "config = {\n",
    "  'user': 'root',\n",
    "  'password': 'wrong_password',\n",
    "  'host': 'localhost',\n",
    "  'database': 'tutorial',\n",
    "  'raise_on_warnings': True,\n",
    "}\n",
    "try:\n",
    "    cnx = mysql.connector.connect(**config)\n",
    "\n",
    "except mysql.connector.Error as err:\n",
    "    if err.errno == errorcode.ER_ACCESS_DENIED_ERROR:\n",
    "        print \"Something is wrong with you user name or password\"\n",
    "    elif err.errno == errorcode.ER_BAD_DB_ERROR:\n",
    "        print \"Database does not exist.\"\n",
    "    else:\n",
    "        print(err)\n",
    "else:\n",
    "    cnx.close()"
   ]
  },
  {
   "cell_type": "markdown",
   "metadata": {},
   "source": [
    "**In a function**"
   ]
  },
  {
   "cell_type": "code",
   "execution_count": 42,
   "metadata": {
    "collapsed": false
   },
   "outputs": [
    {
     "name": "stdout",
     "output_type": "stream",
     "text": [
      "Connection to database MySQL server successful.\n"
     ]
    }
   ],
   "source": [
    "config = {\n",
    "  'user': 'root',\n",
    "  'password': 'wrong_password',\n",
    "  'host': 'localhost',\n",
    "  'database': 'tutorial',\n",
    "  'raise_on_warnings': True,\n",
    "}\n",
    "\n",
    "def connect_mysql(**config):\n",
    "    try:\n",
    "        cnx = mysql.connector.connect(**config)\n",
    "\n",
    "    except mysql.connector.Error as err:\n",
    "        if err.errno == errorcode.ER_ACCESS_DENIED_ERROR:\n",
    "            print \"Something is wrong with you user name or password\"\n",
    "        elif err.errno == errorcode.ER_BAD_DB_ERROR:\n",
    "            print \"Database does not exist.\"\n",
    "        else:\n",
    "            print(err)\n",
    "    else:\n",
    "        print \"Connection to database MySQL server successful.\"\n",
    "        cnx.close()\n",
    "\n",
    "if __name__ == '__main__':\n",
    "    connect_mysql(**config)"
   ]
  },
  {
   "cell_type": "markdown",
   "metadata": {},
   "source": [
    "## Creating / Deleting a database"
   ]
  },
  {
   "cell_type": "markdown",
   "metadata": {},
   "source": [
    "**Note: All DDL (Data Definition Language) statements are executed using a handle structure known as 'cursor'.**"
   ]
  },
  {
   "cell_type": "code",
   "execution_count": 38,
   "metadata": {
    "collapsed": false
   },
   "outputs": [
    {
     "name": "stdout",
     "output_type": "stream",
     "text": [
      "new_db\n"
     ]
    }
   ],
   "source": [
    "def create_database(cursor, db_name):\n",
    "    try:\n",
    "        cursor.execute(\n",
    "            \"CREATE DATABASE {} DEFAULT CHARACTER SET 'utf8'\".format(db_name))\n",
    "    except mysql.connector.Error as err:\n",
    "        print(\"Failed creating database: {}\".format(err))\n",
    "        exit(1)\n",
    "\n",
    "        \n",
    "def get_database(cnx, db_name):\n",
    "    # Get an existing db 'db_name'. \n",
    "    # If it doesn't exist, create a new database 'db_name'.\n",
    "    cursor = cnx.cursor()\n",
    "    try:\n",
    "        cnx.database = db_name    \n",
    "    except mysql.connector.Error as err:\n",
    "        if err.errno == errorcode.ER_BAD_DB_ERROR:\n",
    "            print \"Database does not exist! Creating database...\"\n",
    "            create_database(cursor, db_name)\n",
    "            cnx.database = db_name\n",
    "        else:\n",
    "            print(err)\n",
    "            exit(1)\n",
    "\n",
    "if __name__ == '__main__':\n",
    "    cnx = mysql.connector.connect(user='root', password='password')\n",
    "    get_database(cnx, 'new_db')\n",
    "    print cnx.database"
   ]
  },
  {
   "cell_type": "markdown",
   "metadata": {},
   "source": [
    "## Creating / Deleting a table"
   ]
  },
  {
   "cell_type": "markdown",
   "metadata": {},
   "source": [
    "**Using raw ddl**"
   ]
  },
  {
   "cell_type": "code",
   "execution_count": 39,
   "metadata": {
    "collapsed": false
   },
   "outputs": [],
   "source": [
    "# Variables\n",
    "table_name = \"employees\"\n",
    "table_ddl = \"CREATE TABLE employees (first_name VARCHAR(25) PRIMARY KEY, last_name VARCHAR(25))\""
   ]
  },
  {
   "cell_type": "code",
   "execution_count": 40,
   "metadata": {
    "collapsed": false
   },
   "outputs": [
    {
     "name": "stdout",
     "output_type": "stream",
     "text": [
      "Creating table employees ...\n",
      "already exists.\n"
     ]
    }
   ],
   "source": [
    "# create_table(cursor, table_name, table_ddl)\n",
    "def create_table(cursor, table_name, table_ddl):\n",
    "    try:\n",
    "        print \"Creating table %s ...\" % table_name\n",
    "        cursor.execute(table_ddl)\n",
    "    except mysql.connector.Error as err:\n",
    "        if err.errno == errorcode.ER_TABLE_EXISTS_ERROR:\n",
    "            print \"already exists.\"\n",
    "        else:\n",
    "            print err.msg\n",
    "    else:\n",
    "        print \"OK\"\n",
    "            \n",
    "if __name__ == '__main__':\n",
    "    cnx = mysql.connector.connect(user='root', password='password', database='new_db')\n",
    "    cursor = cnx.cursor()\n",
    "    create_table(cursor, table_name, table_ddl)"
   ]
  },
  {
   "cell_type": "markdown",
   "metadata": {},
   "source": [
    "**Using Python tuples and dict**"
   ]
  },
  {
   "cell_type": "code",
   "execution_count": 58,
   "metadata": {
    "collapsed": true
   },
   "outputs": [],
   "source": [
    "employees_table_descr = (\n",
    "    \"emp_no int(11) NOT NULL AUTO_INCREMENT\",\n",
    "    \"birth_date date NOT NULL\",\n",
    "    \"first_name varchar(14) NOT NULL\",\n",
    "    \"last_name varchar(16) NOT NULL\",\n",
    "    \"gender enum('M', 'F') NOT NULL\",\n",
    "    \"hire_date date NOT NULL\",\n",
    "    \"PRIMARY KEY (emp_no)\"\n",
    ")\n",
    "    \n",
    "salaries_table_descr = (\n",
    "    \"emp_no int(11) NOT NULL\",\n",
    "    \"salary int(11) NOT NULL\",\n",
    "    \"from_date date NOT NULL\",\n",
    "    \"to_date date NOT NULL\",\n",
    "    \"PRIMARY KEY (emp_no, from_date), KEY emp_no (emp_no)\"\n",
    ")"
   ]
  },
  {
   "cell_type": "code",
   "execution_count": 56,
   "metadata": {
    "collapsed": false
   },
   "outputs": [
    {
     "name": "stdout",
     "output_type": "stream",
     "text": [
      "Creating table employees ...\n",
      "OK\n",
      "Creating table salaries ...\n",
      "OK\n"
     ]
    }
   ],
   "source": [
    "# create_table_from_tuple(cursor, table_name, kwargs)  \n",
    "def create_table_from_tuple(cursor, name, kwargs):\n",
    "    ddl = ','.join(kwargs)\n",
    "    ddl = \"CREATE TABLE %s (\" % name + ddl + \")\"\n",
    "    create_table(cursor, name, ddl)\n",
    "\n",
    "if __name__ == '__main__':\n",
    "    create_table_from_tuple(cursor, 'employees', employees_table_descr)\n",
    "    create_table_from_tuple(cursor, 'salaries', salaries_table_descr)"
   ]
  },
  {
   "cell_type": "code",
   "execution_count": 62,
   "metadata": {
    "collapsed": false
   },
   "outputs": [
    {
     "name": "stdout",
     "output_type": "stream",
     "text": [
      "Creating table employees ...\n",
      "OK\n",
      "Creating table salaries ...\n",
      "OK\n"
     ]
    }
   ],
   "source": [
    "# create_tables_from_dict(cursor, d)\n",
    "def create_tables_from_dict(cursor, d):\n",
    "    for key in d:\n",
    "        create_table_from_tuple(cursor, key, d[key])\n",
    "\n",
    "if __name__ == '__main__':  \n",
    "    d = {\n",
    "        'employees': employees_table_descr,\n",
    "        'salaries': salaries_table_descr\n",
    "    }\n",
    "    create_tables_from_dict(cursor, d)"
   ]
  },
  {
   "cell_type": "markdown",
   "metadata": {},
   "source": [
    "## Populating a table"
   ]
  },
  {
   "cell_type": "code",
   "execution_count": null,
   "metadata": {
    "collapsed": true
   },
   "outputs": [],
   "source": []
  },
  {
   "cell_type": "markdown",
   "metadata": {},
   "source": [
    "## Querying data from a table"
   ]
  },
  {
   "cell_type": "markdown",
   "metadata": {
    "collapsed": true
   },
   "source": [
    "## OOP Approach"
   ]
  },
  {
   "cell_type": "code",
   "execution_count": null,
   "metadata": {
    "collapsed": false
   },
   "outputs": [],
   "source": [
    "# OOP approach\n",
    "class Database(object):\n",
    "    def __init__(self, name, cnx):\n",
    "        self.name = name\n",
    "        self.cnx = cnx\n",
    "        self.cursor = cnx.cursor()\n",
    "        self.tables = []\n",
    "        \n",
    "    def get(self):\n",
    "        # Get an existing database named db_name. \n",
    "        # If it doesn't exist, create a new database db_name.\n",
    "        try:\n",
    "            self.cnx.database = self.name\n",
    "        except mysql.connector.Error as err:\n",
    "            if err.errno == errorcode.ER_BAD_DB_ERROR:\n",
    "                print \"Database does not exist! Creating database...\"\n",
    "                create_database(self.cursor, self.name)\n",
    "                cnx.database = self.name\n",
    "            else:\n",
    "                print(err)\n",
    "                exit(1)\n",
    "        \n",
    "    def create(self):\n",
    "        # Create a new database on the MySQL server\n",
    "        try:\n",
    "            cursor.execute(\n",
    "                \"CREATE DATABASE {} DEFAULT CHARACTER SET 'utf8'\".format(self.name))\n",
    "        except mysql.connector.Error as err:\n",
    "            print(\"Failed creating database: {}\".format(err))\n",
    "            exit(1)\n",
    "    \n",
    "    def delete(self):\n",
    "        # Delete an existing database.\n",
    "        pass\n",
    "    \n",
    "    def create_table(self, name, descr):\n",
    "        # Create a new table in the database.\n",
    "        try:\n",
    "            print \"Creating table %s ...\" % name\n",
    "            self.cursor.execute(descr)\n",
    "        except mysql.connector.Error as err:\n",
    "            if err.errno == errorcode.ER_TABLE_EXISTS_ERROR:\n",
    "                print \"already exists.\"\n",
    "            else:\n",
    "                print err.msg\n",
    "        else:\n",
    "            self.tables.append(Table(name, descr))\n",
    "            print \"OK\"\n",
    "            \n",
    "    def delete_table(self, name):\n",
    "        # Delete an existing table from the database\n",
    "        pass\n",
    "        \n",
    "class Table(object):\n",
    "    def __init__(self, name, descr):\n",
    "        self.name = name\n",
    "        self.descr = descr\n",
    "    def describe(self):\n",
    "        # Returns description of the table\n",
    "        ddl = \"DESCRIBE %s\" %self.name\n",
    "        \n",
    "if __name__ == '__main__':\n",
    "    cnx = mysql.connector.connect(user='root', password='password')\n",
    "    Table('employee', table_descr_tuple)"
   ]
  },
  {
   "cell_type": "markdown",
   "metadata": {},
   "source": [
    "  "
   ]
  },
  {
   "cell_type": "markdown",
   "metadata": {},
   "source": [
    "# NoSQL Data Access (DynamoDB)"
   ]
  },
  {
   "cell_type": "code",
   "execution_count": null,
   "metadata": {
    "collapsed": false
   },
   "outputs": [],
   "source": [
    "import boto3"
   ]
  },
  {
   "cell_type": "markdown",
   "metadata": {
    "collapsed": true
   },
   "source": [
    "## Connecting to DynamoDB"
   ]
  },
  {
   "cell_type": "code",
   "execution_count": null,
   "metadata": {
    "collapsed": true
   },
   "outputs": [],
   "source": []
  },
  {
   "cell_type": "markdown",
   "metadata": {},
   "source": [
    "## Creating / Deleting a table"
   ]
  },
  {
   "cell_type": "code",
   "execution_count": null,
   "metadata": {
    "collapsed": true
   },
   "outputs": [],
   "source": []
  },
  {
   "cell_type": "markdown",
   "metadata": {},
   "source": [
    "## Populating a table"
   ]
  },
  {
   "cell_type": "code",
   "execution_count": null,
   "metadata": {
    "collapsed": true
   },
   "outputs": [],
   "source": []
  },
  {
   "cell_type": "markdown",
   "metadata": {},
   "source": [
    "## Querying data from a table"
   ]
  },
  {
   "cell_type": "code",
   "execution_count": null,
   "metadata": {
    "collapsed": true
   },
   "outputs": [],
   "source": []
  },
  {
   "cell_type": "markdown",
   "metadata": {},
   "source": [
    "  "
   ]
  },
  {
   "cell_type": "markdown",
   "metadata": {},
   "source": [
    "# Exercise: Parse a switch record and output to MySQL / DynamoDB"
   ]
  },
  {
   "cell_type": "code",
   "execution_count": null,
   "metadata": {
    "collapsed": true
   },
   "outputs": [],
   "source": []
  },
  {
   "cell_type": "code",
   "execution_count": null,
   "metadata": {
    "collapsed": true
   },
   "outputs": [],
   "source": []
  },
  {
   "cell_type": "code",
   "execution_count": null,
   "metadata": {
    "collapsed": true
   },
   "outputs": [],
   "source": []
  }
 ],
 "metadata": {
  "kernelspec": {
   "display_name": "Python 2",
   "language": "python",
   "name": "python2"
  },
  "language_info": {
   "codemirror_mode": {
    "name": "ipython",
    "version": 2
   },
   "file_extension": ".py",
   "mimetype": "text/x-python",
   "name": "python",
   "nbconvert_exporter": "python",
   "pygments_lexer": "ipython2",
   "version": "2.7.10"
  }
 },
 "nbformat": 4,
 "nbformat_minor": 0
}
