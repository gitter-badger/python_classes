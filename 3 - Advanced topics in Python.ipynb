{
 "cells": [
  {
   "cell_type": "markdown",
   "metadata": {},
   "source": [
    "# JSON / XML Parsing"
   ]
  },
  {
   "cell_type": "markdown",
   "metadata": {},
   "source": [
    "## JSON Parsing"
   ]
  },
  {
   "cell_type": "code",
   "execution_count": null,
   "metadata": {
    "collapsed": true
   },
   "outputs": [],
   "source": [
    "# importing the Python json library\n",
    "import json"
   ]
  },
  {
   "cell_type": "markdown",
   "metadata": {},
   "source": [
    "### Importing JSON to Dict { }"
   ]
  },
  {
   "cell_type": "markdown",
   "metadata": {},
   "source": [
    "**From string**"
   ]
  },
  {
   "cell_type": "code",
   "execution_count": null,
   "metadata": {
    "collapsed": false
   },
   "outputs": [],
   "source": [
    "# Example string\n",
    "json_string = '{\"first_name\": \"Guido\", \"last_name\":\"Rossum\"}'\n",
    "json_string"
   ]
  },
  {
   "cell_type": "code",
   "execution_count": null,
   "metadata": {
    "collapsed": false
   },
   "outputs": [],
   "source": [
    "parsed_json = json.loads(json_string)\n",
    "parsed_json"
   ]
  },
  {
   "cell_type": "markdown",
   "metadata": {},
   "source": [
    "**From file**"
   ]
  },
  {
   "cell_type": "code",
   "execution_count": null,
   "metadata": {
    "collapsed": false
   },
   "outputs": [],
   "source": [
    "# %load files/example.json"
   ]
  },
  {
   "cell_type": "code",
   "execution_count": null,
   "metadata": {
    "collapsed": true
   },
   "outputs": [],
   "source": [
    "with open('files/example.json', 'r') as f:\n",
    "    content = f.read()\n",
    "\n",
    "parsed_json = json.loads(content)\n",
    "parsed_json"
   ]
  },
  {
   "cell_type": "markdown",
   "metadata": {},
   "source": [
    "### Exporting Dict { } to JSON"
   ]
  },
  {
   "cell_type": "code",
   "execution_count": null,
   "metadata": {
    "collapsed": true
   },
   "outputs": [],
   "source": [
    "# Example dict\n",
    "d = { 'first_name': 'Guido',\n",
    "      'second_name': 'Rossum',\n",
    "      'titles': ['BDFL', 'Developer'],\n",
    "    }\n",
    "d"
   ]
  },
  {
   "cell_type": "code",
   "execution_count": null,
   "metadata": {
    "collapsed": true
   },
   "outputs": [],
   "source": [
    "json_string = json.dumps(d)\n",
    "json_string"
   ]
  },
  {
   "cell_type": "markdown",
   "metadata": {},
   "source": [
    "  "
   ]
  },
  {
   "cell_type": "markdown",
   "metadata": {
    "collapsed": true
   },
   "source": [
    "## XML Parsing"
   ]
  },
  {
   "cell_type": "code",
   "execution_count": null,
   "metadata": {
    "collapsed": true
   },
   "outputs": [],
   "source": [
    "import xml.etree.ElementTree as ET"
   ]
  },
  {
   "cell_type": "markdown",
   "metadata": {},
   "source": [
    "### Importing XML to ElementTree"
   ]
  },
  {
   "cell_type": "markdown",
   "metadata": {},
   "source": [
    "**From string**"
   ]
  },
  {
   "cell_type": "code",
   "execution_count": null,
   "metadata": {
    "collapsed": false
   },
   "outputs": [],
   "source": [
    "# Example string\n",
    "xml_string = \"\"\"<catalog>\n",
    "   <book id=\"bk101\">\n",
    "      <author>Gambardella, Matthew</author>\n",
    "      <title>XML Developer's Guide</title>\n",
    "      <genre>Computer</genre>\n",
    "   </book>\n",
    "</catalog>\"\"\"\n",
    "xml_string"
   ]
  },
  {
   "cell_type": "code",
   "execution_count": null,
   "metadata": {
    "collapsed": false
   },
   "outputs": [],
   "source": [
    "root = ET.fromstring(xml_string)\n",
    "print root.tag\n",
    "print root.attrib"
   ]
  },
  {
   "cell_type": "markdown",
   "metadata": {},
   "source": [
    "**From file**"
   ]
  },
  {
   "cell_type": "code",
   "execution_count": null,
   "metadata": {
    "collapsed": false
   },
   "outputs": [],
   "source": [
    "# %load files/example.xml"
   ]
  },
  {
   "cell_type": "code",
   "execution_count": null,
   "metadata": {
    "collapsed": false
   },
   "outputs": [],
   "source": [
    "tree = ET.parse('files/example.xml')\n",
    "root = tree.getroot()\n",
    "print root.tag\n",
    "print root.attrib"
   ]
  },
  {
   "cell_type": "markdown",
   "metadata": {},
   "source": [
    "### Exporting ElementTree to XML"
   ]
  },
  {
   "cell_type": "code",
   "execution_count": null,
   "metadata": {
    "collapsed": false
   },
   "outputs": [],
   "source": [
    "tree.write(\"files/example_output.xml\")"
   ]
  },
  {
   "cell_type": "code",
   "execution_count": null,
   "metadata": {
    "collapsed": true
   },
   "outputs": [],
   "source": [
    "# %load files/example_output.xml"
   ]
  },
  {
   "cell_type": "markdown",
   "metadata": {},
   "source": [
    "### Getting items"
   ]
  },
  {
   "cell_type": "code",
   "execution_count": null,
   "metadata": {
    "collapsed": false
   },
   "outputs": [],
   "source": [
    "# Each XML element contains a tag, an attribute (optional), a text and a list of childs\n",
    "# XML Element: <tag attr:attr_value> text </tag>\n",
    "\n",
    "print root.tag            # tag    : name of XML element\n",
    "print root.attrib         # attrib : attribute of XML element\n",
    "print root.text           # text   : content of XML element\n",
    "for child in root: # loop through all subchildrens\n",
    "    print \"\\t\", child.tag, child.attrib, child.text\n",
    "    for subchild in child:\n",
    "        print \"\\t\\t\", subchild.tag, subchild.attrib, subchild.text\n",
    "    print\n",
    "    \n",
    "children = list(root)     #Get children\n",
    "\n",
    "print children\n",
    "print root"
   ]
  },
  {
   "cell_type": "code",
   "execution_count": null,
   "metadata": {
    "collapsed": false
   },
   "outputs": [],
   "source": [
    "# iter('element_tag') - search all subtrees\n",
    "for title in root.iter('title'): \n",
    "    print title.text"
   ]
  },
  {
   "cell_type": "code",
   "execution_count": null,
   "metadata": {
    "collapsed": false
   },
   "outputs": [],
   "source": [
    "# findall('element_tag') - get direct childs of parent\n",
    "for book in root.findall('book'):\n",
    "    # Get items\n",
    "    book_id = book.get('id')          # Get attribute 'id' of 'book' element\n",
    "    title = book.find('title')        # Get first child named 'title'\n",
    "    author = book.find('author')\n",
    "    genre = book.find('genre')\n",
    "    price = book.find('price')\n",
    "    pdate = book.find('publish_date')\n",
    "    descr = book.find('description')\n",
    "    \n",
    "    # Print items\n",
    "    print \"ID \", book_id\n",
    "    print title.tag, title.text\n",
    "    print author.tag, author.text\n",
    "    print genre.tag, genre.text\n",
    "    print price.tag, price.text\n",
    "    print pdate.tag, pdate.text\n",
    "    print descr.tag, descr.text\n",
    "    print"
   ]
  },
  {
   "cell_type": "code",
   "execution_count": null,
   "metadata": {
    "collapsed": false
   },
   "outputs": [],
   "source": [
    "# find('element_tag') - finds first child with tag\n",
    "for book_content in root.find('book'):\n",
    "    print book_content"
   ]
  },
  {
   "cell_type": "markdown",
   "metadata": {},
   "source": [
    "### Modifying items"
   ]
  },
  {
   "cell_type": "code",
   "execution_count": null,
   "metadata": {
    "collapsed": false
   },
   "outputs": [],
   "source": [
    "# set('attribute', 'attribute_value')\n",
    "for price in root.iter('price'):\n",
    "    price.text = str(float(price.text) + 1)\n",
    "    price.set('increased', 'yes')\n",
    "    print price.text, price.attrib"
   ]
  },
  {
   "cell_type": "code",
   "execution_count": null,
   "metadata": {
    "collapsed": true
   },
   "outputs": [],
   "source": [
    "# Create new element\n",
    "new_book = ET.Element('book', {'id': 'bk113'})\n",
    "new_book.text = \"\\n\"\n",
    "                      \n",
    "# Create sub elements\n",
    "author = ET.SubElement(new_book, 'author')\n",
    "title = ET.SubElement(new_book, 'title')\n",
    "genre = ET.SubElement(new_book, 'genre')\n",
    "price = ET.SubElement(new_book, 'price')\n",
    "pdate = ET.SubElement(new_book, 'publish_date')\n",
    "descr = ET.SubElement(new_book, 'description')\n",
    "\n",
    "# Populate sub elements\n",
    "author.text = \"J.K Rowlings\"\n",
    "title.text = \"Harry Potter and the Sorcerer's Stone\"\n",
    "genre.text = \"Fantasy\"\n",
    "price.text = \"31.50\"\n",
    "pdate.text = \"2001-10-16\"\n",
    "descr.text = \"A very nice fantasy book.\"\n",
    "\n",
    "# Add element to existing tree\n",
    "root.append(new_book)\n",
    "\n",
    "# ET.dump(new_book)"
   ]
  },
  {
   "cell_type": "code",
   "execution_count": null,
   "metadata": {
    "collapsed": true
   },
   "outputs": [],
   "source": [
    "# A ten times nicer way of doing it (focus on what matters)\n",
    "\n",
    "def create_new_ET(element_name, attributes={}, elements={}):\n",
    "    book = ET.Element('book', attributes)\n",
    "    for key in elements:\n",
    "        new_elem = ET.SubElement(book, key)\n",
    "        new_elem.text = elements[key]\n",
    "    return book\n",
    "\n",
    "# Create new element\n",
    "name     = 'book'\n",
    "attr     = {'id': \"bk114\"}\n",
    "elements = {'author': \"J.K Rowlings\",\n",
    "            'title': \"Harry Potter and the Chamber of Secrets\",\n",
    "            'genre': \"Fantasy\",\n",
    "            'price': \"35.50\",\n",
    "            'publish_date': \"2002-10-15\",\n",
    "            'description': \"The second volume of a very nice fantasy book.\"}\n",
    "new_book = create_new_ET(name, attr, elements)\n",
    "\n",
    "# Append to existing tree\n",
    "root.append(new_book)\n",
    "\n",
    "# ET.dump(root)"
   ]
  },
  {
   "cell_type": "markdown",
   "metadata": {},
   "source": [
    "## Bonus: Pretty Print and Conversion"
   ]
  },
  {
   "cell_type": "markdown",
   "metadata": {},
   "source": [
    "### Pretty Print"
   ]
  },
  {
   "cell_type": "code",
   "execution_count": null,
   "metadata": {
    "collapsed": false
   },
   "outputs": [],
   "source": [
    "def indent(elem, level=0):\n",
    "    i = \"\\n\" + level*\"  \"\n",
    "    if len(elem):\n",
    "        if not elem.text or not elem.text.strip():\n",
    "            elem.text = i + \"  \"\n",
    "        if not elem.tail or not elem.tail.strip():\n",
    "            elem.tail = i\n",
    "        for elem in elem:\n",
    "            indent(elem, level+1)\n",
    "        if not elem.tail or not elem.tail.strip():\n",
    "            elem.tail = i\n",
    "    else:\n",
    "        if level and (not elem.tail or not elem.tail.strip()):\n",
    "            elem.tail = i\n",
    "            \n",
    "indent(root)\n",
    "tree.write(\"files/example_output.xml\")\n",
    "ET.dump(tree)"
   ]
  },
  {
   "cell_type": "code",
   "execution_count": null,
   "metadata": {
    "collapsed": true
   },
   "outputs": [],
   "source": [
    "# %load files/example_output.xml"
   ]
  },
  {
   "cell_type": "markdown",
   "metadata": {},
   "source": [
    "### Etree to Dict { }"
   ]
  },
  {
   "cell_type": "code",
   "execution_count": null,
   "metadata": {
    "collapsed": true
   },
   "outputs": [],
   "source": [
    "from collections import defaultdict\n",
    "\n",
    "def etree_to_dict(t):\n",
    "    d = {t.tag: {} if t.attrib else None}\n",
    "    children = list(t)\n",
    "    if children:\n",
    "        dd = defaultdict(list)\n",
    "        for dc in map(etree_to_dict, children):\n",
    "            for k, v in dc.iteritems():\n",
    "                dd[k].append(v)\n",
    "        d = {t.tag: {k:v[0] if len(v) == 1 else v for k, v in dd.iteritems()}}\n",
    "    if t.attrib:\n",
    "        d[t.tag].update(('@' + k, v) for k, v in t.attrib.iteritems())\n",
    "    if t.text:\n",
    "        text = t.text.strip()\n",
    "        if children or t.attrib:\n",
    "            if text:\n",
    "              d[t.tag]['#text'] = text\n",
    "        else:\n",
    "            d[t.tag] = text\n",
    "    return d"
   ]
  },
  {
   "cell_type": "code",
   "execution_count": null,
   "metadata": {
    "collapsed": false
   },
   "outputs": [],
   "source": [
    "d = etree_to_dict(root)\n",
    "d"
   ]
  },
  {
   "cell_type": "markdown",
   "metadata": {},
   "source": [
    "### Dict { } to Etree"
   ]
  },
  {
   "cell_type": "code",
   "execution_count": null,
   "metadata": {
    "collapsed": false
   },
   "outputs": [],
   "source": [
    "def dict_to_etree(d):\n",
    "    def _to_etree(d, root):\n",
    "        if not d:\n",
    "            pass\n",
    "        elif isinstance(d, basestring):\n",
    "            root.text = d\n",
    "        elif isinstance(d, dict):\n",
    "            for k,v in d.items():\n",
    "                assert isinstance(k, basestring)\n",
    "                if k.startswith('#'):\n",
    "                    assert k == '#text' and isinstance(v, basestring)\n",
    "                    root.text = v\n",
    "                elif k.startswith('@'):\n",
    "                    assert isinstance(v, basestring)\n",
    "                    root.set(k[1:], v)\n",
    "                elif isinstance(v, list):\n",
    "                    for e in v:\n",
    "                        _to_etree(e, ET.SubElement(root, k))\n",
    "                else:\n",
    "                    _to_etree(v, ET.SubElement(root, k))\n",
    "        else: assert d == 'invalid type', (type(d), d)\n",
    "    assert isinstance(d, dict) and len(d) == 1\n",
    "    tag, body = next(iter(d.items()))\n",
    "    node = ET.Element(tag)\n",
    "    _to_etree(body, node)\n",
    "    return node"
   ]
  },
  {
   "cell_type": "code",
   "execution_count": null,
   "metadata": {
    "collapsed": false
   },
   "outputs": [],
   "source": [
    "t = dict_to_etree(d)\n",
    "indent(t)\n",
    "ET.dump(t)"
   ]
  },
  {
   "cell_type": "markdown",
   "metadata": {},
   "source": [
    "## Exercise: Analyze an XML file\n",
    "### Problem\n",
    "**Objectives:** \n",
    "- Extract Maven plugins information from ```base-corporate-pom```.\n",
    "- Add a new Maven plugin to ```base-corporate-pom```.\n",
    "- Write Maven plugins information to a new file ```files/pom_maven_plugins.xml````\n",
    "\n",
    "**Information:**\n",
    "\n",
    "- ```base-corporate-pom``` pom.xml is located in ```files/pom.xml```\n",
    "\n",
    "\n",
    "- XML plugin structure:\n",
    "```\n",
    "<project>\n",
    "    <!-- Plugin version -->\n",
    "    <properties>\n",
    "        <maven-surefire-plugin.version>2.12.4</maven-surefire-plugin.version>\n",
    "    </properties>\n",
    "    <!-- Plugin info -->\n",
    "    <build>\n",
    "        <pluginManagement>\n",
    "            <plugins>\n",
    "                <plugin>\n",
    "                    <groupId>org.apache.maven.plugin</groupId>\n",
    "                    <artifactId>maven-surefire-plugin</version>\n",
    "                    <version>$(maven-surefire-plugin.version)</version>\n",
    "                 </plugin>\n",
    "            </plugins>\n",
    "         </pluginManagement>\n",
    "    </build>\n",
    "</project>\n",
    "```\n",
    "- Some plugins don't have a ```<version>``` or a ```<groupId>``` tag. Print \"N/A\" when there is no tag.\n",
    "- All plugins have an ```<artifactId>``` tag.\n",
    "\n",
    "**Desired output:**\n",
    "\n",
    "maven-surefire\n",
    "\n",
    "    groupId: org.apache.maven.plugins\n",
    "    artifactId: maven-surefire-plugin\n",
    "    version: 2.12.4"
   ]
  },
  {
   "cell_type": "markdown",
   "metadata": {},
   "source": [
    "### Solution"
   ]
  },
  {
   "cell_type": "code",
   "execution_count": null,
   "metadata": {
    "collapsed": false
   },
   "outputs": [],
   "source": [
    "import xml.etree.ElementTree as ET\n",
    "\n",
    "root = ET.parse('files/pom.xml').getroot()\n",
    "\n",
    "# Variables\n",
    "plugin_list = []\n",
    "base = \"{http://maven.apache.org/POM/4.0.0}\"\n",
    "\n",
    "# Find 'build' and 'properties' XML tags in root\n",
    "build = root.find(base + 'build')\n",
    "properties = root.find(base + 'properties')\n",
    "\n",
    "# Find 'pluginManagement' XML tag in 'build'\n",
    "pluginManagement = build.find(base + 'pluginManagement')\n",
    "\n",
    "# Find 'plugins' XML tag in 'pluginManagement'\n",
    "plugins = pluginManagement.find(base + 'plugins')\n",
    "\n",
    "# Populate plugin_list\n",
    "plugin_list = list(plugins)\n",
    "\n",
    "# Loop through plugin_list elements (of class ElementTree)\n",
    "for plugin in plugin_list:\n",
    "    \n",
    "        # Get  plugin information\n",
    "        artifactId_str = plugin.find(base + 'artifactId').text\n",
    "        name = artifactId_str.replace('-plugin', '')\n",
    "        \n",
    "        # Not all plugins have a groupId !\n",
    "        try:\n",
    "            groupId_str = plugin.find(base + 'groupId').text\n",
    "        except:\n",
    "            groupId_str = \"N/A\"\n",
    "        \n",
    "        # Not all plugins have a version !\n",
    "        try:\n",
    "            version_str = plugin.find(base + 'version').text\n",
    "            # Get plugin from <properties> element\n",
    "            version_str = version[2:-1] # strip '$', '{', and '}' from version\n",
    "            version_str = properties.find(base + version).text\n",
    "        except:\n",
    "            version_str = \"N/A\"\n",
    "            \n",
    "        # Print plugin information\n",
    "        print artifactId.replace('-plugin', '')\n",
    "        print \"\\t\" + \"groupId: \" + groupId_str\n",
    "        print \"\\t\" + \"artifactId: \" + artifactId_str\n",
    "        print \"\\t\" + \"version: \" + version_str\n",
    "        print"
   ]
  },
  {
   "cell_type": "markdown",
   "metadata": {},
   "source": [
    "### Solution 2 (improved)"
   ]
  },
  {
   "cell_type": "code",
   "execution_count": 3,
   "metadata": {
    "collapsed": false
   },
   "outputs": [
    {
     "name": "stdout",
     "output_type": "stream",
     "text": [
      "maven-surefire\n",
      "\tgroupId: org.apache.maven.plugins\n",
      "\tartifactId: maven-surefire-plugin\n",
      "\tversion: 2.12.4\n",
      "\n",
      "properties-maven\n",
      "\tgroupId: org.codehaus.mojo\n",
      "\tartifactId: properties-maven-plugin\n",
      "\tversion: 1.0-alpha-2\n",
      "\n",
      "maven-release\n",
      "\tgroupId: org.apache.maven.plugins\n",
      "\tartifactId: maven-release-plugin\n",
      "\tversion: 2.2.1\n",
      "\n",
      "maven-install\n",
      "\tgroupId: org.apache.maven.plugins\n",
      "\tartifactId: maven-install-plugin\n",
      "\tversion: 2.4\n",
      "\n",
      "maven-deploy\n",
      "\tgroupId: org.apache.maven.plugins\n",
      "\tartifactId: maven-deploy-plugin\n",
      "\tversion: 2.7\n",
      "\n",
      "versions-maven\n",
      "\tgroupId: org.codehaus.mojo\n",
      "\tartifactId: versions-maven-plugin\n",
      "\tversion: 2.1\n",
      "\n",
      "ccc-versions-maven\n",
      "\tgroupId: com.cccis.build.maven\n",
      "\tartifactId: ccc-versions-maven-plugin\n",
      "\tversion: 0.0.38\n",
      "\n",
      "oc4j-admin-maven\n",
      "\tgroupId: com.cccis.build.maven\n",
      "\tartifactId: oc4j-admin-maven-plugin\n",
      "\tversion: 0.0.37\n",
      "\n",
      "weblogic-maven\n",
      "\tgroupId: com.oracle.weblogic\n",
      "\tartifactId: weblogic-maven-plugin\n",
      "\tversion: 10.3.4\n",
      "\n",
      "wls-maven\n",
      "\tgroupId: com.oracle.weblogic\n",
      "\tartifactId: wls-maven-plugin\n",
      "\tversion: 12.1.1.0\n",
      "\n",
      "gmaven\n",
      "\tgroupId: org.codehaus.gmaven\n",
      "\tartifactId: gmaven-plugin\n",
      "\tversion: 1.3\n",
      "\n",
      "maven-enforcer\n",
      "\tgroupId: org.apache.maven.plugins\n",
      "\tartifactId: maven-enforcer-plugin\n",
      "\tversion: 1.2\n",
      "\n",
      "maven-eclipse\n",
      "\tgroupId: org.apache.maven.plugins\n",
      "\tartifactId: maven-eclipse-plugin\n",
      "\tversion: N/A\n",
      "\n",
      "lifecycle-mapping\n",
      "\tgroupId: org.eclipse.m2e\n",
      "\tartifactId: lifecycle-mapping\n",
      "\tversion: 1.0.0\n",
      "\n",
      "maven-site\n",
      "\tgroupId: org.apache.maven.plugins\n",
      "\tartifactId: maven-site-plugin\n",
      "\tversion: 3.3\n",
      "\n",
      "maven-assembly\n",
      "\tgroupId: N/A\n",
      "\tartifactId: maven-assembly-plugin\n",
      "\tversion: 2.3\n",
      "\n",
      "deployment-maven\n",
      "\tgroupId: com.cccis.build.maven\n",
      "\tartifactId: deployment-maven-plugin\n",
      "\tversion: 0.0.41\n",
      "\n",
      "site-publish-helper\n",
      "\tgroupId: com.cccis.build.maven\n",
      "\tartifactId: site-publish-helper\n",
      "\tversion: 0.0.37\n",
      "\n",
      "maven-antrun\n",
      "\tgroupId: org.apache.maven.plugins\n",
      "\tartifactId: maven-antrun-plugin\n",
      "\tversion: 1.7\n",
      "\n"
     ]
    }
   ],
   "source": [
    "import xml.etree.ElementTree as ET\n",
    "import re\n",
    "\n",
    "def concat(list_tags):\n",
    "    # Small function to concatenate the base with the tag name for a list of names.\n",
    "    # Return a tuple containing the new names.\n",
    "    t = tuple()\n",
    "    for tag in list_tags:\n",
    "        t += (base + tag,)\n",
    "    return t\n",
    "\n",
    "def build_path(list_, base = ''):\n",
    "    # Create a path from a list of subpaths. \n",
    "    # If a base is defined, append the based before each path element.\n",
    "    path = \".\"\n",
    "    for a in list_:\n",
    "        if base:\n",
    "            path += \"/\" + base + a\n",
    "            continue\n",
    "        path += \"/\" + a\n",
    "    return path\n",
    "\n",
    "def get_plugin_info(plugin):\n",
    "    # Get concatenated names\n",
    "    names = ['artifactId', 'groupId', 'version']\n",
    "    aId, gId, v = concat(names)\n",
    "    \n",
    "    # Get elements from plugin ET\n",
    "    artifactId = plugin.find(aId)\n",
    "    groupId = plugin.find(gId)\n",
    "    version = plugin.find(v)\n",
    "    \n",
    "    # Set output values\n",
    "    \n",
    "    try:\n",
    "        aId_str = artifactId.text\n",
    "    except Exception as e:\n",
    "        raise(e)\n",
    "            \n",
    "    try:\n",
    "        gId_str = groupId.text\n",
    "    except:\n",
    "        gId_str = \"N/A\"\n",
    "        \n",
    "    try:\n",
    "        version_str = version.text # strip '$', '{', and '}' from version.text\n",
    "        try:\n",
    "            float(version_str)\n",
    "            version_str = str(version_str)\n",
    "        except ValueError:\n",
    "            version_str = version_str[2:-1]\n",
    "            version_str = properties.find(base + version_str).text\n",
    "    except:\n",
    "        version_str = \"N/A\"\n",
    "    \n",
    "    # Return plugin information\n",
    "    name_str = aId_str.replace('-plugin','')  \n",
    "    return (aId_str, gId_str, version_str, name_str)\n",
    "\n",
    "def print_plugin(plugin):\n",
    "    artifactId, groupId, version, name = get_plugin_info(plugin) \n",
    "    print name\n",
    "    print \"\\t\" + \"groupId: \" + groupId\n",
    "    print \"\\t\" + \"artifactId: \" + artifactId\n",
    "    print \"\\t\" + \"version: \" + version\n",
    "    print\n",
    "   \n",
    "\n",
    "# main function\n",
    "if __name__ == '__main__':\n",
    "    root = ET.parse('files/pom.xml').getroot()\n",
    "    base = \"{http://maven.apache.org/POM/4.0.0}\"\n",
    "    \n",
    "    # Generate plugins path and properties path\n",
    "    plugins_path    = build_path(['build', 'pluginManagement', 'plugins'], base=base)\n",
    "    properties_path = build_path(['properties'], base=base)\n",
    "    \n",
    "    # Generate search pattern for plugins version tags in <properties>\n",
    "    pattern = r\"^maven-.*\\.version\" # Regex to match plugin info tags.    \n",
    "\n",
    "    # Get plugins ET and properties ET\n",
    "    plugins = root.find(plugins_path)\n",
    "    properties = root.find(properties_path)\n",
    "\n",
    "    # Get plugins info and print plugins\n",
    "    for p in plugins.findall(base + 'plugin'):\n",
    "        get_plugin_info(p)\n",
    "        print_plugin(p)"
   ]
  },
  {
   "cell_type": "markdown",
   "metadata": {},
   "source": [
    "  "
   ]
  },
  {
   "cell_type": "markdown",
   "metadata": {},
   "source": [
    "# REST API (Django)"
   ]
  },
  {
   "cell_type": "markdown",
   "metadata": {
    "collapsed": true
   },
   "source": [
    "## Serialization"
   ]
  },
  {
   "cell_type": "code",
   "execution_count": null,
   "metadata": {
    "collapsed": true
   },
   "outputs": [],
   "source": []
  },
  {
   "cell_type": "code",
   "execution_count": null,
   "metadata": {
    "collapsed": true
   },
   "outputs": [],
   "source": []
  },
  {
   "cell_type": "code",
   "execution_count": null,
   "metadata": {
    "collapsed": true
   },
   "outputs": [],
   "source": []
  },
  {
   "cell_type": "code",
   "execution_count": null,
   "metadata": {
    "collapsed": true
   },
   "outputs": [],
   "source": []
  },
  {
   "cell_type": "markdown",
   "metadata": {},
   "source": [
    "## Requests and Responses"
   ]
  },
  {
   "cell_type": "code",
   "execution_count": null,
   "metadata": {
    "collapsed": true
   },
   "outputs": [],
   "source": []
  },
  {
   "cell_type": "code",
   "execution_count": null,
   "metadata": {
    "collapsed": true
   },
   "outputs": [],
   "source": []
  },
  {
   "cell_type": "code",
   "execution_count": null,
   "metadata": {
    "collapsed": true
   },
   "outputs": [],
   "source": []
  },
  {
   "cell_type": "code",
   "execution_count": null,
   "metadata": {
    "collapsed": true
   },
   "outputs": [],
   "source": []
  },
  {
   "cell_type": "markdown",
   "metadata": {},
   "source": [
    "## Class Based view"
   ]
  },
  {
   "cell_type": "code",
   "execution_count": null,
   "metadata": {
    "collapsed": true
   },
   "outputs": [],
   "source": []
  },
  {
   "cell_type": "code",
   "execution_count": null,
   "metadata": {
    "collapsed": true
   },
   "outputs": [],
   "source": []
  },
  {
   "cell_type": "code",
   "execution_count": null,
   "metadata": {
    "collapsed": true
   },
   "outputs": [],
   "source": []
  },
  {
   "cell_type": "code",
   "execution_count": null,
   "metadata": {
    "collapsed": true
   },
   "outputs": [],
   "source": []
  },
  {
   "cell_type": "markdown",
   "metadata": {},
   "source": [
    "## Authentication and Permission"
   ]
  },
  {
   "cell_type": "code",
   "execution_count": null,
   "metadata": {
    "collapsed": true
   },
   "outputs": [],
   "source": []
  },
  {
   "cell_type": "code",
   "execution_count": null,
   "metadata": {
    "collapsed": true
   },
   "outputs": [],
   "source": []
  },
  {
   "cell_type": "code",
   "execution_count": null,
   "metadata": {
    "collapsed": true
   },
   "outputs": [],
   "source": []
  },
  {
   "cell_type": "code",
   "execution_count": null,
   "metadata": {
    "collapsed": true
   },
   "outputs": [],
   "source": []
  },
  {
   "cell_type": "markdown",
   "metadata": {},
   "source": [
    "## Relationships and Hyperlink APIs"
   ]
  },
  {
   "cell_type": "code",
   "execution_count": null,
   "metadata": {
    "collapsed": true
   },
   "outputs": [],
   "source": []
  },
  {
   "cell_type": "code",
   "execution_count": null,
   "metadata": {
    "collapsed": true
   },
   "outputs": [],
   "source": []
  },
  {
   "cell_type": "code",
   "execution_count": null,
   "metadata": {
    "collapsed": true
   },
   "outputs": [],
   "source": []
  },
  {
   "cell_type": "code",
   "execution_count": null,
   "metadata": {
    "collapsed": true
   },
   "outputs": [],
   "source": []
  },
  {
   "cell_type": "markdown",
   "metadata": {},
   "source": [
    "  "
   ]
  },
  {
   "cell_type": "markdown",
   "metadata": {},
   "source": [
    "# SQL Data Access (MySQL)"
   ]
  },
  {
   "cell_type": "code",
   "execution_count": null,
   "metadata": {
    "collapsed": true
   },
   "outputs": [],
   "source": [
    "import mysql.connector"
   ]
  },
  {
   "cell_type": "markdown",
   "metadata": {
    "collapsed": true
   },
   "source": [
    "### Connecting to MySQL DB"
   ]
  },
  {
   "cell_type": "code",
   "execution_count": null,
   "metadata": {
    "collapsed": true
   },
   "outputs": [],
   "source": []
  },
  {
   "cell_type": "markdown",
   "metadata": {},
   "source": [
    "### Creating a table"
   ]
  },
  {
   "cell_type": "code",
   "execution_count": null,
   "metadata": {
    "collapsed": true
   },
   "outputs": [],
   "source": []
  },
  {
   "cell_type": "markdown",
   "metadata": {},
   "source": [
    "### Populating a table"
   ]
  },
  {
   "cell_type": "code",
   "execution_count": null,
   "metadata": {
    "collapsed": true
   },
   "outputs": [],
   "source": []
  },
  {
   "cell_type": "markdown",
   "metadata": {},
   "source": [
    "### Querying data from a table"
   ]
  },
  {
   "cell_type": "code",
   "execution_count": null,
   "metadata": {
    "collapsed": true
   },
   "outputs": [],
   "source": []
  },
  {
   "cell_type": "code",
   "execution_count": null,
   "metadata": {
    "collapsed": true
   },
   "outputs": [],
   "source": []
  },
  {
   "cell_type": "markdown",
   "metadata": {},
   "source": [
    "  "
   ]
  },
  {
   "cell_type": "markdown",
   "metadata": {},
   "source": [
    "# NoSQL Data Access (DynamoDB)"
   ]
  },
  {
   "cell_type": "code",
   "execution_count": null,
   "metadata": {
    "collapsed": false
   },
   "outputs": [],
   "source": [
    "import boto3"
   ]
  },
  {
   "cell_type": "markdown",
   "metadata": {
    "collapsed": true
   },
   "source": [
    "### Connecting to DynamoDB"
   ]
  },
  {
   "cell_type": "code",
   "execution_count": null,
   "metadata": {
    "collapsed": true
   },
   "outputs": [],
   "source": []
  },
  {
   "cell_type": "markdown",
   "metadata": {},
   "source": [
    "### Populating a table"
   ]
  },
  {
   "cell_type": "code",
   "execution_count": null,
   "metadata": {
    "collapsed": true
   },
   "outputs": [],
   "source": []
  },
  {
   "cell_type": "markdown",
   "metadata": {},
   "source": [
    "### Querying data from a table"
   ]
  },
  {
   "cell_type": "code",
   "execution_count": null,
   "metadata": {
    "collapsed": true
   },
   "outputs": [],
   "source": []
  },
  {
   "cell_type": "code",
   "execution_count": null,
   "metadata": {
    "collapsed": true
   },
   "outputs": [],
   "source": []
  },
  {
   "cell_type": "markdown",
   "metadata": {},
   "source": [
    "  "
   ]
  },
  {
   "cell_type": "markdown",
   "metadata": {},
   "source": [
    "# Exercise: Parse a switch record and output to MySQL"
   ]
  },
  {
   "cell_type": "code",
   "execution_count": null,
   "metadata": {
    "collapsed": true
   },
   "outputs": [],
   "source": []
  },
  {
   "cell_type": "code",
   "execution_count": null,
   "metadata": {
    "collapsed": true
   },
   "outputs": [],
   "source": []
  },
  {
   "cell_type": "code",
   "execution_count": null,
   "metadata": {
    "collapsed": true
   },
   "outputs": [],
   "source": []
  }
 ],
 "metadata": {
  "kernelspec": {
   "display_name": "Python 2",
   "language": "python",
   "name": "python2"
  },
  "language_info": {
   "codemirror_mode": {
    "name": "ipython",
    "version": 2
   },
   "file_extension": ".py",
   "mimetype": "text/x-python",
   "name": "python",
   "nbconvert_exporter": "python",
   "pygments_lexer": "ipython2",
   "version": "2.7.10"
  }
 },
 "nbformat": 4,
 "nbformat_minor": 0
}
