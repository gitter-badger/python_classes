{
 "cells": [
  {
   "cell_type": "markdown",
   "metadata": {},
   "source": [
    "#  NumPy\n",
    "**NumPy is the fundamental package for scientific computing with Python.**\n",
    "\n",
    "* **Module required**: ```numpy```\n",
    "* **Installation**: ```pip install numpy``` - http://www.scipy.org/scipylib/download.html"
   ]
  },
  {
   "cell_type": "code",
   "execution_count": null,
   "metadata": {
    "collapsed": true
   },
   "outputs": [],
   "source": [
    "import numpy as np"
   ]
  },
  {
   "cell_type": "markdown",
   "metadata": {},
   "source": [
    "## Arrays\n",
    "**A numpy array is a grid of values, all of the same type, and is indexed by a tuple of nonnegative integers.**"
   ]
  },
  {
   "cell_type": "code",
   "execution_count": null,
   "metadata": {
    "collapsed": false
   },
   "outputs": [],
   "source": [
    "arr = np.array([1, 2, 3])     \n",
    "a = np.zeros((2, 2))        # Create an array of all ones\n",
    "b = np.ones((1, 2))         # Create an array of all zeros\n",
    "c = np.full((5,5), 7)       # Create a constant array\n",
    "d = np.eye(5)               # Create 2x2 identity matrix\n",
    "e = np.random.random((2,2)) # Create an array filled with random values\n",
    "\n",
    "my_array = np.array([[1,2,3,4], [5,6,7,8], [9,10,11,12]])"
   ]
  },
  {
   "cell_type": "code",
   "execution_count": null,
   "metadata": {
    "collapsed": false,
    "scrolled": true
   },
   "outputs": [],
   "source": [
    "print arr\n",
    "print\n",
    "print a\n",
    "print\n",
    "print b\n",
    "print\n",
    "print c\n",
    "print\n",
    "print d\n",
    "print\n",
    "print e\n",
    "print \n",
    "print my_array"
   ]
  },
  {
   "cell_type": "markdown",
   "metadata": {
    "collapsed": false
   },
   "source": [
    "## Array indexing"
   ]
  },
  {
   "cell_type": "markdown",
   "metadata": {},
   "source": [
    "**Normal indexing**"
   ]
  },
  {
   "cell_type": "code",
   "execution_count": null,
   "metadata": {
    "collapsed": false
   },
   "outputs": [],
   "source": [
    "my_array = np.array([[1,2,3,4], [5,6,7,8], [9,10,11,12]])\n",
    "print my_array[0]    # same as for Python lists\n",
    "print my_array[-1]   # same as for Python lists\n",
    "print my_array[0][1] # same as for Python lists\n",
    "print my_array[0, 1] # new in Numpy arrays"
   ]
  },
  {
   "cell_type": "markdown",
   "metadata": {},
   "source": [
    "**Integer array indexing**"
   ]
  },
  {
   "cell_type": "code",
   "execution_count": null,
   "metadata": {
    "collapsed": false
   },
   "outputs": [],
   "source": [
    "my_array = np.array([[1,2,3,4], [5,6,7,8], [9,10,11,12]])\n",
    "\n",
    "print my_array[[0, 1, 2], [2, 1, 3]]"
   ]
  },
  {
   "cell_type": "code",
   "execution_count": null,
   "metadata": {
    "collapsed": false
   },
   "outputs": [],
   "source": [
    "# Equivalent to this\n",
    "print np.array([my_array[0, 2], my_array[1, 1], my_array[2, 3]])"
   ]
  },
  {
   "cell_type": "markdown",
   "metadata": {},
   "source": [
    "**Boolean array indexing**"
   ]
  },
  {
   "cell_type": "code",
   "execution_count": null,
   "metadata": {
    "collapsed": false
   },
   "outputs": [],
   "source": [
    "my_array = np.array([[1,2,3,4], [5,6,7,8], [9,10,11,12]])\n",
    "\n",
    "bool_idx = (my_array > 2)\n",
    "print bool_idx\n",
    "\n",
    "my_array[bool_idx]"
   ]
  },
  {
   "cell_type": "code",
   "execution_count": null,
   "metadata": {
    "collapsed": false
   },
   "outputs": [],
   "source": [
    "# Or directly\n",
    "my_array[my_array > 2]"
   ]
  },
  {
   "cell_type": "code",
   "execution_count": null,
   "metadata": {
    "collapsed": false
   },
   "outputs": [],
   "source": [
    "# Multiple boolean conditions\n",
    "my_array[(my_array > 2) & (my_array % 2 == 0) & (my_array <= 10)]"
   ]
  },
  {
   "cell_type": "markdown",
   "metadata": {},
   "source": [
    "**Slicing**"
   ]
  },
  {
   "cell_type": "code",
   "execution_count": null,
   "metadata": {
    "collapsed": false
   },
   "outputs": [],
   "source": [
    "b = my_array[:2, :3] # take first column, \n",
    "print my_array\n",
    "print\n",
    "print b\n",
    "print\n",
    "\n",
    "# A slice of an array is a view into the same data, \n",
    "# so modifying it will modify the original array\n",
    "print my_array[0,1]\n",
    "b[0, 0] = 55\n",
    "print b"
   ]
  },
  {
   "cell_type": "markdown",
   "metadata": {},
   "source": [
    "## Datatypes"
   ]
  },
  {
   "cell_type": "code",
   "execution_count": null,
   "metadata": {
    "collapsed": false
   },
   "outputs": [],
   "source": [
    "x = np.array([1, 2])\n",
    "print x.dtype\n",
    "\n",
    "x = np.array([1.0, 2])\n",
    "print x.dtype\n",
    "\n",
    "x = np.array([1, 2.5895984375897234985798234795734287592349857234985798324759234875987], dtype=np.float128)\n",
    "print x.dtype"
   ]
  },
  {
   "cell_type": "markdown",
   "metadata": {},
   "source": [
    "## Array math"
   ]
  },
  {
   "cell_type": "code",
   "execution_count": null,
   "metadata": {
    "collapsed": false
   },
   "outputs": [],
   "source": [
    "x = np.array([[1,2],[3,4]], dtype=np.float64)\n",
    "y = np.array([[5,6],[7,8]], dtype=np.float64)\n",
    "\n",
    "print x\n",
    "print y\n",
    "\n",
    "# Addition\n",
    "print \"Add:\"\n",
    "print x + y    # np.add(x, y)\n",
    "\n",
    "# Difference\n",
    "print \"Substract:\"\n",
    "print x - y    # np.subtract(x, y)\n",
    "\n",
    "# Product\n",
    "print \"Multiply: \"\n",
    "print x * y    # np.multiply(x, y)\n",
    "\n",
    "# Matrix product \n",
    "print \"Matrix product:\"\n",
    "print x.dot(y) # np.dot(x, y)\n",
    "\n",
    "# Division\n",
    "print \"Divide:\"\n",
    "print x / y    # np.divide(x, y)\n",
    "\n",
    "# Square root\n",
    "print \"Square root:\"\n",
    "print np.sqrt(x)\n",
    "\n",
    "# Transpose\n",
    "print \"Transpose:\"\n",
    "print x.T\n",
    "\n",
    "# Sum\n",
    "print \"Sum: \"\n",
    "print np.sum(x)\n",
    "print np.sum(x, axis=0) # Compute sum of each column\n",
    "print np.sum(x, axis=1) # Compute sum of each row"
   ]
  },
  {
   "cell_type": "markdown",
   "metadata": {},
   "source": [
    "## Broadcasting\n",
    "**Broadcasting is a powerful mechanism that allows numpy to work with arrays of different shapes (dimensions) when performing arithmetic operations. Frequently we have a smaller array and a larger array, and we want to use the smaller array multiple times to perform some operation on the larger array.**"
   ]
  },
  {
   "cell_type": "code",
   "execution_count": null,
   "metadata": {
    "collapsed": false
   },
   "outputs": [],
   "source": [
    "# We will add the vector v to each row of the matrix x,\n",
    "# storing the result in the matrix y\n",
    "x = np.array([[1,2,3], [4,5,6], [7,8,9], [10, 11, 12]])\n",
    "v = np.array([1, 0, 1])\n",
    "y = np.empty_like(x)   # Create an empty matrix with the same shape as x\n",
    "\n",
    "print np.shape(x)\n",
    "# Add the vector v to each row of the matrix x with an explicit loop\n",
    "for i in range(np.shape(x)[1]):\n",
    "    y[i, :] = x[i, :] + v\n",
    "print y"
   ]
  },
  {
   "cell_type": "markdown",
   "metadata": {},
   "source": [
    "This works; however when the matrix x is very large, computing an explicit loop in Python could be slow. Note that adding the vector v to each row of the matrix x is equivalent to forming a matrix vv by stacking multiple copies of v vertically, then performing elementwise summation of x and vv."
   ]
  },
  {
   "cell_type": "code",
   "execution_count": null,
   "metadata": {
    "collapsed": false
   },
   "outputs": [],
   "source": [
    "x = np.array([[1,2,3], [4,5,6], [7,8,9], [10, 11, 12]])\n",
    "v = np.array([1, 0, 1])\n",
    "y = x + v  # Add v to each row of x using broadcasting\n",
    "print x\n",
    "print v\n",
    "print y"
   ]
  },
  {
   "cell_type": "markdown",
   "metadata": {
    "slideshow": {
     "slide_type": "skip"
    }
   },
   "source": [
    "## Functions"
   ]
  },
  {
   "cell_type": "markdown",
   "metadata": {
    "slideshow": {
     "slide_type": "skip"
    }
   },
   "source": [
    "* **```add(x1, x2[, out])```** - Add arguments element-wise.\n",
    "* **```subtract(x1, x2[, out])```** - Subtract arguments, element-wise.\n",
    "* ** ```multiply(x1, x2[, out])```** - Multiply arguments element-wise.\n",
    "* **```divide(x1, x2[, out])```** - Divide arguments element-wise.\n",
    "* **```logaddexp(x1, x2[, out])```** - Logarithm of the sum of exponentiations of the inputs.\n",
    "* **```logaddexp2(x1, x2[, out])```** - Logarithm of the sum of exponentiations of the inputs in base-2.\n",
    "* **```true_divide(x1, x2[, out])```** - Returns a true division of the inputs, element-wise.\n",
    "* **```floor_divide(x1, x2[, out])```** - Return the largest integer smaller or equal to the division of the inputs.\n",
    "* **```negative(x[, out])```** - Numerical negative, element-wise.\n",
    "* **```power(x1, x2[, out])```** - First array elements raised to powers from second array, element-wise.\n",
    "* **```remainder(x1, x2[, out])```** - Return element-wise remainder of division.\n",
    "* **```mod(x1, x2[, out])```** - Return element-wise remainder of division.\n",
    "* **```fmod(x1, x2[, out])```** - Return the element-wise remainder of division.\n",
    "* **```absolute(x[, out])```** - Calculate the absolute value element-wise.\n",
    "* **```rint(x[, out])```** - Round elements of the array to the nearest integer.\n",
    "* **```sign(x[, out])```** - Returns an element-wise indication of the sign of a number.\n",
    "* **```conj(x[, out])```** - Return the complex conjugate, element-wise.\n",
    "* **```exp(x[, out])```** - Calculate the exponential of all elements in the input array.\n",
    "* **```exp2(x[, out]) ```**\t- Calculate 2**p for all p in the input array.\n",
    "* **```log(x[, out]) ```** - Natural logarithm, element-wise.\n",
    "* **```log2(x[, out])```** - Base-2 logarithm of x.\n",
    "* **```log10(x[, out])```** - Return the base 10 logarithm of the input array, element-wise.\n",
    "* **```expm1(x[, out])```** - Calculate exp(x) - 1 for all elements in the array.\n",
    "* **```log1p(x[, out]) ```** - Return the natural logarithm of one plus the input array, element-wise.\n",
    "* **```sqrt(x[, out])```** - Return the positive square-root of an array, element-wise.\n",
    "* **```square(x[, out])```** - Return the element-wise square of the input.\n",
    "* **```reciprocal(x[, out])```** - Return the reciprocal of the argument, element-wise.\n",
    "* **```ones_like(a[, dtype, order, subok])```** - Return an array of ones with the same shape and type as a given array."
   ]
  },
  {
   "cell_type": "markdown",
   "metadata": {},
   "source": [
    "# Matplotlib\n",
    "**Matplotlib provides a MATLAB-like plotting framework.**\n",
    "\n",
    "* **Module required**: ```matplotlib```\n",
    "* **Installation**: ```pip install matplotlib``` - http://matplotlib.org/users/installing.html "
   ]
  },
  {
   "cell_type": "code",
   "execution_count": null,
   "metadata": {
    "collapsed": false
   },
   "outputs": [],
   "source": [
    "import matplotlib.pyplot as plt"
   ]
  },
  {
   "cell_type": "markdown",
   "metadata": {
    "collapsed": true
   },
   "source": [
    "## Plotting"
   ]
  },
  {
   "cell_type": "code",
   "execution_count": null,
   "metadata": {
    "collapsed": false
   },
   "outputs": [],
   "source": [
    "plt.plot([1, 2, 4, 16])\n",
    "plt.ylabel('some numbers')\n",
    "plt.show()"
   ]
  },
  {
   "cell_type": "markdown",
   "metadata": {},
   "source": [
    "**Plot x versus y**"
   ]
  },
  {
   "cell_type": "code",
   "execution_count": null,
   "metadata": {
    "collapsed": false
   },
   "outputs": [],
   "source": [
    "plt.plot([1, 2, 3, 4], [1, 4, 9, 16])\n",
    "\n",
    "# axis [xmin, xmax, ymin, ymax]\n",
    "plt.axis([0, 6, 0, 20])"
   ]
  },
  {
   "cell_type": "code",
   "execution_count": null,
   "metadata": {
    "collapsed": false
   },
   "outputs": [],
   "source": [
    "sizes = range(10000)\n",
    "plt.plot(sizes, [s*(s-1)/2.0 for s in sizes])\n",
    "plt.show()"
   ]
  },
  {
   "cell_type": "markdown",
   "metadata": {},
   "source": [
    "**With numpy arrays**"
   ]
  },
  {
   "cell_type": "code",
   "execution_count": null,
   "metadata": {
    "collapsed": false
   },
   "outputs": [],
   "source": [
    "import numpy as np\n",
    "\n",
    "# evenly sampled time at 200 ms intervals\n",
    "t = np.arange(0., 5., 0.2)\n",
    "\n",
    "# red dashed, blue squares and green triangles\n",
    "plt.plot(t, t, 'r--', t, t**2, 'bs', t, t**3, 'g^')\n",
    "plt.show()"
   ]
  },
  {
   "cell_type": "markdown",
   "metadata": {},
   "source": [
    "## Subplots"
   ]
  },
  {
   "cell_type": "code",
   "execution_count": null,
   "metadata": {
    "collapsed": true
   },
   "outputs": [],
   "source": [
    "def f(t):\n",
    "    return np.exp(-t) * np.cos(2*np.pi*t)\n",
    "\n",
    "t1 = np.arange(0.0, 5.0, 0.1)\n",
    "t2 = np.arange(0.0, 5.0, 0.02)\n",
    "\n",
    "plt.figure(1)\n",
    "plt.subplot(211)\n",
    "plt.plot(t1, f(t1), 'bo', t2, f(t2), 'k')\n",
    "\n",
    "plt.subplot(212)\n",
    "plt.plot(t2, np.cos(2*np.pi*t2), 'r--')\n",
    "\n",
    "plt.show()"
   ]
  },
  {
   "cell_type": "markdown",
   "metadata": {},
   "source": [
    "**Multiple figures**"
   ]
  },
  {
   "cell_type": "code",
   "execution_count": null,
   "metadata": {
    "collapsed": false
   },
   "outputs": [],
   "source": [
    "plt.figure(1)                # the first figure\n",
    "plt.subplot(211)             # the first subplot in the first figure\n",
    "plt.plot([1, 2, 3])\n",
    "plt.subplot(212)             # the second subplot in the first figure\n",
    "plt.plot([4, 5, 6])\n",
    "\n",
    "\n",
    "plt.figure(2)                # a second figure\n",
    "plt.plot([4, 5, 6])          # creates a subplot(111) by default\n",
    "\n",
    "plt.figure(1)                # figure 1 current; subplot(212) still current\n",
    "plt.subplot(211)             # make subplot(211) in figure1 current\n",
    "plt.title('Easy as 1, 2, 3') # subplot 211 title\n",
    "\n",
    "plt.show()"
   ]
  },
  {
   "cell_type": "markdown",
   "metadata": {},
   "source": [
    "**Working with text**"
   ]
  },
  {
   "cell_type": "code",
   "execution_count": null,
   "metadata": {
    "collapsed": true,
    "slideshow": {
     "slide_type": "slide"
    }
   },
   "outputs": [],
   "source": [
    "mu, sigma = 100, 15\n",
    "x = mu + sigma * np.random.randn(10000)\n",
    "\n",
    "# the histogram of the data\n",
    "n, bins, patches = plt.hist(x, 50, normed=1, facecolor='g', alpha=0.75)\n",
    "\n",
    "\n",
    "plt.xlabel('Smarts')\n",
    "plt.ylabel('Probability')\n",
    "plt.title('Histogram of IQ')\n",
    "plt.text(60, .025, r'$\\mu=100,\\ \\sigma=15$') # TeX equation expressions\n",
    "plt.axis([40, 160, 0, 0.03])\n",
    "plt.grid(False)\n",
    "plt.show()"
   ]
  },
  {
   "cell_type": "markdown",
   "metadata": {},
   "source": [
    "**Anonating text**"
   ]
  },
  {
   "cell_type": "code",
   "execution_count": null,
   "metadata": {
    "collapsed": true
   },
   "outputs": [],
   "source": [
    "ax = plt.subplot(111)\n",
    "\n",
    "t = np.arange(0.0, 5.0, 0.01)\n",
    "s = np.cos(2*np.pi*t)\n",
    "line, = plt.plot(t, s, lw=2)\n",
    "\n",
    "plt.annotate('local max', xy=(2, 1), xytext=(3, 1.5),\n",
    "            arrowprops=dict(facecolor='black', shrink=0.05),\n",
    "            )\n",
    "\n",
    "plt.ylim(-2,2)\n",
    "plt.show()"
   ]
  },
  {
   "cell_type": "markdown",
   "metadata": {},
   "source": [
    "# Pandas\n",
    "**Pandas is an open source, BSD-licensed library providing high-performance, easy-to-use data structures and data analysis tools for the Python programming language.**\n",
    "\n",
    "* **Module required**: ```pandas```\n",
    "* **Installation**: ```pip install pandas``` - http://pandas.pydata.org/pandas-docs/stable/install.html"
   ]
  },
  {
   "cell_type": "code",
   "execution_count": 1,
   "metadata": {
    "collapsed": true
   },
   "outputs": [],
   "source": [
    "from pandas import *  \n",
    "import pandas as pd"
   ]
  },
  {
   "cell_type": "markdown",
   "metadata": {},
   "source": [
    "## Series\n",
    "**One-dimensional ndarray with axis labels (including time series).**\n",
    "[Documentation](http://pandas.pydata.org/pandas-docs/stable/generated/pandas.Series.html#pandas.Series)"
   ]
  },
  {
   "cell_type": "code",
   "execution_count": 2,
   "metadata": {
    "collapsed": false
   },
   "outputs": [
    {
     "data": {
      "text/plain": [
       "0     1\n",
       "1     3\n",
       "2     5\n",
       "3   NaN\n",
       "4     6\n",
       "5     8\n",
       "dtype: float64"
      ]
     },
     "execution_count": 2,
     "metadata": {},
     "output_type": "execute_result"
    }
   ],
   "source": [
    "s = pd.Series([1,3,5,np.nan,6,8])\n",
    "s"
   ]
  },
  {
   "cell_type": "markdown",
   "metadata": {
    "collapsed": true
   },
   "source": [
    "## Dataframes\n",
    "**Two-dimensional size-mutable, potentially heterogeneous tabular data structure with labeled axes (rows and columns). Arithmetic operations align on both row and column labels. Can be thought of as a dict-like container for Series objects. The primary pandas data structure.**\n",
    "[Documentation](http://pandas.pydata.org/pandas-docs/stable/api.html#dataframe)"
   ]
  },
  {
   "cell_type": "markdown",
   "metadata": {},
   "source": [
    "### Create Data"
   ]
  },
  {
   "cell_type": "code",
   "execution_count": 13,
   "metadata": {
    "collapsed": false
   },
   "outputs": [],
   "source": [
    "################\n",
    "### Datasets ###\n",
    "################\n",
    "\n",
    "# A list of tuples\n",
    "names = ['Bob','Jessica','Mary','John','Mel']\n",
    "births = [968, 155, 77, 578, 973]\n",
    "data_zipped = zip(names,births)\n",
    "\n",
    "# A numpy array\n",
    "numpy_array = np.random.randn(6,4)\n",
    "dates = pd.date_range('20130101', periods=6)\n",
    "\n",
    "# A dict with column names as keys\n",
    "data_dict = {\n",
    "    \"Names\": [\"Bob\", \"Jessica\", \"Mary\", \"John\", \"Mel\"],\n",
    "    \"Births\": [968, 155, 77, 578, 973]\n",
    "}\n",
    "\n",
    "# A dict with column values as keys and values\n",
    "data_dict2 = {\n",
    "    \"Bob\": 968,\n",
    "    \"Jessica\": 155,\n",
    "    \"Mary\": 77,\n",
    "    \"John\": 578,\n",
    "    \"Mel\": 973\n",
    "}"
   ]
  },
  {
   "cell_type": "markdown",
   "metadata": {},
   "source": [
    "**Create a DataFrame from a list of tuples**"
   ]
  },
  {
   "cell_type": "code",
   "execution_count": 16,
   "metadata": {
    "collapsed": false
   },
   "outputs": [
    {
     "data": {
      "text/html": [
       "<div>\n",
       "<table border=\"1\" class=\"dataframe\">\n",
       "  <thead>\n",
       "    <tr style=\"text-align: right;\">\n",
       "      <th></th>\n",
       "      <th>Names</th>\n",
       "      <th>Births</th>\n",
       "    </tr>\n",
       "  </thead>\n",
       "  <tbody>\n",
       "    <tr>\n",
       "      <th>0</th>\n",
       "      <td>Bob</td>\n",
       "      <td>968</td>\n",
       "    </tr>\n",
       "    <tr>\n",
       "      <th>1</th>\n",
       "      <td>Jessica</td>\n",
       "      <td>155</td>\n",
       "    </tr>\n",
       "    <tr>\n",
       "      <th>2</th>\n",
       "      <td>Mary</td>\n",
       "      <td>77</td>\n",
       "    </tr>\n",
       "    <tr>\n",
       "      <th>3</th>\n",
       "      <td>John</td>\n",
       "      <td>578</td>\n",
       "    </tr>\n",
       "    <tr>\n",
       "      <th>4</th>\n",
       "      <td>Mel</td>\n",
       "      <td>973</td>\n",
       "    </tr>\n",
       "  </tbody>\n",
       "</table>\n",
       "</div>"
      ],
      "text/plain": [
       "     Names  Births\n",
       "0      Bob     968\n",
       "1  Jessica     155\n",
       "2     Mary      77\n",
       "3     John     578\n",
       "4      Mel     973"
      ]
     },
     "execution_count": 16,
     "metadata": {},
     "output_type": "execute_result"
    }
   ],
   "source": [
    "df = pd.DataFrame(data = data_zipped, columns=['Names', 'Births'])\n",
    "df"
   ]
  },
  {
   "cell_type": "markdown",
   "metadata": {},
   "source": [
    "**Create a DataFrame from a dictionary**"
   ]
  },
  {
   "cell_type": "code",
   "execution_count": 17,
   "metadata": {
    "collapsed": false
   },
   "outputs": [
    {
     "name": "stdout",
     "output_type": "stream",
     "text": [
      "   Births    Names\n",
      "0     968      Bob\n",
      "1     155  Jessica\n",
      "2      77     Mary\n",
      "3     578     John\n",
      "4     973      Mel\n"
     ]
    }
   ],
   "source": [
    "df = pd.DataFrame(data_dict)\n",
    "print df"
   ]
  },
  {
   "cell_type": "code",
   "execution_count": 18,
   "metadata": {
    "collapsed": false
   },
   "outputs": [
    {
     "name": "stdout",
     "output_type": "stream",
     "text": [
      "     Names  Births\n",
      "0      Mel     973\n",
      "1      Bob     968\n",
      "2     John     578\n",
      "3  Jessica     155\n",
      "4     Mary      77\n"
     ]
    }
   ],
   "source": [
    "df2 = pd.DataFrame(data_dict2.items(), columns=[\"Names\", \"Births\"])\n",
    "print df2"
   ]
  },
  {
   "cell_type": "markdown",
   "metadata": {},
   "source": [
    "**Create a DataFrame from a Numpy Array**"
   ]
  },
  {
   "cell_type": "code",
   "execution_count": 75,
   "metadata": {
    "collapsed": false
   },
   "outputs": [
    {
     "name": "stdout",
     "output_type": "stream",
     "text": [
      "          0         1         2         3\n",
      "0 -0.884469  0.497028 -0.800083 -0.876086\n",
      "1  0.313892 -1.038793 -1.312385 -0.525264\n",
      "2 -0.477669 -0.988359  0.903419  0.238790\n",
      "3  1.354466  1.311577  1.218012 -1.309197\n",
      "4 -0.263929  0.145799 -2.653418  0.609797\n",
      "5 -0.730113 -0.546828 -0.640554 -0.044465\n"
     ]
    }
   ],
   "source": [
    "df = pd.DataFrame(numpy_array, index=range(6), columns=range(4))\n",
    "print df"
   ]
  },
  {
   "cell_type": "markdown",
   "metadata": {},
   "source": [
    "**Output data to CSV**"
   ]
  },
  {
   "cell_type": "code",
   "execution_count": 24,
   "metadata": {
    "collapsed": true
   },
   "outputs": [],
   "source": [
    "df.to_csv('files/births1889_output.csv', index=True)"
   ]
  },
  {
   "cell_type": "code",
   "execution_count": 22,
   "metadata": {
    "collapsed": false
   },
   "outputs": [
    {
     "ename": "ValueError",
     "evalue": "'files/birth1889_output.csv' was not found in history, as a file, url, nor in the user namespace.",
     "output_type": "error",
     "traceback": [
      "\u001b[0;31m---------------------------------------------------------------------------\u001b[0m",
      "\u001b[0;31mValueError\u001b[0m                                Traceback (most recent call last)",
      "\u001b[0;32m<ipython-input-22-2f7c7fe2b216>\u001b[0m in \u001b[0;36m<module>\u001b[0;34m()\u001b[0m\n\u001b[0;32m----> 1\u001b[0;31m \u001b[0mget_ipython\u001b[0m\u001b[0;34m(\u001b[0m\u001b[0;34m)\u001b[0m\u001b[0;34m.\u001b[0m\u001b[0mmagic\u001b[0m\u001b[0;34m(\u001b[0m\u001b[0;34mu'load files/birth1889_output.csv'\u001b[0m\u001b[0;34m)\u001b[0m\u001b[0;34m\u001b[0m\u001b[0m\n\u001b[0m",
      "\u001b[0;32m/Library/Python/2.7/site-packages/IPython/core/interactiveshell.pyc\u001b[0m in \u001b[0;36mmagic\u001b[0;34m(self, arg_s)\u001b[0m\n\u001b[1;32m   2334\u001b[0m         \u001b[0mmagic_name\u001b[0m\u001b[0;34m,\u001b[0m \u001b[0m_\u001b[0m\u001b[0;34m,\u001b[0m \u001b[0mmagic_arg_s\u001b[0m \u001b[0;34m=\u001b[0m \u001b[0marg_s\u001b[0m\u001b[0;34m.\u001b[0m\u001b[0mpartition\u001b[0m\u001b[0;34m(\u001b[0m\u001b[0;34m' '\u001b[0m\u001b[0;34m)\u001b[0m\u001b[0;34m\u001b[0m\u001b[0m\n\u001b[1;32m   2335\u001b[0m         \u001b[0mmagic_name\u001b[0m \u001b[0;34m=\u001b[0m \u001b[0mmagic_name\u001b[0m\u001b[0;34m.\u001b[0m\u001b[0mlstrip\u001b[0m\u001b[0;34m(\u001b[0m\u001b[0mprefilter\u001b[0m\u001b[0;34m.\u001b[0m\u001b[0mESC_MAGIC\u001b[0m\u001b[0;34m)\u001b[0m\u001b[0;34m\u001b[0m\u001b[0m\n\u001b[0;32m-> 2336\u001b[0;31m         \u001b[0;32mreturn\u001b[0m \u001b[0mself\u001b[0m\u001b[0;34m.\u001b[0m\u001b[0mrun_line_magic\u001b[0m\u001b[0;34m(\u001b[0m\u001b[0mmagic_name\u001b[0m\u001b[0;34m,\u001b[0m \u001b[0mmagic_arg_s\u001b[0m\u001b[0;34m)\u001b[0m\u001b[0;34m\u001b[0m\u001b[0m\n\u001b[0m\u001b[1;32m   2337\u001b[0m \u001b[0;34m\u001b[0m\u001b[0m\n\u001b[1;32m   2338\u001b[0m     \u001b[0;31m#-------------------------------------------------------------------------\u001b[0m\u001b[0;34m\u001b[0m\u001b[0;34m\u001b[0m\u001b[0m\n",
      "\u001b[0;32m/Library/Python/2.7/site-packages/IPython/core/interactiveshell.pyc\u001b[0m in \u001b[0;36mrun_line_magic\u001b[0;34m(self, magic_name, line)\u001b[0m\n\u001b[1;32m   2255\u001b[0m                 \u001b[0mkwargs\u001b[0m\u001b[0;34m[\u001b[0m\u001b[0;34m'local_ns'\u001b[0m\u001b[0;34m]\u001b[0m \u001b[0;34m=\u001b[0m \u001b[0msys\u001b[0m\u001b[0;34m.\u001b[0m\u001b[0m_getframe\u001b[0m\u001b[0;34m(\u001b[0m\u001b[0mstack_depth\u001b[0m\u001b[0;34m)\u001b[0m\u001b[0;34m.\u001b[0m\u001b[0mf_locals\u001b[0m\u001b[0;34m\u001b[0m\u001b[0m\n\u001b[1;32m   2256\u001b[0m             \u001b[0;32mwith\u001b[0m \u001b[0mself\u001b[0m\u001b[0;34m.\u001b[0m\u001b[0mbuiltin_trap\u001b[0m\u001b[0;34m:\u001b[0m\u001b[0;34m\u001b[0m\u001b[0m\n\u001b[0;32m-> 2257\u001b[0;31m                 \u001b[0mresult\u001b[0m \u001b[0;34m=\u001b[0m \u001b[0mfn\u001b[0m\u001b[0;34m(\u001b[0m\u001b[0;34m*\u001b[0m\u001b[0margs\u001b[0m\u001b[0;34m,\u001b[0m\u001b[0;34m**\u001b[0m\u001b[0mkwargs\u001b[0m\u001b[0;34m)\u001b[0m\u001b[0;34m\u001b[0m\u001b[0m\n\u001b[0m\u001b[1;32m   2258\u001b[0m             \u001b[0;32mreturn\u001b[0m \u001b[0mresult\u001b[0m\u001b[0;34m\u001b[0m\u001b[0m\n\u001b[1;32m   2259\u001b[0m \u001b[0;34m\u001b[0m\u001b[0m\n",
      "\u001b[0;32m/Library/Python/2.7/site-packages/IPython/core/magics/code.pyc\u001b[0m in \u001b[0;36mload\u001b[0;34m(self, arg_s)\u001b[0m\n",
      "\u001b[0;32m/Library/Python/2.7/site-packages/IPython/core/magic.pyc\u001b[0m in \u001b[0;36m<lambda>\u001b[0;34m(f, *a, **k)\u001b[0m\n\u001b[1;32m    191\u001b[0m     \u001b[0;31m# but it's overkill for just that one bit of state.\u001b[0m\u001b[0;34m\u001b[0m\u001b[0;34m\u001b[0m\u001b[0m\n\u001b[1;32m    192\u001b[0m     \u001b[0;32mdef\u001b[0m \u001b[0mmagic_deco\u001b[0m\u001b[0;34m(\u001b[0m\u001b[0marg\u001b[0m\u001b[0;34m)\u001b[0m\u001b[0;34m:\u001b[0m\u001b[0;34m\u001b[0m\u001b[0m\n\u001b[0;32m--> 193\u001b[0;31m         \u001b[0mcall\u001b[0m \u001b[0;34m=\u001b[0m \u001b[0;32mlambda\u001b[0m \u001b[0mf\u001b[0m\u001b[0;34m,\u001b[0m \u001b[0;34m*\u001b[0m\u001b[0ma\u001b[0m\u001b[0;34m,\u001b[0m \u001b[0;34m**\u001b[0m\u001b[0mk\u001b[0m\u001b[0;34m:\u001b[0m \u001b[0mf\u001b[0m\u001b[0;34m(\u001b[0m\u001b[0;34m*\u001b[0m\u001b[0ma\u001b[0m\u001b[0;34m,\u001b[0m \u001b[0;34m**\u001b[0m\u001b[0mk\u001b[0m\u001b[0;34m)\u001b[0m\u001b[0;34m\u001b[0m\u001b[0m\n\u001b[0m\u001b[1;32m    194\u001b[0m \u001b[0;34m\u001b[0m\u001b[0m\n\u001b[1;32m    195\u001b[0m         \u001b[0;32mif\u001b[0m \u001b[0mcallable\u001b[0m\u001b[0;34m(\u001b[0m\u001b[0marg\u001b[0m\u001b[0;34m)\u001b[0m\u001b[0;34m:\u001b[0m\u001b[0;34m\u001b[0m\u001b[0m\n",
      "\u001b[0;32m/Library/Python/2.7/site-packages/IPython/core/magics/code.pyc\u001b[0m in \u001b[0;36mload\u001b[0;34m(self, arg_s)\u001b[0m\n\u001b[1;32m    312\u001b[0m         \u001b[0msearch_ns\u001b[0m \u001b[0;34m=\u001b[0m \u001b[0;34m'n'\u001b[0m \u001b[0;32min\u001b[0m \u001b[0mopts\u001b[0m\u001b[0;34m\u001b[0m\u001b[0m\n\u001b[1;32m    313\u001b[0m \u001b[0;34m\u001b[0m\u001b[0m\n\u001b[0;32m--> 314\u001b[0;31m         \u001b[0mcontents\u001b[0m \u001b[0;34m=\u001b[0m \u001b[0mself\u001b[0m\u001b[0;34m.\u001b[0m\u001b[0mshell\u001b[0m\u001b[0;34m.\u001b[0m\u001b[0mfind_user_code\u001b[0m\u001b[0;34m(\u001b[0m\u001b[0margs\u001b[0m\u001b[0;34m,\u001b[0m \u001b[0msearch_ns\u001b[0m\u001b[0;34m=\u001b[0m\u001b[0msearch_ns\u001b[0m\u001b[0;34m)\u001b[0m\u001b[0;34m\u001b[0m\u001b[0m\n\u001b[0m\u001b[1;32m    315\u001b[0m \u001b[0;34m\u001b[0m\u001b[0m\n\u001b[1;32m    316\u001b[0m         \u001b[0;32mif\u001b[0m \u001b[0;34m's'\u001b[0m \u001b[0;32min\u001b[0m \u001b[0mopts\u001b[0m\u001b[0;34m:\u001b[0m\u001b[0;34m\u001b[0m\u001b[0m\n",
      "\u001b[0;32m/Library/Python/2.7/site-packages/IPython/core/interactiveshell.pyc\u001b[0m in \u001b[0;36mfind_user_code\u001b[0;34m(self, target, raw, py_only, skip_encoding_cookie, search_ns)\u001b[0m\n\u001b[1;32m   3365\u001b[0m         \u001b[0;32mexcept\u001b[0m \u001b[0mException\u001b[0m\u001b[0;34m:\u001b[0m\u001b[0;34m\u001b[0m\u001b[0m\n\u001b[1;32m   3366\u001b[0m             raise ValueError((\"'%s' was not found in history, as a file, url, \"\n\u001b[0;32m-> 3367\u001b[0;31m                                 \"nor in the user namespace.\") % target)\n\u001b[0m\u001b[1;32m   3368\u001b[0m \u001b[0;34m\u001b[0m\u001b[0m\n\u001b[1;32m   3369\u001b[0m         \u001b[0;32mif\u001b[0m \u001b[0misinstance\u001b[0m\u001b[0;34m(\u001b[0m\u001b[0mcodeobj\u001b[0m\u001b[0;34m,\u001b[0m \u001b[0mstring_types\u001b[0m\u001b[0;34m)\u001b[0m\u001b[0;34m:\u001b[0m\u001b[0;34m\u001b[0m\u001b[0m\n",
      "\u001b[0;31mValueError\u001b[0m: 'files/birth1889_output.csv' was not found in history, as a file, url, nor in the user namespace."
     ]
    }
   ],
   "source": []
  },
  {
   "cell_type": "markdown",
   "metadata": {},
   "source": [
    "**Output data to JSON**"
   ]
  },
  {
   "cell_type": "code",
   "execution_count": 27,
   "metadata": {
    "collapsed": false
   },
   "outputs": [],
   "source": [
    "df.to_json('files/births1889_output.json')"
   ]
  },
  {
   "cell_type": "markdown",
   "metadata": {},
   "source": [
    "### Get Data"
   ]
  },
  {
   "cell_type": "markdown",
   "metadata": {},
   "source": [
    "**Read data from CSV**"
   ]
  },
  {
   "cell_type": "code",
   "execution_count": 78,
   "metadata": {
    "collapsed": false
   },
   "outputs": [
    {
     "name": "stdout",
     "output_type": "stream",
     "text": [
      "                   A         B         C         D\n",
      "2013-01-01 -0.884469  0.497028 -0.800083 -0.876086\n",
      "2013-01-02  0.313892 -1.038793 -1.312385 -0.525264\n",
      "2013-01-04  1.354466  1.311577  1.218012 -1.309197\n",
      "2013-01-05 -0.263929  0.145799 -2.653418  0.609797\n",
      "2013-01-06 -0.730113 -0.546828 -0.640554 -0.044465\n"
     ]
    }
   ],
   "source": [
    "df = pd.read_csv(\"files/births1889_output.csv\", index_col = 0, header=1, skiprows=[4, 22, 30])\n",
    "print df"
   ]
  },
  {
   "cell_type": "markdown",
   "metadata": {},
   "source": [
    "**Read data from JSON**"
   ]
  },
  {
   "cell_type": "code",
   "execution_count": 44,
   "metadata": {
    "collapsed": false
   },
   "outputs": [
    {
     "name": "stdout",
     "output_type": "stream",
     "text": [
      "   Age   Name       Role\n",
      "0   23    Bob  Architect\n",
      "1   22  Ariel     Intern\n"
     ]
    }
   ],
   "source": [
    "df = pd.read_json('files/simple.json')\n",
    "print df"
   ]
  },
  {
   "cell_type": "markdown",
   "metadata": {},
   "source": [
    "### Select Data"
   ]
  },
  {
   "cell_type": "code",
   "execution_count": 79,
   "metadata": {
    "collapsed": false
   },
   "outputs": [
    {
     "data": {
      "text/html": [
       "<div>\n",
       "<table border=\"1\" class=\"dataframe\">\n",
       "  <thead>\n",
       "    <tr style=\"text-align: right;\">\n",
       "      <th></th>\n",
       "      <th>Virulence</th>\n",
       "      <th>Replicate</th>\n",
       "      <th>ShannonDiversity</th>\n",
       "    </tr>\n",
       "  </thead>\n",
       "  <tbody>\n",
       "    <tr>\n",
       "      <th>0</th>\n",
       "      <td>0.5</td>\n",
       "      <td>1</td>\n",
       "      <td>0.059262</td>\n",
       "    </tr>\n",
       "    <tr>\n",
       "      <th>1</th>\n",
       "      <td>0.5</td>\n",
       "      <td>2</td>\n",
       "      <td>1.093600</td>\n",
       "    </tr>\n",
       "    <tr>\n",
       "      <th>2</th>\n",
       "      <td>0.5</td>\n",
       "      <td>3</td>\n",
       "      <td>1.139390</td>\n",
       "    </tr>\n",
       "    <tr>\n",
       "      <th>3</th>\n",
       "      <td>0.5</td>\n",
       "      <td>4</td>\n",
       "      <td>0.547651</td>\n",
       "    </tr>\n",
       "    <tr>\n",
       "      <th>4</th>\n",
       "      <td>0.5</td>\n",
       "      <td>5</td>\n",
       "      <td>0.065928</td>\n",
       "    </tr>\n",
       "    <tr>\n",
       "      <th>5</th>\n",
       "      <td>0.5</td>\n",
       "      <td>6</td>\n",
       "      <td>1.344330</td>\n",
       "    </tr>\n",
       "    <tr>\n",
       "      <th>6</th>\n",
       "      <td>0.5</td>\n",
       "      <td>7</td>\n",
       "      <td>1.680480</td>\n",
       "    </tr>\n",
       "    <tr>\n",
       "      <th>7</th>\n",
       "      <td>0.5</td>\n",
       "      <td>8</td>\n",
       "      <td>0.000000</td>\n",
       "    </tr>\n",
       "    <tr>\n",
       "      <th>8</th>\n",
       "      <td>0.5</td>\n",
       "      <td>9</td>\n",
       "      <td>2.047680</td>\n",
       "    </tr>\n",
       "    <tr>\n",
       "      <th>9</th>\n",
       "      <td>0.5</td>\n",
       "      <td>10</td>\n",
       "      <td>0.000000</td>\n",
       "    </tr>\n",
       "    <tr>\n",
       "      <th>10</th>\n",
       "      <td>0.5</td>\n",
       "      <td>11</td>\n",
       "      <td>1.507140</td>\n",
       "    </tr>\n",
       "    <tr>\n",
       "      <th>11</th>\n",
       "      <td>0.5</td>\n",
       "      <td>12</td>\n",
       "      <td>0.000000</td>\n",
       "    </tr>\n",
       "    <tr>\n",
       "      <th>12</th>\n",
       "      <td>0.5</td>\n",
       "      <td>13</td>\n",
       "      <td>1.589810</td>\n",
       "    </tr>\n",
       "    <tr>\n",
       "      <th>13</th>\n",
       "      <td>0.5</td>\n",
       "      <td>14</td>\n",
       "      <td>1.144800</td>\n",
       "    </tr>\n",
       "    <tr>\n",
       "      <th>14</th>\n",
       "      <td>0.5</td>\n",
       "      <td>15</td>\n",
       "      <td>1.011190</td>\n",
       "    </tr>\n",
       "    <tr>\n",
       "      <th>15</th>\n",
       "      <td>0.5</td>\n",
       "      <td>16</td>\n",
       "      <td>0.000000</td>\n",
       "    </tr>\n",
       "    <tr>\n",
       "      <th>16</th>\n",
       "      <td>0.5</td>\n",
       "      <td>17</td>\n",
       "      <td>0.776665</td>\n",
       "    </tr>\n",
       "    <tr>\n",
       "      <th>17</th>\n",
       "      <td>0.5</td>\n",
       "      <td>18</td>\n",
       "      <td>0.001749</td>\n",
       "    </tr>\n",
       "    <tr>\n",
       "      <th>18</th>\n",
       "      <td>0.5</td>\n",
       "      <td>19</td>\n",
       "      <td>1.761200</td>\n",
       "    </tr>\n",
       "    <tr>\n",
       "      <th>19</th>\n",
       "      <td>0.5</td>\n",
       "      <td>20</td>\n",
       "      <td>0.021091</td>\n",
       "    </tr>\n",
       "    <tr>\n",
       "      <th>20</th>\n",
       "      <td>0.5</td>\n",
       "      <td>21</td>\n",
       "      <td>0.790915</td>\n",
       "    </tr>\n",
       "    <tr>\n",
       "      <th>21</th>\n",
       "      <td>0.5</td>\n",
       "      <td>22</td>\n",
       "      <td>0.000000</td>\n",
       "    </tr>\n",
       "    <tr>\n",
       "      <th>22</th>\n",
       "      <td>0.5</td>\n",
       "      <td>23</td>\n",
       "      <td>0.018866</td>\n",
       "    </tr>\n",
       "    <tr>\n",
       "      <th>23</th>\n",
       "      <td>0.5</td>\n",
       "      <td>24</td>\n",
       "      <td>0.994268</td>\n",
       "    </tr>\n",
       "    <tr>\n",
       "      <th>24</th>\n",
       "      <td>0.5</td>\n",
       "      <td>25</td>\n",
       "      <td>1.729620</td>\n",
       "    </tr>\n",
       "    <tr>\n",
       "      <th>25</th>\n",
       "      <td>0.5</td>\n",
       "      <td>26</td>\n",
       "      <td>0.967537</td>\n",
       "    </tr>\n",
       "    <tr>\n",
       "      <th>26</th>\n",
       "      <td>0.5</td>\n",
       "      <td>27</td>\n",
       "      <td>0.457318</td>\n",
       "    </tr>\n",
       "    <tr>\n",
       "      <th>27</th>\n",
       "      <td>0.5</td>\n",
       "      <td>28</td>\n",
       "      <td>0.992525</td>\n",
       "    </tr>\n",
       "    <tr>\n",
       "      <th>28</th>\n",
       "      <td>0.5</td>\n",
       "      <td>29</td>\n",
       "      <td>1.506640</td>\n",
       "    </tr>\n",
       "    <tr>\n",
       "      <th>29</th>\n",
       "      <td>0.5</td>\n",
       "      <td>30</td>\n",
       "      <td>0.697241</td>\n",
       "    </tr>\n",
       "    <tr>\n",
       "      <th>...</th>\n",
       "      <td>...</td>\n",
       "      <td>...</td>\n",
       "      <td>...</td>\n",
       "    </tr>\n",
       "    <tr>\n",
       "      <th>320</th>\n",
       "      <td>NaN</td>\n",
       "      <td>21</td>\n",
       "      <td>0.000000</td>\n",
       "    </tr>\n",
       "    <tr>\n",
       "      <th>321</th>\n",
       "      <td>NaN</td>\n",
       "      <td>22</td>\n",
       "      <td>0.000000</td>\n",
       "    </tr>\n",
       "    <tr>\n",
       "      <th>322</th>\n",
       "      <td>NaN</td>\n",
       "      <td>23</td>\n",
       "      <td>0.000000</td>\n",
       "    </tr>\n",
       "    <tr>\n",
       "      <th>323</th>\n",
       "      <td>NaN</td>\n",
       "      <td>24</td>\n",
       "      <td>0.000000</td>\n",
       "    </tr>\n",
       "    <tr>\n",
       "      <th>324</th>\n",
       "      <td>NaN</td>\n",
       "      <td>25</td>\n",
       "      <td>0.000000</td>\n",
       "    </tr>\n",
       "    <tr>\n",
       "      <th>325</th>\n",
       "      <td>NaN</td>\n",
       "      <td>26</td>\n",
       "      <td>0.000000</td>\n",
       "    </tr>\n",
       "    <tr>\n",
       "      <th>326</th>\n",
       "      <td>NaN</td>\n",
       "      <td>27</td>\n",
       "      <td>1.702720</td>\n",
       "    </tr>\n",
       "    <tr>\n",
       "      <th>327</th>\n",
       "      <td>NaN</td>\n",
       "      <td>28</td>\n",
       "      <td>0.169556</td>\n",
       "    </tr>\n",
       "    <tr>\n",
       "      <th>328</th>\n",
       "      <td>NaN</td>\n",
       "      <td>29</td>\n",
       "      <td>0.949750</td>\n",
       "    </tr>\n",
       "    <tr>\n",
       "      <th>329</th>\n",
       "      <td>NaN</td>\n",
       "      <td>30</td>\n",
       "      <td>0.240084</td>\n",
       "    </tr>\n",
       "    <tr>\n",
       "      <th>330</th>\n",
       "      <td>NaN</td>\n",
       "      <td>31</td>\n",
       "      <td>0.925913</td>\n",
       "    </tr>\n",
       "    <tr>\n",
       "      <th>331</th>\n",
       "      <td>NaN</td>\n",
       "      <td>32</td>\n",
       "      <td>0.000000</td>\n",
       "    </tr>\n",
       "    <tr>\n",
       "      <th>332</th>\n",
       "      <td>NaN</td>\n",
       "      <td>33</td>\n",
       "      <td>0.693356</td>\n",
       "    </tr>\n",
       "    <tr>\n",
       "      <th>333</th>\n",
       "      <td>NaN</td>\n",
       "      <td>34</td>\n",
       "      <td>0.000000</td>\n",
       "    </tr>\n",
       "    <tr>\n",
       "      <th>334</th>\n",
       "      <td>NaN</td>\n",
       "      <td>35</td>\n",
       "      <td>0.310170</td>\n",
       "    </tr>\n",
       "    <tr>\n",
       "      <th>335</th>\n",
       "      <td>NaN</td>\n",
       "      <td>36</td>\n",
       "      <td>0.000000</td>\n",
       "    </tr>\n",
       "    <tr>\n",
       "      <th>336</th>\n",
       "      <td>NaN</td>\n",
       "      <td>37</td>\n",
       "      <td>0.000000</td>\n",
       "    </tr>\n",
       "    <tr>\n",
       "      <th>337</th>\n",
       "      <td>NaN</td>\n",
       "      <td>38</td>\n",
       "      <td>0.000000</td>\n",
       "    </tr>\n",
       "    <tr>\n",
       "      <th>338</th>\n",
       "      <td>NaN</td>\n",
       "      <td>39</td>\n",
       "      <td>0.000000</td>\n",
       "    </tr>\n",
       "    <tr>\n",
       "      <th>339</th>\n",
       "      <td>NaN</td>\n",
       "      <td>40</td>\n",
       "      <td>0.000000</td>\n",
       "    </tr>\n",
       "    <tr>\n",
       "      <th>340</th>\n",
       "      <td>NaN</td>\n",
       "      <td>41</td>\n",
       "      <td>0.000000</td>\n",
       "    </tr>\n",
       "    <tr>\n",
       "      <th>341</th>\n",
       "      <td>NaN</td>\n",
       "      <td>42</td>\n",
       "      <td>0.000000</td>\n",
       "    </tr>\n",
       "    <tr>\n",
       "      <th>342</th>\n",
       "      <td>NaN</td>\n",
       "      <td>43</td>\n",
       "      <td>0.000000</td>\n",
       "    </tr>\n",
       "    <tr>\n",
       "      <th>343</th>\n",
       "      <td>NaN</td>\n",
       "      <td>44</td>\n",
       "      <td>0.000000</td>\n",
       "    </tr>\n",
       "    <tr>\n",
       "      <th>344</th>\n",
       "      <td>NaN</td>\n",
       "      <td>45</td>\n",
       "      <td>0.391061</td>\n",
       "    </tr>\n",
       "    <tr>\n",
       "      <th>345</th>\n",
       "      <td>NaN</td>\n",
       "      <td>46</td>\n",
       "      <td>0.001669</td>\n",
       "    </tr>\n",
       "    <tr>\n",
       "      <th>346</th>\n",
       "      <td>NaN</td>\n",
       "      <td>47</td>\n",
       "      <td>0.000000</td>\n",
       "    </tr>\n",
       "    <tr>\n",
       "      <th>347</th>\n",
       "      <td>NaN</td>\n",
       "      <td>48</td>\n",
       "      <td>0.444463</td>\n",
       "    </tr>\n",
       "    <tr>\n",
       "      <th>348</th>\n",
       "      <td>NaN</td>\n",
       "      <td>49</td>\n",
       "      <td>0.383512</td>\n",
       "    </tr>\n",
       "    <tr>\n",
       "      <th>349</th>\n",
       "      <td>NaN</td>\n",
       "      <td>50</td>\n",
       "      <td>0.511329</td>\n",
       "    </tr>\n",
       "  </tbody>\n",
       "</table>\n",
       "<p>350 rows × 3 columns</p>\n",
       "</div>"
      ],
      "text/plain": [
       "     Virulence  Replicate  ShannonDiversity\n",
       "0          0.5          1          0.059262\n",
       "1          0.5          2          1.093600\n",
       "2          0.5          3          1.139390\n",
       "3          0.5          4          0.547651\n",
       "4          0.5          5          0.065928\n",
       "5          0.5          6          1.344330\n",
       "6          0.5          7          1.680480\n",
       "7          0.5          8          0.000000\n",
       "8          0.5          9          2.047680\n",
       "9          0.5         10          0.000000\n",
       "10         0.5         11          1.507140\n",
       "11         0.5         12          0.000000\n",
       "12         0.5         13          1.589810\n",
       "13         0.5         14          1.144800\n",
       "14         0.5         15          1.011190\n",
       "15         0.5         16          0.000000\n",
       "16         0.5         17          0.776665\n",
       "17         0.5         18          0.001749\n",
       "18         0.5         19          1.761200\n",
       "19         0.5         20          0.021091\n",
       "20         0.5         21          0.790915\n",
       "21         0.5         22          0.000000\n",
       "22         0.5         23          0.018866\n",
       "23         0.5         24          0.994268\n",
       "24         0.5         25          1.729620\n",
       "25         0.5         26          0.967537\n",
       "26         0.5         27          0.457318\n",
       "27         0.5         28          0.992525\n",
       "28         0.5         29          1.506640\n",
       "29         0.5         30          0.697241\n",
       "..         ...        ...               ...\n",
       "320        NaN         21          0.000000\n",
       "321        NaN         22          0.000000\n",
       "322        NaN         23          0.000000\n",
       "323        NaN         24          0.000000\n",
       "324        NaN         25          0.000000\n",
       "325        NaN         26          0.000000\n",
       "326        NaN         27          1.702720\n",
       "327        NaN         28          0.169556\n",
       "328        NaN         29          0.949750\n",
       "329        NaN         30          0.240084\n",
       "330        NaN         31          0.925913\n",
       "331        NaN         32          0.000000\n",
       "332        NaN         33          0.693356\n",
       "333        NaN         34          0.000000\n",
       "334        NaN         35          0.310170\n",
       "335        NaN         36          0.000000\n",
       "336        NaN         37          0.000000\n",
       "337        NaN         38          0.000000\n",
       "338        NaN         39          0.000000\n",
       "339        NaN         40          0.000000\n",
       "340        NaN         41          0.000000\n",
       "341        NaN         42          0.000000\n",
       "342        NaN         43          0.000000\n",
       "343        NaN         44          0.000000\n",
       "344        NaN         45          0.391061\n",
       "345        NaN         46          0.001669\n",
       "346        NaN         47          0.000000\n",
       "347        NaN         48          0.444463\n",
       "348        NaN         49          0.383512\n",
       "349        NaN         50          0.511329\n",
       "\n",
       "[350 rows x 3 columns]"
      ]
     },
     "execution_count": 79,
     "metadata": {},
     "output_type": "execute_result"
    }
   ],
   "source": [
    "# Dataset\n",
    "experimentDF = pd.read_csv(\"files/parasite_data.csv\", na_values=[\" \"], skiprows=1,names=['Virulence', 'Replicate', 'ShannonDiversity'])\n",
    "experimentDF"
   ]
  },
  {
   "cell_type": "markdown",
   "metadata": {},
   "source": [
    "**Select rows**"
   ]
  },
  {
   "cell_type": "code",
   "execution_count": 52,
   "metadata": {
    "collapsed": false
   },
   "outputs": [
    {
     "data": {
      "text/html": [
       "<div>\n",
       "<table border=\"1\" class=\"dataframe\">\n",
       "  <thead>\n",
       "    <tr style=\"text-align: right;\">\n",
       "      <th></th>\n",
       "      <th>Virulence</th>\n",
       "      <th>Replicate</th>\n",
       "      <th>ShannonDiversity</th>\n",
       "    </tr>\n",
       "  </thead>\n",
       "  <tbody>\n",
       "    <tr>\n",
       "      <th>12</th>\n",
       "      <td>0.5</td>\n",
       "      <td>13</td>\n",
       "      <td>1.589810</td>\n",
       "    </tr>\n",
       "    <tr>\n",
       "      <th>13</th>\n",
       "      <td>0.5</td>\n",
       "      <td>14</td>\n",
       "      <td>1.144800</td>\n",
       "    </tr>\n",
       "    <tr>\n",
       "      <th>14</th>\n",
       "      <td>0.5</td>\n",
       "      <td>15</td>\n",
       "      <td>1.011190</td>\n",
       "    </tr>\n",
       "    <tr>\n",
       "      <th>15</th>\n",
       "      <td>0.5</td>\n",
       "      <td>16</td>\n",
       "      <td>0.000000</td>\n",
       "    </tr>\n",
       "    <tr>\n",
       "      <th>16</th>\n",
       "      <td>0.5</td>\n",
       "      <td>17</td>\n",
       "      <td>0.776665</td>\n",
       "    </tr>\n",
       "    <tr>\n",
       "      <th>17</th>\n",
       "      <td>0.5</td>\n",
       "      <td>18</td>\n",
       "      <td>0.001749</td>\n",
       "    </tr>\n",
       "    <tr>\n",
       "      <th>18</th>\n",
       "      <td>0.5</td>\n",
       "      <td>19</td>\n",
       "      <td>1.761200</td>\n",
       "    </tr>\n",
       "    <tr>\n",
       "      <th>19</th>\n",
       "      <td>0.5</td>\n",
       "      <td>20</td>\n",
       "      <td>0.021091</td>\n",
       "    </tr>\n",
       "    <tr>\n",
       "      <th>20</th>\n",
       "      <td>0.5</td>\n",
       "      <td>21</td>\n",
       "      <td>0.790915</td>\n",
       "    </tr>\n",
       "    <tr>\n",
       "      <th>21</th>\n",
       "      <td>0.5</td>\n",
       "      <td>22</td>\n",
       "      <td>0.000000</td>\n",
       "    </tr>\n",
       "    <tr>\n",
       "      <th>22</th>\n",
       "      <td>0.5</td>\n",
       "      <td>23</td>\n",
       "      <td>0.018866</td>\n",
       "    </tr>\n",
       "  </tbody>\n",
       "</table>\n",
       "</div>"
      ],
      "text/plain": [
       "    Virulence  Replicate  ShannonDiversity\n",
       "12        0.5         13          1.589810\n",
       "13        0.5         14          1.144800\n",
       "14        0.5         15          1.011190\n",
       "15        0.5         16          0.000000\n",
       "16        0.5         17          0.776665\n",
       "17        0.5         18          0.001749\n",
       "18        0.5         19          1.761200\n",
       "19        0.5         20          0.021091\n",
       "20        0.5         21          0.790915\n",
       "21        0.5         22          0.000000\n",
       "22        0.5         23          0.018866"
      ]
     },
     "execution_count": 52,
     "metadata": {},
     "output_type": "execute_result"
    }
   ],
   "source": [
    "# select 12th row\n",
    "experimentDF[12:23]"
   ]
  },
  {
   "cell_type": "code",
   "execution_count": 53,
   "metadata": {
    "collapsed": false
   },
   "outputs": [
    {
     "data": {
      "text/html": [
       "<div>\n",
       "<table border=\"1\" class=\"dataframe\">\n",
       "  <thead>\n",
       "    <tr style=\"text-align: right;\">\n",
       "      <th></th>\n",
       "      <th>Virulence</th>\n",
       "      <th>Replicate</th>\n",
       "      <th>ShannonDiversity</th>\n",
       "    </tr>\n",
       "  </thead>\n",
       "  <tbody>\n",
       "    <tr>\n",
       "      <th>3</th>\n",
       "      <td>0.5</td>\n",
       "      <td>4</td>\n",
       "      <td>0.547651</td>\n",
       "    </tr>\n",
       "    <tr>\n",
       "      <th>4</th>\n",
       "      <td>0.5</td>\n",
       "      <td>5</td>\n",
       "      <td>0.065928</td>\n",
       "    </tr>\n",
       "    <tr>\n",
       "      <th>5</th>\n",
       "      <td>0.5</td>\n",
       "      <td>6</td>\n",
       "      <td>1.344330</td>\n",
       "    </tr>\n",
       "    <tr>\n",
       "      <th>6</th>\n",
       "      <td>0.5</td>\n",
       "      <td>7</td>\n",
       "      <td>1.680480</td>\n",
       "    </tr>\n",
       "    <tr>\n",
       "      <th>7</th>\n",
       "      <td>0.5</td>\n",
       "      <td>8</td>\n",
       "      <td>0.000000</td>\n",
       "    </tr>\n",
       "    <tr>\n",
       "      <th>8</th>\n",
       "      <td>0.5</td>\n",
       "      <td>9</td>\n",
       "      <td>2.047680</td>\n",
       "    </tr>\n",
       "    <tr>\n",
       "      <th>9</th>\n",
       "      <td>0.5</td>\n",
       "      <td>10</td>\n",
       "      <td>0.000000</td>\n",
       "    </tr>\n",
       "    <tr>\n",
       "      <th>10</th>\n",
       "      <td>0.5</td>\n",
       "      <td>11</td>\n",
       "      <td>1.507140</td>\n",
       "    </tr>\n",
       "    <tr>\n",
       "      <th>11</th>\n",
       "      <td>0.5</td>\n",
       "      <td>12</td>\n",
       "      <td>0.000000</td>\n",
       "    </tr>\n",
       "    <tr>\n",
       "      <th>12</th>\n",
       "      <td>0.5</td>\n",
       "      <td>13</td>\n",
       "      <td>1.589810</td>\n",
       "    </tr>\n",
       "    <tr>\n",
       "      <th>13</th>\n",
       "      <td>0.5</td>\n",
       "      <td>14</td>\n",
       "      <td>1.144800</td>\n",
       "    </tr>\n",
       "    <tr>\n",
       "      <th>14</th>\n",
       "      <td>0.5</td>\n",
       "      <td>15</td>\n",
       "      <td>1.011190</td>\n",
       "    </tr>\n",
       "  </tbody>\n",
       "</table>\n",
       "</div>"
      ],
      "text/plain": [
       "    Virulence  Replicate  ShannonDiversity\n",
       "3         0.5          4          0.547651\n",
       "4         0.5          5          0.065928\n",
       "5         0.5          6          1.344330\n",
       "6         0.5          7          1.680480\n",
       "7         0.5          8          0.000000\n",
       "8         0.5          9          2.047680\n",
       "9         0.5         10          0.000000\n",
       "10        0.5         11          1.507140\n",
       "11        0.5         12          0.000000\n",
       "12        0.5         13          1.589810\n",
       "13        0.5         14          1.144800\n",
       "14        0.5         15          1.011190"
      ]
     },
     "execution_count": 53,
     "metadata": {},
     "output_type": "execute_result"
    }
   ],
   "source": [
    "# select row 3 to 15\n",
    "experimentDF[3:15]"
   ]
  },
  {
   "cell_type": "code",
   "execution_count": 60,
   "metadata": {
    "collapsed": false
   },
   "outputs": [
    {
     "data": {
      "text/html": [
       "<div>\n",
       "<table border=\"1\" class=\"dataframe\">\n",
       "  <thead>\n",
       "    <tr style=\"text-align: right;\">\n",
       "      <th></th>\n",
       "      <th>Virulence</th>\n",
       "    </tr>\n",
       "  </thead>\n",
       "  <tbody>\n",
       "    <tr>\n",
       "      <th>3</th>\n",
       "      <td>0.5</td>\n",
       "    </tr>\n",
       "    <tr>\n",
       "      <th>4</th>\n",
       "      <td>0.5</td>\n",
       "    </tr>\n",
       "    <tr>\n",
       "      <th>5</th>\n",
       "      <td>0.5</td>\n",
       "    </tr>\n",
       "    <tr>\n",
       "      <th>6</th>\n",
       "      <td>0.5</td>\n",
       "    </tr>\n",
       "    <tr>\n",
       "      <th>7</th>\n",
       "      <td>0.5</td>\n",
       "    </tr>\n",
       "    <tr>\n",
       "      <th>8</th>\n",
       "      <td>0.5</td>\n",
       "    </tr>\n",
       "    <tr>\n",
       "      <th>9</th>\n",
       "      <td>0.5</td>\n",
       "    </tr>\n",
       "    <tr>\n",
       "      <th>10</th>\n",
       "      <td>0.5</td>\n",
       "    </tr>\n",
       "    <tr>\n",
       "      <th>11</th>\n",
       "      <td>0.5</td>\n",
       "    </tr>\n",
       "    <tr>\n",
       "      <th>12</th>\n",
       "      <td>0.5</td>\n",
       "    </tr>\n",
       "    <tr>\n",
       "      <th>13</th>\n",
       "      <td>0.5</td>\n",
       "    </tr>\n",
       "    <tr>\n",
       "      <th>14</th>\n",
       "      <td>0.5</td>\n",
       "    </tr>\n",
       "    <tr>\n",
       "      <th>15</th>\n",
       "      <td>0.5</td>\n",
       "    </tr>\n",
       "  </tbody>\n",
       "</table>\n",
       "</div>"
      ],
      "text/plain": [
       "    Virulence\n",
       "3         0.5\n",
       "4         0.5\n",
       "5         0.5\n",
       "6         0.5\n",
       "7         0.5\n",
       "8         0.5\n",
       "9         0.5\n",
       "10        0.5\n",
       "11        0.5\n",
       "12        0.5\n",
       "13        0.5\n",
       "14        0.5\n",
       "15        0.5"
      ]
     },
     "execution_count": 60,
     "metadata": {},
     "output_type": "execute_result"
    }
   ],
   "source": [
    "# select rows 3 to 15 in columns \"Virulence\" and \"ShannonDiversity\"\n",
    "experimentDF.loc[3:15, ['Virulence']]"
   ]
  },
  {
   "cell_type": "code",
   "execution_count": 64,
   "metadata": {
    "collapsed": false
   },
   "outputs": [
    {
     "data": {
      "text/plain": [
       "Virulence           0.50000\n",
       "ShannonDiversity    1.58981\n",
       "Name: 12, dtype: float64"
      ]
     },
     "execution_count": 64,
     "metadata": {},
     "output_type": "execute_result"
    }
   ],
   "source": [
    "# select 12th row in \"Virulence\" column\n",
    "experimentDF.loc[12, [\"Virulence\", \"ShannonDiversity\"]]"
   ]
  },
  {
   "cell_type": "markdown",
   "metadata": {},
   "source": [
    "**Select columns**"
   ]
  },
  {
   "cell_type": "code",
   "execution_count": null,
   "metadata": {
    "collapsed": false
   },
   "outputs": [],
   "source": [
    "# select column \"Virulence\"\n",
    "print experimentDF[\"Virulence\"] # by label *FASTER*\n",
    "print experimentDF.Virulence    # by attribute"
   ]
  },
  {
   "cell_type": "code",
   "execution_count": null,
   "metadata": {
    "collapsed": false
   },
   "outputs": [],
   "source": [
    "# select column \"Virulence\" and \"ShannonDiversity\n",
    "print experimentDF.loc[:, [\"Virulence\", \"ShannonDiversity\"]] # using 'loc' *FASTER*\n",
    "print experimentDF[[\"Virulence\", \"ShannonDiversity\"]]        # using [[col1, col2, ...]]"
   ]
  },
  {
   "cell_type": "code",
   "execution_count": 65,
   "metadata": {
    "collapsed": false
   },
   "outputs": [
    {
     "name": "stdout",
     "output_type": "stream",
     "text": [
      "Label access VS Attribute access:\n",
      "2.12870907784\n",
      "4.32692885399\n"
     ]
    }
   ],
   "source": [
    "# TIMEIT: label access is faster than attribute access !\n",
    "from timeit import timeit\n",
    "print \"Label access VS Attribute access:\"\n",
    "print timeit('experimentDF[\"Virulence\"]', setup='from __main__ import experimentDF')\n",
    "print timeit('experimentDF.Virulence', setup='from __main__ import experimentDF')"
   ]
  },
  {
   "cell_type": "markdown",
   "metadata": {},
   "source": [
    "**Select scalar element**"
   ]
  },
  {
   "cell_type": "code",
   "execution_count": 66,
   "metadata": {
    "collapsed": false
   },
   "outputs": [
    {
     "data": {
      "text/plain": [
       "0.059261900000000006"
      ]
     },
     "execution_count": 66,
     "metadata": {},
     "output_type": "execute_result"
    }
   ],
   "source": [
    "# select element at column \"ShannonDiversity\" and row 5\n",
    "experimentDF.at[0, \"ShannonDiversity\"] # using 'at' *FASTER*\n",
    "experimentDF[\"ShannonDiversity\"][0]    # using [][]"
   ]
  },
  {
   "cell_type": "code",
   "execution_count": 67,
   "metadata": {
    "collapsed": false
   },
   "outputs": [
    {
     "name": "stdout",
     "output_type": "stream",
     "text": [
      "'at' versus [][]:\n",
      "7.83868193626\n",
      "9.29786586761\n"
     ]
    }
   ],
   "source": [
    "# TIMEIT: 'at' is faster than multi-indexing !\n",
    "import timeit\n",
    "print \"'at' versus [][]:\"\n",
    "print timeit.timeit('experimentDF.at[0, \"ShannonDiversity\"]', setup=\"from __main__ import experimentDF\")\n",
    "print timeit.timeit('experimentDF[\"ShannonDiversity\"][0]', setup=\"from __main__ import experimentDF\")"
   ]
  },
  {
   "cell_type": "markdown",
   "metadata": {},
   "source": [
    "**Select by boolean expression(s)**"
   ]
  },
  {
   "cell_type": "code",
   "execution_count": 68,
   "metadata": {
    "collapsed": false
   },
   "outputs": [
    {
     "data": {
      "text/html": [
       "<div>\n",
       "<table border=\"1\" class=\"dataframe\">\n",
       "  <thead>\n",
       "    <tr style=\"text-align: right;\">\n",
       "      <th></th>\n",
       "      <th>Virulence</th>\n",
       "      <th>Replicate</th>\n",
       "      <th>ShannonDiversity</th>\n",
       "    </tr>\n",
       "  </thead>\n",
       "  <tbody>\n",
       "    <tr>\n",
       "      <th>8</th>\n",
       "      <td>0.5</td>\n",
       "      <td>9</td>\n",
       "      <td>2.04768</td>\n",
       "    </tr>\n",
       "    <tr>\n",
       "      <th>89</th>\n",
       "      <td>0.6</td>\n",
       "      <td>40</td>\n",
       "      <td>2.01066</td>\n",
       "    </tr>\n",
       "    <tr>\n",
       "      <th>92</th>\n",
       "      <td>0.6</td>\n",
       "      <td>43</td>\n",
       "      <td>2.90081</td>\n",
       "    </tr>\n",
       "    <tr>\n",
       "      <th>96</th>\n",
       "      <td>0.6</td>\n",
       "      <td>47</td>\n",
       "      <td>2.02915</td>\n",
       "    </tr>\n",
       "    <tr>\n",
       "      <th>105</th>\n",
       "      <td>0.7</td>\n",
       "      <td>6</td>\n",
       "      <td>2.23427</td>\n",
       "    </tr>\n",
       "    <tr>\n",
       "      <th>117</th>\n",
       "      <td>0.7</td>\n",
       "      <td>18</td>\n",
       "      <td>2.14296</td>\n",
       "    </tr>\n",
       "    <tr>\n",
       "      <th>127</th>\n",
       "      <td>0.7</td>\n",
       "      <td>28</td>\n",
       "      <td>2.23599</td>\n",
       "    </tr>\n",
       "    <tr>\n",
       "      <th>129</th>\n",
       "      <td>0.7</td>\n",
       "      <td>30</td>\n",
       "      <td>2.48422</td>\n",
       "    </tr>\n",
       "    <tr>\n",
       "      <th>133</th>\n",
       "      <td>0.7</td>\n",
       "      <td>34</td>\n",
       "      <td>2.18506</td>\n",
       "    </tr>\n",
       "    <tr>\n",
       "      <th>134</th>\n",
       "      <td>0.7</td>\n",
       "      <td>35</td>\n",
       "      <td>2.42177</td>\n",
       "    </tr>\n",
       "    <tr>\n",
       "      <th>139</th>\n",
       "      <td>0.7</td>\n",
       "      <td>40</td>\n",
       "      <td>2.25737</td>\n",
       "    </tr>\n",
       "    <tr>\n",
       "      <th>142</th>\n",
       "      <td>0.7</td>\n",
       "      <td>43</td>\n",
       "      <td>2.07258</td>\n",
       "    </tr>\n",
       "    <tr>\n",
       "      <th>148</th>\n",
       "      <td>0.7</td>\n",
       "      <td>49</td>\n",
       "      <td>2.38326</td>\n",
       "    </tr>\n",
       "    <tr>\n",
       "      <th>151</th>\n",
       "      <td>0.8</td>\n",
       "      <td>2</td>\n",
       "      <td>2.07970</td>\n",
       "    </tr>\n",
       "    <tr>\n",
       "      <th>153</th>\n",
       "      <td>0.8</td>\n",
       "      <td>4</td>\n",
       "      <td>2.38474</td>\n",
       "    </tr>\n",
       "    <tr>\n",
       "      <th>163</th>\n",
       "      <td>0.8</td>\n",
       "      <td>14</td>\n",
       "      <td>2.03252</td>\n",
       "    </tr>\n",
       "    <tr>\n",
       "      <th>165</th>\n",
       "      <td>0.8</td>\n",
       "      <td>16</td>\n",
       "      <td>2.38415</td>\n",
       "    </tr>\n",
       "    <tr>\n",
       "      <th>170</th>\n",
       "      <td>0.8</td>\n",
       "      <td>21</td>\n",
       "      <td>2.02297</td>\n",
       "    </tr>\n",
       "    <tr>\n",
       "      <th>172</th>\n",
       "      <td>0.8</td>\n",
       "      <td>23</td>\n",
       "      <td>2.13882</td>\n",
       "    </tr>\n",
       "    <tr>\n",
       "      <th>173</th>\n",
       "      <td>0.8</td>\n",
       "      <td>24</td>\n",
       "      <td>2.53339</td>\n",
       "    </tr>\n",
       "    <tr>\n",
       "      <th>182</th>\n",
       "      <td>0.8</td>\n",
       "      <td>33</td>\n",
       "      <td>2.17865</td>\n",
       "    </tr>\n",
       "    <tr>\n",
       "      <th>196</th>\n",
       "      <td>0.8</td>\n",
       "      <td>47</td>\n",
       "      <td>2.07718</td>\n",
       "    </tr>\n",
       "    <tr>\n",
       "      <th>208</th>\n",
       "      <td>0.9</td>\n",
       "      <td>9</td>\n",
       "      <td>2.12240</td>\n",
       "    </tr>\n",
       "    <tr>\n",
       "      <th>209</th>\n",
       "      <td>0.9</td>\n",
       "      <td>10</td>\n",
       "      <td>2.46144</td>\n",
       "    </tr>\n",
       "    <tr>\n",
       "      <th>212</th>\n",
       "      <td>0.9</td>\n",
       "      <td>13</td>\n",
       "      <td>2.20476</td>\n",
       "    </tr>\n",
       "    <tr>\n",
       "      <th>229</th>\n",
       "      <td>0.9</td>\n",
       "      <td>30</td>\n",
       "      <td>2.28026</td>\n",
       "    </tr>\n",
       "    <tr>\n",
       "      <th>235</th>\n",
       "      <td>0.9</td>\n",
       "      <td>36</td>\n",
       "      <td>2.19565</td>\n",
       "    </tr>\n",
       "    <tr>\n",
       "      <th>237</th>\n",
       "      <td>0.9</td>\n",
       "      <td>38</td>\n",
       "      <td>2.16535</td>\n",
       "    </tr>\n",
       "    <tr>\n",
       "      <th>243</th>\n",
       "      <td>0.9</td>\n",
       "      <td>44</td>\n",
       "      <td>2.17578</td>\n",
       "    </tr>\n",
       "    <tr>\n",
       "      <th>251</th>\n",
       "      <td>1.0</td>\n",
       "      <td>2</td>\n",
       "      <td>2.16044</td>\n",
       "    </tr>\n",
       "  </tbody>\n",
       "</table>\n",
       "</div>"
      ],
      "text/plain": [
       "     Virulence  Replicate  ShannonDiversity\n",
       "8          0.5          9           2.04768\n",
       "89         0.6         40           2.01066\n",
       "92         0.6         43           2.90081\n",
       "96         0.6         47           2.02915\n",
       "105        0.7          6           2.23427\n",
       "117        0.7         18           2.14296\n",
       "127        0.7         28           2.23599\n",
       "129        0.7         30           2.48422\n",
       "133        0.7         34           2.18506\n",
       "134        0.7         35           2.42177\n",
       "139        0.7         40           2.25737\n",
       "142        0.7         43           2.07258\n",
       "148        0.7         49           2.38326\n",
       "151        0.8          2           2.07970\n",
       "153        0.8          4           2.38474\n",
       "163        0.8         14           2.03252\n",
       "165        0.8         16           2.38415\n",
       "170        0.8         21           2.02297\n",
       "172        0.8         23           2.13882\n",
       "173        0.8         24           2.53339\n",
       "182        0.8         33           2.17865\n",
       "196        0.8         47           2.07718\n",
       "208        0.9          9           2.12240\n",
       "209        0.9         10           2.46144\n",
       "212        0.9         13           2.20476\n",
       "229        0.9         30           2.28026\n",
       "235        0.9         36           2.19565\n",
       "237        0.9         38           2.16535\n",
       "243        0.9         44           2.17578\n",
       "251        1.0          2           2.16044"
      ]
     },
     "execution_count": 68,
     "metadata": {},
     "output_type": "execute_result"
    }
   ],
   "source": [
    "# show all entries for which the Shannon diversity > 2.0\n",
    "experimentDF[experimentDF[\"ShannonDiversity\"] > 2.0]"
   ]
  },
  {
   "cell_type": "code",
   "execution_count": 71,
   "metadata": {
    "collapsed": false
   },
   "outputs": [
    {
     "data": {
      "text/html": [
       "<div>\n",
       "<table border=\"1\" class=\"dataframe\">\n",
       "  <thead>\n",
       "    <tr style=\"text-align: right;\">\n",
       "      <th></th>\n",
       "      <th>Virulence</th>\n",
       "      <th>Replicate</th>\n",
       "      <th>ShannonDiversity</th>\n",
       "    </tr>\n",
       "  </thead>\n",
       "  <tbody>\n",
       "    <tr>\n",
       "      <th>51</th>\n",
       "      <td>0.6</td>\n",
       "      <td>2</td>\n",
       "      <td>1.022330</td>\n",
       "    </tr>\n",
       "    <tr>\n",
       "      <th>54</th>\n",
       "      <td>0.6</td>\n",
       "      <td>5</td>\n",
       "      <td>1.833990</td>\n",
       "    </tr>\n",
       "    <tr>\n",
       "      <th>55</th>\n",
       "      <td>0.6</td>\n",
       "      <td>6</td>\n",
       "      <td>1.011700</td>\n",
       "    </tr>\n",
       "    <tr>\n",
       "      <th>58</th>\n",
       "      <td>0.6</td>\n",
       "      <td>9</td>\n",
       "      <td>1.270230</td>\n",
       "    </tr>\n",
       "    <tr>\n",
       "      <th>61</th>\n",
       "      <td>0.6</td>\n",
       "      <td>12</td>\n",
       "      <td>1.898400</td>\n",
       "    </tr>\n",
       "    <tr>\n",
       "      <th>62</th>\n",
       "      <td>0.6</td>\n",
       "      <td>13</td>\n",
       "      <td>1.495510</td>\n",
       "    </tr>\n",
       "    <tr>\n",
       "      <th>65</th>\n",
       "      <td>0.6</td>\n",
       "      <td>16</td>\n",
       "      <td>1.971850</td>\n",
       "    </tr>\n",
       "    <tr>\n",
       "      <th>67</th>\n",
       "      <td>0.6</td>\n",
       "      <td>18</td>\n",
       "      <td>1.902020</td>\n",
       "    </tr>\n",
       "    <tr>\n",
       "      <th>68</th>\n",
       "      <td>0.6</td>\n",
       "      <td>19</td>\n",
       "      <td>0.999456</td>\n",
       "    </tr>\n",
       "    <tr>\n",
       "      <th>69</th>\n",
       "      <td>0.6</td>\n",
       "      <td>20</td>\n",
       "      <td>1.035000</td>\n",
       "    </tr>\n",
       "    <tr>\n",
       "      <th>74</th>\n",
       "      <td>0.6</td>\n",
       "      <td>25</td>\n",
       "      <td>1.072580</td>\n",
       "    </tr>\n",
       "    <tr>\n",
       "      <th>77</th>\n",
       "      <td>0.6</td>\n",
       "      <td>28</td>\n",
       "      <td>1.859630</td>\n",
       "    </tr>\n",
       "    <tr>\n",
       "      <th>79</th>\n",
       "      <td>0.6</td>\n",
       "      <td>30</td>\n",
       "      <td>1.094480</td>\n",
       "    </tr>\n",
       "    <tr>\n",
       "      <th>82</th>\n",
       "      <td>0.6</td>\n",
       "      <td>33</td>\n",
       "      <td>1.155160</td>\n",
       "    </tr>\n",
       "    <tr>\n",
       "      <th>83</th>\n",
       "      <td>0.6</td>\n",
       "      <td>34</td>\n",
       "      <td>1.781040</td>\n",
       "    </tr>\n",
       "    <tr>\n",
       "      <th>89</th>\n",
       "      <td>0.6</td>\n",
       "      <td>40</td>\n",
       "      <td>2.010660</td>\n",
       "    </tr>\n",
       "    <tr>\n",
       "      <th>90</th>\n",
       "      <td>0.6</td>\n",
       "      <td>41</td>\n",
       "      <td>1.004850</td>\n",
       "    </tr>\n",
       "    <tr>\n",
       "      <th>92</th>\n",
       "      <td>0.6</td>\n",
       "      <td>43</td>\n",
       "      <td>2.900810</td>\n",
       "    </tr>\n",
       "    <tr>\n",
       "      <th>93</th>\n",
       "      <td>0.6</td>\n",
       "      <td>44</td>\n",
       "      <td>1.746040</td>\n",
       "    </tr>\n",
       "    <tr>\n",
       "      <th>94</th>\n",
       "      <td>0.6</td>\n",
       "      <td>45</td>\n",
       "      <td>1.961670</td>\n",
       "    </tr>\n",
       "    <tr>\n",
       "      <th>95</th>\n",
       "      <td>0.6</td>\n",
       "      <td>46</td>\n",
       "      <td>1.180130</td>\n",
       "    </tr>\n",
       "    <tr>\n",
       "      <th>96</th>\n",
       "      <td>0.6</td>\n",
       "      <td>47</td>\n",
       "      <td>2.029150</td>\n",
       "    </tr>\n",
       "    <tr>\n",
       "      <th>98</th>\n",
       "      <td>0.6</td>\n",
       "      <td>49</td>\n",
       "      <td>1.005130</td>\n",
       "    </tr>\n",
       "  </tbody>\n",
       "</table>\n",
       "</div>"
      ],
      "text/plain": [
       "    Virulence  Replicate  ShannonDiversity\n",
       "51        0.6          2          1.022330\n",
       "54        0.6          5          1.833990\n",
       "55        0.6          6          1.011700\n",
       "58        0.6          9          1.270230\n",
       "61        0.6         12          1.898400\n",
       "62        0.6         13          1.495510\n",
       "65        0.6         16          1.971850\n",
       "67        0.6         18          1.902020\n",
       "68        0.6         19          0.999456\n",
       "69        0.6         20          1.035000\n",
       "74        0.6         25          1.072580\n",
       "77        0.6         28          1.859630\n",
       "79        0.6         30          1.094480\n",
       "82        0.6         33          1.155160\n",
       "83        0.6         34          1.781040\n",
       "89        0.6         40          2.010660\n",
       "90        0.6         41          1.004850\n",
       "92        0.6         43          2.900810\n",
       "93        0.6         44          1.746040\n",
       "94        0.6         45          1.961670\n",
       "95        0.6         46          1.180130\n",
       "96        0.6         47          2.029150\n",
       "98        0.6         49          1.005130"
      ]
     },
     "execution_count": 71,
     "metadata": {},
     "output_type": "execute_result"
    }
   ],
   "source": [
    "# multiple boolean expressions\n",
    "# show all entries for which the virulence == 0.6 and Shannon diversity > 1.5\n",
    "experimentDF[(experimentDF[\"Virulence\"] == 0.6) & (experimentDF[\"ShannonDiversity\"] > 0.9)]"
   ]
  },
  {
   "cell_type": "markdown",
   "metadata": {},
   "source": [
    "**Handling NA/NaN values **"
   ]
  },
  {
   "cell_type": "code",
   "execution_count": 76,
   "metadata": {
    "collapsed": false
   },
   "outputs": [
    {
     "data": {
      "text/html": [
       "<div>\n",
       "<table border=\"1\" class=\"dataframe\">\n",
       "  <thead>\n",
       "    <tr style=\"text-align: right;\">\n",
       "      <th></th>\n",
       "      <th>Virulence</th>\n",
       "      <th>Replicate</th>\n",
       "      <th>ShannonDiversity</th>\n",
       "    </tr>\n",
       "  </thead>\n",
       "  <tbody>\n",
       "    <tr>\n",
       "      <th>300</th>\n",
       "      <td>NaN</td>\n",
       "      <td>1</td>\n",
       "      <td>0.000000</td>\n",
       "    </tr>\n",
       "    <tr>\n",
       "      <th>301</th>\n",
       "      <td>NaN</td>\n",
       "      <td>2</td>\n",
       "      <td>0.000000</td>\n",
       "    </tr>\n",
       "    <tr>\n",
       "      <th>302</th>\n",
       "      <td>NaN</td>\n",
       "      <td>3</td>\n",
       "      <td>0.833645</td>\n",
       "    </tr>\n",
       "    <tr>\n",
       "      <th>303</th>\n",
       "      <td>NaN</td>\n",
       "      <td>4</td>\n",
       "      <td>0.000000</td>\n",
       "    </tr>\n",
       "    <tr>\n",
       "      <th>304</th>\n",
       "      <td>NaN</td>\n",
       "      <td>5</td>\n",
       "      <td>0.990309</td>\n",
       "    </tr>\n",
       "    <tr>\n",
       "      <th>305</th>\n",
       "      <td>NaN</td>\n",
       "      <td>6</td>\n",
       "      <td>0.000000</td>\n",
       "    </tr>\n",
       "    <tr>\n",
       "      <th>306</th>\n",
       "      <td>NaN</td>\n",
       "      <td>7</td>\n",
       "      <td>0.000000</td>\n",
       "    </tr>\n",
       "    <tr>\n",
       "      <th>307</th>\n",
       "      <td>NaN</td>\n",
       "      <td>8</td>\n",
       "      <td>0.000000</td>\n",
       "    </tr>\n",
       "    <tr>\n",
       "      <th>308</th>\n",
       "      <td>NaN</td>\n",
       "      <td>9</td>\n",
       "      <td>0.061414</td>\n",
       "    </tr>\n",
       "    <tr>\n",
       "      <th>309</th>\n",
       "      <td>NaN</td>\n",
       "      <td>10</td>\n",
       "      <td>0.316439</td>\n",
       "    </tr>\n",
       "    <tr>\n",
       "      <th>310</th>\n",
       "      <td>NaN</td>\n",
       "      <td>11</td>\n",
       "      <td>0.904773</td>\n",
       "    </tr>\n",
       "    <tr>\n",
       "      <th>311</th>\n",
       "      <td>NaN</td>\n",
       "      <td>12</td>\n",
       "      <td>0.884122</td>\n",
       "    </tr>\n",
       "    <tr>\n",
       "      <th>312</th>\n",
       "      <td>NaN</td>\n",
       "      <td>13</td>\n",
       "      <td>0.000000</td>\n",
       "    </tr>\n",
       "    <tr>\n",
       "      <th>313</th>\n",
       "      <td>NaN</td>\n",
       "      <td>14</td>\n",
       "      <td>0.000000</td>\n",
       "    </tr>\n",
       "    <tr>\n",
       "      <th>314</th>\n",
       "      <td>NaN</td>\n",
       "      <td>15</td>\n",
       "      <td>0.000000</td>\n",
       "    </tr>\n",
       "    <tr>\n",
       "      <th>315</th>\n",
       "      <td>NaN</td>\n",
       "      <td>16</td>\n",
       "      <td>0.000000</td>\n",
       "    </tr>\n",
       "    <tr>\n",
       "      <th>316</th>\n",
       "      <td>NaN</td>\n",
       "      <td>17</td>\n",
       "      <td>0.013495</td>\n",
       "    </tr>\n",
       "    <tr>\n",
       "      <th>317</th>\n",
       "      <td>NaN</td>\n",
       "      <td>18</td>\n",
       "      <td>0.882519</td>\n",
       "    </tr>\n",
       "    <tr>\n",
       "      <th>318</th>\n",
       "      <td>NaN</td>\n",
       "      <td>19</td>\n",
       "      <td>0.000000</td>\n",
       "    </tr>\n",
       "    <tr>\n",
       "      <th>319</th>\n",
       "      <td>NaN</td>\n",
       "      <td>20</td>\n",
       "      <td>0.986830</td>\n",
       "    </tr>\n",
       "    <tr>\n",
       "      <th>320</th>\n",
       "      <td>NaN</td>\n",
       "      <td>21</td>\n",
       "      <td>0.000000</td>\n",
       "    </tr>\n",
       "    <tr>\n",
       "      <th>321</th>\n",
       "      <td>NaN</td>\n",
       "      <td>22</td>\n",
       "      <td>0.000000</td>\n",
       "    </tr>\n",
       "    <tr>\n",
       "      <th>322</th>\n",
       "      <td>NaN</td>\n",
       "      <td>23</td>\n",
       "      <td>0.000000</td>\n",
       "    </tr>\n",
       "    <tr>\n",
       "      <th>323</th>\n",
       "      <td>NaN</td>\n",
       "      <td>24</td>\n",
       "      <td>0.000000</td>\n",
       "    </tr>\n",
       "    <tr>\n",
       "      <th>324</th>\n",
       "      <td>NaN</td>\n",
       "      <td>25</td>\n",
       "      <td>0.000000</td>\n",
       "    </tr>\n",
       "    <tr>\n",
       "      <th>325</th>\n",
       "      <td>NaN</td>\n",
       "      <td>26</td>\n",
       "      <td>0.000000</td>\n",
       "    </tr>\n",
       "    <tr>\n",
       "      <th>326</th>\n",
       "      <td>NaN</td>\n",
       "      <td>27</td>\n",
       "      <td>1.702720</td>\n",
       "    </tr>\n",
       "    <tr>\n",
       "      <th>327</th>\n",
       "      <td>NaN</td>\n",
       "      <td>28</td>\n",
       "      <td>0.169556</td>\n",
       "    </tr>\n",
       "    <tr>\n",
       "      <th>328</th>\n",
       "      <td>NaN</td>\n",
       "      <td>29</td>\n",
       "      <td>0.949750</td>\n",
       "    </tr>\n",
       "    <tr>\n",
       "      <th>329</th>\n",
       "      <td>NaN</td>\n",
       "      <td>30</td>\n",
       "      <td>0.240084</td>\n",
       "    </tr>\n",
       "    <tr>\n",
       "      <th>330</th>\n",
       "      <td>NaN</td>\n",
       "      <td>31</td>\n",
       "      <td>0.925913</td>\n",
       "    </tr>\n",
       "    <tr>\n",
       "      <th>331</th>\n",
       "      <td>NaN</td>\n",
       "      <td>32</td>\n",
       "      <td>0.000000</td>\n",
       "    </tr>\n",
       "    <tr>\n",
       "      <th>332</th>\n",
       "      <td>NaN</td>\n",
       "      <td>33</td>\n",
       "      <td>0.693356</td>\n",
       "    </tr>\n",
       "    <tr>\n",
       "      <th>333</th>\n",
       "      <td>NaN</td>\n",
       "      <td>34</td>\n",
       "      <td>0.000000</td>\n",
       "    </tr>\n",
       "    <tr>\n",
       "      <th>334</th>\n",
       "      <td>NaN</td>\n",
       "      <td>35</td>\n",
       "      <td>0.310170</td>\n",
       "    </tr>\n",
       "    <tr>\n",
       "      <th>335</th>\n",
       "      <td>NaN</td>\n",
       "      <td>36</td>\n",
       "      <td>0.000000</td>\n",
       "    </tr>\n",
       "    <tr>\n",
       "      <th>336</th>\n",
       "      <td>NaN</td>\n",
       "      <td>37</td>\n",
       "      <td>0.000000</td>\n",
       "    </tr>\n",
       "    <tr>\n",
       "      <th>337</th>\n",
       "      <td>NaN</td>\n",
       "      <td>38</td>\n",
       "      <td>0.000000</td>\n",
       "    </tr>\n",
       "    <tr>\n",
       "      <th>338</th>\n",
       "      <td>NaN</td>\n",
       "      <td>39</td>\n",
       "      <td>0.000000</td>\n",
       "    </tr>\n",
       "    <tr>\n",
       "      <th>339</th>\n",
       "      <td>NaN</td>\n",
       "      <td>40</td>\n",
       "      <td>0.000000</td>\n",
       "    </tr>\n",
       "    <tr>\n",
       "      <th>340</th>\n",
       "      <td>NaN</td>\n",
       "      <td>41</td>\n",
       "      <td>0.000000</td>\n",
       "    </tr>\n",
       "    <tr>\n",
       "      <th>341</th>\n",
       "      <td>NaN</td>\n",
       "      <td>42</td>\n",
       "      <td>0.000000</td>\n",
       "    </tr>\n",
       "    <tr>\n",
       "      <th>342</th>\n",
       "      <td>NaN</td>\n",
       "      <td>43</td>\n",
       "      <td>0.000000</td>\n",
       "    </tr>\n",
       "    <tr>\n",
       "      <th>343</th>\n",
       "      <td>NaN</td>\n",
       "      <td>44</td>\n",
       "      <td>0.000000</td>\n",
       "    </tr>\n",
       "    <tr>\n",
       "      <th>344</th>\n",
       "      <td>NaN</td>\n",
       "      <td>45</td>\n",
       "      <td>0.391061</td>\n",
       "    </tr>\n",
       "    <tr>\n",
       "      <th>345</th>\n",
       "      <td>NaN</td>\n",
       "      <td>46</td>\n",
       "      <td>0.001669</td>\n",
       "    </tr>\n",
       "    <tr>\n",
       "      <th>346</th>\n",
       "      <td>NaN</td>\n",
       "      <td>47</td>\n",
       "      <td>0.000000</td>\n",
       "    </tr>\n",
       "    <tr>\n",
       "      <th>347</th>\n",
       "      <td>NaN</td>\n",
       "      <td>48</td>\n",
       "      <td>0.444463</td>\n",
       "    </tr>\n",
       "    <tr>\n",
       "      <th>348</th>\n",
       "      <td>NaN</td>\n",
       "      <td>49</td>\n",
       "      <td>0.383512</td>\n",
       "    </tr>\n",
       "    <tr>\n",
       "      <th>349</th>\n",
       "      <td>NaN</td>\n",
       "      <td>50</td>\n",
       "      <td>0.511329</td>\n",
       "    </tr>\n",
       "  </tbody>\n",
       "</table>\n",
       "</div>"
      ],
      "text/plain": [
       "     Virulence  Replicate  ShannonDiversity\n",
       "300        NaN          1          0.000000\n",
       "301        NaN          2          0.000000\n",
       "302        NaN          3          0.833645\n",
       "303        NaN          4          0.000000\n",
       "304        NaN          5          0.990309\n",
       "305        NaN          6          0.000000\n",
       "306        NaN          7          0.000000\n",
       "307        NaN          8          0.000000\n",
       "308        NaN          9          0.061414\n",
       "309        NaN         10          0.316439\n",
       "310        NaN         11          0.904773\n",
       "311        NaN         12          0.884122\n",
       "312        NaN         13          0.000000\n",
       "313        NaN         14          0.000000\n",
       "314        NaN         15          0.000000\n",
       "315        NaN         16          0.000000\n",
       "316        NaN         17          0.013495\n",
       "317        NaN         18          0.882519\n",
       "318        NaN         19          0.000000\n",
       "319        NaN         20          0.986830\n",
       "320        NaN         21          0.000000\n",
       "321        NaN         22          0.000000\n",
       "322        NaN         23          0.000000\n",
       "323        NaN         24          0.000000\n",
       "324        NaN         25          0.000000\n",
       "325        NaN         26          0.000000\n",
       "326        NaN         27          1.702720\n",
       "327        NaN         28          0.169556\n",
       "328        NaN         29          0.949750\n",
       "329        NaN         30          0.240084\n",
       "330        NaN         31          0.925913\n",
       "331        NaN         32          0.000000\n",
       "332        NaN         33          0.693356\n",
       "333        NaN         34          0.000000\n",
       "334        NaN         35          0.310170\n",
       "335        NaN         36          0.000000\n",
       "336        NaN         37          0.000000\n",
       "337        NaN         38          0.000000\n",
       "338        NaN         39          0.000000\n",
       "339        NaN         40          0.000000\n",
       "340        NaN         41          0.000000\n",
       "341        NaN         42          0.000000\n",
       "342        NaN         43          0.000000\n",
       "343        NaN         44          0.000000\n",
       "344        NaN         45          0.391061\n",
       "345        NaN         46          0.001669\n",
       "346        NaN         47          0.000000\n",
       "347        NaN         48          0.444463\n",
       "348        NaN         49          0.383512\n",
       "349        NaN         50          0.511329"
      ]
     },
     "execution_count": 76,
     "metadata": {},
     "output_type": "execute_result"
    }
   ],
   "source": [
    "experimentDF[300:]"
   ]
  },
  {
   "cell_type": "markdown",
   "metadata": {},
   "source": [
    "**```dropna()```** - *drop rows that have a NA/NaN value*"
   ]
  },
  {
   "cell_type": "code",
   "execution_count": 77,
   "metadata": {
    "collapsed": false
   },
   "outputs": [
    {
     "data": {
      "text/plain": [
       "0      0.5\n",
       "1      0.5\n",
       "2      0.5\n",
       "3      0.5\n",
       "4      0.5\n",
       "5      0.5\n",
       "6      0.5\n",
       "7      0.5\n",
       "8      0.5\n",
       "9      0.5\n",
       "10     0.5\n",
       "11     0.5\n",
       "12     0.5\n",
       "13     0.5\n",
       "14     0.5\n",
       "15     0.5\n",
       "16     0.5\n",
       "17     0.5\n",
       "18     0.5\n",
       "19     0.5\n",
       "20     0.5\n",
       "21     0.5\n",
       "22     0.5\n",
       "23     0.5\n",
       "24     0.5\n",
       "25     0.5\n",
       "26     0.5\n",
       "27     0.5\n",
       "28     0.5\n",
       "29     0.5\n",
       "      ... \n",
       "270    1.0\n",
       "271    1.0\n",
       "272    1.0\n",
       "273    1.0\n",
       "274    1.0\n",
       "275    1.0\n",
       "276    1.0\n",
       "277    1.0\n",
       "278    1.0\n",
       "279    1.0\n",
       "280    1.0\n",
       "281    1.0\n",
       "282    1.0\n",
       "283    1.0\n",
       "284    1.0\n",
       "285    1.0\n",
       "286    1.0\n",
       "287    1.0\n",
       "288    1.0\n",
       "289    1.0\n",
       "290    1.0\n",
       "291    1.0\n",
       "292    1.0\n",
       "293    1.0\n",
       "294    1.0\n",
       "295    1.0\n",
       "296    1.0\n",
       "297    1.0\n",
       "298    1.0\n",
       "299    1.0\n",
       "Name: Virulence, dtype: float64"
      ]
     },
     "execution_count": 77,
     "metadata": {},
     "output_type": "execute_result"
    }
   ],
   "source": [
    "# Drop NA\n",
    "experimentDF[\"Virulence\"].dropna()"
   ]
  },
  {
   "cell_type": "markdown",
   "metadata": {},
   "source": [
    "**```fillna(r)```** - *replace NA values by r*"
   ]
  },
  {
   "cell_type": "code",
   "execution_count": 81,
   "metadata": {
    "collapsed": false
   },
   "outputs": [
    {
     "data": {
      "text/html": [
       "<div>\n",
       "<table border=\"1\" class=\"dataframe\">\n",
       "  <thead>\n",
       "    <tr style=\"text-align: right;\">\n",
       "      <th></th>\n",
       "      <th>Virulence</th>\n",
       "      <th>Replicate</th>\n",
       "      <th>ShannonDiversity</th>\n",
       "    </tr>\n",
       "  </thead>\n",
       "  <tbody>\n",
       "    <tr>\n",
       "      <th>0</th>\n",
       "      <td>0.5</td>\n",
       "      <td>1</td>\n",
       "      <td>0.059262</td>\n",
       "    </tr>\n",
       "    <tr>\n",
       "      <th>1</th>\n",
       "      <td>0.5</td>\n",
       "      <td>2</td>\n",
       "      <td>1.093600</td>\n",
       "    </tr>\n",
       "    <tr>\n",
       "      <th>2</th>\n",
       "      <td>0.5</td>\n",
       "      <td>3</td>\n",
       "      <td>1.139390</td>\n",
       "    </tr>\n",
       "    <tr>\n",
       "      <th>3</th>\n",
       "      <td>0.5</td>\n",
       "      <td>4</td>\n",
       "      <td>0.547651</td>\n",
       "    </tr>\n",
       "    <tr>\n",
       "      <th>4</th>\n",
       "      <td>0.5</td>\n",
       "      <td>5</td>\n",
       "      <td>0.065928</td>\n",
       "    </tr>\n",
       "    <tr>\n",
       "      <th>5</th>\n",
       "      <td>0.5</td>\n",
       "      <td>6</td>\n",
       "      <td>1.344330</td>\n",
       "    </tr>\n",
       "    <tr>\n",
       "      <th>6</th>\n",
       "      <td>0.5</td>\n",
       "      <td>7</td>\n",
       "      <td>1.680480</td>\n",
       "    </tr>\n",
       "    <tr>\n",
       "      <th>7</th>\n",
       "      <td>0.5</td>\n",
       "      <td>8</td>\n",
       "      <td>0.000000</td>\n",
       "    </tr>\n",
       "    <tr>\n",
       "      <th>8</th>\n",
       "      <td>0.5</td>\n",
       "      <td>9</td>\n",
       "      <td>2.047680</td>\n",
       "    </tr>\n",
       "    <tr>\n",
       "      <th>9</th>\n",
       "      <td>0.5</td>\n",
       "      <td>10</td>\n",
       "      <td>0.000000</td>\n",
       "    </tr>\n",
       "    <tr>\n",
       "      <th>10</th>\n",
       "      <td>0.5</td>\n",
       "      <td>11</td>\n",
       "      <td>1.507140</td>\n",
       "    </tr>\n",
       "    <tr>\n",
       "      <th>11</th>\n",
       "      <td>0.5</td>\n",
       "      <td>12</td>\n",
       "      <td>0.000000</td>\n",
       "    </tr>\n",
       "    <tr>\n",
       "      <th>12</th>\n",
       "      <td>0.5</td>\n",
       "      <td>13</td>\n",
       "      <td>1.589810</td>\n",
       "    </tr>\n",
       "    <tr>\n",
       "      <th>13</th>\n",
       "      <td>0.5</td>\n",
       "      <td>14</td>\n",
       "      <td>1.144800</td>\n",
       "    </tr>\n",
       "    <tr>\n",
       "      <th>14</th>\n",
       "      <td>0.5</td>\n",
       "      <td>15</td>\n",
       "      <td>1.011190</td>\n",
       "    </tr>\n",
       "    <tr>\n",
       "      <th>15</th>\n",
       "      <td>0.5</td>\n",
       "      <td>16</td>\n",
       "      <td>0.000000</td>\n",
       "    </tr>\n",
       "    <tr>\n",
       "      <th>16</th>\n",
       "      <td>0.5</td>\n",
       "      <td>17</td>\n",
       "      <td>0.776665</td>\n",
       "    </tr>\n",
       "    <tr>\n",
       "      <th>17</th>\n",
       "      <td>0.5</td>\n",
       "      <td>18</td>\n",
       "      <td>0.001749</td>\n",
       "    </tr>\n",
       "    <tr>\n",
       "      <th>18</th>\n",
       "      <td>0.5</td>\n",
       "      <td>19</td>\n",
       "      <td>1.761200</td>\n",
       "    </tr>\n",
       "    <tr>\n",
       "      <th>19</th>\n",
       "      <td>0.5</td>\n",
       "      <td>20</td>\n",
       "      <td>0.021091</td>\n",
       "    </tr>\n",
       "    <tr>\n",
       "      <th>20</th>\n",
       "      <td>0.5</td>\n",
       "      <td>21</td>\n",
       "      <td>0.790915</td>\n",
       "    </tr>\n",
       "    <tr>\n",
       "      <th>21</th>\n",
       "      <td>0.5</td>\n",
       "      <td>22</td>\n",
       "      <td>0.000000</td>\n",
       "    </tr>\n",
       "    <tr>\n",
       "      <th>22</th>\n",
       "      <td>0.5</td>\n",
       "      <td>23</td>\n",
       "      <td>0.018866</td>\n",
       "    </tr>\n",
       "    <tr>\n",
       "      <th>23</th>\n",
       "      <td>0.5</td>\n",
       "      <td>24</td>\n",
       "      <td>0.994268</td>\n",
       "    </tr>\n",
       "    <tr>\n",
       "      <th>24</th>\n",
       "      <td>0.5</td>\n",
       "      <td>25</td>\n",
       "      <td>1.729620</td>\n",
       "    </tr>\n",
       "    <tr>\n",
       "      <th>25</th>\n",
       "      <td>0.5</td>\n",
       "      <td>26</td>\n",
       "      <td>0.967537</td>\n",
       "    </tr>\n",
       "    <tr>\n",
       "      <th>26</th>\n",
       "      <td>0.5</td>\n",
       "      <td>27</td>\n",
       "      <td>0.457318</td>\n",
       "    </tr>\n",
       "    <tr>\n",
       "      <th>27</th>\n",
       "      <td>0.5</td>\n",
       "      <td>28</td>\n",
       "      <td>0.992525</td>\n",
       "    </tr>\n",
       "    <tr>\n",
       "      <th>28</th>\n",
       "      <td>0.5</td>\n",
       "      <td>29</td>\n",
       "      <td>1.506640</td>\n",
       "    </tr>\n",
       "    <tr>\n",
       "      <th>29</th>\n",
       "      <td>0.5</td>\n",
       "      <td>30</td>\n",
       "      <td>0.697241</td>\n",
       "    </tr>\n",
       "    <tr>\n",
       "      <th>...</th>\n",
       "      <td>...</td>\n",
       "      <td>...</td>\n",
       "      <td>...</td>\n",
       "    </tr>\n",
       "    <tr>\n",
       "      <th>320</th>\n",
       "      <td>0.0</td>\n",
       "      <td>21</td>\n",
       "      <td>0.000000</td>\n",
       "    </tr>\n",
       "    <tr>\n",
       "      <th>321</th>\n",
       "      <td>0.0</td>\n",
       "      <td>22</td>\n",
       "      <td>0.000000</td>\n",
       "    </tr>\n",
       "    <tr>\n",
       "      <th>322</th>\n",
       "      <td>0.0</td>\n",
       "      <td>23</td>\n",
       "      <td>0.000000</td>\n",
       "    </tr>\n",
       "    <tr>\n",
       "      <th>323</th>\n",
       "      <td>0.0</td>\n",
       "      <td>24</td>\n",
       "      <td>0.000000</td>\n",
       "    </tr>\n",
       "    <tr>\n",
       "      <th>324</th>\n",
       "      <td>0.0</td>\n",
       "      <td>25</td>\n",
       "      <td>0.000000</td>\n",
       "    </tr>\n",
       "    <tr>\n",
       "      <th>325</th>\n",
       "      <td>0.0</td>\n",
       "      <td>26</td>\n",
       "      <td>0.000000</td>\n",
       "    </tr>\n",
       "    <tr>\n",
       "      <th>326</th>\n",
       "      <td>0.0</td>\n",
       "      <td>27</td>\n",
       "      <td>1.702720</td>\n",
       "    </tr>\n",
       "    <tr>\n",
       "      <th>327</th>\n",
       "      <td>0.0</td>\n",
       "      <td>28</td>\n",
       "      <td>0.169556</td>\n",
       "    </tr>\n",
       "    <tr>\n",
       "      <th>328</th>\n",
       "      <td>0.0</td>\n",
       "      <td>29</td>\n",
       "      <td>0.949750</td>\n",
       "    </tr>\n",
       "    <tr>\n",
       "      <th>329</th>\n",
       "      <td>0.0</td>\n",
       "      <td>30</td>\n",
       "      <td>0.240084</td>\n",
       "    </tr>\n",
       "    <tr>\n",
       "      <th>330</th>\n",
       "      <td>0.0</td>\n",
       "      <td>31</td>\n",
       "      <td>0.925913</td>\n",
       "    </tr>\n",
       "    <tr>\n",
       "      <th>331</th>\n",
       "      <td>0.0</td>\n",
       "      <td>32</td>\n",
       "      <td>0.000000</td>\n",
       "    </tr>\n",
       "    <tr>\n",
       "      <th>332</th>\n",
       "      <td>0.0</td>\n",
       "      <td>33</td>\n",
       "      <td>0.693356</td>\n",
       "    </tr>\n",
       "    <tr>\n",
       "      <th>333</th>\n",
       "      <td>0.0</td>\n",
       "      <td>34</td>\n",
       "      <td>0.000000</td>\n",
       "    </tr>\n",
       "    <tr>\n",
       "      <th>334</th>\n",
       "      <td>0.0</td>\n",
       "      <td>35</td>\n",
       "      <td>0.310170</td>\n",
       "    </tr>\n",
       "    <tr>\n",
       "      <th>335</th>\n",
       "      <td>0.0</td>\n",
       "      <td>36</td>\n",
       "      <td>0.000000</td>\n",
       "    </tr>\n",
       "    <tr>\n",
       "      <th>336</th>\n",
       "      <td>0.0</td>\n",
       "      <td>37</td>\n",
       "      <td>0.000000</td>\n",
       "    </tr>\n",
       "    <tr>\n",
       "      <th>337</th>\n",
       "      <td>0.0</td>\n",
       "      <td>38</td>\n",
       "      <td>0.000000</td>\n",
       "    </tr>\n",
       "    <tr>\n",
       "      <th>338</th>\n",
       "      <td>0.0</td>\n",
       "      <td>39</td>\n",
       "      <td>0.000000</td>\n",
       "    </tr>\n",
       "    <tr>\n",
       "      <th>339</th>\n",
       "      <td>0.0</td>\n",
       "      <td>40</td>\n",
       "      <td>0.000000</td>\n",
       "    </tr>\n",
       "    <tr>\n",
       "      <th>340</th>\n",
       "      <td>0.0</td>\n",
       "      <td>41</td>\n",
       "      <td>0.000000</td>\n",
       "    </tr>\n",
       "    <tr>\n",
       "      <th>341</th>\n",
       "      <td>0.0</td>\n",
       "      <td>42</td>\n",
       "      <td>0.000000</td>\n",
       "    </tr>\n",
       "    <tr>\n",
       "      <th>342</th>\n",
       "      <td>0.0</td>\n",
       "      <td>43</td>\n",
       "      <td>0.000000</td>\n",
       "    </tr>\n",
       "    <tr>\n",
       "      <th>343</th>\n",
       "      <td>0.0</td>\n",
       "      <td>44</td>\n",
       "      <td>0.000000</td>\n",
       "    </tr>\n",
       "    <tr>\n",
       "      <th>344</th>\n",
       "      <td>0.0</td>\n",
       "      <td>45</td>\n",
       "      <td>0.391061</td>\n",
       "    </tr>\n",
       "    <tr>\n",
       "      <th>345</th>\n",
       "      <td>0.0</td>\n",
       "      <td>46</td>\n",
       "      <td>0.001669</td>\n",
       "    </tr>\n",
       "    <tr>\n",
       "      <th>346</th>\n",
       "      <td>0.0</td>\n",
       "      <td>47</td>\n",
       "      <td>0.000000</td>\n",
       "    </tr>\n",
       "    <tr>\n",
       "      <th>347</th>\n",
       "      <td>0.0</td>\n",
       "      <td>48</td>\n",
       "      <td>0.444463</td>\n",
       "    </tr>\n",
       "    <tr>\n",
       "      <th>348</th>\n",
       "      <td>0.0</td>\n",
       "      <td>49</td>\n",
       "      <td>0.383512</td>\n",
       "    </tr>\n",
       "    <tr>\n",
       "      <th>349</th>\n",
       "      <td>0.0</td>\n",
       "      <td>50</td>\n",
       "      <td>0.511329</td>\n",
       "    </tr>\n",
       "  </tbody>\n",
       "</table>\n",
       "<p>350 rows × 3 columns</p>\n",
       "</div>"
      ],
      "text/plain": [
       "     Virulence  Replicate  ShannonDiversity\n",
       "0          0.5          1          0.059262\n",
       "1          0.5          2          1.093600\n",
       "2          0.5          3          1.139390\n",
       "3          0.5          4          0.547651\n",
       "4          0.5          5          0.065928\n",
       "5          0.5          6          1.344330\n",
       "6          0.5          7          1.680480\n",
       "7          0.5          8          0.000000\n",
       "8          0.5          9          2.047680\n",
       "9          0.5         10          0.000000\n",
       "10         0.5         11          1.507140\n",
       "11         0.5         12          0.000000\n",
       "12         0.5         13          1.589810\n",
       "13         0.5         14          1.144800\n",
       "14         0.5         15          1.011190\n",
       "15         0.5         16          0.000000\n",
       "16         0.5         17          0.776665\n",
       "17         0.5         18          0.001749\n",
       "18         0.5         19          1.761200\n",
       "19         0.5         20          0.021091\n",
       "20         0.5         21          0.790915\n",
       "21         0.5         22          0.000000\n",
       "22         0.5         23          0.018866\n",
       "23         0.5         24          0.994268\n",
       "24         0.5         25          1.729620\n",
       "25         0.5         26          0.967537\n",
       "26         0.5         27          0.457318\n",
       "27         0.5         28          0.992525\n",
       "28         0.5         29          1.506640\n",
       "29         0.5         30          0.697241\n",
       "..         ...        ...               ...\n",
       "320        0.0         21          0.000000\n",
       "321        0.0         22          0.000000\n",
       "322        0.0         23          0.000000\n",
       "323        0.0         24          0.000000\n",
       "324        0.0         25          0.000000\n",
       "325        0.0         26          0.000000\n",
       "326        0.0         27          1.702720\n",
       "327        0.0         28          0.169556\n",
       "328        0.0         29          0.949750\n",
       "329        0.0         30          0.240084\n",
       "330        0.0         31          0.925913\n",
       "331        0.0         32          0.000000\n",
       "332        0.0         33          0.693356\n",
       "333        0.0         34          0.000000\n",
       "334        0.0         35          0.310170\n",
       "335        0.0         36          0.000000\n",
       "336        0.0         37          0.000000\n",
       "337        0.0         38          0.000000\n",
       "338        0.0         39          0.000000\n",
       "339        0.0         40          0.000000\n",
       "340        0.0         41          0.000000\n",
       "341        0.0         42          0.000000\n",
       "342        0.0         43          0.000000\n",
       "343        0.0         44          0.000000\n",
       "344        0.0         45          0.391061\n",
       "345        0.0         46          0.001669\n",
       "346        0.0         47          0.000000\n",
       "347        0.0         48          0.444463\n",
       "348        0.0         49          0.383512\n",
       "349        0.0         50          0.511329\n",
       "\n",
       "[350 rows x 3 columns]"
      ]
     },
     "execution_count": 81,
     "metadata": {},
     "output_type": "execute_result"
    }
   ],
   "source": [
    "# Fill NA\n",
    "experimentDF.fillna(0.0)"
   ]
  },
  {
   "cell_type": "markdown",
   "metadata": {},
   "source": [
    "**Functions**"
   ]
  },
  {
   "cell_type": "markdown",
   "metadata": {},
   "source": [
    "**```index```** - *list DataFrame indexes*"
   ]
  },
  {
   "cell_type": "code",
   "execution_count": 82,
   "metadata": {
    "collapsed": false
   },
   "outputs": [
    {
     "data": {
      "text/plain": [
       "Int64Index([  0,   1,   2,   3,   4,   5,   6,   7,   8,   9,\n",
       "            ...\n",
       "            340, 341, 342, 343, 344, 345, 346, 347, 348, 349],\n",
       "           dtype='int64', length=350)"
      ]
     },
     "execution_count": 82,
     "metadata": {},
     "output_type": "execute_result"
    }
   ],
   "source": [
    "experimentDF.index"
   ]
  },
  {
   "cell_type": "markdown",
   "metadata": {},
   "source": [
    "**```columns```** - *list DataFrame column names*"
   ]
  },
  {
   "cell_type": "code",
   "execution_count": 83,
   "metadata": {
    "collapsed": false
   },
   "outputs": [
    {
     "data": {
      "text/plain": [
       "Index([u'Virulence', u'Replicate', u'ShannonDiversity'], dtype='object')"
      ]
     },
     "execution_count": 83,
     "metadata": {},
     "output_type": "execute_result"
    }
   ],
   "source": [
    "experimentDF.columns"
   ]
  },
  {
   "cell_type": "markdown",
   "metadata": {},
   "source": [
    "**```values```** - *list DataFrame column content*"
   ]
  },
  {
   "cell_type": "code",
   "execution_count": 84,
   "metadata": {
    "collapsed": false
   },
   "outputs": [
    {
     "data": {
      "text/plain": [
       "array([[  0.5      ,   1.       ,   0.0592619],\n",
       "       [  0.5      ,   2.       ,   1.0936   ],\n",
       "       [  0.5      ,   3.       ,   1.13939  ],\n",
       "       ..., \n",
       "       [        nan,  48.       ,   0.444463 ],\n",
       "       [        nan,  49.       ,   0.383512 ],\n",
       "       [        nan,  50.       ,   0.511329 ]])"
      ]
     },
     "execution_count": 84,
     "metadata": {},
     "output_type": "execute_result"
    }
   ],
   "source": [
    "experimentDF.values"
   ]
  },
  {
   "cell_type": "markdown",
   "metadata": {},
   "source": [
    "**T** - *transpose a DataFrame*"
   ]
  },
  {
   "cell_type": "code",
   "execution_count": 85,
   "metadata": {
    "collapsed": false
   },
   "outputs": [
    {
     "data": {
      "text/html": [
       "<div>\n",
       "<table border=\"1\" class=\"dataframe\">\n",
       "  <thead>\n",
       "    <tr style=\"text-align: right;\">\n",
       "      <th></th>\n",
       "      <th>0</th>\n",
       "      <th>1</th>\n",
       "      <th>2</th>\n",
       "      <th>3</th>\n",
       "      <th>4</th>\n",
       "      <th>5</th>\n",
       "      <th>6</th>\n",
       "      <th>7</th>\n",
       "      <th>8</th>\n",
       "      <th>9</th>\n",
       "      <th>...</th>\n",
       "      <th>340</th>\n",
       "      <th>341</th>\n",
       "      <th>342</th>\n",
       "      <th>343</th>\n",
       "      <th>344</th>\n",
       "      <th>345</th>\n",
       "      <th>346</th>\n",
       "      <th>347</th>\n",
       "      <th>348</th>\n",
       "      <th>349</th>\n",
       "    </tr>\n",
       "  </thead>\n",
       "  <tbody>\n",
       "    <tr>\n",
       "      <th>Virulence</th>\n",
       "      <td>0.500000</td>\n",
       "      <td>0.5000</td>\n",
       "      <td>0.50000</td>\n",
       "      <td>0.500000</td>\n",
       "      <td>0.500000</td>\n",
       "      <td>0.50000</td>\n",
       "      <td>0.50000</td>\n",
       "      <td>0.5</td>\n",
       "      <td>0.50000</td>\n",
       "      <td>0.5</td>\n",
       "      <td>...</td>\n",
       "      <td>NaN</td>\n",
       "      <td>NaN</td>\n",
       "      <td>NaN</td>\n",
       "      <td>NaN</td>\n",
       "      <td>NaN</td>\n",
       "      <td>NaN</td>\n",
       "      <td>NaN</td>\n",
       "      <td>NaN</td>\n",
       "      <td>NaN</td>\n",
       "      <td>NaN</td>\n",
       "    </tr>\n",
       "    <tr>\n",
       "      <th>Replicate</th>\n",
       "      <td>1.000000</td>\n",
       "      <td>2.0000</td>\n",
       "      <td>3.00000</td>\n",
       "      <td>4.000000</td>\n",
       "      <td>5.000000</td>\n",
       "      <td>6.00000</td>\n",
       "      <td>7.00000</td>\n",
       "      <td>8.0</td>\n",
       "      <td>9.00000</td>\n",
       "      <td>10.0</td>\n",
       "      <td>...</td>\n",
       "      <td>41</td>\n",
       "      <td>42</td>\n",
       "      <td>43</td>\n",
       "      <td>44</td>\n",
       "      <td>45.000000</td>\n",
       "      <td>46.000000</td>\n",
       "      <td>47</td>\n",
       "      <td>48.000000</td>\n",
       "      <td>49.000000</td>\n",
       "      <td>50.000000</td>\n",
       "    </tr>\n",
       "    <tr>\n",
       "      <th>ShannonDiversity</th>\n",
       "      <td>0.059262</td>\n",
       "      <td>1.0936</td>\n",
       "      <td>1.13939</td>\n",
       "      <td>0.547651</td>\n",
       "      <td>0.065928</td>\n",
       "      <td>1.34433</td>\n",
       "      <td>1.68048</td>\n",
       "      <td>0.0</td>\n",
       "      <td>2.04768</td>\n",
       "      <td>0.0</td>\n",
       "      <td>...</td>\n",
       "      <td>0</td>\n",
       "      <td>0</td>\n",
       "      <td>0</td>\n",
       "      <td>0</td>\n",
       "      <td>0.391061</td>\n",
       "      <td>0.001669</td>\n",
       "      <td>0</td>\n",
       "      <td>0.444463</td>\n",
       "      <td>0.383512</td>\n",
       "      <td>0.511329</td>\n",
       "    </tr>\n",
       "  </tbody>\n",
       "</table>\n",
       "<p>3 rows × 350 columns</p>\n",
       "</div>"
      ],
      "text/plain": [
       "                       0       1        2         3         4        5    \\\n",
       "Virulence         0.500000  0.5000  0.50000  0.500000  0.500000  0.50000   \n",
       "Replicate         1.000000  2.0000  3.00000  4.000000  5.000000  6.00000   \n",
       "ShannonDiversity  0.059262  1.0936  1.13939  0.547651  0.065928  1.34433   \n",
       "\n",
       "                      6    7        8     9      ...      340  341  342  343  \\\n",
       "Virulence         0.50000  0.5  0.50000   0.5    ...      NaN  NaN  NaN  NaN   \n",
       "Replicate         7.00000  8.0  9.00000  10.0    ...       41   42   43   44   \n",
       "ShannonDiversity  1.68048  0.0  2.04768   0.0    ...        0    0    0    0   \n",
       "\n",
       "                        344        345  346        347        348        349  \n",
       "Virulence               NaN        NaN  NaN        NaN        NaN        NaN  \n",
       "Replicate         45.000000  46.000000   47  48.000000  49.000000  50.000000  \n",
       "ShannonDiversity   0.391061   0.001669    0   0.444463   0.383512   0.511329  \n",
       "\n",
       "[3 rows x 350 columns]"
      ]
     },
     "execution_count": 85,
     "metadata": {},
     "output_type": "execute_result"
    }
   ],
   "source": [
    "experimentDF.T"
   ]
  },
  {
   "cell_type": "markdown",
   "metadata": {},
   "source": [
    "### Sort Data"
   ]
  },
  {
   "cell_type": "markdown",
   "metadata": {},
   "source": [
    "**Sort by values**"
   ]
  },
  {
   "cell_type": "code",
   "execution_count": 86,
   "metadata": {
    "collapsed": false
   },
   "outputs": [
    {
     "data": {
      "text/html": [
       "<div>\n",
       "<table border=\"1\" class=\"dataframe\">\n",
       "  <thead>\n",
       "    <tr style=\"text-align: right;\">\n",
       "      <th></th>\n",
       "      <th>Virulence</th>\n",
       "      <th>Replicate</th>\n",
       "      <th>ShannonDiversity</th>\n",
       "    </tr>\n",
       "  </thead>\n",
       "  <tbody>\n",
       "    <tr>\n",
       "      <th>92</th>\n",
       "      <td>0.6</td>\n",
       "      <td>43</td>\n",
       "      <td>2.90081</td>\n",
       "    </tr>\n",
       "    <tr>\n",
       "      <th>173</th>\n",
       "      <td>0.8</td>\n",
       "      <td>24</td>\n",
       "      <td>2.53339</td>\n",
       "    </tr>\n",
       "    <tr>\n",
       "      <th>129</th>\n",
       "      <td>0.7</td>\n",
       "      <td>30</td>\n",
       "      <td>2.48422</td>\n",
       "    </tr>\n",
       "    <tr>\n",
       "      <th>209</th>\n",
       "      <td>0.9</td>\n",
       "      <td>10</td>\n",
       "      <td>2.46144</td>\n",
       "    </tr>\n",
       "    <tr>\n",
       "      <th>134</th>\n",
       "      <td>0.7</td>\n",
       "      <td>35</td>\n",
       "      <td>2.42177</td>\n",
       "    </tr>\n",
       "  </tbody>\n",
       "</table>\n",
       "</div>"
      ],
      "text/plain": [
       "     Virulence  Replicate  ShannonDiversity\n",
       "92         0.6         43           2.90081\n",
       "173        0.8         24           2.53339\n",
       "129        0.7         30           2.48422\n",
       "209        0.9         10           2.46144\n",
       "134        0.7         35           2.42177"
      ]
     },
     "execution_count": 86,
     "metadata": {},
     "output_type": "execute_result"
    }
   ],
   "source": [
    "experimentDF_sorted = experimentDF.sort_values(by=\"ShannonDiversity\", ascending=False)\n",
    "experimentDF_sorted.head(5)"
   ]
  },
  {
   "cell_type": "markdown",
   "metadata": {},
   "source": [
    "**Sort by index**"
   ]
  },
  {
   "cell_type": "code",
   "execution_count": 102,
   "metadata": {
    "collapsed": false
   },
   "outputs": [
    {
     "data": {
      "text/html": [
       "<div>\n",
       "<table border=\"1\" class=\"dataframe\">\n",
       "  <thead>\n",
       "    <tr style=\"text-align: right;\">\n",
       "      <th></th>\n",
       "      <th>Virulence</th>\n",
       "      <th>ShannonDiversity</th>\n",
       "      <th>Replicate</th>\n",
       "    </tr>\n",
       "  </thead>\n",
       "  <tbody>\n",
       "    <tr>\n",
       "      <th>0</th>\n",
       "      <td>0.5</td>\n",
       "      <td>0.059262</td>\n",
       "      <td>1</td>\n",
       "    </tr>\n",
       "    <tr>\n",
       "      <th>1</th>\n",
       "      <td>0.5</td>\n",
       "      <td>1.093600</td>\n",
       "      <td>2</td>\n",
       "    </tr>\n",
       "    <tr>\n",
       "      <th>2</th>\n",
       "      <td>0.5</td>\n",
       "      <td>1.139390</td>\n",
       "      <td>3</td>\n",
       "    </tr>\n",
       "    <tr>\n",
       "      <th>3</th>\n",
       "      <td>0.5</td>\n",
       "      <td>0.547651</td>\n",
       "      <td>4</td>\n",
       "    </tr>\n",
       "    <tr>\n",
       "      <th>4</th>\n",
       "      <td>0.5</td>\n",
       "      <td>0.065928</td>\n",
       "      <td>5</td>\n",
       "    </tr>\n",
       "  </tbody>\n",
       "</table>\n",
       "</div>"
      ],
      "text/plain": [
       "   Virulence  ShannonDiversity  Replicate\n",
       "0        0.5          0.059262          1\n",
       "1        0.5          1.093600          2\n",
       "2        0.5          1.139390          3\n",
       "3        0.5          0.547651          4\n",
       "4        0.5          0.065928          5"
      ]
     },
     "execution_count": 102,
     "metadata": {},
     "output_type": "execute_result"
    }
   ],
   "source": [
    "experimentDF_sorted = experimentDF.sort_index(axis=1, ascending=False)\n",
    "experimentDF_sorted.head(5)"
   ]
  },
  {
   "cell_type": "markdown",
   "metadata": {},
   "source": [
    "### Plot Data\n",
    "**Pandas also uses ```matplotlib.pyplot``` to plot its DataFrames.**"
   ]
  },
  {
   "cell_type": "code",
   "execution_count": 104,
   "metadata": {
    "collapsed": false
   },
   "outputs": [
    {
     "data": {
      "text/html": [
       "<div>\n",
       "<table border=\"1\" class=\"dataframe\">\n",
       "  <thead>\n",
       "    <tr style=\"text-align: right;\">\n",
       "      <th></th>\n",
       "      <th>Virulence</th>\n",
       "      <th>Replicate</th>\n",
       "      <th>ShannonDiversity</th>\n",
       "    </tr>\n",
       "  </thead>\n",
       "  <tbody>\n",
       "    <tr>\n",
       "      <th>92</th>\n",
       "      <td>0.6</td>\n",
       "      <td>43</td>\n",
       "      <td>2.90081</td>\n",
       "    </tr>\n",
       "  </tbody>\n",
       "</table>\n",
       "</div>"
      ],
      "text/plain": [
       "    Virulence  Replicate  ShannonDiversity\n",
       "92        0.6         43           2.90081"
      ]
     },
     "execution_count": 104,
     "metadata": {},
     "output_type": "execute_result"
    }
   ],
   "source": [
    "# Import the library\n",
    "import matplotlib.pyplot as plt\n",
    "\n",
    "# Create graph\n",
    "plot = experimentDF['ShannonDiversity'].plot(title=\"ShannonDiversity\")\n",
    "plot.set_ylabel(\"ShannonDiversity\")\n",
    "plot.set_xlabel(\"Virulence\")\n",
    "\n",
    "# Maximum value in the data set\n",
    "MaxShannonDiversity = experimentDF['ShannonDiversity'].max()\n",
    "\n",
    "# Virulence associated with the maximum value\n",
    "MaxVirulence = experimentDF['Virulence'][experimentDF['ShannonDiversity'] == MaxShannonDiversity].values\n",
    "\n",
    "# Text to display on graph\n",
    "Text = str(MaxShannonDiversity) + \" - \" + str(MaxVirulence)\n",
    "\n",
    "# Add text to graph\n",
    "plt.annotate(Text, xy=(MaxShannonDiversity, MaxVirulence), xytext=(8, 0), \n",
    "                 xycoords=('axes fraction', 'data'), textcoords='offset points')\n",
    "\n",
    "plt.show()\n",
    "\n",
    "experimentDF[experimentDF['ShannonDiversity'] == MaxShannonDiversity]"
   ]
  },
  {
   "cell_type": "markdown",
   "metadata": {
    "collapsed": true
   },
   "source": [
    "## Statistical analysis with pandas"
   ]
  },
  {
   "cell_type": "markdown",
   "metadata": {},
   "source": [
    "**```max()```**"
   ]
  },
  {
   "cell_type": "code",
   "execution_count": 105,
   "metadata": {
    "collapsed": false
   },
   "outputs": [
    {
     "data": {
      "text/plain": [
       "2.9008099999999999"
      ]
     },
     "execution_count": 105,
     "metadata": {},
     "output_type": "execute_result"
    }
   ],
   "source": [
    "experimentDF['ShannonDiversity'].max()"
   ]
  },
  {
   "cell_type": "markdown",
   "metadata": {},
   "source": [
    "**```min()```**"
   ]
  },
  {
   "cell_type": "code",
   "execution_count": 106,
   "metadata": {
    "collapsed": false
   },
   "outputs": [
    {
     "data": {
      "text/plain": [
       "0.0"
      ]
     },
     "execution_count": 106,
     "metadata": {},
     "output_type": "execute_result"
    }
   ],
   "source": [
    "experimentDF['ShannonDiversity'].min()"
   ]
  },
  {
   "cell_type": "markdown",
   "metadata": {
    "collapsed": true
   },
   "source": [
    "**```mean()```**"
   ]
  },
  {
   "cell_type": "code",
   "execution_count": 107,
   "metadata": {
    "collapsed": false
   },
   "outputs": [
    {
     "data": {
      "text/plain": [
       "0.83644708317142824"
      ]
     },
     "execution_count": 107,
     "metadata": {},
     "output_type": "execute_result"
    }
   ],
   "source": [
    "experimentDF[\"ShannonDiversity\"].mean()"
   ]
  },
  {
   "cell_type": "markdown",
   "metadata": {},
   "source": [
    "**```var()```**"
   ]
  },
  {
   "cell_type": "code",
   "execution_count": 108,
   "metadata": {
    "collapsed": false
   },
   "outputs": [
    {
     "data": {
      "text/plain": [
       "0.59826517852454708"
      ]
     },
     "execution_count": 108,
     "metadata": {},
     "output_type": "execute_result"
    }
   ],
   "source": [
    "experimentDF[\"ShannonDiversity\"].var()"
   ]
  },
  {
   "cell_type": "markdown",
   "metadata": {},
   "source": [
    "**```std()```**"
   ]
  },
  {
   "cell_type": "code",
   "execution_count": 109,
   "metadata": {
    "collapsed": false
   },
   "outputs": [
    {
     "data": {
      "text/plain": [
       "0.77347603616695659"
      ]
     },
     "execution_count": 109,
     "metadata": {},
     "output_type": "execute_result"
    }
   ],
   "source": [
    "experimentDF[\"ShannonDiversity\"].std()"
   ]
  },
  {
   "cell_type": "markdown",
   "metadata": {},
   "source": [
    "**```describe()```**"
   ]
  },
  {
   "cell_type": "code",
   "execution_count": 110,
   "metadata": {
    "collapsed": false
   },
   "outputs": [
    {
     "data": {
      "text/plain": [
       "count    350.000000\n",
       "mean       0.836447\n",
       "std        0.773476\n",
       "min        0.000000\n",
       "25%        0.000000\n",
       "50%        0.845694\n",
       "75%        1.533692\n",
       "max        2.900810\n",
       "Name: ShannonDiversity, dtype: float64"
      ]
     },
     "execution_count": 110,
     "metadata": {},
     "output_type": "execute_result"
    }
   ],
   "source": [
    "experimentDF[\"ShannonDiversity\"].describe()"
   ]
  },
  {
   "cell_type": "markdown",
   "metadata": {},
   "source": [
    "  "
   ]
  },
  {
   "cell_type": "markdown",
   "metadata": {},
   "source": [
    "**Going further with ```stats``` from ```scipy``` module**"
   ]
  },
  {
   "cell_type": "code",
   "execution_count": 111,
   "metadata": {
    "collapsed": false
   },
   "outputs": [],
   "source": [
    "from scipy import stats"
   ]
  },
  {
   "cell_type": "markdown",
   "metadata": {},
   "source": [
    "**Standard Error on the Mean (SEM)**"
   ]
  },
  {
   "cell_type": "code",
   "execution_count": 112,
   "metadata": {
    "collapsed": false
   },
   "outputs": [
    {
     "name": "stdout",
     "output_type": "stream",
     "text": [
      "0.0413440332031\n"
     ]
    }
   ],
   "source": [
    "print stats.sem(experimentDF[\"ShannonDiversity\"])"
   ]
  },
  {
   "cell_type": "markdown",
   "metadata": {},
   "source": [
    "**Mann-Whitney-Wilcoxon (MWW) RankSum test**"
   ]
  },
  {
   "cell_type": "code",
   "execution_count": 120,
   "metadata": {
    "collapsed": false
   },
   "outputs": [
    {
     "name": "stdout",
     "output_type": "stream",
     "text": [
      "26.072426769\n",
      "7.49255426662e-150\n"
     ]
    },
    {
     "data": {
      "text/html": [
       "<div>\n",
       "<table border=\"1\" class=\"dataframe\">\n",
       "  <thead>\n",
       "    <tr style=\"text-align: right;\">\n",
       "      <th></th>\n",
       "      <th>Virulence</th>\n",
       "      <th>Replicate</th>\n",
       "      <th>ShannonDiversity</th>\n",
       "    </tr>\n",
       "  </thead>\n",
       "  <tbody>\n",
       "    <tr>\n",
       "      <th>150</th>\n",
       "      <td>0.8</td>\n",
       "      <td>1</td>\n",
       "      <td>1.433800</td>\n",
       "    </tr>\n",
       "    <tr>\n",
       "      <th>151</th>\n",
       "      <td>0.8</td>\n",
       "      <td>2</td>\n",
       "      <td>2.079700</td>\n",
       "    </tr>\n",
       "    <tr>\n",
       "      <th>152</th>\n",
       "      <td>0.8</td>\n",
       "      <td>3</td>\n",
       "      <td>0.892139</td>\n",
       "    </tr>\n",
       "    <tr>\n",
       "      <th>153</th>\n",
       "      <td>0.8</td>\n",
       "      <td>4</td>\n",
       "      <td>2.384740</td>\n",
       "    </tr>\n",
       "    <tr>\n",
       "      <th>154</th>\n",
       "      <td>0.8</td>\n",
       "      <td>5</td>\n",
       "      <td>0.006980</td>\n",
       "    </tr>\n",
       "    <tr>\n",
       "      <th>155</th>\n",
       "      <td>0.8</td>\n",
       "      <td>6</td>\n",
       "      <td>1.971760</td>\n",
       "    </tr>\n",
       "    <tr>\n",
       "      <th>156</th>\n",
       "      <td>0.8</td>\n",
       "      <td>7</td>\n",
       "      <td>0.000000</td>\n",
       "    </tr>\n",
       "    <tr>\n",
       "      <th>157</th>\n",
       "      <td>0.8</td>\n",
       "      <td>8</td>\n",
       "      <td>1.428470</td>\n",
       "    </tr>\n",
       "    <tr>\n",
       "      <th>158</th>\n",
       "      <td>0.8</td>\n",
       "      <td>9</td>\n",
       "      <td>1.715950</td>\n",
       "    </tr>\n",
       "    <tr>\n",
       "      <th>159</th>\n",
       "      <td>0.8</td>\n",
       "      <td>10</td>\n",
       "      <td>0.000000</td>\n",
       "    </tr>\n",
       "    <tr>\n",
       "      <th>160</th>\n",
       "      <td>0.8</td>\n",
       "      <td>11</td>\n",
       "      <td>0.421927</td>\n",
       "    </tr>\n",
       "    <tr>\n",
       "      <th>161</th>\n",
       "      <td>0.8</td>\n",
       "      <td>12</td>\n",
       "      <td>1.179920</td>\n",
       "    </tr>\n",
       "    <tr>\n",
       "      <th>162</th>\n",
       "      <td>0.8</td>\n",
       "      <td>13</td>\n",
       "      <td>0.932470</td>\n",
       "    </tr>\n",
       "    <tr>\n",
       "      <th>163</th>\n",
       "      <td>0.8</td>\n",
       "      <td>14</td>\n",
       "      <td>2.032520</td>\n",
       "    </tr>\n",
       "    <tr>\n",
       "      <th>164</th>\n",
       "      <td>0.8</td>\n",
       "      <td>15</td>\n",
       "      <td>0.960912</td>\n",
       "    </tr>\n",
       "    <tr>\n",
       "      <th>165</th>\n",
       "      <td>0.8</td>\n",
       "      <td>16</td>\n",
       "      <td>2.384150</td>\n",
       "    </tr>\n",
       "    <tr>\n",
       "      <th>166</th>\n",
       "      <td>0.8</td>\n",
       "      <td>17</td>\n",
       "      <td>1.879130</td>\n",
       "    </tr>\n",
       "    <tr>\n",
       "      <th>167</th>\n",
       "      <td>0.8</td>\n",
       "      <td>18</td>\n",
       "      <td>1.238890</td>\n",
       "    </tr>\n",
       "    <tr>\n",
       "      <th>168</th>\n",
       "      <td>0.8</td>\n",
       "      <td>19</td>\n",
       "      <td>1.584300</td>\n",
       "    </tr>\n",
       "    <tr>\n",
       "      <th>169</th>\n",
       "      <td>0.8</td>\n",
       "      <td>20</td>\n",
       "      <td>1.118490</td>\n",
       "    </tr>\n",
       "    <tr>\n",
       "      <th>170</th>\n",
       "      <td>0.8</td>\n",
       "      <td>21</td>\n",
       "      <td>2.022970</td>\n",
       "    </tr>\n",
       "    <tr>\n",
       "      <th>171</th>\n",
       "      <td>0.8</td>\n",
       "      <td>22</td>\n",
       "      <td>0.000000</td>\n",
       "    </tr>\n",
       "    <tr>\n",
       "      <th>172</th>\n",
       "      <td>0.8</td>\n",
       "      <td>23</td>\n",
       "      <td>2.138820</td>\n",
       "    </tr>\n",
       "    <tr>\n",
       "      <th>173</th>\n",
       "      <td>0.8</td>\n",
       "      <td>24</td>\n",
       "      <td>2.533390</td>\n",
       "    </tr>\n",
       "    <tr>\n",
       "      <th>174</th>\n",
       "      <td>0.8</td>\n",
       "      <td>25</td>\n",
       "      <td>1.212340</td>\n",
       "    </tr>\n",
       "    <tr>\n",
       "      <th>175</th>\n",
       "      <td>0.8</td>\n",
       "      <td>26</td>\n",
       "      <td>0.059135</td>\n",
       "    </tr>\n",
       "    <tr>\n",
       "      <th>176</th>\n",
       "      <td>0.8</td>\n",
       "      <td>27</td>\n",
       "      <td>1.578260</td>\n",
       "    </tr>\n",
       "    <tr>\n",
       "      <th>177</th>\n",
       "      <td>0.8</td>\n",
       "      <td>28</td>\n",
       "      <td>1.725210</td>\n",
       "    </tr>\n",
       "    <tr>\n",
       "      <th>178</th>\n",
       "      <td>0.8</td>\n",
       "      <td>29</td>\n",
       "      <td>0.293153</td>\n",
       "    </tr>\n",
       "    <tr>\n",
       "      <th>179</th>\n",
       "      <td>0.8</td>\n",
       "      <td>30</td>\n",
       "      <td>0.000000</td>\n",
       "    </tr>\n",
       "    <tr>\n",
       "      <th>180</th>\n",
       "      <td>0.8</td>\n",
       "      <td>31</td>\n",
       "      <td>0.000000</td>\n",
       "    </tr>\n",
       "    <tr>\n",
       "      <th>181</th>\n",
       "      <td>0.8</td>\n",
       "      <td>32</td>\n",
       "      <td>1.699600</td>\n",
       "    </tr>\n",
       "    <tr>\n",
       "      <th>182</th>\n",
       "      <td>0.8</td>\n",
       "      <td>33</td>\n",
       "      <td>2.178650</td>\n",
       "    </tr>\n",
       "    <tr>\n",
       "      <th>183</th>\n",
       "      <td>0.8</td>\n",
       "      <td>34</td>\n",
       "      <td>1.792580</td>\n",
       "    </tr>\n",
       "    <tr>\n",
       "      <th>184</th>\n",
       "      <td>0.8</td>\n",
       "      <td>35</td>\n",
       "      <td>1.920800</td>\n",
       "    </tr>\n",
       "    <tr>\n",
       "      <th>185</th>\n",
       "      <td>0.8</td>\n",
       "      <td>36</td>\n",
       "      <td>0.000000</td>\n",
       "    </tr>\n",
       "    <tr>\n",
       "      <th>186</th>\n",
       "      <td>0.8</td>\n",
       "      <td>37</td>\n",
       "      <td>1.583250</td>\n",
       "    </tr>\n",
       "    <tr>\n",
       "      <th>187</th>\n",
       "      <td>0.8</td>\n",
       "      <td>38</td>\n",
       "      <td>0.343235</td>\n",
       "    </tr>\n",
       "    <tr>\n",
       "      <th>188</th>\n",
       "      <td>0.8</td>\n",
       "      <td>39</td>\n",
       "      <td>1.980010</td>\n",
       "    </tr>\n",
       "    <tr>\n",
       "      <th>189</th>\n",
       "      <td>0.8</td>\n",
       "      <td>40</td>\n",
       "      <td>0.980876</td>\n",
       "    </tr>\n",
       "    <tr>\n",
       "      <th>190</th>\n",
       "      <td>0.8</td>\n",
       "      <td>41</td>\n",
       "      <td>1.089380</td>\n",
       "    </tr>\n",
       "    <tr>\n",
       "      <th>191</th>\n",
       "      <td>0.8</td>\n",
       "      <td>42</td>\n",
       "      <td>0.979254</td>\n",
       "    </tr>\n",
       "    <tr>\n",
       "      <th>192</th>\n",
       "      <td>0.8</td>\n",
       "      <td>43</td>\n",
       "      <td>1.190450</td>\n",
       "    </tr>\n",
       "    <tr>\n",
       "      <th>193</th>\n",
       "      <td>0.8</td>\n",
       "      <td>44</td>\n",
       "      <td>1.738880</td>\n",
       "    </tr>\n",
       "    <tr>\n",
       "      <th>194</th>\n",
       "      <td>0.8</td>\n",
       "      <td>45</td>\n",
       "      <td>1.154100</td>\n",
       "    </tr>\n",
       "    <tr>\n",
       "      <th>195</th>\n",
       "      <td>0.8</td>\n",
       "      <td>46</td>\n",
       "      <td>1.981610</td>\n",
       "    </tr>\n",
       "    <tr>\n",
       "      <th>196</th>\n",
       "      <td>0.8</td>\n",
       "      <td>47</td>\n",
       "      <td>2.077180</td>\n",
       "    </tr>\n",
       "    <tr>\n",
       "      <th>197</th>\n",
       "      <td>0.8</td>\n",
       "      <td>48</td>\n",
       "      <td>1.566410</td>\n",
       "    </tr>\n",
       "    <tr>\n",
       "      <th>198</th>\n",
       "      <td>0.8</td>\n",
       "      <td>49</td>\n",
       "      <td>0.000000</td>\n",
       "    </tr>\n",
       "    <tr>\n",
       "      <th>199</th>\n",
       "      <td>0.8</td>\n",
       "      <td>50</td>\n",
       "      <td>1.990900</td>\n",
       "    </tr>\n",
       "  </tbody>\n",
       "</table>\n",
       "</div>"
      ],
      "text/plain": [
       "     Virulence  Replicate  ShannonDiversity\n",
       "150        0.8          1          1.433800\n",
       "151        0.8          2          2.079700\n",
       "152        0.8          3          0.892139\n",
       "153        0.8          4          2.384740\n",
       "154        0.8          5          0.006980\n",
       "155        0.8          6          1.971760\n",
       "156        0.8          7          0.000000\n",
       "157        0.8          8          1.428470\n",
       "158        0.8          9          1.715950\n",
       "159        0.8         10          0.000000\n",
       "160        0.8         11          0.421927\n",
       "161        0.8         12          1.179920\n",
       "162        0.8         13          0.932470\n",
       "163        0.8         14          2.032520\n",
       "164        0.8         15          0.960912\n",
       "165        0.8         16          2.384150\n",
       "166        0.8         17          1.879130\n",
       "167        0.8         18          1.238890\n",
       "168        0.8         19          1.584300\n",
       "169        0.8         20          1.118490\n",
       "170        0.8         21          2.022970\n",
       "171        0.8         22          0.000000\n",
       "172        0.8         23          2.138820\n",
       "173        0.8         24          2.533390\n",
       "174        0.8         25          1.212340\n",
       "175        0.8         26          0.059135\n",
       "176        0.8         27          1.578260\n",
       "177        0.8         28          1.725210\n",
       "178        0.8         29          0.293153\n",
       "179        0.8         30          0.000000\n",
       "180        0.8         31          0.000000\n",
       "181        0.8         32          1.699600\n",
       "182        0.8         33          2.178650\n",
       "183        0.8         34          1.792580\n",
       "184        0.8         35          1.920800\n",
       "185        0.8         36          0.000000\n",
       "186        0.8         37          1.583250\n",
       "187        0.8         38          0.343235\n",
       "188        0.8         39          1.980010\n",
       "189        0.8         40          0.980876\n",
       "190        0.8         41          1.089380\n",
       "191        0.8         42          0.979254\n",
       "192        0.8         43          1.190450\n",
       "193        0.8         44          1.738880\n",
       "194        0.8         45          1.154100\n",
       "195        0.8         46          1.981610\n",
       "196        0.8         47          2.077180\n",
       "197        0.8         48          1.566410\n",
       "198        0.8         49          0.000000\n",
       "199        0.8         50          1.990900"
      ]
     },
     "execution_count": 120,
     "metadata": {},
     "output_type": "execute_result"
    }
   ],
   "source": [
    "treatment1 = experimentDF[experimentDF[\"Virulence\"] == 0.5]\n",
    "treatment2 = experimentDF[experimentDF[\"Virulence\"] == 0.8]\n",
    "z_stat, p_val = stats.ranksums(treatment1, treatment2)  \n",
    "\n",
    "print z_stat\n",
    "print p_val   # < 0.05 - treatment1 and treament2 significantly differ\n",
    "\n",
    "treatment2"
   ]
  },
  {
   "cell_type": "markdown",
   "metadata": {},
   "source": [
    "**One-way analysis of variance (ANOVA)**"
   ]
  },
  {
   "cell_type": "code",
   "execution_count": 121,
   "metadata": {
    "collapsed": false
   },
   "outputs": [
    {
     "name": "stdout",
     "output_type": "stream",
     "text": [
      "0.969964023246\n",
      "0.381509481874\n"
     ]
    }
   ],
   "source": [
    "treatment1 = experimentDF[experimentDF[\"Virulence\"] == 0.7][\"ShannonDiversity\"]  \n",
    "treatment2 = experimentDF[experimentDF[\"Virulence\"] == 0.8][\"ShannonDiversity\"]  \n",
    "treatment3 = experimentDF[experimentDF[\"Virulence\"] == 0.9][\"ShannonDiversity\"]  \n",
    "\n",
    "f_val, p_val = stats.f_oneway(treatment1, treatment2, treatment3)  \n",
    "\n",
    "print f_val\n",
    "print p_val  # > 0.05 - treatment1, treatment2, treatment3 are similar"
   ]
  },
  {
   "cell_type": "markdown",
   "metadata": {},
   "source": [
    "**Bootstrapped 95% confidence intervals**\n",
    "\n",
    "* **Module required**: ```scikits```\n",
    "* **Installation**: ```sudo easy_install scikits```"
   ]
  },
  {
   "cell_type": "code",
   "execution_count": 122,
   "metadata": {
    "collapsed": false
   },
   "outputs": [
    {
     "name": "stdout",
     "output_type": "stream",
     "text": [
      "[ 0.60889785  1.70414392]\n",
      "[ 0.82344385  1.52449782]\n"
     ]
    }
   ],
   "source": [
    "from scipy import mean\n",
    "import scikits.bootstrap as bootstrap\n",
    "\n",
    "treatment1 = experimentDF[experimentDF[\"Virulence\"] == 0.8][\"ShannonDiversity\"][:10]  \n",
    "\n",
    "# compute 95% confidence intervals around the mean  \n",
    "CIs = bootstrap.ci(data=treatment1, statfunction=mean)  \n",
    "\n",
    "# compute 80% confidence intervals around the mean\n",
    "CIs2 = bootstrap.ci(data=treatment1, statfunction=mean, alpha=0.2)\n",
    "\n",
    "print CIs\n",
    "print CIs2"
   ]
  },
  {
   "cell_type": "markdown",
   "metadata": {},
   "source": [
    "  "
   ]
  },
  {
   "cell_type": "markdown",
   "metadata": {},
   "source": [
    "# Exercise: Parse a switch record with Pandas and output to MySQL / DynamoDB\n",
    "### Problem\n",
    "**Objectives:** \n",
    "- Switch record file (CSV) is located at ```https://172.20.104.147/moi/python_classes/switch_records.csv```\n",
    "- Read the CSV file and elaborate a strategy to extract data.\n",
    "- Parse the information in ```switch_records.csv``` and construct Pandas dataframes from it.\n",
    "- Write each table to it's own JSON file.\n",
    "- Create and populate corresponding tables in MySQL.\n",
    "- Create and populate corresponding tables in DynamoDB.\n",
    "\n",
    "**Information:**\n",
    "- ```switch_records.csv``` contains multiple tables:\n",
    "    - Inventory\n",
    "    - HP BladeSystem Rack  \n",
    "    - Network Interface\n",
    "- Each table has it's name on the first line, the column names on the second line and then the data.\n",
    "    \n",
    "**Steps**\n",
    "1. Write a function ```split_csv(csv_path, table_names)``` to split the file into temporary csv files (one for each table).\n",
    "2. Load each file into a Pandas ```DataFrame``` using the ```pandas.read_csv()``` function.\n",
    "3. Generate JSON files from the Pandas dataframes you created.\n",
    "4. Create your database with a unique id (1 letter of your first name, 7 letters of your last name).\n",
    "4. Connect to MySQL and construct tables with the data.\n",
    "5. Connect to DynamoDB and construct tables with the data.\n",
    "\n",
    "**Help**\n",
    "1. If you're stuck at step 1:\n",
    "    * You can use the ```csv``` module to import the file and loop through each row.\n",
    "    * You can use ```dirname``` and ```join``` from the ```os.path``` module to manipulate path strings easily.\n",
    "    * If you're still stuck, you can use the ```split_csv(csv_path, tables_names)``` function that I wrote to split the tables into multiple csv files. The function returns the paths of the files written, so that you can iterate over them.\n",
    "    * If you need it, just run the following IPython Notebook cell and you will have access to the ```split_csv``` function.\n",
    "2. If you need to skip rows, you can pass ```skiprows=[i1, i2, ...]``` to pandas' ```read_csv``` function.classification of last 12-month claim data records"
   ]
  },
  {
   "cell_type": "code",
   "execution_count": null,
   "metadata": {
    "collapsed": true
   },
   "outputs": [],
   "source": [
    "%load solutions/help_csv.py"
   ]
  },
  {
   "cell_type": "markdown",
   "metadata": {},
   "source": [
    "### Solutions"
   ]
  },
  {
   "cell_type": "code",
   "execution_count": null,
   "metadata": {
    "collapsed": false
   },
   "outputs": [],
   "source": [
    "# %load solutions/switch_solution.py\n",
    "from help_csv import *\n",
    "from os.path import basename\n",
    "import pandas as pd\n",
    "import json\n",
    "import boto3\n",
    "from botocore.exceptions import ClientError\n",
    "import mysql\n",
    "from mysql.connector import MySQLConnection, Error, errorcode\n",
    "\n",
    "DEBUG = 0\n",
    "\n",
    "class Controller(object):\n",
    "    def __init__(self, cnx):\n",
    "        self.cnx = cnx\n",
    "        self.cursor = self.cnx.cursor()\n",
    "        self.tables = []\n",
    "\n",
    "    def get_db(self, name):\n",
    "        # Get an existing database named db_name.\n",
    "        # If it doesn't exist, create a new database db_name.\n",
    "        # Also get all tables in database.\n",
    "        cursor = cnx.cursor()\n",
    "        print \"[INFO]  Fetching database %s ...\" % name\n",
    "        try:\n",
    "            cnx.database = name\n",
    "        except mysql.connector.Error as err:\n",
    "            if err.errno == errorcode.ER_BAD_DB_ERROR:\n",
    "                print \"[ERROR] Database %s does not exist! Creating database...\" % name\n",
    "                self.create_db(name)\n",
    "                cnx.database = name\n",
    "            else:\n",
    "                print(err)\n",
    "                exit(1)\n",
    "        print \"[INFO]  Database %s selected.\" % name\n",
    "\n",
    "    def create_db(self, name):\n",
    "        # Create a new database on the MySQL server\n",
    "        query = \"CREATE DATABASE %s\" % name\n",
    "        self.exec_query(query)\n",
    "\n",
    "    def delete_db(self, name):\n",
    "        # Delete an existing database.\n",
    "        query = \"DROP DATABASE %s\" % name\n",
    "        self.exec_query(query)\n",
    "\n",
    "    def delete_table(self, name):\n",
    "        # Delete a table from the database\n",
    "        query = \"DROP TABLE %s\" % name\n",
    "        self.exec_query(query)\n",
    "\n",
    "    def create_table(self, name, args):\n",
    "        # Create a new table in the database.\n",
    "        args_str = ','.join(args)\n",
    "        query = \"CREATE TABLE IF NOT EXISTS %s\" % name + \"(\" + args_str + \")\"\n",
    "        self.exec_query(query)\n",
    "\n",
    "    def describe_table(self, name):\n",
    "        query = \"DESCRIBE %s\" % name\n",
    "        self.exec_query(query)\n",
    "        try:\n",
    "            import pandas\n",
    "            df = pandas.DataFrame(self.cursor.fetchall())\n",
    "            print df\n",
    "            print\n",
    "        except ImportError:\n",
    "            print self.cursor.fetchall()\n",
    "            print\n",
    "\n",
    "    def exec_query(self, query, query_args=None):\n",
    "        try:\n",
    "            if query_args is not None:\n",
    "                print \"[INFO]  Executing SQL: \\\"%s\\\"...\" % (query % query_args),\n",
    "                self.cursor.execute(query, query_args)\n",
    "            else:\n",
    "                print \"[INFO]  Executing SQL: \\\"%s\\\"...\" % query,\n",
    "                self.cursor.execute(query)\n",
    "            print \" SUCCESS\"\n",
    "        except mysql.connector.Error as err:\n",
    "            print\n",
    "            print \"[ERROR] \" + err.msg\n",
    "\n",
    "if __name__ == '__main__':\n",
    "    table_names = [\"Inventory\", \"HP BladeSystem Rack\", \"Network Interface\"]\n",
    "    paths = split_csv(\"../files/switch_records.csv\", table_names)\n",
    "\n",
    "    # Construct dataframes from each csv file (one per table)\n",
    "    dataframes = []\n",
    "    for p in paths:\n",
    "        with open(p, 'r') as f:\n",
    "            df = pd.read_csv(f, skiprows=1)\n",
    "            df.name = basename(p).replace('.csv','')\n",
    "            dataframes.append(df)\n",
    "\n",
    "    for df in dataframes:\n",
    "        if DEBUG:\n",
    "            print df.name\n",
    "            print df.columns\n",
    "            print\n",
    "\n",
    "    # Create json files for each table\n",
    "    files = []\n",
    "    for df in dataframes:\n",
    "        fname = \"../files/\" + df.name + \"_output.json\"\n",
    "        files.append(fname)\n",
    "        df.to_json(fname)\n",
    "\n",
    "    print \"Files written:\"\n",
    "    for f in files:\n",
    "        print f\n",
    "\n",
    "    # Load the json files\n",
    "    jsons = []\n",
    "    for f in files:\n",
    "        j = json.load(open(f, 'r'))\n",
    "        jsons.append(j)\n",
    "\n",
    "    #############\n",
    "    ### MYSQL ###\n",
    "    #############\n",
    "\n",
    "    # Connection\n",
    "    config = {\n",
    "        'user': 'root',\n",
    "        'password': 'password',\n",
    "        'host': 'localhost',\n",
    "        'raise_on_warnings': True,\n",
    "    }\n",
    "    try:\n",
    "        cnx = MySQLConnection(**config)\n",
    "    except Error as e:\n",
    "        print \"[ERROR] Could not connect to MySQL database.\"\n",
    "        exit(1)\n",
    "\n",
    "    ctrl = Controller(cnx) # Instantiate controller\n",
    "\n",
    "    # Create database\n",
    "    ctrl.get_db('ocervell')\n",
    "\n",
    "    # Create and populate table with each json file\n",
    "    for f in files:\n",
    "        name = basename(f).lower().replace('.json','')\n",
    "        args = (\"`doc` json DEFAULT NULL\",\n",
    "                \"`updated` datetime DEFAULT CURRENT_TIMESTAMP ON UPDATE CURRENT_TIMESTAMP\"\n",
    "                )\n",
    "        ctrl.create_table(name, args)\n",
    "        content = json.load(open(f, 'r'))\n",
    "        insert = \"INSERT INTO %s (doc) \" % name\n",
    "        insert += \"VALUES(%s)\"\n",
    "\n",
    "        ctrl.exec_query(insert, (json.dumps(content),))\n",
    "    cnx.close()\n",
    "\n",
    "\n",
    "    #################\n",
    "    ### DYNAMO DB ###\n",
    "    #################\n",
    "\n",
    "    # Connection\n",
    "    dynamodb_resource = boto3.resource('dynamodb', endpoint_url=\"http://localhost:9090\")\n",
    "\n",
    "    # Create tables\n",
    "    for f in files:\n",
    "        name = basename(f).lower().replace('.json','')\n",
    "        j = json.load(open(f, 'r'))\n",
    "        KeySchema = {'AttributeName': ', 'KeyType': 'HASH'}\n",
    "        AttributeDefinitions = {'AttributeName': key.encode(), 'AttributeType': 'S'}\n",
    "        print KeySchema\n",
    "        print AttributeDefinitions\n",
    "        try:\n",
    "            table = dynamodb_resource.create_table(\n",
    "                TableName=name,\n",
    "                KeySchema=[KeySchema,]\n",
    "                AttributeDefinitions=AttributeDefinitions,\n",
    "                ProvisionedThroughput={'ReadCapacityUnits': 10, 'WriteCapacityUnits': 10}\n",
    "            )\n",
    "        except ClientError as e:\n",
    "            print e\n",
    "\n",
    "\n",
    "\n",
    "\n",
    "\n"
   ]
  },
  {
   "cell_type": "markdown",
   "metadata": {},
   "source": [
    "### Output files"
   ]
  },
  {
   "cell_type": "code",
   "execution_count": null,
   "metadata": {
    "collapsed": false
   },
   "outputs": [],
   "source": [
    "%load temp/Inventory.csv"
   ]
  },
  {
   "cell_type": "code",
   "execution_count": null,
   "metadata": {
    "collapsed": true
   },
   "outputs": [],
   "source": [
    "%load temp/HP\\ BladeSystem\\ Rack.csv"
   ]
  },
  {
   "cell_type": "code",
   "execution_count": null,
   "metadata": {
    "collapsed": true
   },
   "outputs": [],
   "source": [
    "%load temp/Network\\ Interface.csv"
   ]
  }
 ],
 "metadata": {
  "kernelspec": {
   "display_name": "Python 2",
   "language": "python",
   "name": "python2"
  },
  "language_info": {
   "codemirror_mode": {
    "name": "ipython",
    "version": 2
   },
   "file_extension": ".py",
   "mimetype": "text/x-python",
   "name": "python",
   "nbconvert_exporter": "python",
   "pygments_lexer": "ipython2",
   "version": "2.7.10"
  }
 },
 "nbformat": 4,
 "nbformat_minor": 0
}
